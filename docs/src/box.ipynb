{
 "cells": [
  {
   "cell_type": "code",
   "execution_count": 39,
   "metadata": {},
   "outputs": [
    {
     "data": {
      "text/plain": [
       "LinearAlgebraicRepresentation"
      ]
     },
     "execution_count": 39,
     "metadata": {},
     "output_type": "execute_result"
    }
   ],
   "source": [
    "using BenchmarkTools\n",
    "using LinearAlgebra\n",
    "using LinearAlgebraicRepresentation\n",
    "Lar = LinearAlgebraicRepresentation"
   ]
  },
  {
   "cell_type": "code",
   "execution_count": 40,
   "metadata": {},
   "outputs": [
    {
     "data": {
      "text/plain": [
       "([0.0 0.0 1.0 1.0; 0.0 1.0 0.0 1.0], [[1, 2, 3, 4]])"
      ]
     },
     "execution_count": 40,
     "metadata": {},
     "output_type": "execute_result"
    }
   ],
   "source": [
    "square = Lar.cuboid([1,1])"
   ]
  },
  {
   "cell_type": "code",
   "execution_count": 41,
   "metadata": {},
   "outputs": [
    {
     "data": {
      "text/plain": [
       "LinearAlgebraicRepresentation.Struct([([0.0 0.0 1.0 1.0; 0.0 1.0 0.0 1.0], [[1, 2, 3, 4]])], [[0.0; 0.0], [1.0; 1.0]], \"3328138531413500389\", 2, \"feature\")"
      ]
     },
     "execution_count": 41,
     "metadata": {},
     "output_type": "execute_result"
    }
   ],
   "source": [
    "x = Lar.Struct([square])"
   ]
  },
  {
   "cell_type": "code",
   "execution_count": 42,
   "metadata": {},
   "outputs": [
    {
     "data": {
      "text/plain": [
       "([-0.5 -0.5 0.5 0.5; -0.5 0.5 -0.5 0.5], [[1, 2, 3, 4]])"
      ]
     },
     "execution_count": 42,
     "metadata": {},
     "output_type": "execute_result"
    }
   ],
   "source": [
    "table = Lar.apply(Lar.t(-0.5,-0.5),square)"
   ]
  },
  {
   "cell_type": "code",
   "execution_count": 43,
   "metadata": {},
   "outputs": [
    {
     "data": {
      "text/plain": [
       "LinearAlgebraicRepresentation.Struct(Any[([-0.5 -0.5 0.5 0.5; -0.5 0.5 -0.5 0.5], [[1, 2, 3, 4]]), [6.123233995736766e-17 -1.0 0.0; 1.0 6.123233995736766e-17 0.0; 0.0 0.0 1.0], ([-0.5 -0.5 0.5 0.5; -0.5 0.5 -0.5 0.5], [[1, 2, 3, 4]]), [6.123233995736766e-17 -1.0 0.0; 1.0 6.123233995736766e-17 0.0; 0.0 0.0 1.0]], [[-0.5; -0.5], [0.5; 0.5]], \"12590084917259381164\", 2, \"feature\")"
      ]
     },
     "execution_count": 43,
     "metadata": {},
     "output_type": "execute_result"
    }
   ],
   "source": [
    "y = Lar.Struct([repeat([table,Lar.r(pi/2)],outer=2)...])"
   ]
  },
  {
   "cell_type": "markdown",
   "metadata": {},
   "source": [
    "## Vecchia funzione"
   ]
  },
  {
   "cell_type": "code",
   "execution_count": 64,
   "metadata": {},
   "outputs": [
    {
     "data": {
      "text/plain": [
       "box (generic function with 1 method)"
      ]
     },
     "execution_count": 64,
     "metadata": {},
     "output_type": "execute_result"
    }
   ],
   "source": [
    "function box(model)\n",
    "\tif isa(model,Matrix)\n",
    "\t\treturn nothing\n",
    "\telseif isa(model,Lar.Struct)\n",
    "\t\tlistOfModels = Lar.evalStruct(model)\n",
    "\t\t#dim = checkStruct(listOfModels)\n",
    "\t\tif listOfModels == []\n",
    "\t\t\treturn model.box\n",
    "\t\telse\n",
    "\t\t\ttheMin,theMax = box(listOfModels[1])\n",
    "\t\t\tfor theModel in listOfModels[2:end]\n",
    "\t\t\t\tmodelMin,modelMax = box(theModel)\n",
    "\t\t\t\tfor (k,val) in enumerate(modelMin)\n",
    "\t\t\t\t\tif val < theMin[k]\n",
    "\t\t\t\t\t\ttheMin[k]=val\n",
    "\t\t\t\t\tend\n",
    "\t\t\t\tend\n",
    "\t\t\t\tfor (k,val) in enumerate(modelMax)\n",
    "\t\t\t\t\tif val > theMax[k]\n",
    "\t\t\t\t\t\ttheMax[k]=val\n",
    "\t\t\t\t\tend\n",
    "\t\t\t\tend\n",
    "\t\t\tend\n",
    "\t\tend\n",
    "\t\treturn [theMin,theMax]\n",
    "\n",
    "\telseif (isa(model,Tuple) ||isa(model,Array))&& (length(model)>=2)\n",
    "\t\tV = model[1]\n",
    "\t\ttheMin = minimum(V, dims=2)\n",
    "\t\ttheMax = maximum(V, dims=2)\n",
    "\tend\n",
    "\n",
    "\treturn [theMin,theMax]\n",
    "end"
   ]
  },
  {
   "cell_type": "code",
   "execution_count": 65,
   "metadata": {},
   "outputs": [
    {
     "name": "stdout",
     "output_type": "stream",
     "text": [
      "  6.200 μs (53 allocations: 2.72 KiB)\n"
     ]
    },
    {
     "data": {
      "text/plain": [
       "2-element Array{Array{Float64,2},1}:\n",
       " [0.0; 0.0]\n",
       " [1.0; 1.0]"
      ]
     },
     "execution_count": 65,
     "metadata": {},
     "output_type": "execute_result"
    }
   ],
   "source": [
    "@btime box(x)"
   ]
  },
  {
   "cell_type": "code",
   "execution_count": 66,
   "metadata": {},
   "outputs": [
    {
     "name": "stdout",
     "output_type": "stream",
     "text": [
      "  15.899 μs (118 allocations: 5.55 KiB)\n"
     ]
    },
    {
     "data": {
      "text/plain": [
       "2-element Array{Array{Float64,2},1}:\n",
       " [-0.5; -0.5]\n",
       " [0.5; 0.5]"
      ]
     },
     "execution_count": 66,
     "metadata": {},
     "output_type": "execute_result"
    }
   ],
   "source": [
    "@btime box(y)"
   ]
  },
  {
   "cell_type": "markdown",
   "metadata": {},
   "source": [
    "## Nuove funzioni"
   ]
  },
  {
   "cell_type": "code",
   "execution_count": 74,
   "metadata": {},
   "outputs": [
    {
     "data": {
      "text/plain": [
       "evalBox (generic function with 1 method)"
      ]
     },
     "execution_count": 74,
     "metadata": {},
     "output_type": "execute_result"
    }
   ],
   "source": [
    "function evalBox(listOfModels)\n",
    "\ttheMin,theMax = box(listOfModels[1])\n",
    "\tfor theModel in listOfModels[2:end]\n",
    "\t\tmodelMin,modelMax= box(theModel)\n",
    "\t\tfor (k,val) in enumerate(modelMin)\n",
    "\t\t\tif val < theMin[k]\n",
    "\t\t\t\ttheMin[k]=val\n",
    "\t\t\tend\n",
    "\t\tend\n",
    "\t\tfor (k,val) in enumerate(modelMax)\n",
    "\t\t\tif val > theMax[k]\n",
    "\t\t\t\ttheMax[k]=val\n",
    "\t\t\tend\n",
    "\t\tend\n",
    "\tend\n",
    "\treturn theMin,theMax\n",
    "end"
   ]
  },
  {
   "cell_type": "code",
   "execution_count": 77,
   "metadata": {},
   "outputs": [
    {
     "data": {
      "text/plain": [
       "box (generic function with 1 method)"
      ]
     },
     "execution_count": 77,
     "metadata": {},
     "output_type": "execute_result"
    }
   ],
   "source": [
    "function box(model)\n",
    "\tif isa(model,Matrix)\n",
    "\t\treturn nothing\n",
    "\telseif isa(model,Lar.Struct)\n",
    "\t\tlistOfModels = Lar.evalStruct(model)\n",
    "\t\t#dim = checkStruct(listOfModels)\n",
    "\t\tif listOfModels == []\n",
    "\t\t\treturn model.box\n",
    "\t\telse\n",
    "\t\t\ttheMin,theMax = evalBox(listOfModels)\n",
    "\t\tend\n",
    "        \n",
    "\t\treturn [theMin,theMax]\n",
    "\n",
    "\telseif (isa(model,Tuple) || isa(model,Array)) && (length(model)>=2)\n",
    "\t\tV = model[1]\n",
    "\t\ttheMin = minimum(V, dims=2)\n",
    "\t\ttheMax = maximum(V, dims=2)\n",
    "\tend\n",
    "    \n",
    "\treturn [theMin,theMax]\n",
    "end"
   ]
  },
  {
   "cell_type": "code",
   "execution_count": 78,
   "metadata": {},
   "outputs": [
    {
     "name": "stdout",
     "output_type": "stream",
     "text": [
      "  6.160 μs (53 allocations: 2.72 KiB)\n"
     ]
    },
    {
     "data": {
      "text/plain": [
       "2-element Array{Array{Float64,2},1}:\n",
       " [0.0; 0.0]\n",
       " [1.0; 1.0]"
      ]
     },
     "execution_count": 78,
     "metadata": {},
     "output_type": "execute_result"
    }
   ],
   "source": [
    "@btime box(x)"
   ]
  },
  {
   "cell_type": "code",
   "execution_count": 79,
   "metadata": {},
   "outputs": [
    {
     "name": "stdout",
     "output_type": "stream",
     "text": [
      "  15.500 μs (116 allocations: 5.48 KiB)\n"
     ]
    },
    {
     "data": {
      "text/plain": [
       "2-element Array{Array{Float64,2},1}:\n",
       " [-0.5; -0.5]\n",
       " [0.5; 0.5]"
      ]
     },
     "execution_count": 79,
     "metadata": {},
     "output_type": "execute_result"
    }
   ],
   "source": [
    "@btime box(y)"
   ]
  }
 ],
 "metadata": {
  "kernelspec": {
   "display_name": "Julia 1.5.3",
   "language": "julia",
   "name": "julia-1.5"
  },
  "language_info": {
   "file_extension": ".jl",
   "mimetype": "application/julia",
   "name": "julia",
   "version": "1.5.3"
  }
 },
 "nbformat": 4,
 "nbformat_minor": 4
}
