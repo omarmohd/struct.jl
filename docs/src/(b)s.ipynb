{
 "cells": [
  {
   "cell_type": "code",
   "execution_count": 19,
   "metadata": {},
   "outputs": [],
   "source": [
    "using BenchmarkTools\n",
    "using LinearAlgebra\n",
    "using StaticArrays"
   ]
  },
  {
   "cell_type": "markdown",
   "metadata": {},
   "source": [
    "## Vecchia funzione"
   ]
  },
  {
   "cell_type": "code",
   "execution_count": 20,
   "metadata": {},
   "outputs": [
    {
     "data": {
      "text/plain": [
       "s (generic function with 1 method)"
      ]
     },
     "execution_count": 20,
     "metadata": {},
     "output_type": "execute_result"
    }
   ],
   "source": [
    "function s(args...)\n",
    "\td = length(args)\n",
    "\tmat = Matrix{Float64}(LinearAlgebra.I, d+1, d+1)\n",
    "\tfor k in range(1, length=d)\n",
    "\t\tmat[k,k]=args[k]\n",
    "\tend\n",
    "\treturn mat\n",
    "end"
   ]
  },
  {
   "cell_type": "code",
   "execution_count": 21,
   "metadata": {},
   "outputs": [
    {
     "name": "stdout",
     "output_type": "stream",
     "text": [
      "  79.442 ns (1 allocation: 160 bytes)\n"
     ]
    },
    {
     "data": {
      "text/plain": [
       "3×3 Array{Float64,2}:\n",
       " -0.5   0.0  0.0\n",
       "  0.0  -0.5  0.0\n",
       "  0.0   0.0  1.0"
      ]
     },
     "execution_count": 21,
     "metadata": {},
     "output_type": "execute_result"
    }
   ],
   "source": [
    "@btime s(-0.5,-0.5)"
   ]
  },
  {
   "cell_type": "code",
   "execution_count": 22,
   "metadata": {},
   "outputs": [
    {
     "name": "stdout",
     "output_type": "stream",
     "text": [
      "Variables\n",
      "  #self#\u001b[36m::Core.Compiler.Const(s, false)\u001b[39m\n",
      "  args\u001b[36m::Tuple{Float64,Float64}\u001b[39m\n",
      "  d\u001b[36m::Int64\u001b[39m\n",
      "  mat\u001b[36m::Array{Float64,2}\u001b[39m\n",
      "  @_5\u001b[33m\u001b[1m::Union{Nothing, Tuple{Int64,Int64}}\u001b[22m\u001b[39m\n",
      "  k\u001b[36m::Int64\u001b[39m\n",
      "\n",
      "Body\u001b[36m::Array{Float64,2}\u001b[39m\n",
      "\u001b[90m1 ─\u001b[39m       (d = Main.length(args))\n",
      "\u001b[90m│  \u001b[39m %2  = Core.apply_type(Main.Matrix, Main.Float64)\u001b[36m::Core.Compiler.Const(Array{Float64,2}, false)\u001b[39m\n",
      "\u001b[90m│  \u001b[39m %3  = LinearAlgebra.I\u001b[36m::Core.Compiler.Const(UniformScaling{Bool}(true), false)\u001b[39m\n",
      "\u001b[90m│  \u001b[39m %4  = (d::Core.Compiler.Const(2, false) + 1)\u001b[36m::Core.Compiler.Const(3, false)\u001b[39m\n",
      "\u001b[90m│  \u001b[39m %5  = (d::Core.Compiler.Const(2, false) + 1)\u001b[36m::Core.Compiler.Const(3, false)\u001b[39m\n",
      "\u001b[90m│  \u001b[39m       (mat = (%2)(%3, %4, %5))\n",
      "\u001b[90m│  \u001b[39m %7  = (:length,)\u001b[36m::Core.Compiler.Const((:length,), false)\u001b[39m\n",
      "\u001b[90m│  \u001b[39m %8  = Core.apply_type(Core.NamedTuple, %7)\u001b[36m::Core.Compiler.Const(NamedTuple{(:length,),T} where T<:Tuple, false)\u001b[39m\n",
      "\u001b[90m│  \u001b[39m %9  = Core.tuple(d::Core.Compiler.Const(2, false))\u001b[36m::Core.Compiler.Const((2,), false)\u001b[39m\n",
      "\u001b[90m│  \u001b[39m %10 = (%8)(%9)\u001b[36m::Core.Compiler.Const((length = 2,), false)\u001b[39m\n",
      "\u001b[90m│  \u001b[39m %11 = Core.kwfunc(Main.range)\u001b[36m::Core.Compiler.Const(Base.var\"#range##kw\"(), false)\u001b[39m\n",
      "\u001b[90m│  \u001b[39m %12 = (%11)(%10, Main.range, 1)\u001b[36m::Core.Compiler.Const(1:2, false)\u001b[39m\n",
      "\u001b[90m│  \u001b[39m       (@_5 = Base.iterate(%12))\n",
      "\u001b[90m│  \u001b[39m %14 = (@_5::Core.Compiler.Const((1, 1), false) === nothing)\u001b[36m::Core.Compiler.Const(false, false)\u001b[39m\n",
      "\u001b[90m│  \u001b[39m %15 = Base.not_int(%14)\u001b[36m::Core.Compiler.Const(true, false)\u001b[39m\n",
      "\u001b[90m└──\u001b[39m       goto #4 if not %15\n",
      "\u001b[90m2 ┄\u001b[39m %17 = @_5::Tuple{Int64,Int64}\u001b[36m::Tuple{Int64,Int64}\u001b[39m\n",
      "\u001b[90m│  \u001b[39m       (k = Core.getfield(%17, 1))\n",
      "\u001b[90m│  \u001b[39m %19 = Core.getfield(%17, 2)\u001b[36m::Int64\u001b[39m\n",
      "\u001b[90m│  \u001b[39m %20 = Base.getindex(args, k)\u001b[36m::Float64\u001b[39m\n",
      "\u001b[90m│  \u001b[39m       Base.setindex!(mat, %20, k, k)\n",
      "\u001b[90m│  \u001b[39m       (@_5 = Base.iterate(%12, %19))\n",
      "\u001b[90m│  \u001b[39m %23 = (@_5 === nothing)\u001b[36m::Bool\u001b[39m\n",
      "\u001b[90m│  \u001b[39m %24 = Base.not_int(%23)\u001b[36m::Bool\u001b[39m\n",
      "\u001b[90m└──\u001b[39m       goto #4 if not %24\n",
      "\u001b[90m3 ─\u001b[39m       goto #2\n",
      "\u001b[90m4 ┄\u001b[39m       return mat\n"
     ]
    }
   ],
   "source": [
    "@code_warntype s(-0.5,-0.5)"
   ]
  },
  {
   "cell_type": "code",
   "execution_count": 23,
   "metadata": {},
   "outputs": [
    {
     "name": "stdout",
     "output_type": "stream",
     "text": [
      "\n",
      ";  @ In[20]:1 within `s'\n",
      "; Function Attrs: uwtable\n",
      "define nonnull %jl_value_t* @julia_s_2156(double, double) #0 {\n",
      "pass:\n",
      "  %gcframe = alloca %jl_value_t*, i32 3, align 16\n",
      "  %2 = bitcast %jl_value_t** %gcframe to i8*\n",
      "  call void @llvm.memset.p0i8.i32(i8* align 16 %2, i8 0, i32 24, i1 false)\n",
      "  %3 = call %jl_value_t*** inttoptr (i64 1761836128 to %jl_value_t*** ()*)() #7\n",
      ";  @ In[20]:3 within `s'\n",
      "; ┌ @ C:\\buildbot\\worker\\package_win64\\build\\usr\\share\\julia\\stdlib\\v1.5\\LinearAlgebra\\src\\uniformscaling.jl:433 within `Array'\n",
      "   %4 = getelementptr %jl_value_t*, %jl_value_t** %gcframe, i32 0\n",
      "   %5 = bitcast %jl_value_t** %4 to i64*\n",
      "   store i64 4, i64* %5\n",
      "   %6 = getelementptr %jl_value_t**, %jl_value_t*** %3, i32 0\n",
      "   %7 = getelementptr %jl_value_t*, %jl_value_t** %gcframe, i32 1\n",
      "   %8 = bitcast %jl_value_t** %7 to %jl_value_t***\n",
      "   %9 = load %jl_value_t**, %jl_value_t*** %6\n",
      "   store %jl_value_t** %9, %jl_value_t*** %8\n",
      "   %10 = bitcast %jl_value_t*** %6 to %jl_value_t***\n",
      "   store %jl_value_t** %gcframe, %jl_value_t*** %10\n",
      "   %11 = call nonnull %jl_value_t* @j_Array_2157([1 x i8]* nocapture readonly @0, [2 x i64]* nocapture readonly @1) #0\n",
      "; └\n",
      ";  @ In[20]:5 within `s'\n",
      "; ┌ @ array.jl within `setindex!'\n",
      "   %12 = bitcast %jl_value_t* %11 to %jl_value_t**\n",
      "   %13 = bitcast %jl_value_t* %11 to double**\n",
      "   %14 = getelementptr inbounds %jl_value_t*, %jl_value_t** %12, i64 3\n",
      "   %15 = bitcast %jl_value_t** %14 to i64*\n",
      "; │ @ array.jl:849 within `setindex!'\n",
      "   %16 = load i64, i64* %15, align 8\n",
      "   %17 = icmp eq i64 %16, 0\n",
      "   br i1 %17, label %oob, label %ib\n",
      "\n",
      "ib:                                               ; preds = %pass\n",
      "   %18 = getelementptr inbounds %jl_value_t*, %jl_value_t** %12, i64 4\n",
      "   %19 = bitcast %jl_value_t** %18 to i64*\n",
      "; │ @ array.jl:849 within `setindex!'\n",
      "   %20 = load i64, i64* %19, align 8\n",
      "   %21 = icmp eq i64 %20, 0\n",
      "   br i1 %21, label %oob, label %pass.1\n",
      "\n",
      "oob:                                              ; preds = %pass.1, %ib, %pass\n",
      "   %value_phi1.lcssa9 = phi i64 [ 1, %ib ], [ 1, %pass ], [ 2, %pass.1 ]\n",
      "   %22 = alloca [2 x i64], align 8\n",
      "   %.sub = getelementptr inbounds [2 x i64], [2 x i64]* %22, i64 0, i64 0\n",
      "   store i64 %value_phi1.lcssa9, i64* %.sub, align 8\n",
      "   %23 = getelementptr inbounds [2 x i64], [2 x i64]* %22, i64 0, i64 1\n",
      "   store i64 %value_phi1.lcssa9, i64* %23, align 8\n",
      "   %24 = getelementptr %jl_value_t*, %jl_value_t** %gcframe, i32 2\n",
      "   store %jl_value_t* %11, %jl_value_t** %24\n",
      "   call void @jl_bounds_error_ints(%jl_value_t* %11, i64* nonnull %.sub, i64 2)\n",
      "   unreachable\n",
      "\n",
      "pass.1:                                           ; preds = %ib\n",
      "   %25 = load double*, double** %13, align 8\n",
      "   store double %0, double* %25, align 8\n",
      "   %26 = icmp ugt i64 %16, 1\n",
      "   %27 = icmp ne i64 %20, 1\n",
      "   %or.cond = and i1 %26, %27\n",
      "   br i1 %or.cond, label %idxend.1, label %oob\n",
      "\n",
      "idxend.1:                                         ; preds = %pass.1\n",
      "   %28 = add i64 %16, 1\n",
      "   %29 = getelementptr inbounds double, double* %25, i64 %28\n",
      "   store double %1, double* %29, align 8\n",
      "   %30 = getelementptr %jl_value_t*, %jl_value_t** %gcframe, i32 1\n",
      "   %31 = load %jl_value_t*, %jl_value_t** %30\n",
      "   %32 = getelementptr %jl_value_t**, %jl_value_t*** %3, i32 0\n",
      "   %33 = bitcast %jl_value_t*** %32 to %jl_value_t**\n",
      "   store %jl_value_t* %31, %jl_value_t** %33\n",
      "; └\n",
      ";  @ In[20]:7 within `s'\n",
      "  ret %jl_value_t* %11\n",
      "}\n"
     ]
    }
   ],
   "source": [
    "@code_llvm s(-0.5,-0.5)"
   ]
  },
  {
   "cell_type": "code",
   "execution_count": 24,
   "metadata": {},
   "outputs": [
    {
     "data": {
      "text/plain": [
       "BenchmarkTools.Trial: \n",
       "  memory estimate:  160 bytes\n",
       "  allocs estimate:  1\n",
       "  --------------\n",
       "  minimum time:     75.540 ns (0.00% GC)\n",
       "  median time:      205.549 ns (0.00% GC)\n",
       "  mean time:        210.283 ns (1.57% GC)\n",
       "  maximum time:     4.096 μs (0.00% GC)\n",
       "  --------------\n",
       "  samples:          10000\n",
       "  evals/sample:     973"
      ]
     },
     "execution_count": 24,
     "metadata": {},
     "output_type": "execute_result"
    }
   ],
   "source": [
    "@benchmark s(-0.5,-0.5)"
   ]
  },
  {
   "cell_type": "markdown",
   "metadata": {},
   "source": [
    "## Modifiche"
   ]
  },
  {
   "cell_type": "markdown",
   "metadata": {},
   "source": [
    "\"\"\"\\\n",
    "s(args::Array{Float64,1}...)::MMatrix\\\n",
    "Genera e ritorna una matrice statica “mat” di trasformazione affine(di ridimensionamento) in coordinate omogenee. Questa matrice ha “d + 1” righe e “d + 1” colonne, dove “d” è il numero di parametri nell'array “args” passato come argomento.\n",
    "Esempi\n",
    "```julia\n",
    "julia> Lar.s(2,3)\t\t\t# 2D scaling\n",
    "# return\n",
    "3×3 Array{Float64,2}:\n",
    " 2.0  0.0  0.0\n",
    " 0.0  3.0  0.0\n",
    " 0.0  0.0  1.0\n",
    "julia> Lar.s(2.,3.,4.)\t\t# 3D scaling\n",
    "# return\n",
    "4×4 Array{Float64,2}:\n",
    " 2.0  0.0  0.0  0.0\n",
    " 0.0  3.0  0.0  0.0\n",
    " 0.0  0.0  4.0  0.0\n",
    " 0.0  0.0  0.0  1.0\n",
    "```\n",
    "\"\"\""
   ]
  },
  {
   "cell_type": "code",
   "execution_count": 25,
   "metadata": {},
   "outputs": [
    {
     "data": {
      "text/plain": [
       "s (generic function with 1 method)"
      ]
     },
     "execution_count": 25,
     "metadata": {},
     "output_type": "execute_result"
    }
   ],
   "source": [
    "function s(args...)\n",
    "\td = length(args)\n",
    "\tmat = MMatrix{d+1,d+1,Float64}(1I)\n",
    "\t@inbounds for k in range(1, length=d)\n",
    "\t\tmat[k,k]=args[k]\n",
    "\tend\n",
    "\treturn mat\n",
    "end"
   ]
  },
  {
   "cell_type": "code",
   "execution_count": 26,
   "metadata": {},
   "outputs": [
    {
     "name": "stdout",
     "output_type": "stream",
     "text": [
      "  14.915 ns (1 allocation: 80 bytes)\n"
     ]
    },
    {
     "data": {
      "text/plain": [
       "3×3 MArray{Tuple{3,3},Float64,2,9} with indices SOneTo(3)×SOneTo(3):\n",
       " -0.5   0.0  0.0\n",
       "  0.0  -0.5  0.0\n",
       "  0.0   0.0  1.0"
      ]
     },
     "execution_count": 26,
     "metadata": {},
     "output_type": "execute_result"
    }
   ],
   "source": [
    "@btime s(-0.5,-0.5)"
   ]
  },
  {
   "cell_type": "code",
   "execution_count": 27,
   "metadata": {},
   "outputs": [
    {
     "name": "stdout",
     "output_type": "stream",
     "text": [
      "\n",
      ";  @ In[25]:1 within `s'\n",
      "; Function Attrs: uwtable\n",
      "define nonnull %jl_value_t* @julia_s_2207(double, double) #0 {\n",
      "top:\n",
      "  %2 = call %jl_value_t*** inttoptr (i64 1761836128 to %jl_value_t*** ()*)() #6\n",
      ";  @ In[25]:3 within `s'\n",
      "; ┌ @ C:\\Users\\omarm\\.julia\\packages\\StaticArrays\\LJQEe\\src\\linalg.jl:118 within `StaticArray'\n",
      "; │┌ @ C:\\Users\\omarm\\.julia\\packages\\StaticArrays\\LJQEe\\src\\MMatrix.jl:40 within `MArray'\n",
      "; ││┌ @ C:\\Users\\omarm\\.julia\\packages\\StaticArrays\\LJQEe\\src\\MMatrix.jl:43 within `macro expansion'\n",
      "; │││┌ @ C:\\Users\\omarm\\.julia\\packages\\StaticArrays\\LJQEe\\src\\MArray.jl:30 within `MArray'\n",
      "      %3 = bitcast %jl_value_t*** %2 to i8*\n",
      "      %4 = call noalias nonnull %jl_value_t* @jl_gc_pool_alloc(i8* %3, i32 1496, i32 80) #3\n",
      "      %5 = bitcast %jl_value_t* %4 to %jl_value_t**\n",
      "      %6 = getelementptr %jl_value_t*, %jl_value_t** %5, i64 -1\n",
      "      store %jl_value_t* inttoptr (i64 718258576 to %jl_value_t*), %jl_value_t** %6\n",
      "      %7 = bitcast %jl_value_t* %4 to [9 x double]*\n",
      "      %.repack = bitcast %jl_value_t* %4 to double*\n",
      "      store double 1.000000e+00, double* %.repack, align 8\n",
      "      %.repack9 = getelementptr inbounds [9 x double], [9 x double]* %7, i64 0, i64 1\n",
      "      %.repack12 = getelementptr inbounds [9 x double], [9 x double]* %7, i64 0, i64 4\n",
      "      %8 = bitcast double* %.repack9 to i8*\n",
      "      call void @llvm.memset.p0i8.i64(i8* align 8 %8, i8 0, i64 24, i1 false)\n",
      "      store double 1.000000e+00, double* %.repack12, align 8\n",
      "      %.repack13 = getelementptr inbounds [9 x double], [9 x double]* %7, i64 0, i64 5\n",
      "      %.repack16 = getelementptr inbounds [9 x double], [9 x double]* %7, i64 0, i64 8\n",
      "      %9 = bitcast double* %.repack13 to i8*\n",
      "      call void @llvm.memset.p0i8.i64(i8* align 8 %9, i8 0, i64 24, i1 false)\n",
      "      store double 1.000000e+00, double* %.repack16, align 8\n",
      "; └└└└\n",
      ";  @ In[25]:5 within `s'\n",
      "; ┌ @ C:\\Users\\omarm\\.julia\\packages\\StaticArrays\\LJQEe\\src\\indexing.jl:42 within `setindex!'\n",
      "; │┌ @ C:\\Users\\omarm\\.julia\\packages\\StaticArrays\\LJQEe\\src\\indexing.jl:45 within `_setindex!_scalar'\n",
      "; ││┌ @ C:\\Users\\omarm\\.julia\\packages\\StaticArrays\\LJQEe\\src\\indexing.jl:65 within `macro expansion'\n",
      "; │││┌ @ C:\\Users\\omarm\\.julia\\packages\\StaticArrays\\LJQEe\\src\\MArray.jl:95 within `setindex!'\n",
      "; ││││┌ @ pointer.jl:118 within `unsafe_store!'\n",
      "       %10 = bitcast %jl_value_t* %4 to double*\n",
      "       %11 = bitcast %jl_value_t* %4 to double*\n",
      "       store double %0, double* %11, align 1\n",
      "       %12 = getelementptr inbounds double, double* %10, i64 4\n",
      "       store double %1, double* %12, align 1\n",
      "; └└└└└\n",
      ";  @ In[25]:7 within `s'\n",
      "  ret %jl_value_t* %4\n",
      "}\n"
     ]
    }
   ],
   "source": [
    "@code_llvm s(-0.5,-0.5)"
   ]
  },
  {
   "cell_type": "code",
   "execution_count": 28,
   "metadata": {},
   "outputs": [
    {
     "data": {
      "text/plain": [
       "BenchmarkTools.Trial: \n",
       "  memory estimate:  80 bytes\n",
       "  allocs estimate:  1\n",
       "  --------------\n",
       "  minimum time:     14.915 ns (0.00% GC)\n",
       "  median time:      17.117 ns (0.00% GC)\n",
       "  mean time:        23.432 ns (17.63% GC)\n",
       "  maximum time:     2.685 μs (98.33% GC)\n",
       "  --------------\n",
       "  samples:          10000\n",
       "  evals/sample:     999"
      ]
     },
     "execution_count": 28,
     "metadata": {},
     "output_type": "execute_result"
    }
   ],
   "source": [
    "@benchmark s(-0.5,-0.5)"
   ]
  }
 ],
 "metadata": {
  "kernelspec": {
   "display_name": "Julia 1.5.3",
   "language": "julia",
   "name": "julia-1.5"
  },
  "language_info": {
   "file_extension": ".jl",
   "mimetype": "application/julia",
   "name": "julia",
   "version": "1.5.3"
  }
 },
 "nbformat": 4,
 "nbformat_minor": 4
}
