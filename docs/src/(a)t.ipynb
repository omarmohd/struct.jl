{
 "cells": [
  {
   "cell_type": "code",
   "execution_count": 3,
   "metadata": {},
   "outputs": [
    {
     "name": "stderr",
     "output_type": "stream",
     "text": [
      "WARNING: using LinearAlgebra.tr in module Main conflicts with an existing identifier.\n"
     ]
    }
   ],
   "source": [
    "using BenchmarkTools\n",
    "using LinearAlgebra"
   ]
  },
  {
   "cell_type": "markdown",
   "metadata": {},
   "source": [
    "## Vecchia funzione"
   ]
  },
  {
   "cell_type": "code",
   "execution_count": 23,
   "metadata": {},
   "outputs": [
    {
     "data": {
      "text/plain": [
       "t (generic function with 1 method)"
      ]
     },
     "execution_count": 23,
     "metadata": {},
     "output_type": "execute_result"
    }
   ],
   "source": [
    "function t(args...)\n",
    "\td = length(args)\n",
    "\tmat = Matrix{Float64}(LinearAlgebra.I, d+1, d+1)\n",
    "\tfor k in range(1, length=d)\n",
    "        \tmat[k,d+1]=args[k]\n",
    "\tend\n",
    "\treturn mat\n",
    "end"
   ]
  },
  {
   "cell_type": "code",
   "execution_count": 24,
   "metadata": {
    "scrolled": true
   },
   "outputs": [
    {
     "name": "stdout",
     "output_type": "stream",
     "text": [
      "  76.131 ns (1 allocation: 160 bytes)\n"
     ]
    },
    {
     "data": {
      "text/plain": [
       "3×3 Array{Float64,2}:\n",
       " 1.0  0.0  -0.5\n",
       " 0.0  1.0   0.5\n",
       " 0.0  0.0   1.0"
      ]
     },
     "execution_count": 24,
     "metadata": {},
     "output_type": "execute_result"
    }
   ],
   "source": [
    "@btime t(-0.5,0.5)"
   ]
  },
  {
   "cell_type": "code",
   "execution_count": 5,
   "metadata": {},
   "outputs": [
    {
     "data": {
      "text/plain": [
       "BenchmarkTools.Trial: \n",
       "  memory estimate:  160 bytes\n",
       "  allocs estimate:  1\n",
       "  --------------\n",
       "  minimum time:     74.820 ns (0.00% GC)\n",
       "  median time:      77.287 ns (0.00% GC)\n",
       "  mean time:        109.519 ns (2.14% GC)\n",
       "  maximum time:     2.043 μs (83.91% GC)\n",
       "  --------------\n",
       "  samples:          10000\n",
       "  evals/sample:     973"
      ]
     },
     "execution_count": 5,
     "metadata": {},
     "output_type": "execute_result"
    }
   ],
   "source": [
    "@benchmark t(-0.5,-0.5)"
   ]
  },
  {
   "cell_type": "code",
   "execution_count": 6,
   "metadata": {},
   "outputs": [
    {
     "name": "stdout",
     "output_type": "stream",
     "text": [
      "Variables\n",
      "  #self#\u001b[36m::Core.Compiler.Const(t, false)\u001b[39m\n",
      "  args\u001b[36m::Tuple{Float64,Float64}\u001b[39m\n",
      "  d\u001b[36m::Int64\u001b[39m\n",
      "  mat\u001b[36m::Array{Float64,2}\u001b[39m\n",
      "  @_5\u001b[33m\u001b[1m::Union{Nothing, Tuple{Int64,Int64}}\u001b[22m\u001b[39m\n",
      "  k\u001b[36m::Int64\u001b[39m\n",
      "\n",
      "Body\u001b[36m::Array{Float64,2}\u001b[39m\n",
      "\u001b[90m1 ─\u001b[39m       (d = Main.length(args))\n",
      "\u001b[90m│  \u001b[39m %2  = Core.apply_type(Main.Matrix, Main.Float64)\u001b[36m::Core.Compiler.Const(Array{Float64,2}, false)\u001b[39m\n",
      "\u001b[90m│  \u001b[39m %3  = LinearAlgebra.I\u001b[36m::Core.Compiler.Const(UniformScaling{Bool}(true), false)\u001b[39m\n",
      "\u001b[90m│  \u001b[39m %4  = (d::Core.Compiler.Const(2, false) + 1)\u001b[36m::Core.Compiler.Const(3, false)\u001b[39m\n",
      "\u001b[90m│  \u001b[39m %5  = (d::Core.Compiler.Const(2, false) + 1)\u001b[36m::Core.Compiler.Const(3, false)\u001b[39m\n",
      "\u001b[90m│  \u001b[39m       (mat = (%2)(%3, %4, %5))\n",
      "\u001b[90m│  \u001b[39m %7  = (:length,)\u001b[36m::Core.Compiler.Const((:length,), false)\u001b[39m\n",
      "\u001b[90m│  \u001b[39m %8  = Core.apply_type(Core.NamedTuple, %7)\u001b[36m::Core.Compiler.Const(NamedTuple{(:length,),T} where T<:Tuple, false)\u001b[39m\n",
      "\u001b[90m│  \u001b[39m %9  = Core.tuple(d::Core.Compiler.Const(2, false))\u001b[36m::Core.Compiler.Const((2,), false)\u001b[39m\n",
      "\u001b[90m│  \u001b[39m %10 = (%8)(%9)\u001b[36m::Core.Compiler.Const((length = 2,), false)\u001b[39m\n",
      "\u001b[90m│  \u001b[39m %11 = Core.kwfunc(Main.range)\u001b[36m::Core.Compiler.Const(Base.var\"#range##kw\"(), false)\u001b[39m\n",
      "\u001b[90m│  \u001b[39m %12 = (%11)(%10, Main.range, 1)\u001b[36m::Core.Compiler.Const(1:2, false)\u001b[39m\n",
      "\u001b[90m│  \u001b[39m       (@_5 = Base.iterate(%12))\n",
      "\u001b[90m│  \u001b[39m %14 = (@_5::Core.Compiler.Const((1, 1), false) === nothing)\u001b[36m::Core.Compiler.Const(false, false)\u001b[39m\n",
      "\u001b[90m│  \u001b[39m %15 = Base.not_int(%14)\u001b[36m::Core.Compiler.Const(true, false)\u001b[39m\n",
      "\u001b[90m└──\u001b[39m       goto #4 if not %15\n",
      "\u001b[90m2 ┄\u001b[39m %17 = @_5::Tuple{Int64,Int64}\u001b[36m::Tuple{Int64,Int64}\u001b[39m\n",
      "\u001b[90m│  \u001b[39m       (k = Core.getfield(%17, 1))\n",
      "\u001b[90m│  \u001b[39m %19 = Core.getfield(%17, 2)\u001b[36m::Int64\u001b[39m\n",
      "\u001b[90m│  \u001b[39m %20 = Base.getindex(args, k)\u001b[36m::Float64\u001b[39m\n",
      "\u001b[90m│  \u001b[39m %21 = mat\u001b[36m::Array{Float64,2}\u001b[39m\n",
      "\u001b[90m│  \u001b[39m %22 = k\u001b[36m::Int64\u001b[39m\n",
      "\u001b[90m│  \u001b[39m %23 = (d::Core.Compiler.Const(2, false) + 1)\u001b[36m::Core.Compiler.Const(3, false)\u001b[39m\n",
      "\u001b[90m│  \u001b[39m       Base.setindex!(%21, %20, %22, %23)\n",
      "\u001b[90m│  \u001b[39m       (@_5 = Base.iterate(%12, %19))\n",
      "\u001b[90m│  \u001b[39m %26 = (@_5 === nothing)\u001b[36m::Bool\u001b[39m\n",
      "\u001b[90m│  \u001b[39m %27 = Base.not_int(%26)\u001b[36m::Bool\u001b[39m\n",
      "\u001b[90m└──\u001b[39m       goto #4 if not %27\n",
      "\u001b[90m3 ─\u001b[39m       goto #2\n",
      "\u001b[90m4 ┄\u001b[39m       return mat\n"
     ]
    }
   ],
   "source": [
    "@code_warntype t(-0.5,-0.5)"
   ]
  },
  {
   "cell_type": "code",
   "execution_count": 7,
   "metadata": {},
   "outputs": [
    {
     "data": {
      "text/plain": [
       "CodeInfo(\n",
       "\u001b[90m1 ──\u001b[39m %1  = LinearAlgebra.I\u001b[36m::Core.Compiler.Const(UniformScaling{Bool}(true), false)\u001b[39m\n",
       "\u001b[90m│   \u001b[39m %2  = invoke Array{Float64,2}(%1::UniformScaling{Bool}, (3, 3)::Tuple{Int64,Int64})\u001b[36m::Array{Float64,2}\u001b[39m\n",
       "\u001b[90m│   \u001b[39m %3  = Base.sle_int(1, 1)\u001b[36m::Bool\u001b[39m\n",
       "\u001b[90m└───\u001b[39m       goto #3 if not %3\n",
       "\u001b[90m2 ──\u001b[39m %5  = Base.sle_int(1, 0)\u001b[36m::Bool\u001b[39m\n",
       "\u001b[90m└───\u001b[39m       goto #4\n",
       "\u001b[90m3 ──\u001b[39m       nothing\u001b[90m::Nothing\u001b[39m\n",
       "\u001b[90m4 ┄─\u001b[39m %8  = φ (#2 => %5, #3 => false)\u001b[36m::Bool\u001b[39m\n",
       "\u001b[90m└───\u001b[39m       goto #6 if not %8\n",
       "\u001b[90m5 ──\u001b[39m       invoke Base.getindex(()::Tuple, 1::Int64)\u001b[90m::Union{}\u001b[39m\n",
       "\u001b[90m└───\u001b[39m       $(Expr(:unreachable))\u001b[90m::Union{}\u001b[39m\n",
       "\u001b[90m6 ┄─\u001b[39m       goto #7\n",
       "\u001b[90m7 ──\u001b[39m       goto #8\n",
       "\u001b[90m8 ──\u001b[39m       goto #9\n",
       "\u001b[90m9 ──\u001b[39m       goto #10\n",
       "\u001b[90m10 ─\u001b[39m       goto #11\n",
       "\u001b[90m11 ─\u001b[39m       goto #17 if not true\n",
       "\u001b[90m12 ┄\u001b[39m %18 = φ (#11 => 1, #16 => %27)\u001b[36m::Int64\u001b[39m\n",
       "\u001b[90m│   \u001b[39m %19 = φ (#11 => 1, #16 => %28)\u001b[36m::Int64\u001b[39m\n",
       "\u001b[90m│   \u001b[39m %20 = Base.getfield(args, %18, true)\u001b[36m::Float64\u001b[39m\n",
       "\u001b[90m│   \u001b[39m       Base.arrayset(true, %2, %20, %18, 3)\u001b[90m::Array{Float64,2}\u001b[39m\n",
       "\u001b[90m│   \u001b[39m %22 = (%19 === 2)\u001b[36m::Bool\u001b[39m\n",
       "\u001b[90m└───\u001b[39m       goto #14 if not %22\n",
       "\u001b[90m13 ─\u001b[39m       goto #15\n",
       "\u001b[90m14 ─\u001b[39m %25 = Base.add_int(%19, 1)\u001b[36m::Int64\u001b[39m\n",
       "\u001b[90m└───\u001b[39m       goto #15\n",
       "\u001b[90m15 ┄\u001b[39m %27 = φ (#14 => %25)\u001b[36m::Int64\u001b[39m\n",
       "\u001b[90m│   \u001b[39m %28 = φ (#14 => %25)\u001b[36m::Int64\u001b[39m\n",
       "\u001b[90m│   \u001b[39m %29 = φ (#13 => true, #14 => false)\u001b[36m::Bool\u001b[39m\n",
       "\u001b[90m│   \u001b[39m %30 = Base.not_int(%29)\u001b[36m::Bool\u001b[39m\n",
       "\u001b[90m└───\u001b[39m       goto #17 if not %30\n",
       "\u001b[90m16 ─\u001b[39m       goto #12\n",
       "\u001b[90m17 ┄\u001b[39m       return %2\n",
       ") => Array{Float64,2}"
      ]
     },
     "execution_count": 7,
     "metadata": {},
     "output_type": "execute_result"
    }
   ],
   "source": [
    "@code_typed t(-0.5,-0.5)"
   ]
  },
  {
   "cell_type": "markdown",
   "metadata": {},
   "source": [
    "## Modifiche"
   ]
  },
  {
   "cell_type": "code",
   "execution_count": 34,
   "metadata": {},
   "outputs": [
    {
     "data": {
      "text/plain": [
       "t (generic function with 1 method)"
      ]
     },
     "execution_count": 34,
     "metadata": {},
     "output_type": "execute_result"
    }
   ],
   "source": [
    "function t(args...)\n",
    "\td = length(args)\n",
    "\tmat = Matrix{Float64}(LinearAlgebra.I, d+1, d+1)\n",
    "\t@inbounds for k in range(1, length=d)\n",
    "        \tmat[k,d+1]=args[k]\n",
    "\tend\n",
    "\treturn mat\n",
    "end"
   ]
  },
  {
   "cell_type": "code",
   "execution_count": 35,
   "metadata": {},
   "outputs": [
    {
     "name": "stdout",
     "output_type": "stream",
     "text": [
      "  67.347 ns (1 allocation: 160 bytes)\n"
     ]
    },
    {
     "data": {
      "text/plain": [
       "3×3 Array{Float64,2}:\n",
       " 1.0  0.0  -0.5\n",
       " 0.0  1.0   0.5\n",
       " 0.0  0.0   1.0"
      ]
     },
     "execution_count": 35,
     "metadata": {},
     "output_type": "execute_result"
    }
   ],
   "source": [
    "@btime t(-0.5,0.5)"
   ]
  },
  {
   "cell_type": "code",
   "execution_count": null,
   "metadata": {},
   "outputs": [],
   "source": []
  }
 ],
 "metadata": {
  "kernelspec": {
   "display_name": "Julia 1.5.3",
   "language": "julia",
   "name": "julia-1.5"
  },
  "language_info": {
   "file_extension": ".jl",
   "mimetype": "application/julia",
   "name": "julia",
   "version": "1.5.3"
  }
 },
 "nbformat": 4,
 "nbformat_minor": 4
}
