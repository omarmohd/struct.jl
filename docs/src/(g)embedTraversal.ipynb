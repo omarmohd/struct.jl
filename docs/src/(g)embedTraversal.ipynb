{
 "cells": [
  {
   "cell_type": "code",
   "execution_count": 1,
   "metadata": {},
   "outputs": [
    {
     "data": {
      "text/plain": [
       "LinearAlgebraicRepresentation"
      ]
     },
     "execution_count": 1,
     "metadata": {},
     "output_type": "execute_result"
    }
   ],
   "source": [
    "using BenchmarkTools\n",
    "using StaticArrays\n",
    "using LinearAlgebra\n",
    "using LinearAlgebraicRepresentation\n",
    "Lar = LinearAlgebraicRepresentation"
   ]
  },
  {
   "cell_type": "code",
   "execution_count": 2,
   "metadata": {},
   "outputs": [
    {
     "data": {
      "text/plain": [
       "([0.0 0.0 1.0 1.0; 0.0 1.0 0.0 1.0], [[1, 2, 3, 4]])"
      ]
     },
     "execution_count": 2,
     "metadata": {},
     "output_type": "execute_result"
    }
   ],
   "source": [
    "square = Lar.cuboid([1,1])"
   ]
  },
  {
   "cell_type": "code",
   "execution_count": 3,
   "metadata": {},
   "outputs": [
    {
     "data": {
      "text/plain": [
       "LinearAlgebraicRepresentation.Struct([([0.0 0.0 1.0 1.0; 0.0 1.0 0.0 1.0], [[1, 2, 3, 4]])], [[0.0; 0.0], [1.0; 1.0]], \"3518907848934066751\", 2, \"feature\")"
      ]
     },
     "execution_count": 3,
     "metadata": {},
     "output_type": "execute_result"
    }
   ],
   "source": [
    "x = Lar.Struct([square])"
   ]
  },
  {
   "cell_type": "code",
   "execution_count": 4,
   "metadata": {},
   "outputs": [
    {
     "data": {
      "text/plain": [
       "([-0.5 -0.5 0.5 0.5; -0.5 0.5 -0.5 0.5], [[1, 2, 3, 4]])"
      ]
     },
     "execution_count": 4,
     "metadata": {},
     "output_type": "execute_result"
    }
   ],
   "source": [
    "table = Lar.apply(Lar.t(-0.5,-0.5),square)"
   ]
  },
  {
   "cell_type": "code",
   "execution_count": 5,
   "metadata": {},
   "outputs": [
    {
     "data": {
      "text/plain": [
       "LinearAlgebraicRepresentation.Struct(Any[([-0.5 -0.5 0.5 0.5; -0.5 0.5 -0.5 0.5], [[1, 2, 3, 4]]), [6.123233995736766e-17 -1.0 0.0; 1.0 6.123233995736766e-17 0.0; 0.0 0.0 1.0], ([-0.5 -0.5 0.5 0.5; -0.5 0.5 -0.5 0.5], [[1, 2, 3, 4]]), [6.123233995736766e-17 -1.0 0.0; 1.0 6.123233995736766e-17 0.0; 0.0 0.0 1.0]], [[-0.5; -0.5], [0.5; 0.5]], \"18221913580574304048\", 2, \"feature\")"
      ]
     },
     "execution_count": 5,
     "metadata": {},
     "output_type": "execute_result"
    }
   ],
   "source": [
    "structure = Lar.Struct([repeat([table,Lar.r(pi/2)],outer=2)...])"
   ]
  },
  {
   "cell_type": "markdown",
   "metadata": {},
   "source": [
    "## Vecchia funzione"
   ]
  },
  {
   "cell_type": "code",
   "execution_count": 19,
   "metadata": {},
   "outputs": [
    {
     "data": {
      "text/plain": [
       "embedTraversal (generic function with 2 methods)"
      ]
     },
     "execution_count": 19,
     "metadata": {},
     "output_type": "execute_result"
    }
   ],
   "source": [
    "function embedTraversal(cloned::Lar.Struct,obj::Lar.Struct,n::Int,suffix::String)\n",
    "\tfor i=1:length(obj.body)\n",
    "\t\tif isa(obj.body[i],Matrix)\n",
    "\t\t\tmat = obj.body[i]\n",
    "\t\t\td,d = size(mat)\n",
    "\t\t\tnewMat = Matrix{Float64}(LinearAlgebra.I, d+n, d+n)\n",
    "\t\t\tfor h in range(1, length=d)\n",
    "\t\t\t\tfor k in range(1, length=d)\n",
    "\t\t\t\t\tnewMat[h,k]=mat[h,k]\n",
    "\t\t\t\tend\n",
    "\t\t\tend\n",
    "\t\t\tpush!(cloned.body,[newMat])\n",
    "\t\telseif (isa(obj.body[i],Tuple) ||isa(obj.body[i],Array))&& length(obj.body[i])==3\n",
    "\t\t\tV,FV,EV = deepcopy(obj.body[i])\n",
    "\t\t\tdimadd = n\n",
    "\t\t\tncols = size(V,2)\n",
    "\t\t\tnmat = zeros(dimadd,ncols)\n",
    "\t\t\tV = [V;zeros(dimadd,ncols)]\n",
    "\t\t\tpush!(cloned.body,[(V,FV,EV)])\n",
    "\t\telseif  (isa(obj.body[i],Tuple) ||isa(obj.body[i],Array))&& length(obj.body[i])==2\n",
    "\t\t\tV,EV = deepcopy(obj.body[i])\n",
    "\t\t\tdimadd = n\n",
    "\t\t\tncols = size(V,2)\n",
    "\t\t\tnmat = zeros(dimadd,ncols)\n",
    "\t\t\tV = [V;zeros(dimadd,ncols)]\n",
    "\t\t\tpush!(cloned.body,[(V,EV)])\n",
    "\t\telseif isa(obj.body[i],Lar.Struct)\n",
    "\t\t\tnewObj = Struct()\n",
    "\t\t\tnewObj.box = [ [obj.body[i].box[1];zeros(dimadd)],\n",
    "\t\t\t\t\t\t\t[obj.body[i].box[2];zeros(dimadd)] ]\n",
    "\t\t\tnewObj.category = (obj.body[i]).category\n",
    "\t\t\tpush!(cloned.body,[embedTraversal(newObj,obj.body[i],obj.dim+n,suffix)])\n",
    "\t\tend\n",
    "\tend\n",
    "\treturn cloned\n",
    "end"
   ]
  },
  {
   "cell_type": "code",
   "execution_count": 21,
   "metadata": {},
   "outputs": [
    {
     "name": "stdout",
     "output_type": "stream",
     "text": [
      "  8.366 μs (25 allocations: 1.81 KiB)\n"
     ]
    },
    {
     "data": {
      "text/plain": [
       "LinearAlgebraicRepresentation.Struct(Any[[([0.0 0.0 1.0 1.0; 0.0 1.0 0.0 1.0; 0.0 0.0 0.0 0.0], [[1, 2, 3, 4]])]], Any, \"15751112824915163172\", Any, \"feature\")"
      ]
     },
     "execution_count": 21,
     "metadata": {},
     "output_type": "execute_result"
    }
   ],
   "source": [
    "@btime embedTraversal(Lar.Struct(),x,1,\"New\")"
   ]
  },
  {
   "cell_type": "code",
   "execution_count": 20,
   "metadata": {},
   "outputs": [
    {
     "name": "stdout",
     "output_type": "stream",
     "text": [
      "  26.299 μs (87 allocations: 4.61 KiB)\n"
     ]
    },
    {
     "data": {
      "text/plain": [
       "LinearAlgebraicRepresentation.Struct(Any[[([-0.5 -0.5 0.5 0.5; -0.5 0.5 -0.5 0.5; 0.0 0.0 0.0 0.0], [[1, 2, 3, 4]])], [[6.123233995736766e-17 -1.0 0.0 0.0; 1.0 6.123233995736766e-17 0.0 0.0; 0.0 0.0 1.0 0.0; 0.0 0.0 0.0 1.0]], [([-0.5 -0.5 0.5 0.5; -0.5 0.5 -0.5 0.5; 0.0 0.0 0.0 0.0], [[1, 2, 3, 4]])], [[6.123233995736766e-17 -1.0 0.0 0.0; 1.0 6.123233995736766e-17 0.0 0.0; 0.0 0.0 1.0 0.0; 0.0 0.0 0.0 1.0]]], Any, \"17891135104253738189\", Any, \"feature\")"
      ]
     },
     "execution_count": 20,
     "metadata": {},
     "output_type": "execute_result"
    }
   ],
   "source": [
    "@btime embedTraversal(Lar.Struct(),structure,1,\"New\")"
   ]
  },
  {
   "cell_type": "code",
   "execution_count": null,
   "metadata": {},
   "outputs": [],
   "source": [
    "@benchmark embedTraversal(Lar.Struct(),structure,1,\"New\")"
   ]
  },
  {
   "cell_type": "markdown",
   "metadata": {},
   "source": [
    "## Nuove funzioni"
   ]
  },
  {
   "cell_type": "code",
   "execution_count": 22,
   "metadata": {},
   "outputs": [
    {
     "data": {
      "text/plain": [
       "embedTraversalMatrix (generic function with 2 methods)"
      ]
     },
     "execution_count": 22,
     "metadata": {},
     "output_type": "execute_result"
    }
   ],
   "source": [
    "function embedTraversalMatrix(objBody)\n",
    "\tmat = objBody[i]\n",
    "\td,d = size(mat)\n",
    "\tnewMat = Matrix{Float64}(LinearAlgebra.I, d+n, d+n)\n",
    "\tfor h in range(1, length=d)\n",
    "\t\tfor k in range(1, length=d)\n",
    "\t\t\tnewMat[h,k]=mat[h,k]\n",
    "\t\tend\n",
    "\tend\n",
    "\treturn newMat\n",
    "end"
   ]
  },
  {
   "cell_type": "code",
   "execution_count": 23,
   "metadata": {},
   "outputs": [
    {
     "data": {
      "text/plain": [
       "embedTraversalTupleOrArray (generic function with 1 method)"
      ]
     },
     "execution_count": 23,
     "metadata": {},
     "output_type": "execute_result"
    }
   ],
   "source": [
    "function embedTraversalTupleOrArray(n,V)\n",
    "\tdimadd = n\n",
    "\tncols = size(V,2)\n",
    "\tnmat = zeros(dimadd,ncols)\n",
    "\tV = [V;nmat]\n",
    "\treturn V\n",
    "end"
   ]
  },
  {
   "cell_type": "code",
   "execution_count": 24,
   "metadata": {},
   "outputs": [
    {
     "data": {
      "text/plain": [
       "embedTraversalStruct (generic function with 2 methods)"
      ]
     },
     "execution_count": 24,
     "metadata": {},
     "output_type": "execute_result"
    }
   ],
   "source": [
    "function embedTraversalStruct(objBody)\n",
    "\tnewObj = Struct()\n",
    "\tnewObj.box = [ [objBody[i].box[1];zeros(dimadd)],\n",
    "\t\t\t\t   [objBody[i].box[2];zeros(dimadd)] ]\n",
    "\tnewObj.category = (objBody[i]).category\n",
    "\treturn newObj\n",
    "end"
   ]
  },
  {
   "cell_type": "code",
   "execution_count": 25,
   "metadata": {},
   "outputs": [
    {
     "data": {
      "text/plain": [
       "embedTraversal (generic function with 2 methods)"
      ]
     },
     "execution_count": 25,
     "metadata": {},
     "output_type": "execute_result"
    }
   ],
   "source": [
    "function embedTraversal(cloned,obj,n,suffix)\n",
    "\tobjBody = obj.body\n",
    "\tfor i=1:length(objBody)\n",
    "\t\tif isa(objBody[i],Matrix)\n",
    "\t\t\tnewMat = embedTraversalMatrix(objBody)\n",
    "\t\t\tpush!(cloned.body,[newMat])\n",
    "\t\telseif (isa(objBody[i],Tuple) || isa(objBody[i],Array))\n",
    "\t\t\tif (length(objBody[i])==3)\n",
    "\t\t\t\tV,FV,EV = deepcopy(objBody[i])\n",
    "\t\t\t\tV = embedTraversalTupleOrArray(n,V)\n",
    "\t\t\t\tpush!(cloned.body,[(V,FV,EV)])\n",
    "\t\t\telseif (length(objBody[i])==2)\n",
    "\t\t\t\tV,EV = deepcopy(objBody[i])\n",
    "\t\t\t\tV = embedTraversalTupleOrArray(n,V)\n",
    "\t\t\t\tpush!(cloned.body,[(V,EV)])\n",
    "\t\t\tend\n",
    "\t\telseif isa(objBody[i],Struct)\n",
    "\t\t\tnewObj = embedTraversalStruct(objBody)\n",
    "\t\t\tpush!(cloned.body,[embedTraversal(newObj,objBody[i],obj.dim+n,suffix)])\n",
    "\t\tend\n",
    "\tend\n",
    "\treturn cloned\n",
    "end"
   ]
  },
  {
   "cell_type": "code",
   "execution_count": 26,
   "metadata": {},
   "outputs": [
    {
     "name": "stdout",
     "output_type": "stream",
     "text": [
      "  8.333 μs (25 allocations: 1.81 KiB)\n"
     ]
    },
    {
     "data": {
      "text/plain": [
       "LinearAlgebraicRepresentation.Struct(Any[[([0.0 0.0 1.0 1.0; 0.0 1.0 0.0 1.0; 0.0 0.0 0.0 0.0], [[1, 2, 3, 4]])]], Any, \"2920510752912314829\", Any, \"feature\")"
      ]
     },
     "execution_count": 26,
     "metadata": {},
     "output_type": "execute_result"
    }
   ],
   "source": [
    "@btime embedTraversal(Lar.Struct(),x,1,\"New\")"
   ]
  },
  {
   "cell_type": "code",
   "execution_count": 27,
   "metadata": {},
   "outputs": [
    {
     "name": "stdout",
     "output_type": "stream",
     "text": [
      "  26.200 μs (87 allocations: 4.61 KiB)\n"
     ]
    },
    {
     "data": {
      "text/plain": [
       "LinearAlgebraicRepresentation.Struct(Any[[([-0.5 -0.5 0.5 0.5; -0.5 0.5 -0.5 0.5; 0.0 0.0 0.0 0.0], [[1, 2, 3, 4]])], [[6.123233995736766e-17 -1.0 0.0 0.0; 1.0 6.123233995736766e-17 0.0 0.0; 0.0 0.0 1.0 0.0; 0.0 0.0 0.0 1.0]], [([-0.5 -0.5 0.5 0.5; -0.5 0.5 -0.5 0.5; 0.0 0.0 0.0 0.0], [[1, 2, 3, 4]])], [[6.123233995736766e-17 -1.0 0.0 0.0; 1.0 6.123233995736766e-17 0.0 0.0; 0.0 0.0 1.0 0.0; 0.0 0.0 0.0 1.0]]], Any, \"15559375586980300763\", Any, \"feature\")"
      ]
     },
     "execution_count": 27,
     "metadata": {},
     "output_type": "execute_result"
    }
   ],
   "source": [
    "@btime embedTraversal(Lar.Struct(),structure,1,\"New\")"
   ]
  },
  {
   "cell_type": "code",
   "execution_count": 28,
   "metadata": {},
   "outputs": [
    {
     "data": {
      "text/plain": [
       "BenchmarkTools.Trial: \n",
       "  memory estimate:  4.63 KiB\n",
       "  allocs estimate:  87\n",
       "  --------------\n",
       "  minimum time:     26.100 μs (0.00% GC)\n",
       "  median time:      28.800 μs (0.00% GC)\n",
       "  mean time:        33.704 μs (1.44% GC)\n",
       "  maximum time:     4.924 ms (98.63% GC)\n",
       "  --------------\n",
       "  samples:          10000\n",
       "  evals/sample:     1"
      ]
     },
     "execution_count": 28,
     "metadata": {},
     "output_type": "execute_result"
    }
   ],
   "source": [
    "@benchmark embedTraversal(Lar.Struct(),structure,1,\"New\")"
   ]
  },
  {
   "cell_type": "code",
   "execution_count": 29,
   "metadata": {},
   "outputs": [
    {
     "data": {
      "text/plain": [
       "BenchmarkTools.Trial: \n",
       "  memory estimate:  1.81 KiB\n",
       "  allocs estimate:  25\n",
       "  --------------\n",
       "  minimum time:     8.266 μs (0.00% GC)\n",
       "  median time:      9.333 μs (0.00% GC)\n",
       "  mean time:        9.747 μs (1.58% GC)\n",
       "  maximum time:     1.579 ms (97.76% GC)\n",
       "  --------------\n",
       "  samples:          10000\n",
       "  evals/sample:     3"
      ]
     },
     "execution_count": 29,
     "metadata": {},
     "output_type": "execute_result"
    }
   ],
   "source": [
    "@benchmark embedTraversal(Lar.Struct(),x,1,\"New\")"
   ]
  },
  {
   "cell_type": "code",
   "execution_count": 30,
   "metadata": {},
   "outputs": [
    {
     "data": {
      "text/plain": [
       "CodeInfo(\n",
       "\u001b[90m1 ──\u001b[39m %1   = Base.getfield(obj, :body)\u001b[36m::Array\u001b[39m\n",
       "\u001b[90m│   \u001b[39m %2   = Base.arraylen(%1)\u001b[36m::Int64\u001b[39m\n",
       "\u001b[90m│   \u001b[39m %3   = Base.sle_int(1, %2)\u001b[36m::Bool\u001b[39m\n",
       "\u001b[90m│   \u001b[39m %4   = Base.ifelse(%3, %2, 0)\u001b[36m::Int64\u001b[39m\n",
       "\u001b[90m│   \u001b[39m %5   = Base.slt_int(%4, 1)\u001b[36m::Bool\u001b[39m\n",
       "\u001b[90m└───\u001b[39m        goto #3 if not %5\n",
       "\u001b[90m2 ──\u001b[39m        goto #4\n",
       "\u001b[90m3 ──\u001b[39m        goto #4\n",
       "\u001b[90m4 ┄─\u001b[39m %9   = φ (#2 => true, #3 => false)\u001b[36m::Bool\u001b[39m\n",
       "\u001b[90m│   \u001b[39m %10  = φ (#3 => 1)\u001b[36m::Int64\u001b[39m\n",
       "\u001b[90m│   \u001b[39m %11  = φ (#3 => 1)\u001b[36m::Int64\u001b[39m\n",
       "\u001b[90m│   \u001b[39m %12  = Base.not_int(%9)\u001b[36m::Bool\u001b[39m\n",
       "\u001b[90m└───\u001b[39m        goto #38 if not %12\n",
       "\u001b[90m5 ┄─\u001b[39m %14  = φ (#4 => %10, #37 => %111)\u001b[36m::Int64\u001b[39m\n",
       "\u001b[90m│   \u001b[39m %15  = φ (#4 => %11, #37 => %112)\u001b[36m::Int64\u001b[39m\n",
       "\u001b[90m│   \u001b[39m %16  = Base.getindex(%1, %14)\u001b[36m::Any\u001b[39m\n",
       "\u001b[90m│   \u001b[39m %17  = (%16 isa Main.Matrix)\u001b[36m::Bool\u001b[39m\n",
       "\u001b[90m└───\u001b[39m        goto #22 if not %17\n",
       "\u001b[90m6 ──\u001b[39m %19  = Base.getindex(%1, %14)\u001b[36m::Any\u001b[39m\n",
       "\u001b[90m│   \u001b[39m %20  = Main.embedTraversalMatrix(%19, n)\u001b[36m::Array{Float64,2}\u001b[39m\n",
       "\u001b[90m│   \u001b[39m %21  = Base.getfield(cloned, :body)\u001b[36m::Array\u001b[39m\n",
       "\u001b[90m│   \u001b[39m %22  = $(Expr(:foreigncall, :(:jl_alloc_array_1d), Array{Array{Float64,2},1}, svec(Any, Int64), 0, :(:ccall), Array{Array{Float64,2},1}, 1, 1))\u001b[36m::Array{Array{Float64,2},1}\u001b[39m\n",
       "\u001b[90m│   \u001b[39m        Base.arraysize(%22, 1)\u001b[90m::Int64\u001b[39m\n",
       "\u001b[90m└───\u001b[39m        goto #8 if not true\n",
       "\u001b[90m7 ──\u001b[39m        Base.arrayset(false, %22, %20, 1)\u001b[90m::Array{Array{Float64,2},1}\u001b[39m\n",
       "\u001b[90m8 ┄─\u001b[39m        goto #9\n",
       "\u001b[90m9 ──\u001b[39m %27  = (isa)(%21, Array{Any,1})\u001b[36m::Bool\u001b[39m\n",
       "\u001b[90m└───\u001b[39m        goto #20 if not %27\n",
       "\u001b[90m10 ─\u001b[39m %29  = π (%21, \u001b[36mArray{Any,1}\u001b[39m)\n",
       "\u001b[90m│   \u001b[39m %30  = Core.lshr_int(1, 63)\u001b[36m::Int64\u001b[39m\n",
       "\u001b[90m│   \u001b[39m %31  = Core.trunc_int(Core.UInt8, %30)\u001b[36m::UInt8\u001b[39m\n",
       "\u001b[90m│   \u001b[39m %32  = Core.eq_int(%31, 0x01)\u001b[36m::Bool\u001b[39m\n",
       "\u001b[90m└───\u001b[39m        goto #12 if not %32\n",
       "\u001b[90m11 ─\u001b[39m        invoke Core.throw_inexacterror(:check_top_bit::Symbol, UInt64::Type{UInt64}, 1::Int64)\u001b[90m::Union{}\u001b[39m\n",
       "\u001b[90m└───\u001b[39m        $(Expr(:unreachable))\u001b[90m::Union{}\u001b[39m\n",
       "\u001b[90m12 ┄\u001b[39m        goto #13\n",
       "\u001b[90m13 ─\u001b[39m %37  = Core.bitcast(Core.UInt64, 1)\u001b[36m::UInt64\u001b[39m\n",
       "\u001b[90m└───\u001b[39m        goto #14\n",
       "\u001b[90m14 ─\u001b[39m        goto #15\n",
       "\u001b[90m15 ─\u001b[39m        goto #16\n",
       "\u001b[90m16 ─\u001b[39m        goto #17\n",
       "\u001b[90m17 ─\u001b[39m        $(Expr(:foreigncall, :(:jl_array_grow_end), Nothing, svec(Any, UInt64), 0, :(:ccall), :(%29), :(%37), :(%37)))\u001b[90m::Nothing\u001b[39m\n",
       "\u001b[90m└───\u001b[39m        goto #18\n",
       "\u001b[90m18 ─\u001b[39m %44  = Base.arraylen(%29)\u001b[36m::Int64\u001b[39m\n",
       "\u001b[90m│   \u001b[39m        Base.arrayset(true, %29, %22, %44)\u001b[90m::Array{Any,1}\u001b[39m\n",
       "\u001b[90m└───\u001b[39m        goto #19\n",
       "\u001b[90m19 ─\u001b[39m        goto #21\n",
       "\u001b[90m20 ─\u001b[39m        Main.push!(%21, %22)\u001b[90m::Any\u001b[39m\n",
       "\u001b[90m└───\u001b[39m        goto #21\n",
       "\u001b[90m21 ┄\u001b[39m        goto #33\n",
       "\u001b[90m22 ─\u001b[39m %51  = Base.getindex(%1, %14)\u001b[36m::Any\u001b[39m\n",
       "\u001b[90m│   \u001b[39m %52  = (%51 isa Main.Tuple)\u001b[36m::Bool\u001b[39m\n",
       "\u001b[90m└───\u001b[39m        goto #24 if not %52\n",
       "\u001b[90m23 ─\u001b[39m        goto #25\n",
       "\u001b[90m24 ─\u001b[39m %55  = Base.getindex(%1, %14)\u001b[36m::Any\u001b[39m\n",
       "\u001b[90m└───\u001b[39m %56  = (%55 isa Main.Array)\u001b[36m::Bool\u001b[39m\n",
       "\u001b[90m25 ┄\u001b[39m %57  = φ (#23 => %52, #24 => %56)\u001b[36m::Bool\u001b[39m\n",
       "\u001b[90m└───\u001b[39m        goto #31 if not %57\n",
       "\u001b[90m26 ─\u001b[39m %59  = Base.getindex(%1, %14)\u001b[36m::Any\u001b[39m\n",
       "\u001b[90m│   \u001b[39m %60  = Main.length(%59)\u001b[36m::Any\u001b[39m\n",
       "\u001b[90m│   \u001b[39m %61  = (%60 == 3)\u001b[36m::Any\u001b[39m\n",
       "\u001b[90m└───\u001b[39m        goto #28 if not %61\n",
       "\u001b[90m27 ─\u001b[39m %63  = Base.getindex(%1, %14)\u001b[36m::Any\u001b[39m\n",
       "\u001b[90m│   \u001b[39m %64  = Main.deepcopy(%63)\u001b[36m::Any\u001b[39m\n",
       "\u001b[90m│   \u001b[39m %65  = Base.indexed_iterate(%64, 1)\u001b[36m::Any\u001b[39m\n",
       "\u001b[90m│   \u001b[39m %66  = Core.getfield(%65, 1)\u001b[36m::Any\u001b[39m\n",
       "\u001b[90m│   \u001b[39m %67  = Core.getfield(%65, 2)\u001b[36m::Any\u001b[39m\n",
       "\u001b[90m│   \u001b[39m %68  = Base.indexed_iterate(%64, 2, %67)\u001b[36m::Any\u001b[39m\n",
       "\u001b[90m│   \u001b[39m %69  = Core.getfield(%68, 1)\u001b[36m::Any\u001b[39m\n",
       "\u001b[90m│   \u001b[39m %70  = Core.getfield(%68, 2)\u001b[36m::Any\u001b[39m\n",
       "\u001b[90m│   \u001b[39m %71  = Base.indexed_iterate(%64, 3, %70)\u001b[36m::Any\u001b[39m\n",
       "\u001b[90m│   \u001b[39m %72  = Core.getfield(%71, 1)\u001b[36m::Any\u001b[39m\n",
       "\u001b[90m│   \u001b[39m %73  = Main.embedTraversalTupleOrArray(n, %66)\u001b[36m::Any\u001b[39m\n",
       "\u001b[90m│   \u001b[39m %74  = Base.getfield(cloned, :body)\u001b[36m::Array\u001b[39m\n",
       "\u001b[90m│   \u001b[39m %75  = Core.tuple(%73, %69, %72)\u001b[36m::Tuple{Any,Any,Any}\u001b[39m\n",
       "\u001b[90m│   \u001b[39m %76  = Base.vect(%75)\u001b[36m::Array{_A,1} where _A\u001b[39m\n",
       "\u001b[90m│   \u001b[39m        Main.push!(%74, %76)\u001b[90m::Any\u001b[39m\n",
       "\u001b[90m└───\u001b[39m        goto #30\n",
       "\u001b[90m28 ─\u001b[39m %79  = Base.getindex(%1, %14)\u001b[36m::Any\u001b[39m\n",
       "\u001b[90m│   \u001b[39m %80  = Main.length(%79)\u001b[36m::Any\u001b[39m\n",
       "\u001b[90m│   \u001b[39m %81  = (%80 == 2)\u001b[36m::Any\u001b[39m\n",
       "\u001b[90m└───\u001b[39m        goto #30 if not %81\n",
       "\u001b[90m29 ─\u001b[39m %83  = Base.getindex(%1, %14)\u001b[36m::Any\u001b[39m\n",
       "\u001b[90m│   \u001b[39m %84  = Main.deepcopy(%83)\u001b[36m::Any\u001b[39m\n",
       "\u001b[90m│   \u001b[39m %85  = Base.indexed_iterate(%84, 1)\u001b[36m::Any\u001b[39m\n",
       "\u001b[90m│   \u001b[39m %86  = Core.getfield(%85, 1)\u001b[36m::Any\u001b[39m\n",
       "\u001b[90m│   \u001b[39m %87  = Core.getfield(%85, 2)\u001b[36m::Any\u001b[39m\n",
       "\u001b[90m│   \u001b[39m %88  = Base.indexed_iterate(%84, 2, %87)\u001b[36m::Any\u001b[39m\n",
       "\u001b[90m│   \u001b[39m %89  = Core.getfield(%88, 1)\u001b[36m::Any\u001b[39m\n",
       "\u001b[90m│   \u001b[39m %90  = Main.embedTraversalTupleOrArray(n, %86)\u001b[36m::Any\u001b[39m\n",
       "\u001b[90m│   \u001b[39m %91  = Base.getfield(cloned, :body)\u001b[36m::Array\u001b[39m\n",
       "\u001b[90m│   \u001b[39m %92  = Core.tuple(%90, %89)\u001b[36m::Tuple{Any,Any}\u001b[39m\n",
       "\u001b[90m│   \u001b[39m %93  = Base.vect(%92)\u001b[36m::Array{_A,1} where _A\u001b[39m\n",
       "\u001b[90m└───\u001b[39m        Main.push!(%91, %93)\u001b[90m::Any\u001b[39m\n",
       "\u001b[90m30 ┄\u001b[39m        goto #33\n",
       "\u001b[90m31 ─\u001b[39m %96  = Base.getindex(%1, %14)\u001b[36m::Any\u001b[39m\n",
       "\u001b[90m│   \u001b[39m %97  = (%96 isa Main.Struct)\u001b[36m::Bool\u001b[39m\n",
       "\u001b[90m└───\u001b[39m        goto #33 if not %97\n",
       "\u001b[90m32 ─\u001b[39m %99  = Base.getindex(%1, %14)\u001b[36m::Any\u001b[39m\n",
       "\u001b[90m│   \u001b[39m %100 = Main.embedTraversalStruct(%99)\u001b[36m::Core.Compiler.Const(nothing, false)\u001b[39m\n",
       "\u001b[90m│   \u001b[39m %101 = Base.getindex(%1, %14)\u001b[36m::Any\u001b[39m\n",
       "\u001b[90m│   \u001b[39m %102 = Base.getfield(obj, :dim)\u001b[36m::Any\u001b[39m\n",
       "\u001b[90m│   \u001b[39m %103 = (%102 + n)\u001b[36m::Any\u001b[39m\n",
       "\u001b[90m│   \u001b[39m        Main.embedTraversal(%100, %101, %103, suffix)\u001b[90m::Union{}\u001b[39m\n",
       "\u001b[90m└───\u001b[39m        $(Expr(:unreachable))\u001b[90m::Union{}\u001b[39m\n",
       "\u001b[90m33 ┄\u001b[39m %106 = (%15 === %4)\u001b[36m::Bool\u001b[39m\n",
       "\u001b[90m└───\u001b[39m        goto #35 if not %106\n",
       "\u001b[90m34 ─\u001b[39m        goto #36\n",
       "\u001b[90m35 ─\u001b[39m %109 = Base.add_int(%15, 1)\u001b[36m::Int64\u001b[39m\n",
       "\u001b[90m└───\u001b[39m        goto #36\n",
       "\u001b[90m36 ┄\u001b[39m %111 = φ (#35 => %109)\u001b[36m::Int64\u001b[39m\n",
       "\u001b[90m│   \u001b[39m %112 = φ (#35 => %109)\u001b[36m::Int64\u001b[39m\n",
       "\u001b[90m│   \u001b[39m %113 = φ (#34 => true, #35 => false)\u001b[36m::Bool\u001b[39m\n",
       "\u001b[90m│   \u001b[39m %114 = Base.not_int(%113)\u001b[36m::Bool\u001b[39m\n",
       "\u001b[90m└───\u001b[39m        goto #38 if not %114\n",
       "\u001b[90m37 ─\u001b[39m        goto #5\n",
       "\u001b[90m38 ┄\u001b[39m        return cloned\n",
       ") => LinearAlgebraicRepresentation.Struct"
      ]
     },
     "execution_count": 30,
     "metadata": {},
     "output_type": "execute_result"
    }
   ],
   "source": [
    "@code_typed embedTraversal(Lar.Struct(),structure,1,\"New\")"
   ]
  },
  {
   "cell_type": "code",
   "execution_count": 30,
   "metadata": {},
   "outputs": [
    {
     "name": "stdout",
     "output_type": "stream",
     "text": [
      "Variables\n",
      "  #self#\u001b[36m::Core.Compiler.Const(embedTraversal, false)\u001b[39m\n",
      "  cloned\u001b[36m::LinearAlgebraicRepresentation.Struct\u001b[39m\n",
      "  obj\u001b[36m::LinearAlgebraicRepresentation.Struct\u001b[39m\n",
      "  n\u001b[36m::Int64\u001b[39m\n",
      "  suffix\u001b[36m::String\u001b[39m\n",
      "  @_6\u001b[33m\u001b[1m::Union{Nothing, Tuple{Int64,Int64}}\u001b[22m\u001b[39m\n",
      "  i\u001b[36m::Int64\u001b[39m\n",
      "  @_8\u001b[91m\u001b[1m::Any\u001b[22m\u001b[39m\n",
      "  @_9\u001b[91m\u001b[1m::Any\u001b[22m\u001b[39m\n",
      "  @_10\u001b[91m\u001b[1m::Any\u001b[22m\u001b[39m\n",
      "  mat\u001b[91m\u001b[1m::Any\u001b[22m\u001b[39m\n",
      "  d\u001b[91m\u001b[1m::Any\u001b[22m\u001b[39m\n",
      "  newMat\u001b[36m::Array{Float64,2}\u001b[39m\n",
      "  @_14\u001b[33m\u001b[1m::Union{Nothing, Tuple{Int64,Int64}}\u001b[22m\u001b[39m\n",
      "  V\u001b[91m\u001b[1m::Any\u001b[22m\u001b[39m\n",
      "  FV\u001b[91m\u001b[1m::Any\u001b[22m\u001b[39m\n",
      "  EV\u001b[91m\u001b[1m::Any\u001b[22m\u001b[39m\n",
      "  dimadd\u001b[36m::Int64\u001b[39m\n",
      "  ncols\u001b[91m\u001b[1m::Any\u001b[22m\u001b[39m\n",
      "  nmat\u001b[36m::Array{Float64,2}\u001b[39m\n",
      "  newObj\u001b[91m\u001b[1m::Any\u001b[22m\u001b[39m\n",
      "  h\u001b[36m::Int64\u001b[39m\n",
      "  @_23\u001b[33m\u001b[1m::Union{Nothing, Tuple{Int64,Int64}}\u001b[22m\u001b[39m\n",
      "  k\u001b[36m::Int64\u001b[39m\n",
      "  @_25\u001b[36m::Bool\u001b[39m\n",
      "  @_26\u001b[91m\u001b[1m::Any\u001b[22m\u001b[39m\n",
      "  @_27\u001b[36m::Bool\u001b[39m\n",
      "  @_28\u001b[91m\u001b[1m::Any\u001b[22m\u001b[39m\n",
      "\n",
      "Body\u001b[36m::LinearAlgebraicRepresentation.Struct\u001b[39m\n",
      "\u001b[90m1 ──\u001b[39m %1   = Base.getproperty(obj, :body)\u001b[91m\u001b[1m::Array\u001b[22m\u001b[39m\n",
      "\u001b[90m│   \u001b[39m %2   = Main.length(%1)\u001b[36m::Int64\u001b[39m\n",
      "\u001b[90m│   \u001b[39m %3   = (1:%2)\u001b[36m::Core.Compiler.PartialStruct(UnitRange{Int64}, Any[Core.Compiler.Const(1, false), Int64])\u001b[39m\n",
      "\u001b[90m│   \u001b[39m        (@_6 = Base.iterate(%3))\n",
      "\u001b[90m│   \u001b[39m %5   = (@_6 === nothing)\u001b[36m::Bool\u001b[39m\n",
      "\u001b[90m│   \u001b[39m %6   = Base.not_int(%5)\u001b[36m::Bool\u001b[39m\n",
      "\u001b[90m└───\u001b[39m        goto #30 if not %6\n",
      "\u001b[90m2 ┄─\u001b[39m        Core.NewvarNode(:(@_8))\n",
      "\u001b[90m│   \u001b[39m        Core.NewvarNode(:(@_9))\n",
      "\u001b[90m│   \u001b[39m        Core.NewvarNode(:(@_10))\n",
      "\u001b[90m│   \u001b[39m        Core.NewvarNode(:(mat))\n",
      "\u001b[90m│   \u001b[39m        Core.NewvarNode(:(d))\n",
      "\u001b[90m│   \u001b[39m        Core.NewvarNode(:(newMat))\n",
      "\u001b[90m│   \u001b[39m        Core.NewvarNode(:(@_14))\n",
      "\u001b[90m│   \u001b[39m        Core.NewvarNode(:(V))\n",
      "\u001b[90m│   \u001b[39m        Core.NewvarNode(:(FV))\n",
      "\u001b[90m│   \u001b[39m        Core.NewvarNode(:(EV))\n",
      "\u001b[90m│   \u001b[39m        Core.NewvarNode(:(dimadd))\n",
      "\u001b[90m│   \u001b[39m        Core.NewvarNode(:(ncols))\n",
      "\u001b[90m│   \u001b[39m        Core.NewvarNode(:(nmat))\n",
      "\u001b[90m│   \u001b[39m        Core.NewvarNode(:(newObj))\n",
      "\u001b[90m│   \u001b[39m %22  = @_6::Tuple{Int64,Int64}\u001b[36m::Tuple{Int64,Int64}\u001b[39m\n",
      "\u001b[90m│   \u001b[39m        (i = Core.getfield(%22, 1))\n",
      "\u001b[90m│   \u001b[39m %24  = Core.getfield(%22, 2)\u001b[36m::Int64\u001b[39m\n",
      "\u001b[90m│   \u001b[39m %25  = Base.getproperty(obj, :body)\u001b[91m\u001b[1m::Array\u001b[22m\u001b[39m\n",
      "\u001b[90m│   \u001b[39m %26  = Base.getindex(%25, i)\u001b[91m\u001b[1m::Any\u001b[22m\u001b[39m\n",
      "\u001b[90m│   \u001b[39m %27  = (%26 isa Main.Matrix)\u001b[36m::Bool\u001b[39m\n",
      "\u001b[90m└───\u001b[39m        goto #10 if not %27\n",
      "\u001b[90m3 ──\u001b[39m %29  = Base.getproperty(obj, :body)\u001b[91m\u001b[1m::Array\u001b[22m\u001b[39m\n",
      "\u001b[90m│   \u001b[39m        (mat = Base.getindex(%29, i))\n",
      "\u001b[90m│   \u001b[39m %31  = Main.size(mat)\u001b[91m\u001b[1m::Any\u001b[22m\u001b[39m\n",
      "\u001b[90m│   \u001b[39m %32  = Base.indexed_iterate(%31, 1)\u001b[91m\u001b[1m::Any\u001b[22m\u001b[39m\n",
      "\u001b[90m│   \u001b[39m        (d = Core.getfield(%32, 1))\n",
      "\u001b[90m│   \u001b[39m        (@_8 = Core.getfield(%32, 2))\n",
      "\u001b[90m│   \u001b[39m %35  = Base.indexed_iterate(%31, 2, @_8)\u001b[91m\u001b[1m::Any\u001b[22m\u001b[39m\n",
      "\u001b[90m│   \u001b[39m        (d = Core.getfield(%35, 1))\n",
      "\u001b[90m│   \u001b[39m %37  = Core.apply_type(Main.Matrix, Main.Float64)\u001b[36m::Core.Compiler.Const(Array{Float64,2}, false)\u001b[39m\n",
      "\u001b[90m│   \u001b[39m %38  = LinearAlgebra.I\u001b[36m::Core.Compiler.Const(UniformScaling{Bool}(true), false)\u001b[39m\n",
      "\u001b[90m│   \u001b[39m %39  = (d + n)\u001b[91m\u001b[1m::Any\u001b[22m\u001b[39m\n",
      "\u001b[90m│   \u001b[39m %40  = (d + n)\u001b[91m\u001b[1m::Any\u001b[22m\u001b[39m\n",
      "\u001b[90m│   \u001b[39m        (newMat = (%37)(%38, %39, %40))\n",
      "\u001b[90m│   \u001b[39m %42  = (:length,)\u001b[36m::Core.Compiler.Const((:length,), false)\u001b[39m\n",
      "\u001b[90m│   \u001b[39m %43  = Core.apply_type(Core.NamedTuple, %42)\u001b[36m::Core.Compiler.Const(NamedTuple{(:length,),T} where T<:Tuple, false)\u001b[39m\n",
      "\u001b[90m│   \u001b[39m %44  = Core.tuple(d)\u001b[91m\u001b[1m::Tuple{Any}\u001b[22m\u001b[39m\n",
      "\u001b[90m│   \u001b[39m %45  = (%43)(%44)\u001b[91m\u001b[1m::NamedTuple{(:length,),_A} where _A<:Tuple\u001b[22m\u001b[39m\n",
      "\u001b[90m│   \u001b[39m %46  = Core.kwfunc(Main.range)\u001b[36m::Core.Compiler.Const(Base.var\"#range##kw\"(), false)\u001b[39m\n",
      "\u001b[90m│   \u001b[39m %47  = (%46)(%45, Main.range, 1)\u001b[36m::UnitRange{Int64}\u001b[39m\n",
      "\u001b[90m│   \u001b[39m        (@_14 = Base.iterate(%47))\n",
      "\u001b[90m│   \u001b[39m %49  = (@_14 === nothing)\u001b[36m::Bool\u001b[39m\n",
      "\u001b[90m│   \u001b[39m %50  = Base.not_int(%49)\u001b[36m::Bool\u001b[39m\n",
      "\u001b[90m└───\u001b[39m        goto #9 if not %50\n",
      "\u001b[90m4 ┄─\u001b[39m %52  = @_14::Tuple{Int64,Int64}\u001b[36m::Tuple{Int64,Int64}\u001b[39m\n",
      "\u001b[90m│   \u001b[39m        (h = Core.getfield(%52, 1))\n",
      "\u001b[90m│   \u001b[39m %54  = Core.getfield(%52, 2)\u001b[36m::Int64\u001b[39m\n",
      "\u001b[90m│   \u001b[39m %55  = (:length,)\u001b[36m::Core.Compiler.Const((:length,), false)\u001b[39m\n",
      "\u001b[90m│   \u001b[39m %56  = Core.apply_type(Core.NamedTuple, %55)\u001b[36m::Core.Compiler.Const(NamedTuple{(:length,),T} where T<:Tuple, false)\u001b[39m\n",
      "\u001b[90m│   \u001b[39m %57  = Core.tuple(d)\u001b[91m\u001b[1m::Tuple{Any}\u001b[22m\u001b[39m\n",
      "\u001b[90m│   \u001b[39m %58  = (%56)(%57)\u001b[91m\u001b[1m::NamedTuple{(:length,),_A} where _A<:Tuple\u001b[22m\u001b[39m\n",
      "\u001b[90m│   \u001b[39m %59  = Core.kwfunc(Main.range)\u001b[36m::Core.Compiler.Const(Base.var\"#range##kw\"(), false)\u001b[39m\n",
      "\u001b[90m│   \u001b[39m %60  = (%59)(%58, Main.range, 1)\u001b[36m::UnitRange{Int64}\u001b[39m\n",
      "\u001b[90m│   \u001b[39m        (@_23 = Base.iterate(%60))\n",
      "\u001b[90m│   \u001b[39m %62  = (@_23 === nothing)\u001b[36m::Bool\u001b[39m\n",
      "\u001b[90m│   \u001b[39m %63  = Base.not_int(%62)\u001b[36m::Bool\u001b[39m\n",
      "\u001b[90m└───\u001b[39m        goto #7 if not %63\n",
      "\u001b[90m5 ┄─\u001b[39m %65  = @_23::Tuple{Int64,Int64}\u001b[36m::Tuple{Int64,Int64}\u001b[39m\n",
      "\u001b[90m│   \u001b[39m        (k = Core.getfield(%65, 1))\n",
      "\u001b[90m│   \u001b[39m %67  = Core.getfield(%65, 2)\u001b[36m::Int64\u001b[39m\n",
      "\u001b[90m│   \u001b[39m %68  = Base.getindex(mat, h, k)\u001b[91m\u001b[1m::Any\u001b[22m\u001b[39m\n",
      "\u001b[90m│   \u001b[39m        Base.setindex!(newMat, %68, h, k)\n",
      "\u001b[90m│   \u001b[39m        (@_23 = Base.iterate(%60, %67))\n",
      "\u001b[90m│   \u001b[39m %71  = (@_23 === nothing)\u001b[36m::Bool\u001b[39m\n",
      "\u001b[90m│   \u001b[39m %72  = Base.not_int(%71)\u001b[36m::Bool\u001b[39m\n",
      "\u001b[90m└───\u001b[39m        goto #7 if not %72\n",
      "\u001b[90m6 ──\u001b[39m        goto #5\n",
      "\u001b[90m7 ┄─\u001b[39m        (@_14 = Base.iterate(%47, %54))\n",
      "\u001b[90m│   \u001b[39m %76  = (@_14 === nothing)\u001b[36m::Bool\u001b[39m\n",
      "\u001b[90m│   \u001b[39m %77  = Base.not_int(%76)\u001b[36m::Bool\u001b[39m\n",
      "\u001b[90m└───\u001b[39m        goto #9 if not %77\n",
      "\u001b[90m8 ──\u001b[39m        goto #4\n",
      "\u001b[90m9 ┄─\u001b[39m %80  = Base.getproperty(cloned, :body)\u001b[91m\u001b[1m::Array\u001b[22m\u001b[39m\n",
      "\u001b[90m│   \u001b[39m %81  = Base.vect(newMat)\u001b[36m::Array{Array{Float64,2},1}\u001b[39m\n",
      "\u001b[90m│   \u001b[39m        Main.push!(%80, %81)\n",
      "\u001b[90m└───\u001b[39m        goto #28\n",
      "\u001b[90m10 ─\u001b[39m %84  = Base.getproperty(obj, :body)\u001b[91m\u001b[1m::Array\u001b[22m\u001b[39m\n",
      "\u001b[90m│   \u001b[39m %85  = Base.getindex(%84, i)\u001b[91m\u001b[1m::Any\u001b[22m\u001b[39m\n",
      "\u001b[90m│   \u001b[39m %86  = (%85 isa Main.Tuple)\u001b[36m::Bool\u001b[39m\n",
      "\u001b[90m└───\u001b[39m        goto #12 if not %86\n",
      "\u001b[90m11 ─\u001b[39m        (@_25 = %86)\n",
      "\u001b[90m└───\u001b[39m        goto #13\n",
      "\u001b[90m12 ─\u001b[39m %90  = Base.getproperty(obj, :body)\u001b[91m\u001b[1m::Array\u001b[22m\u001b[39m\n",
      "\u001b[90m│   \u001b[39m %91  = Base.getindex(%90, i)\u001b[91m\u001b[1m::Any\u001b[22m\u001b[39m\n",
      "\u001b[90m└───\u001b[39m        (@_25 = %91 isa Main.Array)\n",
      "\u001b[90m13 ┄\u001b[39m        goto #15 if not @_25\n",
      "\u001b[90m14 ─\u001b[39m %94  = Base.getproperty(obj, :body)\u001b[91m\u001b[1m::Array\u001b[22m\u001b[39m\n",
      "\u001b[90m│   \u001b[39m %95  = Base.getindex(%94, i)\u001b[91m\u001b[1m::Any\u001b[22m\u001b[39m\n",
      "\u001b[90m│   \u001b[39m %96  = Main.length(%95)\u001b[91m\u001b[1m::Any\u001b[22m\u001b[39m\n",
      "\u001b[90m│   \u001b[39m        (@_26 = %96 == 3)\n",
      "\u001b[90m└───\u001b[39m        goto #16\n",
      "\u001b[90m15 ─\u001b[39m        (@_26 = false)\n",
      "\u001b[90m16 ┄\u001b[39m        goto #18 if not @_26\n",
      "\u001b[90m17 ─\u001b[39m %101 = Base.getproperty(obj, :body)\u001b[91m\u001b[1m::Array\u001b[22m\u001b[39m\n",
      "\u001b[90m│   \u001b[39m %102 = Base.getindex(%101, i)\u001b[91m\u001b[1m::Any\u001b[22m\u001b[39m\n",
      "\u001b[90m│   \u001b[39m %103 = Main.deepcopy(%102)\u001b[91m\u001b[1m::Any\u001b[22m\u001b[39m\n",
      "\u001b[90m│   \u001b[39m %104 = Base.indexed_iterate(%103, 1)\u001b[91m\u001b[1m::Any\u001b[22m\u001b[39m\n",
      "\u001b[90m│   \u001b[39m        (V = Core.getfield(%104, 1))\n",
      "\u001b[90m│   \u001b[39m        (@_9 = Core.getfield(%104, 2))\n",
      "\u001b[90m│   \u001b[39m %107 = Base.indexed_iterate(%103, 2, @_9)\u001b[91m\u001b[1m::Any\u001b[22m\u001b[39m\n",
      "\u001b[90m│   \u001b[39m        (FV = Core.getfield(%107, 1))\n",
      "\u001b[90m│   \u001b[39m        (@_9 = Core.getfield(%107, 2))\n",
      "\u001b[90m│   \u001b[39m %110 = Base.indexed_iterate(%103, 3, @_9)\u001b[91m\u001b[1m::Any\u001b[22m\u001b[39m\n",
      "\u001b[90m│   \u001b[39m        (EV = Core.getfield(%110, 1))\n",
      "\u001b[90m│   \u001b[39m        (dimadd = n)\n",
      "\u001b[90m│   \u001b[39m        (ncols = Main.size(V, 2))\n",
      "\u001b[90m│   \u001b[39m        (nmat = Main.zeros(dimadd, ncols))\n",
      "\u001b[90m│   \u001b[39m %115 = V\u001b[91m\u001b[1m::Any\u001b[22m\u001b[39m\n",
      "\u001b[90m│   \u001b[39m %116 = Main.zeros(dimadd, ncols)\u001b[36m::Array{Float64,2}\u001b[39m\n",
      "\u001b[90m│   \u001b[39m        (V = Base.vcat(%115, %116))\n",
      "\u001b[90m│   \u001b[39m %118 = Base.getproperty(cloned, :body)\u001b[91m\u001b[1m::Array\u001b[22m\u001b[39m\n",
      "\u001b[90m│   \u001b[39m %119 = Core.tuple(V, FV, EV)\u001b[91m\u001b[1m::Tuple{Any,Any,Any}\u001b[22m\u001b[39m\n",
      "\u001b[90m│   \u001b[39m %120 = Base.vect(%119)\u001b[91m\u001b[1m::Array{_A,1} where _A\u001b[22m\u001b[39m\n",
      "\u001b[90m│   \u001b[39m        Main.push!(%118, %120)\n",
      "\u001b[90m└───\u001b[39m        goto #28\n",
      "\u001b[90m18 ─\u001b[39m %123 = Base.getproperty(obj, :body)\u001b[91m\u001b[1m::Array\u001b[22m\u001b[39m\n",
      "\u001b[90m│   \u001b[39m %124 = Base.getindex(%123, i)\u001b[91m\u001b[1m::Any\u001b[22m\u001b[39m\n",
      "\u001b[90m│   \u001b[39m %125 = (%124 isa Main.Tuple)\u001b[36m::Bool\u001b[39m\n",
      "\u001b[90m└───\u001b[39m        goto #20 if not %125\n",
      "\u001b[90m19 ─\u001b[39m        (@_27 = %125)\n",
      "\u001b[90m└───\u001b[39m        goto #21\n",
      "\u001b[90m20 ─\u001b[39m %129 = Base.getproperty(obj, :body)\u001b[91m\u001b[1m::Array\u001b[22m\u001b[39m\n",
      "\u001b[90m│   \u001b[39m %130 = Base.getindex(%129, i)\u001b[91m\u001b[1m::Any\u001b[22m\u001b[39m\n",
      "\u001b[90m└───\u001b[39m        (@_27 = %130 isa Main.Array)\n",
      "\u001b[90m21 ┄\u001b[39m        goto #23 if not @_27\n",
      "\u001b[90m22 ─\u001b[39m %133 = Base.getproperty(obj, :body)\u001b[91m\u001b[1m::Array\u001b[22m\u001b[39m\n",
      "\u001b[90m│   \u001b[39m %134 = Base.getindex(%133, i)\u001b[91m\u001b[1m::Any\u001b[22m\u001b[39m\n",
      "\u001b[90m│   \u001b[39m %135 = Main.length(%134)\u001b[91m\u001b[1m::Any\u001b[22m\u001b[39m\n",
      "\u001b[90m│   \u001b[39m        (@_28 = %135 == 2)\n",
      "\u001b[90m└───\u001b[39m        goto #24\n",
      "\u001b[90m23 ─\u001b[39m        (@_28 = false)\n",
      "\u001b[90m24 ┄\u001b[39m        goto #26 if not @_28\n",
      "\u001b[90m25 ─\u001b[39m %140 = Base.getproperty(obj, :body)\u001b[91m\u001b[1m::Array\u001b[22m\u001b[39m\n",
      "\u001b[90m│   \u001b[39m %141 = Base.getindex(%140, i)\u001b[91m\u001b[1m::Any\u001b[22m\u001b[39m\n",
      "\u001b[90m│   \u001b[39m %142 = Main.deepcopy(%141)\u001b[91m\u001b[1m::Any\u001b[22m\u001b[39m\n",
      "\u001b[90m│   \u001b[39m %143 = Base.indexed_iterate(%142, 1)\u001b[91m\u001b[1m::Any\u001b[22m\u001b[39m\n",
      "\u001b[90m│   \u001b[39m        (V = Core.getfield(%143, 1))\n",
      "\u001b[90m│   \u001b[39m        (@_10 = Core.getfield(%143, 2))\n",
      "\u001b[90m│   \u001b[39m %146 = Base.indexed_iterate(%142, 2, @_10)\u001b[91m\u001b[1m::Any\u001b[22m\u001b[39m\n",
      "\u001b[90m│   \u001b[39m        (EV = Core.getfield(%146, 1))\n",
      "\u001b[90m│   \u001b[39m        (dimadd = n)\n",
      "\u001b[90m│   \u001b[39m        (ncols = Main.size(V, 2))\n",
      "\u001b[90m│   \u001b[39m        (nmat = Main.zeros(dimadd, ncols))\n",
      "\u001b[90m│   \u001b[39m %151 = V\u001b[91m\u001b[1m::Any\u001b[22m\u001b[39m\n",
      "\u001b[90m│   \u001b[39m %152 = Main.zeros(dimadd, ncols)\u001b[36m::Array{Float64,2}\u001b[39m\n",
      "\u001b[90m│   \u001b[39m        (V = Base.vcat(%151, %152))\n",
      "\u001b[90m│   \u001b[39m %154 = Base.getproperty(cloned, :body)\u001b[91m\u001b[1m::Array\u001b[22m\u001b[39m\n",
      "\u001b[90m│   \u001b[39m %155 = Core.tuple(V, EV)\u001b[91m\u001b[1m::Tuple{Any,Any}\u001b[22m\u001b[39m\n",
      "\u001b[90m│   \u001b[39m %156 = Base.vect(%155)\u001b[91m\u001b[1m::Array{_A,1} where _A\u001b[22m\u001b[39m\n",
      "\u001b[90m│   \u001b[39m        Main.push!(%154, %156)\n",
      "\u001b[90m└───\u001b[39m        goto #28\n",
      "\u001b[90m26 ─\u001b[39m %159 = Base.getproperty(obj, :body)\u001b[91m\u001b[1m::Array\u001b[22m\u001b[39m\n",
      "\u001b[90m│   \u001b[39m %160 = Base.getindex(%159, i)\u001b[91m\u001b[1m::Any\u001b[22m\u001b[39m\n",
      "\u001b[90m│   \u001b[39m %161 = Base.getproperty(Main.Lar, :Struct)\u001b[91m\u001b[1m::Any\u001b[22m\u001b[39m\n",
      "\u001b[90m│   \u001b[39m %162 = (%160 isa %161)\u001b[36m::Bool\u001b[39m\n",
      "\u001b[90m└───\u001b[39m        goto #28 if not %162\n",
      "\u001b[90m27 ─\u001b[39m        (newObj = Main.Struct())\n",
      "\u001b[90m│   \u001b[39m %165 = Base.getproperty(obj, :body)\u001b[91m\u001b[1m::Array\u001b[22m\u001b[39m\n",
      "\u001b[90m│   \u001b[39m %166 = Base.getindex(%165, i)\u001b[91m\u001b[1m::Any\u001b[22m\u001b[39m\n",
      "\u001b[90m│   \u001b[39m %167 = Base.getproperty(%166, :box)\u001b[91m\u001b[1m::Any\u001b[22m\u001b[39m\n",
      "\u001b[90m│   \u001b[39m        Base.getindex(%167, 1)\n",
      "\u001b[90m│   \u001b[39m        Main.zeros(dimadd::Union{})\n",
      "\u001b[90m│   \u001b[39m        Core.Compiler.Const(:(Base.vcat(%168, %169)), false)\n",
      "\u001b[90m│   \u001b[39m        Core.Compiler.Const(:(Base.getproperty(obj, :body)), false)\n",
      "\u001b[90m│   \u001b[39m        Core.Compiler.Const(:(Base.getindex(%171, i)), false)\n",
      "\u001b[90m│   \u001b[39m        Core.Compiler.Const(:(Base.getproperty(%172, :box)), false)\n",
      "\u001b[90m│   \u001b[39m        Core.Compiler.Const(:(Base.getindex(%173, 2)), false)\n",
      "\u001b[90m│   \u001b[39m        Core.Compiler.Const(:(Main.zeros(dimadd)), false)\n",
      "\u001b[90m│   \u001b[39m        Core.Compiler.Const(:(Base.vcat(%174, %175)), false)\n",
      "\u001b[90m│   \u001b[39m        Core.Compiler.Const(:(Base.vect(%170, %176)), false)\n",
      "\u001b[90m│   \u001b[39m        Core.Compiler.Const(:(Base.setproperty!(newObj, :box, %177)), false)\n",
      "\u001b[90m│   \u001b[39m        Core.Compiler.Const(:(Base.getproperty(obj, :body)), false)\n",
      "\u001b[90m│   \u001b[39m        Core.Compiler.Const(:(Base.getindex(%179, i)), false)\n",
      "\u001b[90m│   \u001b[39m        Core.Compiler.Const(:(Base.getproperty(%180, :category)), false)\n",
      "\u001b[90m│   \u001b[39m        Core.Compiler.Const(:(Base.setproperty!(newObj, :category, %181)), false)\n",
      "\u001b[90m│   \u001b[39m        Core.Compiler.Const(:(Base.getproperty(cloned, :body)), false)\n",
      "\u001b[90m│   \u001b[39m        Core.Compiler.Const(:(newObj), false)\n",
      "\u001b[90m│   \u001b[39m        Core.Compiler.Const(:(Base.getproperty(obj, :body)), false)\n",
      "\u001b[90m│   \u001b[39m        Core.Compiler.Const(:(Base.getindex(%185, i)), false)\n",
      "\u001b[90m│   \u001b[39m        Core.Compiler.Const(:(Base.getproperty(obj, :dim)), false)\n",
      "\u001b[90m│   \u001b[39m        Core.Compiler.Const(:(%187 + n), false)\n",
      "\u001b[90m│   \u001b[39m        Core.Compiler.Const(:(Main.embedTraversal(%184, %186, %188, suffix)), false)\n",
      "\u001b[90m│   \u001b[39m        Core.Compiler.Const(:(Base.vect(%189)), false)\n",
      "\u001b[90m└───\u001b[39m        Core.Compiler.Const(:(Main.push!(%183, %190)), false)\n",
      "\u001b[90m28 ┄\u001b[39m        (@_6 = Base.iterate(%3, %24))\n",
      "\u001b[90m│   \u001b[39m %193 = (@_6 === nothing)\u001b[36m::Bool\u001b[39m\n",
      "\u001b[90m│   \u001b[39m %194 = Base.not_int(%193)\u001b[36m::Bool\u001b[39m\n",
      "\u001b[90m└───\u001b[39m        goto #30 if not %194\n",
      "\u001b[90m29 ─\u001b[39m        goto #2\n",
      "\u001b[90m30 ┄\u001b[39m        return cloned\n"
     ]
    }
   ],
   "source": [
    "@code_warntype embedTraversal(Lar.Struct(),x,1,\"New\")"
   ]
  },
  {
   "cell_type": "markdown",
   "metadata": {},
   "source": [
    "## Modifiche"
   ]
  },
  {
   "cell_type": "markdown",
   "metadata": {},
   "source": [
    "\"\"\"\\\n",
    "embedTraversalMatrix(objBody::Matrix,n::Int)::Matrix\\\n",
    "Funzione chiamata se il corpo della struttura che si sta modellando è una matrice. Trasforma la matrice aumentandone la dimensione del valore n.\\\n",
    "\"\"\""
   ]
  },
  {
   "cell_type": "code",
   "execution_count": 72,
   "metadata": {},
   "outputs": [
    {
     "data": {
      "text/plain": [
       "embedTraversalMatrix (generic function with 1 method)"
      ]
     },
     "execution_count": 72,
     "metadata": {},
     "output_type": "execute_result"
    }
   ],
   "source": [
    "@inline function embedTraversalMatrix(objBody,n)\n",
    "\tmat = objBody\n",
    "\td,d = size(mat)\n",
    "\tnewMat = Matrix{Float64}(LinearAlgebra.I, d+n, d+n)\n",
    "\t@inbounds for h in range(1, length=d)\n",
    "\t\t@inbounds for k in range(1, length=d)\n",
    "\t\t\tnewMat[h,k]=mat[h,k]\n",
    "\t\tend\n",
    "\tend\n",
    "\treturn newMat\n",
    "end"
   ]
  },
  {
   "cell_type": "markdown",
   "metadata": {},
   "source": [
    "\"\"\"\\\n",
    "embedTraversalTupleOrArray(objBody::Union{Tuple,Array},V)\\\n",
    "Funzione chiamata se il corpo della struttura che si sta modellando è una tupla o un array. Genera e restituisce il parametro V.\\\n",
    "\"\"\""
   ]
  },
  {
   "cell_type": "code",
   "execution_count": 67,
   "metadata": {},
   "outputs": [
    {
     "data": {
      "text/plain": [
       "embedTraversalTupleOrArray (generic function with 1 method)"
      ]
     },
     "execution_count": 67,
     "metadata": {},
     "output_type": "execute_result"
    }
   ],
   "source": [
    "@inline function embedTraversalTupleOrArray(n,V)\n",
    "\tdimadd = n\n",
    "\tncols = size(V,2)\n",
    "\tnmat = zeros(dimadd,ncols)\n",
    "\tV = [V;nmat]\n",
    "\treturn V\n",
    "end"
   ]
  },
  {
   "cell_type": "markdown",
   "metadata": {},
   "source": [
    "\"\"\"\\\n",
    "embedTraversalStruct(objBody::Struct)::Struct\\\n",
    "Funzione chiamata se il corpo della struttura che si sta modellando è una struttura. Genera(a partire dalla struttura in ingresso objBody) e restituisce la struttura newObj.\\\n",
    "\"\"\""
   ]
  },
  {
   "cell_type": "code",
   "execution_count": 68,
   "metadata": {},
   "outputs": [
    {
     "data": {
      "text/plain": [
       "embedTraversalStruct (generic function with 1 method)"
      ]
     },
     "execution_count": 68,
     "metadata": {},
     "output_type": "execute_result"
    }
   ],
   "source": [
    "@inline function embedTraversalStruct(objBody)\n",
    "\tnewObj = Struct()\n",
    "\tnewObj.box = [ [objBody.box[1];zeros(dimadd)],\n",
    "\t\t\t\t   [objBody.box[2];zeros(dimadd)] ]\n",
    "\tnewObj.category = objBody.category\n",
    "\treturn newObj\n",
    "end"
   ]
  },
  {
   "cell_type": "code",
   "execution_count": 85,
   "metadata": {},
   "outputs": [
    {
     "data": {
      "text/plain": [
       "embedTraversal (generic function with 1 method)"
      ]
     },
     "execution_count": 85,
     "metadata": {},
     "output_type": "execute_result"
    }
   ],
   "source": [
    "@inline function embedTraversal(cloned::Lar.Struct,obj::Lar.Struct,n::Int,suffix::String)\n",
    "\tobjBody = obj.body\n",
    "\t@inbounds @async for i=1:length(objBody)\n",
    "\t\tif isa(objBody[i],MMatrix)\n",
    "\t\t\tnewMat = embedTraversalMatrix(objBody[i],n)\n",
    "\t\t\tpush!(cloned.body,[newMat])\n",
    "\t\telseif (isa(objBody[i],Tuple) || isa(objBody[i],Array))\n",
    "\t\t\tif (length(objBody[i])==3)\n",
    "\t\t\t\tV,FV,EV = deepcopy(objBody[i])\n",
    "\t\t\t\tV = embedTraversalTupleOrArray(n,V)\n",
    "\t\t\t\tpush!(cloned.body,[(V,FV,EV)])\n",
    "\t\t\telseif (length(objBody[i])==2)\n",
    "\t\t\t\tV,EV = deepcopy(objBody[i])\n",
    "\t\t\t\tV = embedTraversalTupleOrArray(n,V)\n",
    "\t\t\t\tpush!(cloned.body,[(V,EV)])\n",
    "\t\t\tend\n",
    "\t\telseif isa(objBody[i],Struct)\n",
    "\t\t\tnewObj = embedTraversalStruct(objBody[i])\n",
    "\t\t\tpush!(cloned.body,[embedTraversal(newObj,objBody[i],obj.dim+n,suffix)])\n",
    "\t\tend\n",
    "\tend\n",
    "\treturn cloned\n",
    "end"
   ]
  },
  {
   "cell_type": "code",
   "execution_count": 86,
   "metadata": {},
   "outputs": [
    {
     "name": "stdout",
     "output_type": "stream",
     "text": [
      "  5.300 μs (9 allocations: 1.08 KiB)\n"
     ]
    },
    {
     "data": {
      "text/plain": [
       "LinearAlgebraicRepresentation.Struct(Any[[([0.0 0.0 1.0 1.0; 0.0 1.0 0.0 1.0; 0.0 0.0 0.0 0.0], [[1, 2, 3, 4]])]], Any, \"13823364604560428653\", Any, \"feature\")"
      ]
     },
     "execution_count": 86,
     "metadata": {},
     "output_type": "execute_result"
    }
   ],
   "source": [
    "@btime embedTraversal(Lar.Struct(),x,1,\"New\")"
   ]
  },
  {
   "cell_type": "code",
   "execution_count": 87,
   "metadata": {},
   "outputs": [
    {
     "name": "stdout",
     "output_type": "stream",
     "text": [
      "  5.300 μs (9 allocations: 1.08 KiB)\n"
     ]
    },
    {
     "data": {
      "text/plain": [
       "LinearAlgebraicRepresentation.Struct(Any[[([-0.5 -0.5 0.5 0.5; -0.5 0.5 -0.5 0.5; 0.0 0.0 0.0 0.0], [[1, 2, 3, 4]])], [[6.123233995736766e-17 -1.0 0.0 0.0; 1.0 6.123233995736766e-17 0.0 0.0; 0.0 0.0 1.0 0.0; 0.0 0.0 0.0 1.0]], [([-0.5 -0.5 0.5 0.5; -0.5 0.5 -0.5 0.5; 0.0 0.0 0.0 0.0], [[1, 2, 3, 4]])], [[6.123233995736766e-17 -1.0 0.0 0.0; 1.0 6.123233995736766e-17 0.0 0.0; 0.0 0.0 1.0 0.0; 0.0 0.0 0.0 1.0]]], Any, \"17762258424708736319\", Any, \"feature\")"
      ]
     },
     "execution_count": 87,
     "metadata": {},
     "output_type": "execute_result"
    }
   ],
   "source": [
    "@btime embedTraversal(Lar.Struct(),structure,1,\"New\")"
   ]
  },
  {
   "cell_type": "code",
   "execution_count": null,
   "metadata": {},
   "outputs": [],
   "source": [
    "@benchmark embedTraversal(Lar.Struct(),structure,1,\"New\")"
   ]
  }
 ],
 "metadata": {
  "kernelspec": {
   "display_name": "Julia 1.5.3",
   "language": "julia",
   "name": "julia-1.5"
  },
  "language_info": {
   "file_extension": ".jl",
   "mimetype": "application/julia",
   "name": "julia",
   "version": "1.5.3"
  }
 },
 "nbformat": 4,
 "nbformat_minor": 4
}
