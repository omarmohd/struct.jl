{
 "cells": [
  {
   "cell_type": "code",
   "execution_count": 1,
   "metadata": {},
   "outputs": [
    {
     "data": {
      "text/plain": [
       "LinearAlgebraicRepresentation"
      ]
     },
     "execution_count": 1,
     "metadata": {},
     "output_type": "execute_result"
    }
   ],
   "source": [
    "using BenchmarkTools\n",
    "using LinearAlgebra\n",
    "using LinearAlgebraicRepresentation\n",
    "Lar = LinearAlgebraicRepresentation"
   ]
  },
  {
   "cell_type": "code",
   "execution_count": 2,
   "metadata": {},
   "outputs": [
    {
     "data": {
      "text/plain": [
       "([0.0 0.0 1.0 1.0; 0.0 1.0 0.0 1.0], [[1, 2, 3, 4]])"
      ]
     },
     "execution_count": 2,
     "metadata": {},
     "output_type": "execute_result"
    }
   ],
   "source": [
    "square = Lar.cuboid([1,1])"
   ]
  },
  {
   "cell_type": "code",
   "execution_count": 3,
   "metadata": {},
   "outputs": [
    {
     "data": {
      "text/plain": [
       "([-0.5 -0.5 0.5 0.5; -0.5 0.5 -0.5 0.5], [[1, 2, 3, 4]])"
      ]
     },
     "execution_count": 3,
     "metadata": {},
     "output_type": "execute_result"
    }
   ],
   "source": [
    "table = Lar.apply(Lar.t(-0.5,-0.5),square)"
   ]
  },
  {
   "cell_type": "code",
   "execution_count": 4,
   "metadata": {},
   "outputs": [
    {
     "data": {
      "text/plain": [
       "LinearAlgebraicRepresentation.Struct(Any[([-0.5 -0.5 0.5 0.5; -0.5 0.5 -0.5 0.5], [[1, 2, 3, 4]]), [6.123233995736766e-17 -1.0 0.0; 1.0 6.123233995736766e-17 0.0; 0.0 0.0 1.0], ([-0.5 -0.5 0.5 0.5; -0.5 0.5 -0.5 0.5], [[1, 2, 3, 4]]), [6.123233995736766e-17 -1.0 0.0; 1.0 6.123233995736766e-17 0.0; 0.0 0.0 1.0]], [[-0.5; -0.5], [0.5; 0.5]], \"16799635533390203990\", 2, \"feature\")"
      ]
     },
     "execution_count": 4,
     "metadata": {},
     "output_type": "execute_result"
    }
   ],
   "source": [
    "structure = Lar.Struct([repeat([table,Lar.r(pi/2)],outer=2)...])"
   ]
  },
  {
   "cell_type": "markdown",
   "metadata": {},
   "source": [
    "## Vecchia funzione"
   ]
  },
  {
   "cell_type": "code",
   "execution_count": 5,
   "metadata": {},
   "outputs": [
    {
     "data": {
      "text/plain": [
       "evalStruct (generic function with 1 method)"
      ]
     },
     "execution_count": 5,
     "metadata": {},
     "output_type": "execute_result"
    }
   ],
   "source": [
    "function evalStruct(self::Lar.Struct)\n",
    "\tdim = Lar.checkStruct(self.body)\n",
    "   \tCTM, stack = Matrix{Float64}(LinearAlgebra.I, dim+1, dim+1), []\n",
    "   \tscene = Lar.traversal(CTM, stack, self, [])\n",
    "\treturn scene\n",
    "end"
   ]
  },
  {
   "cell_type": "code",
   "execution_count": 6,
   "metadata": {},
   "outputs": [
    {
     "name": "stdout",
     "output_type": "stream",
     "text": [
      "  8.066 μs (36 allocations: 2.88 KiB)\n"
     ]
    },
    {
     "data": {
      "text/plain": [
       "2-element Array{Any,1}:\n",
       " ([-0.5 -0.5 0.5 0.5; -0.5 0.5 -0.5 0.5], [[1, 2, 3, 4]])\n",
       " ([0.49999999999999994 -0.5 0.5 -0.49999999999999994; -0.5 -0.49999999999999994 0.49999999999999994 0.5], [[1, 2, 3, 4]])"
      ]
     },
     "execution_count": 6,
     "metadata": {},
     "output_type": "execute_result"
    }
   ],
   "source": [
    "@btime evalStruct(structure)"
   ]
  },
  {
   "cell_type": "code",
   "execution_count": 7,
   "metadata": {},
   "outputs": [
    {
     "data": {
      "text/plain": [
       "BenchmarkTools.Trial: \n",
       "  memory estimate:  2.88 KiB\n",
       "  allocs estimate:  36\n",
       "  --------------\n",
       "  minimum time:     8.000 μs (0.00% GC)\n",
       "  median time:      9.833 μs (0.00% GC)\n",
       "  mean time:        10.655 μs (1.42% GC)\n",
       "  maximum time:     1.539 ms (98.32% GC)\n",
       "  --------------\n",
       "  samples:          10000\n",
       "  evals/sample:     3"
      ]
     },
     "execution_count": 7,
     "metadata": {},
     "output_type": "execute_result"
    }
   ],
   "source": [
    "@benchmark evalStruct(structure)"
   ]
  },
  {
   "cell_type": "code",
   "execution_count": 8,
   "metadata": {},
   "outputs": [
    {
     "name": "stdout",
     "output_type": "stream",
     "text": [
      "Variables\n",
      "  #self#\u001b[36m::Core.Compiler.Const(evalStruct, false)\u001b[39m\n",
      "  self\u001b[36m::LinearAlgebraicRepresentation.Struct\u001b[39m\n",
      "  dim\u001b[91m\u001b[1m::Any\u001b[22m\u001b[39m\n",
      "  CTM\u001b[36m::Array{Float64,2}\u001b[39m\n",
      "  stack\u001b[36m::Array{Any,1}\u001b[39m\n",
      "  scene\u001b[91m\u001b[1m::Any\u001b[22m\u001b[39m\n",
      "\n",
      "Body\u001b[91m\u001b[1m::Any\u001b[22m\u001b[39m\n",
      "\u001b[90m1 ─\u001b[39m %1  = Base.getproperty(Main.Lar, :checkStruct)\u001b[91m\u001b[1m::Any\u001b[22m\u001b[39m\n",
      "\u001b[90m│  \u001b[39m %2  = Base.getproperty(self, :body)\u001b[91m\u001b[1m::Array\u001b[22m\u001b[39m\n",
      "\u001b[90m│  \u001b[39m       (dim = (%1)(%2))\n",
      "\u001b[90m│  \u001b[39m %4  = Core.apply_type(Main.Matrix, Main.Float64)\u001b[36m::Core.Compiler.Const(Array{Float64,2}, false)\u001b[39m\n",
      "\u001b[90m│  \u001b[39m %5  = LinearAlgebra.I\u001b[36m::Core.Compiler.Const(UniformScaling{Bool}(true), false)\u001b[39m\n",
      "\u001b[90m│  \u001b[39m %6  = (dim + 1)\u001b[91m\u001b[1m::Any\u001b[22m\u001b[39m\n",
      "\u001b[90m│  \u001b[39m %7  = (dim + 1)\u001b[91m\u001b[1m::Any\u001b[22m\u001b[39m\n",
      "\u001b[90m│  \u001b[39m %8  = (%4)(%5, %6, %7)\u001b[36m::Array{Float64,2}\u001b[39m\n",
      "\u001b[90m│  \u001b[39m %9  = Base.vect()\u001b[36m::Array{Any,1}\u001b[39m\n",
      "\u001b[90m│  \u001b[39m       (CTM = %8)\n",
      "\u001b[90m│  \u001b[39m       (stack = %9)\n",
      "\u001b[90m│  \u001b[39m %12 = Base.getproperty(Main.Lar, :traversal)\u001b[91m\u001b[1m::Any\u001b[22m\u001b[39m\n",
      "\u001b[90m│  \u001b[39m %13 = CTM\u001b[36m::Array{Float64,2}\u001b[39m\n",
      "\u001b[90m│  \u001b[39m %14 = stack\u001b[36m::Array{Any,1}\u001b[39m\n",
      "\u001b[90m│  \u001b[39m %15 = Base.vect()\u001b[36m::Array{Any,1}\u001b[39m\n",
      "\u001b[90m│  \u001b[39m       (scene = (%12)(%13, %14, self, %15))\n",
      "\u001b[90m└──\u001b[39m       return scene\n"
     ]
    }
   ],
   "source": [
    "@code_warntype evalStruct(structure)"
   ]
  },
  {
   "cell_type": "markdown",
   "metadata": {},
   "source": [
    "## Modifiche"
   ]
  },
  {
   "cell_type": "code",
   "execution_count": 40,
   "metadata": {},
   "outputs": [
    {
     "data": {
      "text/plain": [
       "evalStruct (generic function with 2 methods)"
      ]
     },
     "execution_count": 40,
     "metadata": {},
     "output_type": "execute_result"
    }
   ],
   "source": [
    "function evalStruct(self::Lar.Struct)\n",
    "\tdim::Int = Lar.checkStruct(self.body)\n",
    "\tCTM = Matrix{Float64}(LinearAlgebra.I, dim+1, dim+1)\n",
    "\treturn Lar.traversal(CTM, [], self, [])\n",
    "end"
   ]
  },
  {
   "cell_type": "code",
   "execution_count": 41,
   "metadata": {},
   "outputs": [
    {
     "name": "stdout",
     "output_type": "stream",
     "text": [
      "  7.725 μs (36 allocations: 2.88 KiB)\n"
     ]
    },
    {
     "data": {
      "text/plain": [
       "2-element Array{Any,1}:\n",
       " ([-0.5 -0.5 0.5 0.5; -0.5 0.5 -0.5 0.5], [[1, 2, 3, 4]])\n",
       " ([0.49999999999999994 -0.5 0.5 -0.49999999999999994; -0.5 -0.49999999999999994 0.49999999999999994 0.5], [[1, 2, 3, 4]])"
      ]
     },
     "execution_count": 41,
     "metadata": {},
     "output_type": "execute_result"
    }
   ],
   "source": [
    "@btime evalStruct(structure)"
   ]
  },
  {
   "cell_type": "code",
   "execution_count": 42,
   "metadata": {},
   "outputs": [
    {
     "name": "stdout",
     "output_type": "stream",
     "text": [
      "Variables\n",
      "  #self#\u001b[36m::Core.Compiler.Const(evalStruct, false)\u001b[39m\n",
      "  self\u001b[36m::LinearAlgebraicRepresentation.Struct\u001b[39m\n",
      "  dim\u001b[36m::Int64\u001b[39m\n",
      "  CTM\u001b[36m::Array{Float64,2}\u001b[39m\n",
      "\n",
      "Body\u001b[91m\u001b[1m::Any\u001b[22m\u001b[39m\n",
      "\u001b[90m1 ─\u001b[39m %1  = Base.getproperty(Main.Lar, :checkStruct)\u001b[91m\u001b[1m::Any\u001b[22m\u001b[39m\n",
      "\u001b[90m│  \u001b[39m %2  = Base.getproperty(self, :body)\u001b[91m\u001b[1m::Array\u001b[22m\u001b[39m\n",
      "\u001b[90m│  \u001b[39m %3  = (%1)(%2)\u001b[91m\u001b[1m::Any\u001b[22m\u001b[39m\n",
      "\u001b[90m│  \u001b[39m %4  = Base.convert(Main.Int, %3)\u001b[91m\u001b[1m::Any\u001b[22m\u001b[39m\n",
      "\u001b[90m│  \u001b[39m       (dim = Core.typeassert(%4, Main.Int))\n",
      "\u001b[90m│  \u001b[39m %6  = Core.apply_type(Main.Matrix, Main.Float64)\u001b[36m::Core.Compiler.Const(Array{Float64,2}, false)\u001b[39m\n",
      "\u001b[90m│  \u001b[39m %7  = LinearAlgebra.I\u001b[36m::Core.Compiler.Const(UniformScaling{Bool}(true), false)\u001b[39m\n",
      "\u001b[90m│  \u001b[39m %8  = (dim + 1)\u001b[36m::Int64\u001b[39m\n",
      "\u001b[90m│  \u001b[39m %9  = (dim + 1)\u001b[36m::Int64\u001b[39m\n",
      "\u001b[90m│  \u001b[39m       (CTM = (%6)(%7, %8, %9))\n",
      "\u001b[90m│  \u001b[39m %11 = Base.getproperty(Main.Lar, :traversal)\u001b[91m\u001b[1m::Any\u001b[22m\u001b[39m\n",
      "\u001b[90m│  \u001b[39m %12 = CTM\u001b[36m::Array{Float64,2}\u001b[39m\n",
      "\u001b[90m│  \u001b[39m %13 = Base.vect()\u001b[36m::Array{Any,1}\u001b[39m\n",
      "\u001b[90m│  \u001b[39m %14 = Base.vect()\u001b[36m::Array{Any,1}\u001b[39m\n",
      "\u001b[90m│  \u001b[39m %15 = (%11)(%12, %13, self, %14)\u001b[91m\u001b[1m::Any\u001b[22m\u001b[39m\n",
      "\u001b[90m└──\u001b[39m       return %15\n"
     ]
    }
   ],
   "source": [
    "@code_warntype evalStruct(structure)"
   ]
  },
  {
   "cell_type": "code",
   "execution_count": null,
   "metadata": {},
   "outputs": [],
   "source": []
  }
 ],
 "metadata": {
  "kernelspec": {
   "display_name": "Julia 1.5.3",
   "language": "julia",
   "name": "julia-1.5"
  },
  "language_info": {
   "file_extension": ".jl",
   "mimetype": "application/julia",
   "name": "julia",
   "version": "1.5.3"
  }
 },
 "nbformat": 4,
 "nbformat_minor": 4
}
