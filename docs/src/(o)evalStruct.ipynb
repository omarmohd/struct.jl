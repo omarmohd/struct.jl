{
 "cells": [
  {
   "cell_type": "code",
   "execution_count": 1,
   "metadata": {},
   "outputs": [
    {
     "data": {
      "text/plain": [
       "LinearAlgebraicRepresentation"
      ]
     },
     "execution_count": 1,
     "metadata": {},
     "output_type": "execute_result"
    }
   ],
   "source": [
    "using BenchmarkTools\n",
    "using StaticArrays\n",
    "using LinearAlgebra\n",
    "using LinearAlgebraicRepresentation\n",
    "Lar = LinearAlgebraicRepresentation"
   ]
  },
  {
   "cell_type": "code",
   "execution_count": 2,
   "metadata": {},
   "outputs": [
    {
     "data": {
      "text/plain": [
       "([0.0 0.0 1.0 1.0; 0.0 1.0 0.0 1.0], [[1, 2, 3, 4]])"
      ]
     },
     "execution_count": 2,
     "metadata": {},
     "output_type": "execute_result"
    }
   ],
   "source": [
    "square = Lar.cuboid([1,1])"
   ]
  },
  {
   "cell_type": "code",
   "execution_count": 3,
   "metadata": {},
   "outputs": [
    {
     "data": {
      "text/plain": [
       "([-0.5 -0.5 0.5 0.5; -0.5 0.5 -0.5 0.5], [[1, 2, 3, 4]])"
      ]
     },
     "execution_count": 3,
     "metadata": {},
     "output_type": "execute_result"
    }
   ],
   "source": [
    "table = Lar.apply(Lar.t(-0.5,-0.5),square)"
   ]
  },
  {
   "cell_type": "code",
   "execution_count": 4,
   "metadata": {},
   "outputs": [
    {
     "data": {
      "text/plain": [
       "LinearAlgebraicRepresentation.Struct(Any[([-0.5 -0.5 0.5 0.5; -0.5 0.5 -0.5 0.5], [[1, 2, 3, 4]]), [6.123233995736766e-17 -1.0 0.0; 1.0 6.123233995736766e-17 0.0; 0.0 0.0 1.0], ([-0.5 -0.5 0.5 0.5; -0.5 0.5 -0.5 0.5], [[1, 2, 3, 4]]), [6.123233995736766e-17 -1.0 0.0; 1.0 6.123233995736766e-17 0.0; 0.0 0.0 1.0]], [[-0.5; -0.5], [0.5; 0.5]], \"2768192252143860608\", 2, \"feature\")"
      ]
     },
     "execution_count": 4,
     "metadata": {},
     "output_type": "execute_result"
    }
   ],
   "source": [
    "structure = Lar.Struct([repeat([table,Lar.r(pi/2)],outer=2)...])"
   ]
  },
  {
   "cell_type": "markdown",
   "metadata": {},
   "source": [
    "## Vecchia funzione"
   ]
  },
  {
   "cell_type": "code",
   "execution_count": 5,
   "metadata": {},
   "outputs": [
    {
     "data": {
      "text/plain": [
       "evalStruct (generic function with 1 method)"
      ]
     },
     "execution_count": 5,
     "metadata": {},
     "output_type": "execute_result"
    }
   ],
   "source": [
    "function evalStruct(self::Lar.Struct)\n",
    "\tdim = Lar.checkStruct(self.body)\n",
    "   \tCTM, stack = Matrix{Float64}(LinearAlgebra.I, dim+1, dim+1), []\n",
    "   \tscene = Lar.traversal(CTM, stack, self, [])\n",
    "\treturn scene\n",
    "end"
   ]
  },
  {
   "cell_type": "code",
   "execution_count": 6,
   "metadata": {},
   "outputs": [
    {
     "name": "stdout",
     "output_type": "stream",
     "text": [
      "  11.799 μs (36 allocations: 2.88 KiB)\n"
     ]
    },
    {
     "data": {
      "text/plain": [
       "2-element Array{Any,1}:\n",
       " ([-0.5 -0.5 0.5 0.5; -0.5 0.5 -0.5 0.5], [[1, 2, 3, 4]])\n",
       " ([0.49999999999999994 -0.5 0.5 -0.49999999999999994; -0.5 -0.49999999999999994 0.49999999999999994 0.5], [[1, 2, 3, 4]])"
      ]
     },
     "execution_count": 6,
     "metadata": {},
     "output_type": "execute_result"
    }
   ],
   "source": [
    "@btime evalStruct(structure)"
   ]
  },
  {
   "cell_type": "code",
   "execution_count": 7,
   "metadata": {},
   "outputs": [
    {
     "name": "stdout",
     "output_type": "stream",
     "text": [
      "\n",
      ";  @ In[5]:1 within `evalStruct'\n",
      "; Function Attrs: uwtable\n",
      "define nonnull %jl_value_t* @japi1_evalStruct_2169(%jl_value_t*, %jl_value_t**, i32) #0 {\n",
      "top:\n",
      "  %3 = alloca %jl_value_t*, i32 4\n",
      "  %gcframe = alloca %jl_value_t*, i32 6, align 16\n",
      "  %4 = bitcast %jl_value_t** %gcframe to i8*\n",
      "  call void @llvm.memset.p0i8.i32(i8* align 16 %4, i8 0, i32 48, i1 false)\n",
      "  %5 = alloca %jl_value_t**, align 8\n",
      "  store volatile %jl_value_t** %1, %jl_value_t*** %5, align 8\n",
      "  %6 = call %jl_value_t*** inttoptr (i64 1761836128 to %jl_value_t*** ()*)() #5\n",
      "  %7 = getelementptr %jl_value_t*, %jl_value_t** %gcframe, i32 0\n",
      "  %8 = bitcast %jl_value_t** %7 to i64*\n",
      "  store i64 16, i64* %8\n",
      "  %9 = getelementptr %jl_value_t**, %jl_value_t*** %6, i32 0\n",
      "  %10 = getelementptr %jl_value_t*, %jl_value_t** %gcframe, i32 1\n",
      "  %11 = bitcast %jl_value_t** %10 to %jl_value_t***\n",
      "  %12 = load %jl_value_t**, %jl_value_t*** %9\n",
      "  store %jl_value_t** %12, %jl_value_t*** %11\n",
      "  %13 = bitcast %jl_value_t*** %9 to %jl_value_t***\n",
      "  store %jl_value_t** %gcframe, %jl_value_t*** %13\n",
      "  %14 = load %jl_value_t*, %jl_value_t** %1, align 8\n",
      ";  @ In[5]:2 within `evalStruct'\n",
      "  %15 = load %jl_value_t*, %jl_value_t** inttoptr (i64 909456056 to %jl_value_t**), align 8\n",
      "  %16 = getelementptr %jl_value_t*, %jl_value_t** %gcframe, i32 2\n",
      "  store %jl_value_t* %15, %jl_value_t** %16\n",
      "  %17 = getelementptr %jl_value_t*, %jl_value_t** %3, i32 0\n",
      "  store %jl_value_t* %15, %jl_value_t** %17\n",
      "  %18 = getelementptr %jl_value_t*, %jl_value_t** %3, i32 1\n",
      "  store %jl_value_t* inttoptr (i64 138863928 to %jl_value_t*), %jl_value_t** %18\n",
      "  %19 = call nonnull %jl_value_t* @jl_apply_generic(%jl_value_t* inttoptr (i64 206111312 to %jl_value_t*), %jl_value_t** %3, i32 2)\n",
      "; ┌ @ Base.jl:33 within `getproperty'\n",
      "   %20 = bitcast %jl_value_t* %14 to %jl_value_t**\n",
      "   %21 = load %jl_value_t*, %jl_value_t** %20, align 8\n",
      "   %22 = getelementptr %jl_value_t*, %jl_value_t** %gcframe, i32 3\n",
      "   store %jl_value_t* %19, %jl_value_t** %22\n",
      "   %23 = getelementptr %jl_value_t*, %jl_value_t** %gcframe, i32 2\n",
      "   store %jl_value_t* %21, %jl_value_t** %23\n",
      "; └\n",
      "  %24 = getelementptr %jl_value_t*, %jl_value_t** %3, i32 0\n",
      "  store %jl_value_t* %21, %jl_value_t** %24\n",
      "  %25 = call nonnull %jl_value_t* @jl_apply_generic(%jl_value_t* %19, %jl_value_t** %3, i32 1)\n",
      "  %26 = getelementptr %jl_value_t*, %jl_value_t** %gcframe, i32 2\n",
      "  store %jl_value_t* %25, %jl_value_t** %26\n",
      ";  @ In[5]:3 within `evalStruct'\n",
      "  %27 = getelementptr %jl_value_t*, %jl_value_t** %3, i32 0\n",
      "  store %jl_value_t* %25, %jl_value_t** %27\n",
      "  %28 = getelementptr %jl_value_t*, %jl_value_t** %3, i32 1\n",
      "  store %jl_value_t* inttoptr (i64 137199712 to %jl_value_t*), %jl_value_t** %28\n",
      "  %29 = call nonnull %jl_value_t* @jl_apply_generic(%jl_value_t* inttoptr (i64 194057248 to %jl_value_t*), %jl_value_t** %3, i32 2)\n",
      "  %30 = getelementptr %jl_value_t*, %jl_value_t** %gcframe, i32 3\n",
      "  store %jl_value_t* %29, %jl_value_t** %30\n",
      "  %31 = getelementptr %jl_value_t*, %jl_value_t** %3, i32 0\n",
      "  store %jl_value_t* %25, %jl_value_t** %31\n",
      "  %32 = getelementptr %jl_value_t*, %jl_value_t** %3, i32 1\n",
      "  store %jl_value_t* inttoptr (i64 137199712 to %jl_value_t*), %jl_value_t** %32\n",
      "  %33 = call nonnull %jl_value_t* @jl_apply_generic(%jl_value_t* inttoptr (i64 194057248 to %jl_value_t*), %jl_value_t** %3, i32 2)\n",
      "  %34 = getelementptr %jl_value_t*, %jl_value_t** %gcframe, i32 2\n",
      "  store %jl_value_t* %33, %jl_value_t** %34\n",
      "  %35 = getelementptr %jl_value_t*, %jl_value_t** %3, i32 0\n",
      "  store %jl_value_t* inttoptr (i64 213724496 to %jl_value_t*), %jl_value_t** %35\n",
      "  %36 = getelementptr %jl_value_t*, %jl_value_t** %3, i32 1\n",
      "  store %jl_value_t* %29, %jl_value_t** %36\n",
      "  %37 = getelementptr %jl_value_t*, %jl_value_t** %3, i32 2\n",
      "  store %jl_value_t* %33, %jl_value_t** %37\n",
      "  %38 = call nonnull %jl_value_t* @jl_apply_generic(%jl_value_t* inttoptr (i64 166297264 to %jl_value_t*), %jl_value_t** %3, i32 3)\n",
      "  %39 = getelementptr %jl_value_t*, %jl_value_t** %gcframe, i32 4\n",
      "  store %jl_value_t* %38, %jl_value_t** %39\n",
      "; ┌ @ array.jl:129 within `vect'\n",
      "; │┌ @ boot.jl:425 within `Array' @ boot.jl:406\n",
      "    %40 = call %jl_value_t* inttoptr (i64 1761678672 to %jl_value_t* (%jl_value_t*, i64)*)(%jl_value_t* inttoptr (i64 161063472 to %jl_value_t*), i64 0)\n",
      "; └└\n",
      ";  @ In[5]:4 within `evalStruct'\n",
      "  %41 = load %jl_value_t*, %jl_value_t** inttoptr (i64 909456056 to %jl_value_t**), align 8\n",
      "  %42 = getelementptr %jl_value_t*, %jl_value_t** %gcframe, i32 3\n",
      "  store %jl_value_t* %40, %jl_value_t** %42\n",
      "  %43 = getelementptr %jl_value_t*, %jl_value_t** %gcframe, i32 2\n",
      "  store %jl_value_t* %41, %jl_value_t** %43\n",
      "  %44 = getelementptr %jl_value_t*, %jl_value_t** %3, i32 0\n",
      "  store %jl_value_t* %41, %jl_value_t** %44\n",
      "  %45 = getelementptr %jl_value_t*, %jl_value_t** %3, i32 1\n",
      "  store %jl_value_t* inttoptr (i64 138866416 to %jl_value_t*), %jl_value_t** %45\n",
      "  %46 = call nonnull %jl_value_t* @jl_apply_generic(%jl_value_t* inttoptr (i64 206111312 to %jl_value_t*), %jl_value_t** %3, i32 2)\n",
      "  %47 = getelementptr %jl_value_t*, %jl_value_t** %gcframe, i32 5\n",
      "  store %jl_value_t* %46, %jl_value_t** %47\n",
      "; ┌ @ array.jl:129 within `vect'\n",
      "; │┌ @ boot.jl:425 within `Array' @ boot.jl:406\n",
      "    %48 = call %jl_value_t* inttoptr (i64 1761678672 to %jl_value_t* (%jl_value_t*, i64)*)(%jl_value_t* inttoptr (i64 161063472 to %jl_value_t*), i64 0)\n",
      "    %49 = getelementptr %jl_value_t*, %jl_value_t** %gcframe, i32 2\n",
      "    store %jl_value_t* %48, %jl_value_t** %49\n",
      "; └└\n",
      "  %50 = getelementptr %jl_value_t*, %jl_value_t** %3, i32 0\n",
      "  store %jl_value_t* %38, %jl_value_t** %50\n",
      "  %51 = getelementptr %jl_value_t*, %jl_value_t** %3, i32 1\n",
      "  store %jl_value_t* %40, %jl_value_t** %51\n",
      "  %52 = getelementptr %jl_value_t*, %jl_value_t** %3, i32 2\n",
      "  store %jl_value_t* %14, %jl_value_t** %52\n",
      "  %53 = getelementptr %jl_value_t*, %jl_value_t** %3, i32 3\n",
      "  store %jl_value_t* %48, %jl_value_t** %53\n",
      "  %54 = call nonnull %jl_value_t* @jl_apply_generic(%jl_value_t* %46, %jl_value_t** %3, i32 4)\n",
      "  %55 = getelementptr %jl_value_t*, %jl_value_t** %gcframe, i32 1\n",
      "  %56 = load %jl_value_t*, %jl_value_t** %55\n",
      "  %57 = getelementptr %jl_value_t**, %jl_value_t*** %6, i32 0\n",
      "  %58 = bitcast %jl_value_t*** %57 to %jl_value_t**\n",
      "  store %jl_value_t* %56, %jl_value_t** %58\n",
      ";  @ In[5]:5 within `evalStruct'\n",
      "  ret %jl_value_t* %54\n",
      "}\n"
     ]
    }
   ],
   "source": [
    "@code_llvm evalStruct(structure)"
   ]
  },
  {
   "cell_type": "code",
   "execution_count": 8,
   "metadata": {},
   "outputs": [
    {
     "data": {
      "text/plain": [
       "BenchmarkTools.Trial: \n",
       "  memory estimate:  2.88 KiB\n",
       "  allocs estimate:  36\n",
       "  --------------\n",
       "  minimum time:     8.099 μs (0.00% GC)\n",
       "  median time:      16.100 μs (0.00% GC)\n",
       "  mean time:        18.822 μs (0.00% GC)\n",
       "  maximum time:     295.300 μs (0.00% GC)\n",
       "  --------------\n",
       "  samples:          10000\n",
       "  evals/sample:     1"
      ]
     },
     "execution_count": 8,
     "metadata": {},
     "output_type": "execute_result"
    }
   ],
   "source": [
    "@benchmark evalStruct(structure)"
   ]
  },
  {
   "cell_type": "markdown",
   "metadata": {},
   "source": [
    "## Modifiche"
   ]
  },
  {
   "cell_type": "code",
   "execution_count": 9,
   "metadata": {},
   "outputs": [
    {
     "data": {
      "text/plain": [
       "evalStruct (generic function with 2 methods)"
      ]
     },
     "execution_count": 9,
     "metadata": {},
     "output_type": "execute_result"
    }
   ],
   "source": [
    "function evalStruct(self)\n",
    "\tdim::Int = Lar.checkStruct(self.body)\n",
    "\tCTM = Matrix{Float64}(LinearAlgebra.I, dim+1, dim+1)\n",
    "\treturn Lar.traversal(CTM, [], self, [])\n",
    "end"
   ]
  },
  {
   "cell_type": "code",
   "execution_count": 10,
   "metadata": {},
   "outputs": [
    {
     "name": "stdout",
     "output_type": "stream",
     "text": [
      "  7.850 μs (36 allocations: 2.88 KiB)\n"
     ]
    },
    {
     "data": {
      "text/plain": [
       "2-element Array{Any,1}:\n",
       " ([-0.5 -0.5 0.5 0.5; -0.5 0.5 -0.5 0.5], [[1, 2, 3, 4]])\n",
       " ([0.49999999999999994 -0.5 0.5 -0.49999999999999994; -0.5 -0.49999999999999994 0.49999999999999994 0.5], [[1, 2, 3, 4]])"
      ]
     },
     "execution_count": 10,
     "metadata": {},
     "output_type": "execute_result"
    }
   ],
   "source": [
    "@btime evalStruct(structure)"
   ]
  },
  {
   "cell_type": "code",
   "execution_count": 11,
   "metadata": {},
   "outputs": [
    {
     "data": {
      "text/plain": [
       "CodeInfo(\n",
       "\u001b[90m1 ─\u001b[39m %1  = Base.getproperty(Main.Lar, :checkStruct)\u001b[36m::Any\u001b[39m\n",
       "\u001b[90m│  \u001b[39m %2  = Base.getfield(self, :body)\u001b[36m::Array\u001b[39m\n",
       "\u001b[90m│  \u001b[39m %3  = (%1)(%2)\u001b[36m::Any\u001b[39m\n",
       "\u001b[90m│  \u001b[39m %4  = LinearAlgebra.I\u001b[36m::Core.Compiler.Const(UniformScaling{Bool}(true), false)\u001b[39m\n",
       "\u001b[90m│  \u001b[39m %5  = (%3 + 1)\u001b[36m::Any\u001b[39m\n",
       "\u001b[90m│  \u001b[39m %6  = (%3 + 1)\u001b[36m::Any\u001b[39m\n",
       "\u001b[90m│  \u001b[39m %7  = (Array{Float64,2})(%4, %5, %6)\u001b[36m::Array{Float64,2}\u001b[39m\n",
       "\u001b[90m│  \u001b[39m %8  = $(Expr(:foreigncall, :(:jl_alloc_array_1d), Array{Any,1}, svec(Any, Int64), 0, :(:ccall), Array{Any,1}, 0, 0))\u001b[36m::Array{Any,1}\u001b[39m\n",
       "\u001b[90m│  \u001b[39m %9  = Base.getproperty(Main.Lar, :traversal)\u001b[36m::Any\u001b[39m\n",
       "\u001b[90m│  \u001b[39m %10 = $(Expr(:foreigncall, :(:jl_alloc_array_1d), Array{Any,1}, svec(Any, Int64), 0, :(:ccall), Array{Any,1}, 0, 0))\u001b[36m::Array{Any,1}\u001b[39m\n",
       "\u001b[90m│  \u001b[39m %11 = (%9)(%7, %8, self, %10)\u001b[36m::Any\u001b[39m\n",
       "\u001b[90m└──\u001b[39m       return %11\n",
       ") => Any"
      ]
     },
     "execution_count": 11,
     "metadata": {},
     "output_type": "execute_result"
    }
   ],
   "source": [
    "@code_typed evalStruct(structure)"
   ]
  },
  {
   "cell_type": "code",
   "execution_count": 12,
   "metadata": {},
   "outputs": [
    {
     "name": "stdout",
     "output_type": "stream",
     "text": [
      "\n",
      ";  @ In[5]:1 within `evalStruct'\n",
      "; Function Attrs: uwtable\n",
      "define nonnull %jl_value_t* @japi1_evalStruct_2502(%jl_value_t*, %jl_value_t**, i32) #0 {\n",
      "top:\n",
      "  %3 = alloca %jl_value_t*, i32 4\n",
      "  %gcframe = alloca %jl_value_t*, i32 6, align 16\n",
      "  %4 = bitcast %jl_value_t** %gcframe to i8*\n",
      "  call void @llvm.memset.p0i8.i32(i8* align 16 %4, i8 0, i32 48, i1 false)\n",
      "  %5 = alloca %jl_value_t**, align 8\n",
      "  store volatile %jl_value_t** %1, %jl_value_t*** %5, align 8\n",
      "  %6 = call %jl_value_t*** inttoptr (i64 1761836128 to %jl_value_t*** ()*)() #5\n",
      "  %7 = getelementptr %jl_value_t*, %jl_value_t** %gcframe, i32 0\n",
      "  %8 = bitcast %jl_value_t** %7 to i64*\n",
      "  store i64 16, i64* %8\n",
      "  %9 = getelementptr %jl_value_t**, %jl_value_t*** %6, i32 0\n",
      "  %10 = getelementptr %jl_value_t*, %jl_value_t** %gcframe, i32 1\n",
      "  %11 = bitcast %jl_value_t** %10 to %jl_value_t***\n",
      "  %12 = load %jl_value_t**, %jl_value_t*** %9\n",
      "  store %jl_value_t** %12, %jl_value_t*** %11\n",
      "  %13 = bitcast %jl_value_t*** %9 to %jl_value_t***\n",
      "  store %jl_value_t** %gcframe, %jl_value_t*** %13\n",
      "  %14 = load %jl_value_t*, %jl_value_t** %1, align 8\n",
      ";  @ In[5]:2 within `evalStruct'\n",
      "  %15 = load %jl_value_t*, %jl_value_t** inttoptr (i64 909456056 to %jl_value_t**), align 8\n",
      "  %16 = getelementptr %jl_value_t*, %jl_value_t** %gcframe, i32 2\n",
      "  store %jl_value_t* %15, %jl_value_t** %16\n",
      "  %17 = getelementptr %jl_value_t*, %jl_value_t** %3, i32 0\n",
      "  store %jl_value_t* %15, %jl_value_t** %17\n",
      "  %18 = getelementptr %jl_value_t*, %jl_value_t** %3, i32 1\n",
      "  store %jl_value_t* inttoptr (i64 138863928 to %jl_value_t*), %jl_value_t** %18\n",
      "  %19 = call nonnull %jl_value_t* @jl_apply_generic(%jl_value_t* inttoptr (i64 206111312 to %jl_value_t*), %jl_value_t** %3, i32 2)\n",
      "; ┌ @ Base.jl:33 within `getproperty'\n",
      "   %20 = bitcast %jl_value_t* %14 to %jl_value_t**\n",
      "   %21 = load %jl_value_t*, %jl_value_t** %20, align 8\n",
      "   %22 = getelementptr %jl_value_t*, %jl_value_t** %gcframe, i32 3\n",
      "   store %jl_value_t* %19, %jl_value_t** %22\n",
      "   %23 = getelementptr %jl_value_t*, %jl_value_t** %gcframe, i32 2\n",
      "   store %jl_value_t* %21, %jl_value_t** %23\n",
      "; └\n",
      "  %24 = getelementptr %jl_value_t*, %jl_value_t** %3, i32 0\n",
      "  store %jl_value_t* %21, %jl_value_t** %24\n",
      "  %25 = call nonnull %jl_value_t* @jl_apply_generic(%jl_value_t* %19, %jl_value_t** %3, i32 1)\n",
      "  %26 = getelementptr %jl_value_t*, %jl_value_t** %gcframe, i32 2\n",
      "  store %jl_value_t* %25, %jl_value_t** %26\n",
      ";  @ In[5]:3 within `evalStruct'\n",
      "  %27 = getelementptr %jl_value_t*, %jl_value_t** %3, i32 0\n",
      "  store %jl_value_t* %25, %jl_value_t** %27\n",
      "  %28 = getelementptr %jl_value_t*, %jl_value_t** %3, i32 1\n",
      "  store %jl_value_t* inttoptr (i64 137199712 to %jl_value_t*), %jl_value_t** %28\n",
      "  %29 = call nonnull %jl_value_t* @jl_apply_generic(%jl_value_t* inttoptr (i64 194057248 to %jl_value_t*), %jl_value_t** %3, i32 2)\n",
      "  %30 = getelementptr %jl_value_t*, %jl_value_t** %gcframe, i32 3\n",
      "  store %jl_value_t* %29, %jl_value_t** %30\n",
      "  %31 = getelementptr %jl_value_t*, %jl_value_t** %3, i32 0\n",
      "  store %jl_value_t* %25, %jl_value_t** %31\n",
      "  %32 = getelementptr %jl_value_t*, %jl_value_t** %3, i32 1\n",
      "  store %jl_value_t* inttoptr (i64 137199712 to %jl_value_t*), %jl_value_t** %32\n",
      "  %33 = call nonnull %jl_value_t* @jl_apply_generic(%jl_value_t* inttoptr (i64 194057248 to %jl_value_t*), %jl_value_t** %3, i32 2)\n",
      "  %34 = getelementptr %jl_value_t*, %jl_value_t** %gcframe, i32 2\n",
      "  store %jl_value_t* %33, %jl_value_t** %34\n",
      "  %35 = getelementptr %jl_value_t*, %jl_value_t** %3, i32 0\n",
      "  store %jl_value_t* inttoptr (i64 213724496 to %jl_value_t*), %jl_value_t** %35\n",
      "  %36 = getelementptr %jl_value_t*, %jl_value_t** %3, i32 1\n",
      "  store %jl_value_t* %29, %jl_value_t** %36\n",
      "  %37 = getelementptr %jl_value_t*, %jl_value_t** %3, i32 2\n",
      "  store %jl_value_t* %33, %jl_value_t** %37\n",
      "  %38 = call nonnull %jl_value_t* @jl_apply_generic(%jl_value_t* inttoptr (i64 166297264 to %jl_value_t*), %jl_value_t** %3, i32 3)\n",
      "  %39 = getelementptr %jl_value_t*, %jl_value_t** %gcframe, i32 4\n",
      "  store %jl_value_t* %38, %jl_value_t** %39\n",
      "; ┌ @ array.jl:129 within `vect'\n",
      "; │┌ @ boot.jl:425 within `Array' @ boot.jl:406\n",
      "    %40 = call %jl_value_t* inttoptr (i64 1761678672 to %jl_value_t* (%jl_value_t*, i64)*)(%jl_value_t* inttoptr (i64 161063472 to %jl_value_t*), i64 0)\n",
      "; └└\n",
      ";  @ In[5]:4 within `evalStruct'\n",
      "  %41 = load %jl_value_t*, %jl_value_t** inttoptr (i64 909456056 to %jl_value_t**), align 8\n",
      "  %42 = getelementptr %jl_value_t*, %jl_value_t** %gcframe, i32 3\n",
      "  store %jl_value_t* %40, %jl_value_t** %42\n",
      "  %43 = getelementptr %jl_value_t*, %jl_value_t** %gcframe, i32 2\n",
      "  store %jl_value_t* %41, %jl_value_t** %43\n",
      "  %44 = getelementptr %jl_value_t*, %jl_value_t** %3, i32 0\n",
      "  store %jl_value_t* %41, %jl_value_t** %44\n",
      "  %45 = getelementptr %jl_value_t*, %jl_value_t** %3, i32 1\n",
      "  store %jl_value_t* inttoptr (i64 138866416 to %jl_value_t*), %jl_value_t** %45\n",
      "  %46 = call nonnull %jl_value_t* @jl_apply_generic(%jl_value_t* inttoptr (i64 206111312 to %jl_value_t*), %jl_value_t** %3, i32 2)\n",
      "  %47 = getelementptr %jl_value_t*, %jl_value_t** %gcframe, i32 5\n",
      "  store %jl_value_t* %46, %jl_value_t** %47\n",
      "; ┌ @ array.jl:129 within `vect'\n",
      "; │┌ @ boot.jl:425 within `Array' @ boot.jl:406\n",
      "    %48 = call %jl_value_t* inttoptr (i64 1761678672 to %jl_value_t* (%jl_value_t*, i64)*)(%jl_value_t* inttoptr (i64 161063472 to %jl_value_t*), i64 0)\n",
      "    %49 = getelementptr %jl_value_t*, %jl_value_t** %gcframe, i32 2\n",
      "    store %jl_value_t* %48, %jl_value_t** %49\n",
      "; └└\n",
      "  %50 = getelementptr %jl_value_t*, %jl_value_t** %3, i32 0\n",
      "  store %jl_value_t* %38, %jl_value_t** %50\n",
      "  %51 = getelementptr %jl_value_t*, %jl_value_t** %3, i32 1\n",
      "  store %jl_value_t* %40, %jl_value_t** %51\n",
      "  %52 = getelementptr %jl_value_t*, %jl_value_t** %3, i32 2\n",
      "  store %jl_value_t* %14, %jl_value_t** %52\n",
      "  %53 = getelementptr %jl_value_t*, %jl_value_t** %3, i32 3\n",
      "  store %jl_value_t* %48, %jl_value_t** %53\n",
      "  %54 = call nonnull %jl_value_t* @jl_apply_generic(%jl_value_t* %46, %jl_value_t** %3, i32 4)\n",
      "  %55 = getelementptr %jl_value_t*, %jl_value_t** %gcframe, i32 1\n",
      "  %56 = load %jl_value_t*, %jl_value_t** %55\n",
      "  %57 = getelementptr %jl_value_t**, %jl_value_t*** %6, i32 0\n",
      "  %58 = bitcast %jl_value_t*** %57 to %jl_value_t**\n",
      "  store %jl_value_t* %56, %jl_value_t** %58\n",
      ";  @ In[5]:5 within `evalStruct'\n",
      "  ret %jl_value_t* %54\n",
      "}\n"
     ]
    }
   ],
   "source": [
    "@code_llvm evalStruct(structure)"
   ]
  },
  {
   "cell_type": "code",
   "execution_count": 13,
   "metadata": {},
   "outputs": [
    {
     "data": {
      "text/plain": [
       "BenchmarkTools.Trial: \n",
       "  memory estimate:  2.88 KiB\n",
       "  allocs estimate:  36\n",
       "  --------------\n",
       "  minimum time:     7.625 μs (0.00% GC)\n",
       "  median time:      9.075 μs (0.00% GC)\n",
       "  mean time:        11.159 μs (3.05% GC)\n",
       "  maximum time:     1.853 ms (97.62% GC)\n",
       "  --------------\n",
       "  samples:          10000\n",
       "  evals/sample:     4"
      ]
     },
     "execution_count": 13,
     "metadata": {},
     "output_type": "execute_result"
    }
   ],
   "source": [
    "@benchmark evalStruct(structure)"
   ]
  }
 ],
 "metadata": {
  "kernelspec": {
   "display_name": "Julia 1.5.3",
   "language": "julia",
   "name": "julia-1.5"
  },
  "language_info": {
   "file_extension": ".jl",
   "mimetype": "application/julia",
   "name": "julia",
   "version": "1.5.3"
  }
 },
 "nbformat": 4,
 "nbformat_minor": 4
}
