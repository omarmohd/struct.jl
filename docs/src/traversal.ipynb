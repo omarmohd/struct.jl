{
 "cells": [
  {
   "cell_type": "code",
   "execution_count": 1,
   "metadata": {},
   "outputs": [
    {
     "data": {
      "text/plain": [
       "LinearAlgebraicRepresentation"
      ]
     },
     "execution_count": 1,
     "metadata": {},
     "output_type": "execute_result"
    }
   ],
   "source": [
    "using BenchmarkTools\n",
    "using LinearAlgebra\n",
    "using LinearAlgebraicRepresentation\n",
    "Lar = LinearAlgebraicRepresentation"
   ]
  },
  {
   "cell_type": "code",
   "execution_count": 2,
   "metadata": {},
   "outputs": [
    {
     "data": {
      "text/plain": [
       "([0.0 0.0 1.0 1.0; 0.0 1.0 0.0 1.0], [[1, 2, 3, 4]])"
      ]
     },
     "execution_count": 2,
     "metadata": {},
     "output_type": "execute_result"
    }
   ],
   "source": [
    "square = Lar.cuboid([1,1])"
   ]
  },
  {
   "cell_type": "code",
   "execution_count": 3,
   "metadata": {},
   "outputs": [
    {
     "data": {
      "text/plain": [
       "LinearAlgebraicRepresentation.Struct([([0.0 0.0 1.0 1.0; 0.0 1.0 0.0 1.0], [[1, 2, 3, 4]])], [[0.0; 0.0], [1.0; 1.0]], \"11063126568488847882\", 2, \"feature\")"
      ]
     },
     "execution_count": 3,
     "metadata": {},
     "output_type": "execute_result"
    }
   ],
   "source": [
    "structure = Lar.Struct([square])"
   ]
  },
  {
   "cell_type": "code",
   "execution_count": 4,
   "metadata": {},
   "outputs": [
    {
     "data": {
      "text/plain": [
       "3×3 Array{Float64,2}:\n",
       " 1.0  0.0  0.0\n",
       " 0.0  1.0  0.0\n",
       " 0.0  0.0  1.0"
      ]
     },
     "execution_count": 4,
     "metadata": {},
     "output_type": "execute_result"
    }
   ],
   "source": [
    "mat = Matrix{Float64}(LinearAlgebra.I, 3, 3)"
   ]
  },
  {
   "cell_type": "markdown",
   "metadata": {},
   "source": [
    "## Vecchia funzione"
   ]
  },
  {
   "cell_type": "code",
   "execution_count": 5,
   "metadata": {},
   "outputs": [
    {
     "data": {
      "text/plain": [
       "traversal (generic function with 2 methods)"
      ]
     },
     "execution_count": 5,
     "metadata": {},
     "output_type": "execute_result"
    }
   ],
   "source": [
    "function traversal(CTM::Matrix, stack, obj, scene=[])\n",
    "\tfor i = 1:length(obj.body)\n",
    "\t\tif isa(obj.body[i],Matrix)\n",
    "\t\t\tCTM = CTM*obj.body[i]\n",
    "\t\telseif (isa(obj.body[i],Tuple) || isa(obj.body[i],Array)) && (length(obj.body[i])>=2)\n",
    "\t\t\tl = Lar.apply(CTM, obj.body[i])\n",
    "\t\t\tpush!(scene,l)\n",
    "\t\telseif isa(obj.body[i],Lar.Struct)\n",
    "\t\t\tpush!(stack,CTM)\n",
    "\t\t\tLar.traversal(CTM,stack,obj.body[i],scene)\n",
    "\t\t\tCTM = pop!(stack)\n",
    "\t\tend\n",
    "\tend\n",
    "\treturn scene\n",
    "end"
   ]
  },
  {
   "cell_type": "code",
   "execution_count": 6,
   "metadata": {},
   "outputs": [
    {
     "name": "stdout",
     "output_type": "stream",
     "text": [
      "  2.275 μs (20 allocations: 1.33 KiB)\n"
     ]
    },
    {
     "data": {
      "text/plain": [
       "1-element Array{Any,1}:\n",
       " ([0.0 0.0 1.0 1.0; 0.0 1.0 0.0 1.0], [[1, 2, 3, 4]])"
      ]
     },
     "execution_count": 6,
     "metadata": {},
     "output_type": "execute_result"
    }
   ],
   "source": [
    "@btime traversal(mat,[],structure,[])"
   ]
  },
  {
   "cell_type": "code",
   "execution_count": 7,
   "metadata": {},
   "outputs": [
    {
     "data": {
      "text/plain": [
       "BenchmarkTools.Trial: \n",
       "  memory estimate:  1.33 KiB\n",
       "  allocs estimate:  20\n",
       "  --------------\n",
       "  minimum time:     2.289 μs (0.00% GC)\n",
       "  median time:      5.256 μs (0.00% GC)\n",
       "  mean time:        6.343 μs (2.46% GC)\n",
       "  maximum time:     831.333 μs (98.14% GC)\n",
       "  --------------\n",
       "  samples:          10000\n",
       "  evals/sample:     9"
      ]
     },
     "execution_count": 7,
     "metadata": {},
     "output_type": "execute_result"
    }
   ],
   "source": [
    "@benchmark traversal(mat,[],structure,[])"
   ]
  },
  {
   "cell_type": "code",
   "execution_count": 8,
   "metadata": {},
   "outputs": [
    {
     "name": "stdout",
     "output_type": "stream",
     "text": [
      "Variables\n",
      "  #self#\u001b[36m::Core.Compiler.Const(traversal, false)\u001b[39m\n",
      "  CTM@_2\u001b[36m::Array{Float64,2}\u001b[39m\n",
      "  stack\u001b[36m::Array{Any,1}\u001b[39m\n",
      "  obj\u001b[36m::LinearAlgebraicRepresentation.Struct\u001b[39m\n",
      "  scene\u001b[36m::Array{Any,1}\u001b[39m\n",
      "  @_6\u001b[33m\u001b[1m::Union{Nothing, Tuple{Int64,Int64}}\u001b[22m\u001b[39m\n",
      "  i\u001b[36m::Int64\u001b[39m\n",
      "  l\u001b[91m\u001b[1m::Any\u001b[22m\u001b[39m\n",
      "  CTM@_9\u001b[91m\u001b[1m::Any\u001b[22m\u001b[39m\n",
      "  @_10\u001b[36m::Bool\u001b[39m\n",
      "  @_11\u001b[91m\u001b[1m::Any\u001b[22m\u001b[39m\n",
      "\n",
      "Body\u001b[36m::Array{Any,1}\u001b[39m\n",
      "\u001b[90m1 ──\u001b[39m       (CTM@_9 = CTM@_2)\n",
      "\u001b[90m│   \u001b[39m %2  = Base.getproperty(obj, :body)\u001b[91m\u001b[1m::Array\u001b[22m\u001b[39m\n",
      "\u001b[90m│   \u001b[39m %3  = Main.length(%2)\u001b[36m::Int64\u001b[39m\n",
      "\u001b[90m│   \u001b[39m %4  = (1:%3)\u001b[36m::Core.Compiler.PartialStruct(UnitRange{Int64}, Any[Core.Compiler.Const(1, false), Int64])\u001b[39m\n",
      "\u001b[90m│   \u001b[39m       (@_6 = Base.iterate(%4))\n",
      "\u001b[90m│   \u001b[39m %6  = (@_6 === nothing)\u001b[36m::Bool\u001b[39m\n",
      "\u001b[90m│   \u001b[39m %7  = Base.not_int(%6)\u001b[36m::Bool\u001b[39m\n",
      "\u001b[90m└───\u001b[39m       goto #16 if not %7\n",
      "\u001b[90m2 ┄─\u001b[39m       Core.NewvarNode(:(l))\n",
      "\u001b[90m│   \u001b[39m %10 = @_6::Tuple{Int64,Int64}\u001b[36m::Tuple{Int64,Int64}\u001b[39m\n",
      "\u001b[90m│   \u001b[39m       (i = Core.getfield(%10, 1))\n",
      "\u001b[90m│   \u001b[39m %12 = Core.getfield(%10, 2)\u001b[36m::Int64\u001b[39m\n",
      "\u001b[90m│   \u001b[39m %13 = Base.getproperty(obj, :body)\u001b[91m\u001b[1m::Array\u001b[22m\u001b[39m\n",
      "\u001b[90m│   \u001b[39m %14 = Base.getindex(%13, i)\u001b[91m\u001b[1m::Any\u001b[22m\u001b[39m\n",
      "\u001b[90m│   \u001b[39m %15 = (%14 isa Main.Matrix)\u001b[36m::Bool\u001b[39m\n",
      "\u001b[90m└───\u001b[39m       goto #4 if not %15\n",
      "\u001b[90m3 ──\u001b[39m %17 = CTM@_9\u001b[91m\u001b[1m::Any\u001b[22m\u001b[39m\n",
      "\u001b[90m│   \u001b[39m %18 = Base.getproperty(obj, :body)\u001b[91m\u001b[1m::Array\u001b[22m\u001b[39m\n",
      "\u001b[90m│   \u001b[39m %19 = Base.getindex(%18, i)\u001b[91m\u001b[1m::Any\u001b[22m\u001b[39m\n",
      "\u001b[90m│   \u001b[39m       (CTM@_9 = %17 * %19)\n",
      "\u001b[90m└───\u001b[39m       goto #14\n",
      "\u001b[90m4 ──\u001b[39m %22 = Base.getproperty(obj, :body)\u001b[91m\u001b[1m::Array\u001b[22m\u001b[39m\n",
      "\u001b[90m│   \u001b[39m %23 = Base.getindex(%22, i)\u001b[91m\u001b[1m::Any\u001b[22m\u001b[39m\n",
      "\u001b[90m│   \u001b[39m %24 = (%23 isa Main.Tuple)\u001b[36m::Bool\u001b[39m\n",
      "\u001b[90m└───\u001b[39m       goto #6 if not %24\n",
      "\u001b[90m5 ──\u001b[39m       (@_10 = %24)\n",
      "\u001b[90m└───\u001b[39m       goto #7\n",
      "\u001b[90m6 ──\u001b[39m %28 = Base.getproperty(obj, :body)\u001b[91m\u001b[1m::Array\u001b[22m\u001b[39m\n",
      "\u001b[90m│   \u001b[39m %29 = Base.getindex(%28, i)\u001b[91m\u001b[1m::Any\u001b[22m\u001b[39m\n",
      "\u001b[90m└───\u001b[39m       (@_10 = %29 isa Main.Array)\n",
      "\u001b[90m7 ┄─\u001b[39m       goto #9 if not @_10\n",
      "\u001b[90m8 ──\u001b[39m %32 = Base.getproperty(obj, :body)\u001b[91m\u001b[1m::Array\u001b[22m\u001b[39m\n",
      "\u001b[90m│   \u001b[39m %33 = Base.getindex(%32, i)\u001b[91m\u001b[1m::Any\u001b[22m\u001b[39m\n",
      "\u001b[90m│   \u001b[39m %34 = Main.length(%33)\u001b[91m\u001b[1m::Any\u001b[22m\u001b[39m\n",
      "\u001b[90m│   \u001b[39m       (@_11 = %34 >= 2)\n",
      "\u001b[90m└───\u001b[39m       goto #10\n",
      "\u001b[90m9 ──\u001b[39m       (@_11 = false)\n",
      "\u001b[90m10 ┄\u001b[39m       goto #12 if not @_11\n",
      "\u001b[90m11 ─\u001b[39m %39 = Base.getproperty(Main.Lar, :apply)\u001b[91m\u001b[1m::Any\u001b[22m\u001b[39m\n",
      "\u001b[90m│   \u001b[39m %40 = CTM@_9\u001b[91m\u001b[1m::Any\u001b[22m\u001b[39m\n",
      "\u001b[90m│   \u001b[39m %41 = Base.getproperty(obj, :body)\u001b[91m\u001b[1m::Array\u001b[22m\u001b[39m\n",
      "\u001b[90m│   \u001b[39m %42 = Base.getindex(%41, i)\u001b[91m\u001b[1m::Any\u001b[22m\u001b[39m\n",
      "\u001b[90m│   \u001b[39m       (l = (%39)(%40, %42))\n",
      "\u001b[90m│   \u001b[39m       Main.push!(scene, l)\n",
      "\u001b[90m└───\u001b[39m       goto #14\n",
      "\u001b[90m12 ─\u001b[39m %46 = Base.getproperty(obj, :body)\u001b[91m\u001b[1m::Array\u001b[22m\u001b[39m\n",
      "\u001b[90m│   \u001b[39m %47 = Base.getindex(%46, i)\u001b[91m\u001b[1m::Any\u001b[22m\u001b[39m\n",
      "\u001b[90m│   \u001b[39m %48 = Base.getproperty(Main.Lar, :Struct)\u001b[91m\u001b[1m::Any\u001b[22m\u001b[39m\n",
      "\u001b[90m│   \u001b[39m %49 = (%47 isa %48)\u001b[36m::Bool\u001b[39m\n",
      "\u001b[90m└───\u001b[39m       goto #14 if not %49\n",
      "\u001b[90m13 ─\u001b[39m       Main.push!(stack, CTM@_9)\n",
      "\u001b[90m│   \u001b[39m %52 = Base.getproperty(Main.Lar, :traversal)\u001b[91m\u001b[1m::Any\u001b[22m\u001b[39m\n",
      "\u001b[90m│   \u001b[39m %53 = CTM@_9\u001b[91m\u001b[1m::Any\u001b[22m\u001b[39m\n",
      "\u001b[90m│   \u001b[39m %54 = Base.getproperty(obj, :body)\u001b[91m\u001b[1m::Array\u001b[22m\u001b[39m\n",
      "\u001b[90m│   \u001b[39m %55 = Base.getindex(%54, i)\u001b[91m\u001b[1m::Any\u001b[22m\u001b[39m\n",
      "\u001b[90m│   \u001b[39m       (%52)(%53, stack, %55, scene)\n",
      "\u001b[90m└───\u001b[39m       (CTM@_9 = Main.pop!(stack))\n",
      "\u001b[90m14 ┄\u001b[39m       (@_6 = Base.iterate(%4, %12))\n",
      "\u001b[90m│   \u001b[39m %59 = (@_6 === nothing)\u001b[36m::Bool\u001b[39m\n",
      "\u001b[90m│   \u001b[39m %60 = Base.not_int(%59)\u001b[36m::Bool\u001b[39m\n",
      "\u001b[90m└───\u001b[39m       goto #16 if not %60\n",
      "\u001b[90m15 ─\u001b[39m       goto #2\n",
      "\u001b[90m16 ┄\u001b[39m       return scene\n"
     ]
    }
   ],
   "source": [
    "@code_warntype traversal(mat,[],structure,[])"
   ]
  },
  {
   "cell_type": "markdown",
   "metadata": {},
   "source": [
    "## Modifiche"
   ]
  },
  {
   "cell_type": "code",
   "execution_count": null,
   "metadata": {},
   "outputs": [],
   "source": []
  }
 ],
 "metadata": {
  "kernelspec": {
   "display_name": "Julia 1.5.3",
   "language": "julia",
   "name": "julia-1.5"
  },
  "language_info": {
   "file_extension": ".jl",
   "mimetype": "application/julia",
   "name": "julia",
   "version": "1.5.3"
  }
 },
 "nbformat": 4,
 "nbformat_minor": 4
}
