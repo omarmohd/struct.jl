{
 "cells": [
  {
   "cell_type": "code",
   "execution_count": 1,
   "metadata": {},
   "outputs": [
    {
     "data": {
      "text/plain": [
       "LinearAlgebraicRepresentation"
      ]
     },
     "execution_count": 1,
     "metadata": {},
     "output_type": "execute_result"
    }
   ],
   "source": [
    "using BenchmarkTools\n",
    "using LinearAlgebra\n",
    "using LinearAlgebraicRepresentation\n",
    "Lar = LinearAlgebraicRepresentation"
   ]
  },
  {
   "cell_type": "code",
   "execution_count": 2,
   "metadata": {},
   "outputs": [
    {
     "data": {
      "text/plain": [
       "([0.0 0.0 1.0 1.0; 0.0 1.0 0.0 1.0], [[1, 2, 3, 4]])"
      ]
     },
     "execution_count": 2,
     "metadata": {},
     "output_type": "execute_result"
    }
   ],
   "source": [
    "square = Lar.cuboid([1,1])"
   ]
  },
  {
   "cell_type": "code",
   "execution_count": 3,
   "metadata": {},
   "outputs": [
    {
     "data": {
      "text/plain": [
       "([-0.5 -0.5 0.5 0.5; -0.5 0.5 -0.5 0.5], [[1, 2, 3, 4]])"
      ]
     },
     "execution_count": 3,
     "metadata": {},
     "output_type": "execute_result"
    }
   ],
   "source": [
    "table = Lar.apply(Lar.t(-0.5,-0.5),square)"
   ]
  },
  {
   "cell_type": "code",
   "execution_count": 4,
   "metadata": {},
   "outputs": [
    {
     "data": {
      "text/plain": [
       "LinearAlgebraicRepresentation.Struct(Any[([-0.5 -0.5 0.5 0.5; -0.5 0.5 -0.5 0.5], [[1, 2, 3, 4]]), [6.123233995736766e-17 -1.0 0.0; 1.0 6.123233995736766e-17 0.0; 0.0 0.0 1.0], ([-0.5 -0.5 0.5 0.5; -0.5 0.5 -0.5 0.5], [[1, 2, 3, 4]]), [6.123233995736766e-17 -1.0 0.0; 1.0 6.123233995736766e-17 0.0; 0.0 0.0 1.0]], [[-0.5; -0.5], [0.5; 0.5]], \"6077389562977118231\", 2, \"feature\")"
      ]
     },
     "execution_count": 4,
     "metadata": {},
     "output_type": "execute_result"
    }
   ],
   "source": [
    "structure = Lar.Struct([repeat([table,Lar.r(pi/2)],outer=2)...])"
   ]
  },
  {
   "cell_type": "markdown",
   "metadata": {},
   "source": [
    "## Vecchia funzione"
   ]
  },
  {
   "cell_type": "code",
   "execution_count": 5,
   "metadata": {},
   "outputs": [
    {
     "data": {
      "text/plain": [
       "clone (generic function with 2 methods)"
      ]
     },
     "execution_count": 5,
     "metadata": {},
     "output_type": "execute_result"
    }
   ],
   "source": [
    "function clone(self::Lar.Struct,i=0)\n",
    "\tnewObj = deepcopy(self)\n",
    "\tif i!=0\n",
    "\t\tnewObj.name=\"$(self.name)_$(string(i))\"\n",
    "\tend\n",
    "\treturn newObj\n",
    "end"
   ]
  },
  {
   "cell_type": "code",
   "execution_count": 6,
   "metadata": {},
   "outputs": [
    {
     "name": "stdout",
     "output_type": "stream",
     "text": [
      "  5.360 μs (15 allocations: 1.44 KiB)\n"
     ]
    },
    {
     "data": {
      "text/plain": [
       "LinearAlgebraicRepresentation.Struct(Any[([-0.5 -0.5 0.5 0.5; -0.5 0.5 -0.5 0.5], [[1, 2, 3, 4]]), [6.123233995736766e-17 -1.0 0.0; 1.0 6.123233995736766e-17 0.0; 0.0 0.0 1.0], ([-0.5 -0.5 0.5 0.5; -0.5 0.5 -0.5 0.5], [[1, 2, 3, 4]]), [6.123233995736766e-17 -1.0 0.0; 1.0 6.123233995736766e-17 0.0; 0.0 0.0 1.0]], [[-0.5; -0.5], [0.5; 0.5]], \"6077389562977118231\", 2, \"feature\")"
      ]
     },
     "execution_count": 6,
     "metadata": {},
     "output_type": "execute_result"
    }
   ],
   "source": [
    "@btime clone(structure)"
   ]
  },
  {
   "cell_type": "code",
   "execution_count": 7,
   "metadata": {},
   "outputs": [
    {
     "data": {
      "text/plain": [
       "CodeInfo(\n",
       "\u001b[90m1 ─\u001b[39m %1 = invoke #self#(_2::LinearAlgebraicRepresentation.Struct, 0::Int64)\u001b[36m::LinearAlgebraicRepresentation.Struct\u001b[39m\n",
       "\u001b[90m└──\u001b[39m      return %1\n",
       ") => LinearAlgebraicRepresentation.Struct"
      ]
     },
     "execution_count": 7,
     "metadata": {},
     "output_type": "execute_result"
    }
   ],
   "source": [
    "@code_typed clone(structure)"
   ]
  },
  {
   "cell_type": "code",
   "execution_count": 8,
   "metadata": {},
   "outputs": [
    {
     "name": "stdout",
     "output_type": "stream",
     "text": [
      "Variables\n",
      "  #self#\u001b[36m::Core.Compiler.Const(clone, false)\u001b[39m\n",
      "  self\u001b[36m::LinearAlgebraicRepresentation.Struct\u001b[39m\n",
      "\n",
      "Body\u001b[36m::LinearAlgebraicRepresentation.Struct\u001b[39m\n",
      "\u001b[90m1 ─\u001b[39m %1 = (#self#)(self, 0)\u001b[36m::LinearAlgebraicRepresentation.Struct\u001b[39m\n",
      "\u001b[90m└──\u001b[39m      return %1\n"
     ]
    }
   ],
   "source": [
    "@code_warntype clone(structure)"
   ]
  },
  {
   "cell_type": "code",
   "execution_count": 9,
   "metadata": {},
   "outputs": [
    {
     "name": "stdout",
     "output_type": "stream",
     "text": [
      "\n",
      ";  @ In[5]:1 within `clone'\n",
      "; Function Attrs: uwtable\n",
      "define nonnull %jl_value_t* @japi1_clone_2414(%jl_value_t*, %jl_value_t**, i32) #0 {\n",
      "top:\n",
      "  %3 = alloca %jl_value_t**, align 8\n",
      "  store volatile %jl_value_t** %1, %jl_value_t*** %3, align 8\n",
      "  %4 = load %jl_value_t*, %jl_value_t** %1, align 8\n",
      ";  @ In[5]:2 within `clone'\n",
      "  %5 = call nonnull %jl_value_t* @j_clone_2415(%jl_value_t* nonnull %4, i64 0) #1\n",
      "  ret %jl_value_t* %5\n",
      "}\n"
     ]
    }
   ],
   "source": [
    "@code_llvm clone(structure)"
   ]
  },
  {
   "cell_type": "code",
   "execution_count": 10,
   "metadata": {},
   "outputs": [
    {
     "data": {
      "text/plain": [
       "BenchmarkTools.Trial: \n",
       "  memory estimate:  1.44 KiB\n",
       "  allocs estimate:  15\n",
       "  --------------\n",
       "  minimum time:     3.300 μs (0.00% GC)\n",
       "  median time:      10.100 μs (0.00% GC)\n",
       "  mean time:        11.880 μs (2.21% GC)\n",
       "  maximum time:     5.578 ms (0.00% GC)\n",
       "  --------------\n",
       "  samples:          10000\n",
       "  evals/sample:     8"
      ]
     },
     "execution_count": 10,
     "metadata": {},
     "output_type": "execute_result"
    }
   ],
   "source": [
    "@benchmark clone(structure)"
   ]
  },
  {
   "cell_type": "markdown",
   "metadata": {},
   "source": [
    "## Modifiche"
   ]
  },
  {
   "cell_type": "code",
   "execution_count": 11,
   "metadata": {},
   "outputs": [
    {
     "data": {
      "text/plain": [
       "clone (generic function with 2 methods)"
      ]
     },
     "execution_count": 11,
     "metadata": {},
     "output_type": "execute_result"
    }
   ],
   "source": [
    "function clone(self::Lar.Struct,i)\n",
    "\tnewObj = deepcopy(self)\n",
    "\tif i!=0\n",
    "\t\tnewObj.name=\"$(self.name)_$(string(i))\"\n",
    "\tend\n",
    "\treturn newObj\n",
    "end"
   ]
  },
  {
   "cell_type": "code",
   "execution_count": 12,
   "metadata": {},
   "outputs": [
    {
     "name": "stdout",
     "output_type": "stream",
     "text": [
      "  3.237 μs (15 allocations: 1.44 KiB)\n"
     ]
    },
    {
     "data": {
      "text/plain": [
       "LinearAlgebraicRepresentation.Struct(Any[([-0.5 -0.5 0.5 0.5; -0.5 0.5 -0.5 0.5], [[1, 2, 3, 4]]), [6.123233995736766e-17 -1.0 0.0; 1.0 6.123233995736766e-17 0.0; 0.0 0.0 1.0], ([-0.5 -0.5 0.5 0.5; -0.5 0.5 -0.5 0.5], [[1, 2, 3, 4]]), [6.123233995736766e-17 -1.0 0.0; 1.0 6.123233995736766e-17 0.0; 0.0 0.0 1.0]], [[-0.5; -0.5], [0.5; 0.5]], \"6077389562977118231\", 2, \"feature\")"
      ]
     },
     "execution_count": 12,
     "metadata": {},
     "output_type": "execute_result"
    }
   ],
   "source": [
    "@btime clone(structure,0)"
   ]
  },
  {
   "cell_type": "code",
   "execution_count": 13,
   "metadata": {},
   "outputs": [
    {
     "name": "stdout",
     "output_type": "stream",
     "text": [
      "\n",
      ";  @ In[11]:1 within `clone'\n",
      "; Function Attrs: uwtable\n",
      "define nonnull %jl_value_t* @julia_clone_2548(%jl_value_t* nonnull align 8 dereferenceable(40), i64) #0 {\n",
      "top:\n",
      "  %2 = alloca %jl_value_t*, i32 3\n",
      "  %gcframe = alloca %jl_value_t*, i32 5, align 16\n",
      "  %3 = bitcast %jl_value_t** %gcframe to i8*\n",
      "  call void @llvm.memset.p0i8.i32(i8* align 16 %3, i8 0, i32 40, i1 false)\n",
      "  %4 = call %jl_value_t*** inttoptr (i64 1761836128 to %jl_value_t*** ()*)() #9\n",
      ";  @ In[11]:2 within `clone'\n",
      "; ┌ @ deepcopy.jl:26 within `deepcopy'\n",
      "; │┌ @ iddict.jl:33 within `IdDict' @ iddict.jl:15\n",
      "; ││┌ @ boot.jl:406 within `Array'\n",
      "     %5 = getelementptr %jl_value_t*, %jl_value_t** %gcframe, i32 0\n",
      "     %6 = bitcast %jl_value_t** %5 to i64*\n",
      "     store i64 12, i64* %6\n",
      "     %7 = getelementptr %jl_value_t**, %jl_value_t*** %4, i32 0\n",
      "     %8 = getelementptr %jl_value_t*, %jl_value_t** %gcframe, i32 1\n",
      "     %9 = bitcast %jl_value_t** %8 to %jl_value_t***\n",
      "     %10 = load %jl_value_t**, %jl_value_t*** %7\n",
      "     store %jl_value_t** %10, %jl_value_t*** %9\n",
      "     %11 = bitcast %jl_value_t*** %7 to %jl_value_t***\n",
      "     store %jl_value_t** %gcframe, %jl_value_t*** %11\n",
      "     %12 = call %jl_value_t* inttoptr (i64 1761678672 to %jl_value_t* (%jl_value_t*, i64)*)(%jl_value_t* inttoptr (i64 169058864 to %jl_value_t*), i64 32)\n",
      "; ││└\n",
      "    %13 = bitcast %jl_value_t*** %4 to i8*\n",
      "    %14 = getelementptr %jl_value_t*, %jl_value_t** %gcframe, i32 2\n",
      "    store %jl_value_t* %12, %jl_value_t** %14\n",
      "    %15 = call noalias nonnull %jl_value_t* @jl_gc_pool_alloc(i8* %13, i32 1424, i32 32) #2\n",
      "    %16 = bitcast %jl_value_t* %15 to %jl_value_t**\n",
      "    %17 = getelementptr %jl_value_t*, %jl_value_t** %16, i64 -1\n",
      "    store %jl_value_t* inttoptr (i64 170432688 to %jl_value_t*), %jl_value_t** %17\n",
      "    %18 = bitcast %jl_value_t* %15 to %jl_value_t**\n",
      "    store %jl_value_t* %12, %jl_value_t** %18, align 8\n",
      "    %19 = bitcast %jl_value_t* %15 to i8*\n",
      "    %20 = getelementptr inbounds i8, i8* %19, i64 8\n",
      "    %21 = bitcast i8* %20 to i64*\n",
      "    store i64 0, i64* %21, align 8\n",
      "    %22 = getelementptr inbounds i8, i8* %19, i64 16\n",
      "    %23 = bitcast i8* %22 to i64*\n",
      "    store i64 0, i64* %23, align 8\n",
      "    %24 = getelementptr %jl_value_t*, %jl_value_t** %gcframe, i32 2\n",
      "    store %jl_value_t* %15, %jl_value_t** %24\n",
      "; │└\n",
      "   %25 = getelementptr %jl_value_t*, %jl_value_t** %2, i32 0\n",
      "   store %jl_value_t* %0, %jl_value_t** %25\n",
      "   %26 = getelementptr %jl_value_t*, %jl_value_t** %2, i32 1\n",
      "   store %jl_value_t* %15, %jl_value_t** %26\n",
      "   %27 = call nonnull %jl_value_t* @j1_deepcopy_internal_2549(%jl_value_t* inttoptr (i64 204512416 to %jl_value_t*), %jl_value_t** %2, i32 2)\n",
      "   %28 = bitcast %jl_value_t* %27 to i64*\n",
      "   %29 = getelementptr i64, i64* %28, i64 -1\n",
      "   %30 = load i64, i64* %29\n",
      "   %31 = and i64 %30, -16\n",
      "   %32 = inttoptr i64 %31 to %jl_value_t*\n",
      "   %33 = icmp eq %jl_value_t* %32, inttoptr (i64 1054993392 to %jl_value_t*)\n",
      "   br i1 %33, label %pass, label %fail\n",
      "\n",
      "L9:                                               ; preds = %pass\n",
      "; └\n",
      ";  @ In[11]:4 within `clone'\n",
      "; ┌ @ Base.jl:33 within `getproperty'\n",
      "   %34 = bitcast %jl_value_t* %0 to i8*\n",
      "   %35 = getelementptr inbounds i8, i8* %34, i64 16\n",
      "   %36 = bitcast i8* %35 to %jl_value_t**\n",
      "   %37 = load %jl_value_t*, %jl_value_t** %36, align 8\n",
      "   %38 = getelementptr %jl_value_t*, %jl_value_t** %gcframe, i32 4\n",
      "   store %jl_value_t* %27, %jl_value_t** %38\n",
      "   %39 = getelementptr %jl_value_t*, %jl_value_t** %gcframe, i32 3\n",
      "   store %jl_value_t* %37, %jl_value_t** %39\n",
      "; └\n",
      "; ┌ @ intfuncs.jl:694 within `string'\n",
      "   %40 = call nonnull %jl_value_t* @\"j_#string#336_2550\"(i64 10, i64 1, i64 %1) #0\n",
      "   %41 = getelementptr %jl_value_t*, %jl_value_t** %gcframe, i32 2\n",
      "   store %jl_value_t* %40, %jl_value_t** %41\n",
      "; └\n",
      "  %42 = getelementptr %jl_value_t*, %jl_value_t** %2, i32 0\n",
      "  store %jl_value_t* %37, %jl_value_t** %42\n",
      "  %43 = getelementptr %jl_value_t*, %jl_value_t** %2, i32 1\n",
      "  store %jl_value_t* inttoptr (i64 349827024 to %jl_value_t*), %jl_value_t** %43\n",
      "  %44 = getelementptr %jl_value_t*, %jl_value_t** %2, i32 2\n",
      "  store %jl_value_t* %40, %jl_value_t** %44\n",
      "  %45 = call nonnull %jl_value_t* @jl_apply_generic(%jl_value_t* inttoptr (i64 196412992 to %jl_value_t*), %jl_value_t** %2, i32 3)\n",
      "; ┌ @ Base.jl:34 within `setproperty!'\n",
      "   %46 = bitcast %jl_value_t* %27 to i8*\n",
      "   %47 = getelementptr inbounds i8, i8* %46, i64 16\n",
      "   %48 = bitcast i8* %47 to %jl_value_t**\n",
      "   store %jl_value_t* %45, %jl_value_t** %48, align 8\n",
      "   %49 = bitcast %jl_value_t* %27 to i64*\n",
      "   %50 = getelementptr i64, i64* %49, i64 -1\n",
      "   %51 = load i64, i64* %50\n",
      "   %52 = and i64 %51, 3\n",
      "   %53 = icmp eq i64 %52, 3\n",
      "   br i1 %53, label %54, label %L14\n",
      "\n",
      "54:                                               ; preds = %L9\n",
      "   %55 = bitcast %jl_value_t* %45 to i64*\n",
      "   %56 = getelementptr i64, i64* %55, i64 -1\n",
      "   %57 = load i64, i64* %56\n",
      "   %58 = and i64 %57, 1\n",
      "   %59 = icmp eq i64 %58, 0\n",
      "   br i1 %59, label %60, label %L14\n",
      "\n",
      "60:                                               ; preds = %54\n",
      "   call void @jl_gc_queue_root(%jl_value_t* %27)\n",
      "   br label %L14\n",
      "\n",
      "L14:                                              ; preds = %pass, %60, %54, %L9\n",
      "   %61 = getelementptr %jl_value_t*, %jl_value_t** %gcframe, i32 1\n",
      "   %62 = load %jl_value_t*, %jl_value_t** %61\n",
      "   %63 = getelementptr %jl_value_t**, %jl_value_t*** %4, i32 0\n",
      "   %64 = bitcast %jl_value_t*** %63 to %jl_value_t**\n",
      "   store %jl_value_t* %62, %jl_value_t** %64\n",
      "; └\n",
      ";  @ In[11]:6 within `clone'\n",
      "  ret %jl_value_t* %27\n",
      "\n",
      "fail:                                             ; preds = %top\n",
      "  %65 = getelementptr %jl_value_t*, %jl_value_t** %gcframe, i32 4\n",
      "  store %jl_value_t* %27, %jl_value_t** %65\n",
      ";  @ In[11]:2 within `clone'\n",
      "; ┌ @ deepcopy.jl:26 within `deepcopy'\n",
      "   call void @jl_type_error(i8* nonnull inttoptr (i64 402707504 to i8*), %jl_value_t* inttoptr (i64 1054993392 to %jl_value_t*), %jl_value_t* %27)\n",
      "   unreachable\n",
      "\n",
      "pass:                                             ; preds = %top\n",
      "; └\n",
      ";  @ In[11]:3 within `clone'\n",
      "; ┌ @ operators.jl:202 within `!='\n",
      "; │┌ @ promotion.jl:398 within `=='\n",
      "    %66 = icmp eq i64 %1, 0\n",
      "; └└\n",
      "  br i1 %66, label %L14, label %L9\n",
      "}\n"
     ]
    }
   ],
   "source": [
    "@code_llvm clone(structure,0)"
   ]
  },
  {
   "cell_type": "code",
   "execution_count": 14,
   "metadata": {},
   "outputs": [
    {
     "data": {
      "text/plain": [
       "BenchmarkTools.Trial: \n",
       "  memory estimate:  1.44 KiB\n",
       "  allocs estimate:  15\n",
       "  --------------\n",
       "  minimum time:     3.237 μs (0.00% GC)\n",
       "  median time:      4.825 μs (0.00% GC)\n",
       "  mean time:        6.288 μs (2.29% GC)\n",
       "  maximum time:     834.487 μs (98.30% GC)\n",
       "  --------------\n",
       "  samples:          10000\n",
       "  evals/sample:     8"
      ]
     },
     "execution_count": 14,
     "metadata": {},
     "output_type": "execute_result"
    }
   ],
   "source": [
    "@benchmark clone(structure,0)"
   ]
  }
 ],
 "metadata": {
  "kernelspec": {
   "display_name": "Julia 1.5.3",
   "language": "julia",
   "name": "julia-1.5"
  },
  "language_info": {
   "file_extension": ".jl",
   "mimetype": "application/julia",
   "name": "julia",
   "version": "1.5.3"
  }
 },
 "nbformat": 4,
 "nbformat_minor": 4
}
