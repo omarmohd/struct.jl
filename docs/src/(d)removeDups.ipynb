{
 "cells": [
  {
   "cell_type": "code",
   "execution_count": 1,
   "metadata": {},
   "outputs": [],
   "source": [
    "using BenchmarkTools\n",
    "using LinearAlgebra"
   ]
  },
  {
   "cell_type": "code",
   "execution_count": 2,
   "metadata": {},
   "outputs": [
    {
     "data": {
      "text/plain": [
       "12-element Array{Array{Int64,1},1}:\n",
       " [0, 1, 2, 3]\n",
       " [4, 5, 6, 7]\n",
       " [0, 1, 4, 5]\n",
       " [2, 3, 6, 7]\n",
       " [0, 2, 4, 6]\n",
       " [1, 3, 5, 7]\n",
       " [4, 5, 6, 7]\n",
       " [8, 9, 10, 11]\n",
       " [4, 5, 8, 9]\n",
       " [6, 7, 10, 11]\n",
       " [4, 6, 8, 10]\n",
       " [5, 7, 9, 11]"
      ]
     },
     "execution_count": 2,
     "metadata": {},
     "output_type": "execute_result"
    }
   ],
   "source": [
    "CW1=[[0,1,2,3],[4,5,6,7],[0,1,4,5],[2,3,6,7],[0,2,4,6],[1,3,5,7],\n",
    "\t[4,5,6,7],[8,9,10,11],[4,5,8,9],[6,7,10,11],[4,6,8,10],[5,7,9,11]]"
   ]
  },
  {
   "cell_type": "code",
   "execution_count": 3,
   "metadata": {},
   "outputs": [
    {
     "data": {
      "text/plain": [
       "5-element Array{Array{Int64,1},1}:\n",
       " [0, 1, 2, 3]\n",
       " [4, 5, 6, 7]\n",
       " [8, 9, 10, 11]\n",
       " [12, 13, 14, 15]\n",
       " [16, 17, 18, 19]"
      ]
     },
     "execution_count": 3,
     "metadata": {},
     "output_type": "execute_result"
    }
   ],
   "source": [
    "CW2=[[0,1,2,3],[4,5,6,7],[8,9,10,11],[12,13,14,15],[16,17,18,19]]"
   ]
  },
  {
   "cell_type": "markdown",
   "metadata": {},
   "source": [
    "## Vecchia funzione"
   ]
  },
  {
   "cell_type": "code",
   "execution_count": 4,
   "metadata": {},
   "outputs": [
    {
     "data": {
      "text/plain": [
       "removeDups (generic function with 1 method)"
      ]
     },
     "execution_count": 4,
     "metadata": {},
     "output_type": "execute_result"
    }
   ],
   "source": [
    "function removeDups(CW)\n",
    "\tCW = collect(Set(CW))\n",
    "\tCWs = collect(map(sort,CW))\n",
    "\treturn CWs\n",
    "end"
   ]
  },
  {
   "cell_type": "code",
   "execution_count": 5,
   "metadata": {},
   "outputs": [
    {
     "name": "stdout",
     "output_type": "stream",
     "text": [
      "  6.380 μs (21 allocations: 3.03 KiB)\n"
     ]
    },
    {
     "data": {
      "text/plain": [
       "11-element Array{Array{Int64,1},1}:\n",
       " [6, 7, 10, 11]\n",
       " [4, 5, 6, 7]\n",
       " [4, 6, 8, 10]\n",
       " [1, 3, 5, 7]\n",
       " [0, 1, 2, 3]\n",
       " [8, 9, 10, 11]\n",
       " [0, 2, 4, 6]\n",
       " [5, 7, 9, 11]\n",
       " [2, 3, 6, 7]\n",
       " [4, 5, 8, 9]\n",
       " [0, 1, 4, 5]"
      ]
     },
     "execution_count": 5,
     "metadata": {},
     "output_type": "execute_result"
    }
   ],
   "source": [
    "@btime removeDups(CW1)"
   ]
  },
  {
   "cell_type": "code",
   "execution_count": 6,
   "metadata": {},
   "outputs": [
    {
     "name": "stdout",
     "output_type": "stream",
     "text": [
      "  3.040 μs (12 allocations: 1.39 KiB)\n"
     ]
    },
    {
     "data": {
      "text/plain": [
       "5-element Array{Array{Int64,1},1}:\n",
       " [8, 9, 10, 11]\n",
       " [12, 13, 14, 15]\n",
       " [0, 1, 2, 3]\n",
       " [16, 17, 18, 19]\n",
       " [4, 5, 6, 7]"
      ]
     },
     "execution_count": 6,
     "metadata": {},
     "output_type": "execute_result"
    }
   ],
   "source": [
    "@btime removeDups(CW2)"
   ]
  },
  {
   "cell_type": "code",
   "execution_count": 7,
   "metadata": {},
   "outputs": [
    {
     "name": "stdout",
     "output_type": "stream",
     "text": [
      "\n",
      ";  @ In[4]:1 within `removeDups'\n",
      "; Function Attrs: uwtable\n",
      "define nonnull %jl_value_t* @japi1_removeDups_1476(%jl_value_t*, %jl_value_t**, i32) #0 {\n",
      "top:\n",
      "  %gcframe = alloca %jl_value_t*, i32 7, align 16\n",
      "  %3 = bitcast %jl_value_t** %gcframe to i8*\n",
      "  call void @llvm.memset.p0i8.i32(i8* align 16 %3, i8 0, i32 56, i1 false)\n",
      "  %4 = getelementptr %jl_value_t*, %jl_value_t** %gcframe, i32 4\n",
      "  %5 = bitcast %jl_value_t** %4 to [1 x %jl_value_t*]*\n",
      "  %6 = getelementptr %jl_value_t*, %jl_value_t** %gcframe, i32 3\n",
      "  %7 = bitcast %jl_value_t** %6 to [1 x %jl_value_t*]*\n",
      "  %8 = getelementptr %jl_value_t*, %jl_value_t** %gcframe, i32 2\n",
      "  %9 = bitcast %jl_value_t** %8 to { %jl_value_t* }*\n",
      "  %10 = alloca %jl_value_t**, align 8\n",
      "  store volatile %jl_value_t** %1, %jl_value_t*** %10, align 8\n",
      "  %11 = call %jl_value_t*** inttoptr (i64 1761836128 to %jl_value_t*** ()*)() #6\n",
      "  %12 = getelementptr %jl_value_t*, %jl_value_t** %gcframe, i32 0\n",
      "  %13 = bitcast %jl_value_t** %12 to i64*\n",
      "  store i64 20, i64* %13\n",
      "  %14 = getelementptr %jl_value_t**, %jl_value_t*** %11, i32 0\n",
      "  %15 = getelementptr %jl_value_t*, %jl_value_t** %gcframe, i32 1\n",
      "  %16 = bitcast %jl_value_t** %15 to %jl_value_t***\n",
      "  %17 = load %jl_value_t**, %jl_value_t*** %14\n",
      "  store %jl_value_t** %17, %jl_value_t*** %16\n",
      "  %18 = bitcast %jl_value_t*** %14 to %jl_value_t***\n",
      "  store %jl_value_t** %gcframe, %jl_value_t*** %18\n",
      "  %19 = load %jl_value_t*, %jl_value_t** %1, align 8\n",
      ";  @ In[4]:2 within `removeDups'\n",
      "; ┌ @ set.jl:21 within `Set'\n",
      "; │┌ @ set.jl:23 within `_Set'\n",
      "; ││┌ @ set.jl:10 within `Set' @ set.jl:6\n",
      "     %20 = call nonnull %jl_value_t* @j1_Dict_1477(%jl_value_t* inttoptr (i64 709557360 to %jl_value_t*), %jl_value_t** null, i32 0)\n",
      "; │││ @ set.jl:10 within `Set'\n",
      "     %.fca.0.gep4 = getelementptr inbounds [1 x %jl_value_t*], [1 x %jl_value_t*]* %7, i64 0, i64 0\n",
      "     store %jl_value_t* %20, %jl_value_t** %.fca.0.gep4, align 8\n",
      "     %21 = call [1 x %jl_value_t*] @\"j_union!_1478\"([1 x %jl_value_t*]* nocapture readonly %7, %jl_value_t* nonnull %19) #2\n",
      "; └└└\n",
      "; ┌ @ array.jl:624 within `collect'\n",
      "; │┌ @ array.jl:630 within `_collect'\n",
      "; ││┌ @ array.jl:597 within `_similar_for'\n",
      "; │││┌ @ set.jl:55 within `length'\n",
      "; ││││┌ @ Base.jl:33 within `getproperty'\n",
      "       %22 = extractvalue [1 x %jl_value_t*] %21, 0\n",
      "; ││││└\n",
      "; ││││ @ set.jl:55 within `length' @ dict.jl:676\n",
      "; ││││┌ @ Base.jl:33 within `getproperty'\n",
      "       %23 = bitcast %jl_value_t* %22 to i8*\n",
      "       %24 = getelementptr inbounds i8, i8* %23, i64 32\n",
      "       %25 = bitcast i8* %24 to i64*\n",
      "       %26 = load i64, i64* %25, align 8\n",
      "       %27 = getelementptr %jl_value_t*, %jl_value_t** %gcframe, i32 5\n",
      "       %28 = extractvalue [1 x %jl_value_t*] %21, 0\n",
      "       store %jl_value_t* %28, %jl_value_t** %27\n",
      "; │││└└\n",
      "; │││┌ @ abstractarray.jl:632 within `similar' @ abstractarray.jl:640\n",
      "; ││││┌ @ boot.jl:415 within `Array' @ boot.jl:406\n",
      "       %29 = call %jl_value_t* inttoptr (i64 1761678672 to %jl_value_t* (%jl_value_t*, i64)*)(%jl_value_t* inttoptr (i64 169017760 to %jl_value_t*), i64 %26)\n",
      "; ││└└└\n",
      "    %.fca.0.gep2 = getelementptr inbounds [1 x %jl_value_t*], [1 x %jl_value_t*]* %5, i64 0, i64 0\n",
      "    store %jl_value_t* %22, %jl_value_t** %.fca.0.gep2, align 8\n",
      "    %30 = getelementptr %jl_value_t*, %jl_value_t** %gcframe, i32 5\n",
      "    store %jl_value_t* %29, %jl_value_t** %30\n",
      "    %31 = call nonnull %jl_value_t* @\"j_copyto!_1479\"(%jl_value_t* %29, [1 x %jl_value_t*]* nocapture readonly %5) #2\n",
      "; └└\n",
      ";  @ In[4]:3 within `removeDups'\n",
      "; ┌ @ abstractarray.jl:2162 within `map'\n",
      "; │┌ @ array.jl:628 within `collect_similar'\n",
      "    %.fca.0.gep = getelementptr inbounds { %jl_value_t* }, { %jl_value_t* }* %9, i64 0, i32 0\n",
      "    store %jl_value_t* %31, %jl_value_t** %.fca.0.gep, align 8\n",
      "    %32 = getelementptr %jl_value_t*, %jl_value_t** %gcframe, i32 5\n",
      "    store %jl_value_t* %31, %jl_value_t** %32\n",
      "    %33 = call nonnull %jl_value_t* @j__collect_1480(%jl_value_t* nonnull %31, { %jl_value_t* }* nocapture readonly %9) #2\n",
      "; └└\n",
      "; ┌ @ array.jl:626 within `collect'\n",
      "; │┌ @ abstractarray.jl:75 within `axes'\n",
      "; ││┌ @ array.jl:155 within `size'\n",
      "     %34 = bitcast %jl_value_t* %33 to %jl_value_t**\n",
      "     %35 = getelementptr inbounds %jl_value_t*, %jl_value_t** %34, i64 3\n",
      "     %36 = bitcast %jl_value_t** %35 to i64*\n",
      "     %37 = load i64, i64* %36, align 8\n",
      "; ││└\n",
      "; ││┌ @ tuple.jl:157 within `map'\n",
      "; │││┌ @ range.jl:326 within `OneTo' @ range.jl:317\n",
      "; ││││┌ @ promotion.jl:409 within `max'\n",
      "       %38 = icmp sgt i64 %37, 0\n",
      "       %39 = select i1 %38, i64 %37, i64 0\n",
      "       %40 = getelementptr %jl_value_t*, %jl_value_t** %gcframe, i32 5\n",
      "       store %jl_value_t* %33, %jl_value_t** %40\n",
      "; │└└└└\n",
      "; │┌ @ array.jl:642 within `_collect_indices'\n",
      "; ││┌ @ boot.jl:423 within `Array' @ boot.jl:415 @ boot.jl:406\n",
      "     %41 = call %jl_value_t* inttoptr (i64 1761678672 to %jl_value_t* (%jl_value_t*, i64)*)(%jl_value_t* inttoptr (i64 169017760 to %jl_value_t*), i64 %39)\n",
      "; ││└\n",
      "; ││┌ @ array.jl:350 within `copyto!'\n",
      "; │││┌ @ array.jl:219 within `length'\n",
      "      %42 = bitcast %jl_value_t* %33 to %jl_array_t*\n",
      "      %43 = getelementptr inbounds %jl_array_t, %jl_array_t* %42, i64 0, i32 1\n",
      "      %44 = load i64, i64* %43, align 8\n",
      "      %45 = getelementptr %jl_value_t*, %jl_value_t** %gcframe, i32 6\n",
      "      store %jl_value_t* %41, %jl_value_t** %45\n",
      "; │││└\n",
      "; │││ @ array.jl:350 within `copyto!' @ array.jl:326\n",
      "     %46 = call nonnull %jl_value_t* @\"j__copyto_impl!_1481\"(%jl_value_t* %41, i64 1, %jl_value_t* nonnull %33, i64 1, i64 %44) #2\n",
      "     %47 = getelementptr %jl_value_t*, %jl_value_t** %gcframe, i32 1\n",
      "     %48 = load %jl_value_t*, %jl_value_t** %47\n",
      "     %49 = getelementptr %jl_value_t**, %jl_value_t*** %11, i32 0\n",
      "     %50 = bitcast %jl_value_t*** %49 to %jl_value_t**\n",
      "     store %jl_value_t* %48, %jl_value_t** %50\n",
      "; └└└\n",
      ";  @ In[4]:4 within `removeDups'\n",
      "  ret %jl_value_t* %46\n",
      "}\n"
     ]
    }
   ],
   "source": [
    "@code_llvm removeDups(CW1)"
   ]
  },
  {
   "cell_type": "code",
   "execution_count": 8,
   "metadata": {},
   "outputs": [
    {
     "data": {
      "text/plain": [
       "BenchmarkTools.Trial: \n",
       "  memory estimate:  3.03 KiB\n",
       "  allocs estimate:  21\n",
       "  --------------\n",
       "  minimum time:     8.967 μs (0.00% GC)\n",
       "  median time:      18.233 μs (0.00% GC)\n",
       "  mean time:        23.218 μs (0.64% GC)\n",
       "  maximum time:     7.761 ms (0.00% GC)\n",
       "  --------------\n",
       "  samples:          10000\n",
       "  evals/sample:     3"
      ]
     },
     "execution_count": 8,
     "metadata": {},
     "output_type": "execute_result"
    }
   ],
   "source": [
    "@benchmark removeDups(CW1)"
   ]
  },
  {
   "cell_type": "markdown",
   "metadata": {},
   "source": [
    "## Nuove funzioni"
   ]
  },
  {
   "cell_type": "markdown",
   "metadata": {},
   "source": [
    "\"\"\"\\\n",
    "sortCells(CW::Cells)::Cells\\\n",
    "Mette “Cells” in forma canonica, ovvero vengono ordinati gli indici di vertici in ogni singolo elemento dell’array “Cells”.\\\n",
    "\"\"\""
   ]
  },
  {
   "cell_type": "code",
   "execution_count": 9,
   "metadata": {},
   "outputs": [
    {
     "data": {
      "text/plain": [
       "sortCells (generic function with 1 method)"
      ]
     },
     "execution_count": 9,
     "metadata": {},
     "output_type": "execute_result"
    }
   ],
   "source": [
    "function sortCells(CW)\n",
    "\tCWs = collect(map(sort,CW))\n",
    "\treturn CWs\n",
    "end"
   ]
  },
  {
   "cell_type": "markdown",
   "metadata": {},
   "source": [
    "\"\"\"\\\n",
    "removeDups(CW::Cells)::Cells\\\n",
    "Rimuove le celle duplicate dall’oggetto “Cells”.\\\n",
    "\"\"\""
   ]
  },
  {
   "cell_type": "code",
   "execution_count": 10,
   "metadata": {},
   "outputs": [
    {
     "data": {
      "text/plain": [
       "removeDups (generic function with 1 method)"
      ]
     },
     "execution_count": 10,
     "metadata": {},
     "output_type": "execute_result"
    }
   ],
   "source": [
    "function removeDups(CW)\n",
    "\tCW = collect(Set(CW))\n",
    "\tsortCells(CW)\n",
    "end"
   ]
  },
  {
   "cell_type": "code",
   "execution_count": 11,
   "metadata": {},
   "outputs": [
    {
     "name": "stdout",
     "output_type": "stream",
     "text": [
      "  9.400 μs (21 allocations: 3.03 KiB)\n"
     ]
    },
    {
     "data": {
      "text/plain": [
       "11-element Array{Array{Int64,1},1}:\n",
       " [6, 7, 10, 11]\n",
       " [4, 5, 6, 7]\n",
       " [4, 6, 8, 10]\n",
       " [1, 3, 5, 7]\n",
       " [0, 1, 2, 3]\n",
       " [8, 9, 10, 11]\n",
       " [0, 2, 4, 6]\n",
       " [5, 7, 9, 11]\n",
       " [2, 3, 6, 7]\n",
       " [4, 5, 8, 9]\n",
       " [0, 1, 4, 5]"
      ]
     },
     "execution_count": 11,
     "metadata": {},
     "output_type": "execute_result"
    }
   ],
   "source": [
    "@btime removeDups(CW1)"
   ]
  },
  {
   "cell_type": "code",
   "execution_count": 12,
   "metadata": {},
   "outputs": [
    {
     "name": "stdout",
     "output_type": "stream",
     "text": [
      "  2.813 μs (12 allocations: 1.39 KiB)\n"
     ]
    },
    {
     "data": {
      "text/plain": [
       "5-element Array{Array{Int64,1},1}:\n",
       " [8, 9, 10, 11]\n",
       " [12, 13, 14, 15]\n",
       " [0, 1, 2, 3]\n",
       " [16, 17, 18, 19]\n",
       " [4, 5, 6, 7]"
      ]
     },
     "execution_count": 12,
     "metadata": {},
     "output_type": "execute_result"
    }
   ],
   "source": [
    "@btime removeDups(CW2)"
   ]
  },
  {
   "cell_type": "code",
   "execution_count": 13,
   "metadata": {},
   "outputs": [
    {
     "data": {
      "text/plain": [
       "BenchmarkTools.Trial: \n",
       "  memory estimate:  3.03 KiB\n",
       "  allocs estimate:  21\n",
       "  --------------\n",
       "  minimum time:     9.199 μs (0.00% GC)\n",
       "  median time:      19.601 μs (0.00% GC)\n",
       "  mean time:        23.648 μs (0.00% GC)\n",
       "  maximum time:     15.702 ms (0.00% GC)\n",
       "  --------------\n",
       "  samples:          10000\n",
       "  evals/sample:     1"
      ]
     },
     "execution_count": 13,
     "metadata": {},
     "output_type": "execute_result"
    }
   ],
   "source": [
    "@benchmark removeDups(CW1)"
   ]
  },
  {
   "cell_type": "code",
   "execution_count": 14,
   "metadata": {},
   "outputs": [
    {
     "data": {
      "text/plain": [
       "CodeInfo(\n",
       "\u001b[90m1 ─\u001b[39m %1  = invoke Dict{Array{Int64,1},Nothing}()\u001b[36m::Dict{Array{Int64,1},Nothing}\u001b[39m\n",
       "\u001b[90m│  \u001b[39m %2  = %new(Set{Array{Int64,1}}, %1)\u001b[36m::Set{Array{Int64,1}}\u001b[39m\n",
       "\u001b[90m│  \u001b[39m %3  = invoke Base.union!(%2::Set{Array{Int64,1}}, _2::Array{Array{Int64,1},1})\u001b[36m::Set{Array{Int64,1}}\u001b[39m\n",
       "\u001b[90m│  \u001b[39m %4  = Base.getfield(%3, :dict)\u001b[36m::Dict{Array{Int64,1},Nothing}\u001b[39m\n",
       "\u001b[90m│  \u001b[39m %5  = Base.getfield(%4, :count)\u001b[36m::Int64\u001b[39m\n",
       "\u001b[90m│  \u001b[39m %6  = $(Expr(:foreigncall, :(:jl_alloc_array_1d), Array{Array{Int64,1},1}, svec(Any, Int64), 0, :(:ccall), Array{Array{Int64,1},1}, :(%5), :(%5)))\u001b[36m::Array{Array{Int64,1},1}\u001b[39m\n",
       "\u001b[90m│  \u001b[39m %7  = invoke Base.copyto!(%6::Array{Array{Int64,1},1}, %3::Set{Array{Int64,1}})\u001b[36m::Array{Array{Int64,1},1}\u001b[39m\n",
       "\u001b[90m│  \u001b[39m %8  = %new(Base.Generator{Array{Array{Int64,1},1},typeof(sort)}, sort, %7)\u001b[36m::Base.Generator{Array{Array{Int64,1},1},typeof(sort)}\u001b[39m\n",
       "\u001b[90m│  \u001b[39m %9  = invoke Base._collect(%7::Array{Array{Int64,1},1}, %8::Base.Generator{Array{Array{Int64,1},1},typeof(sort)}, $(QuoteNode(Base.EltypeUnknown()))::Base.EltypeUnknown, $(QuoteNode(Base.HasShape{1}()))::Base.HasShape{1})\u001b[36m::Array{Array{Int64,1},1}\u001b[39m\n",
       "\u001b[90m│  \u001b[39m %10 = Base.arraysize(%9, 1)\u001b[36m::Int64\u001b[39m\n",
       "\u001b[90m│  \u001b[39m %11 = Base.slt_int(%10, 0)\u001b[36m::Bool\u001b[39m\n",
       "\u001b[90m│  \u001b[39m %12 = Base.ifelse(%11, 0, %10)\u001b[36m::Int64\u001b[39m\n",
       "\u001b[90m│  \u001b[39m %13 = $(Expr(:foreigncall, :(:jl_alloc_array_1d), Array{Array{Int64,1},1}, svec(Any, Int64), 0, :(:ccall), Array{Array{Int64,1},1}, :(%12), :(%12)))\u001b[36m::Array{Array{Int64,1},1}\u001b[39m\n",
       "\u001b[90m│  \u001b[39m %14 = Base.arraylen(%9)\u001b[36m::Int64\u001b[39m\n",
       "\u001b[90m│  \u001b[39m %15 = invoke Base._copyto_impl!(%13::Array{Array{Int64,1},1}, 1::Int64, %9::Array{Array{Int64,1},1}, 1::Int64, %14::Int64)\u001b[36m::Array{Array{Int64,1},1}\u001b[39m\n",
       "\u001b[90m└──\u001b[39m       return %15\n",
       ") => Array{Array{Int64,1},1}"
      ]
     },
     "execution_count": 14,
     "metadata": {},
     "output_type": "execute_result"
    }
   ],
   "source": [
    "@code_typed removeDups(CW1)"
   ]
  },
  {
   "cell_type": "code",
   "execution_count": 15,
   "metadata": {},
   "outputs": [
    {
     "name": "stdout",
     "output_type": "stream",
     "text": [
      "Variables\n",
      "  #self#\u001b[36m::Core.Compiler.Const(removeDups, false)\u001b[39m\n",
      "  CW@_2\u001b[36m::Array{Array{Int64,1},1}\u001b[39m\n",
      "  CW@_3\u001b[36m::Array{Array{Int64,1},1}\u001b[39m\n",
      "\n",
      "Body\u001b[36m::Array{Array{Int64,1},1}\u001b[39m\n",
      "\u001b[90m1 ─\u001b[39m      (CW@_3 = CW@_2)\n",
      "\u001b[90m│  \u001b[39m %2 = Main.Set(CW@_3)\u001b[36m::Set{Array{Int64,1}}\u001b[39m\n",
      "\u001b[90m│  \u001b[39m      (CW@_3 = Main.collect(%2))\n",
      "\u001b[90m│  \u001b[39m %4 = Main.sortCells(CW@_3)\u001b[36m::Array{Array{Int64,1},1}\u001b[39m\n",
      "\u001b[90m└──\u001b[39m      return %4\n"
     ]
    }
   ],
   "source": [
    "@code_warntype removeDups(CW1)"
   ]
  },
  {
   "cell_type": "markdown",
   "metadata": {},
   "source": [
    "## Modifiche"
   ]
  },
  {
   "cell_type": "code",
   "execution_count": 16,
   "metadata": {},
   "outputs": [
    {
     "data": {
      "text/plain": [
       "sortCells (generic function with 1 method)"
      ]
     },
     "execution_count": 16,
     "metadata": {},
     "output_type": "execute_result"
    }
   ],
   "source": [
    "function sortCells(CW)\n",
    "\tCWs = collect(map(sort!,CW))\n",
    "\treturn CWs\n",
    "end"
   ]
  },
  {
   "cell_type": "code",
   "execution_count": 17,
   "metadata": {},
   "outputs": [
    {
     "data": {
      "text/plain": [
       "removeDups (generic function with 1 method)"
      ]
     },
     "execution_count": 17,
     "metadata": {},
     "output_type": "execute_result"
    }
   ],
   "source": [
    "function removeDups(CW)\n",
    "\tCW = collect(Set(CW))\n",
    "\tsortCells(CW)\n",
    "end"
   ]
  },
  {
   "cell_type": "code",
   "execution_count": 18,
   "metadata": {},
   "outputs": [
    {
     "name": "stdout",
     "output_type": "stream",
     "text": [
      "  5.717 μs (10 allocations: 1.83 KiB)\n"
     ]
    },
    {
     "data": {
      "text/plain": [
       "11-element Array{Array{Int64,1},1}:\n",
       " [6, 7, 10, 11]\n",
       " [4, 5, 6, 7]\n",
       " [4, 6, 8, 10]\n",
       " [1, 3, 5, 7]\n",
       " [0, 1, 2, 3]\n",
       " [8, 9, 10, 11]\n",
       " [0, 2, 4, 6]\n",
       " [5, 7, 9, 11]\n",
       " [2, 3, 6, 7]\n",
       " [4, 5, 8, 9]\n",
       " [0, 1, 4, 5]"
      ]
     },
     "execution_count": 18,
     "metadata": {},
     "output_type": "execute_result"
    }
   ],
   "source": [
    "@btime removeDups(CW1)"
   ]
  },
  {
   "cell_type": "code",
   "execution_count": 19,
   "metadata": {},
   "outputs": [
    {
     "data": {
      "text/plain": [
       "CodeInfo(\n",
       "\u001b[90m1 ─\u001b[39m %1  = invoke Dict{Array{Int64,1},Nothing}()\u001b[36m::Dict{Array{Int64,1},Nothing}\u001b[39m\n",
       "\u001b[90m│  \u001b[39m %2  = %new(Set{Array{Int64,1}}, %1)\u001b[36m::Set{Array{Int64,1}}\u001b[39m\n",
       "\u001b[90m│  \u001b[39m %3  = invoke Base.union!(%2::Set{Array{Int64,1}}, _2::Array{Array{Int64,1},1})\u001b[36m::Set{Array{Int64,1}}\u001b[39m\n",
       "\u001b[90m│  \u001b[39m %4  = Base.getfield(%3, :dict)\u001b[36m::Dict{Array{Int64,1},Nothing}\u001b[39m\n",
       "\u001b[90m│  \u001b[39m %5  = Base.getfield(%4, :count)\u001b[36m::Int64\u001b[39m\n",
       "\u001b[90m│  \u001b[39m %6  = $(Expr(:foreigncall, :(:jl_alloc_array_1d), Array{Array{Int64,1},1}, svec(Any, Int64), 0, :(:ccall), Array{Array{Int64,1},1}, :(%5), :(%5)))\u001b[36m::Array{Array{Int64,1},1}\u001b[39m\n",
       "\u001b[90m│  \u001b[39m %7  = invoke Base.copyto!(%6::Array{Array{Int64,1},1}, %3::Set{Array{Int64,1}})\u001b[36m::Array{Array{Int64,1},1}\u001b[39m\n",
       "\u001b[90m│  \u001b[39m %8  = %new(Base.Generator{Array{Array{Int64,1},1},typeof(sort!)}, sort!, %7)\u001b[36m::Base.Generator{Array{Array{Int64,1},1},typeof(sort!)}\u001b[39m\n",
       "\u001b[90m│  \u001b[39m %9  = invoke Base._collect(%7::Array{Array{Int64,1},1}, %8::Base.Generator{Array{Array{Int64,1},1},typeof(sort!)}, $(QuoteNode(Base.EltypeUnknown()))::Base.EltypeUnknown, $(QuoteNode(Base.HasShape{1}()))::Base.HasShape{1})\u001b[36m::Array{Array{Int64,1},1}\u001b[39m\n",
       "\u001b[90m│  \u001b[39m %10 = Base.arraysize(%9, 1)\u001b[36m::Int64\u001b[39m\n",
       "\u001b[90m│  \u001b[39m %11 = Base.slt_int(%10, 0)\u001b[36m::Bool\u001b[39m\n",
       "\u001b[90m│  \u001b[39m %12 = Base.ifelse(%11, 0, %10)\u001b[36m::Int64\u001b[39m\n",
       "\u001b[90m│  \u001b[39m %13 = $(Expr(:foreigncall, :(:jl_alloc_array_1d), Array{Array{Int64,1},1}, svec(Any, Int64), 0, :(:ccall), Array{Array{Int64,1},1}, :(%12), :(%12)))\u001b[36m::Array{Array{Int64,1},1}\u001b[39m\n",
       "\u001b[90m│  \u001b[39m %14 = Base.arraylen(%9)\u001b[36m::Int64\u001b[39m\n",
       "\u001b[90m│  \u001b[39m %15 = invoke Base._copyto_impl!(%13::Array{Array{Int64,1},1}, 1::Int64, %9::Array{Array{Int64,1},1}, 1::Int64, %14::Int64)\u001b[36m::Array{Array{Int64,1},1}\u001b[39m\n",
       "\u001b[90m└──\u001b[39m       return %15\n",
       ") => Array{Array{Int64,1},1}"
      ]
     },
     "execution_count": 19,
     "metadata": {},
     "output_type": "execute_result"
    }
   ],
   "source": [
    "@code_typed removeDups(CW1)"
   ]
  },
  {
   "cell_type": "code",
   "execution_count": 20,
   "metadata": {},
   "outputs": [
    {
     "name": "stdout",
     "output_type": "stream",
     "text": [
      "\n",
      ";  @ In[17]:1 within `removeDups'\n",
      "; Function Attrs: uwtable\n",
      "define nonnull %jl_value_t* @japi1_removeDups_2000(%jl_value_t*, %jl_value_t**, i32) #0 {\n",
      "top:\n",
      "  %gcframe = alloca %jl_value_t*, i32 7, align 16\n",
      "  %3 = bitcast %jl_value_t** %gcframe to i8*\n",
      "  call void @llvm.memset.p0i8.i32(i8* align 16 %3, i8 0, i32 56, i1 false)\n",
      "  %4 = getelementptr %jl_value_t*, %jl_value_t** %gcframe, i32 4\n",
      "  %5 = bitcast %jl_value_t** %4 to { %jl_value_t* }*\n",
      "  %6 = getelementptr %jl_value_t*, %jl_value_t** %gcframe, i32 3\n",
      "  %7 = bitcast %jl_value_t** %6 to [1 x %jl_value_t*]*\n",
      "  %8 = getelementptr %jl_value_t*, %jl_value_t** %gcframe, i32 2\n",
      "  %9 = bitcast %jl_value_t** %8 to [1 x %jl_value_t*]*\n",
      "  %10 = alloca %jl_value_t**, align 8\n",
      "  store volatile %jl_value_t** %1, %jl_value_t*** %10, align 8\n",
      "  %11 = call %jl_value_t*** inttoptr (i64 1761836128 to %jl_value_t*** ()*)() #6\n",
      "  %12 = getelementptr %jl_value_t*, %jl_value_t** %gcframe, i32 0\n",
      "  %13 = bitcast %jl_value_t** %12 to i64*\n",
      "  store i64 20, i64* %13\n",
      "  %14 = getelementptr %jl_value_t**, %jl_value_t*** %11, i32 0\n",
      "  %15 = getelementptr %jl_value_t*, %jl_value_t** %gcframe, i32 1\n",
      "  %16 = bitcast %jl_value_t** %15 to %jl_value_t***\n",
      "  %17 = load %jl_value_t**, %jl_value_t*** %14\n",
      "  store %jl_value_t** %17, %jl_value_t*** %16\n",
      "  %18 = bitcast %jl_value_t*** %14 to %jl_value_t***\n",
      "  store %jl_value_t** %gcframe, %jl_value_t*** %18\n",
      "  %19 = load %jl_value_t*, %jl_value_t** %1, align 8\n",
      ";  @ In[17]:2 within `removeDups'\n",
      "; ┌ @ set.jl:21 within `Set'\n",
      "; │┌ @ set.jl:23 within `_Set'\n",
      "; ││┌ @ set.jl:10 within `Set' @ set.jl:6\n",
      "     %20 = call nonnull %jl_value_t* @j1_Dict_2001(%jl_value_t* inttoptr (i64 709557360 to %jl_value_t*), %jl_value_t** null, i32 0)\n",
      "; │││ @ set.jl:10 within `Set'\n",
      "     %.fca.0.gep4 = getelementptr inbounds [1 x %jl_value_t*], [1 x %jl_value_t*]* %7, i64 0, i64 0\n",
      "     store %jl_value_t* %20, %jl_value_t** %.fca.0.gep4, align 8\n",
      "     %21 = call [1 x %jl_value_t*] @\"j_union!_2002\"([1 x %jl_value_t*]* nocapture readonly %7, %jl_value_t* nonnull %19) #2\n",
      "; └└└\n",
      "; ┌ @ array.jl:624 within `collect'\n",
      "; │┌ @ array.jl:630 within `_collect'\n",
      "; ││┌ @ array.jl:597 within `_similar_for'\n",
      "; │││┌ @ set.jl:55 within `length'\n",
      "; ││││┌ @ Base.jl:33 within `getproperty'\n",
      "       %22 = extractvalue [1 x %jl_value_t*] %21, 0\n",
      "; ││││└\n",
      "; ││││ @ set.jl:55 within `length' @ dict.jl:676\n",
      "; ││││┌ @ Base.jl:33 within `getproperty'\n",
      "       %23 = bitcast %jl_value_t* %22 to i8*\n",
      "       %24 = getelementptr inbounds i8, i8* %23, i64 32\n",
      "       %25 = bitcast i8* %24 to i64*\n",
      "       %26 = load i64, i64* %25, align 8\n",
      "       %27 = getelementptr %jl_value_t*, %jl_value_t** %gcframe, i32 5\n",
      "       %28 = extractvalue [1 x %jl_value_t*] %21, 0\n",
      "       store %jl_value_t* %28, %jl_value_t** %27\n",
      "; │││└└\n",
      "; │││┌ @ abstractarray.jl:632 within `similar' @ abstractarray.jl:640\n",
      "; ││││┌ @ boot.jl:415 within `Array' @ boot.jl:406\n",
      "       %29 = call %jl_value_t* inttoptr (i64 1761678672 to %jl_value_t* (%jl_value_t*, i64)*)(%jl_value_t* inttoptr (i64 169017760 to %jl_value_t*), i64 %26)\n",
      "; ││└└└\n",
      "    %.fca.0.gep2 = getelementptr inbounds [1 x %jl_value_t*], [1 x %jl_value_t*]* %9, i64 0, i64 0\n",
      "    store %jl_value_t* %22, %jl_value_t** %.fca.0.gep2, align 8\n",
      "    %30 = getelementptr %jl_value_t*, %jl_value_t** %gcframe, i32 5\n",
      "    store %jl_value_t* %29, %jl_value_t** %30\n",
      "    %31 = call nonnull %jl_value_t* @\"j_copyto!_2003\"(%jl_value_t* %29, [1 x %jl_value_t*]* nocapture readonly %9) #2\n",
      "; └└\n",
      ";  @ In[17]:3 within `removeDups'\n",
      "; ┌ @ In[16]:2 within `sortCells'\n",
      "; │┌ @ abstractarray.jl:2162 within `map'\n",
      "; ││┌ @ array.jl:628 within `collect_similar'\n",
      "     %.fca.0.gep = getelementptr inbounds { %jl_value_t* }, { %jl_value_t* }* %5, i64 0, i32 0\n",
      "     store %jl_value_t* %31, %jl_value_t** %.fca.0.gep, align 8\n",
      "     %32 = getelementptr %jl_value_t*, %jl_value_t** %gcframe, i32 5\n",
      "     store %jl_value_t* %31, %jl_value_t** %32\n",
      "     %33 = call nonnull %jl_value_t* @j__collect_2004(%jl_value_t* nonnull %31, { %jl_value_t* }* nocapture readonly %5) #2\n",
      "; │└└\n",
      "; │┌ @ array.jl:626 within `collect'\n",
      "; ││┌ @ abstractarray.jl:75 within `axes'\n",
      "; │││┌ @ array.jl:155 within `size'\n",
      "      %34 = bitcast %jl_value_t* %33 to %jl_value_t**\n",
      "      %35 = getelementptr inbounds %jl_value_t*, %jl_value_t** %34, i64 3\n",
      "      %36 = bitcast %jl_value_t** %35 to i64*\n",
      "      %37 = load i64, i64* %36, align 8\n",
      "; │││└\n",
      "; │││┌ @ tuple.jl:157 within `map'\n",
      "; ││││┌ @ range.jl:326 within `OneTo' @ range.jl:317\n",
      "; │││││┌ @ promotion.jl:409 within `max'\n",
      "        %38 = icmp sgt i64 %37, 0\n",
      "        %39 = select i1 %38, i64 %37, i64 0\n",
      "        %40 = getelementptr %jl_value_t*, %jl_value_t** %gcframe, i32 5\n",
      "        store %jl_value_t* %33, %jl_value_t** %40\n",
      "; ││└└└└\n",
      "; ││┌ @ array.jl:642 within `_collect_indices'\n",
      "; │││┌ @ boot.jl:423 within `Array' @ boot.jl:415 @ boot.jl:406\n",
      "      %41 = call %jl_value_t* inttoptr (i64 1761678672 to %jl_value_t* (%jl_value_t*, i64)*)(%jl_value_t* inttoptr (i64 169017760 to %jl_value_t*), i64 %39)\n",
      "; │││└\n",
      "; │││┌ @ array.jl:350 within `copyto!'\n",
      "; ││││┌ @ array.jl:219 within `length'\n",
      "       %42 = bitcast %jl_value_t* %33 to %jl_array_t*\n",
      "       %43 = getelementptr inbounds %jl_array_t, %jl_array_t* %42, i64 0, i32 1\n",
      "       %44 = load i64, i64* %43, align 8\n",
      "       %45 = getelementptr %jl_value_t*, %jl_value_t** %gcframe, i32 6\n",
      "       store %jl_value_t* %41, %jl_value_t** %45\n",
      "; ││││└\n",
      "; ││││ @ array.jl:350 within `copyto!' @ array.jl:326\n",
      "      %46 = call nonnull %jl_value_t* @\"j__copyto_impl!_2005\"(%jl_value_t* %41, i64 1, %jl_value_t* nonnull %33, i64 1, i64 %44) #2\n",
      "      %47 = getelementptr %jl_value_t*, %jl_value_t** %gcframe, i32 1\n",
      "      %48 = load %jl_value_t*, %jl_value_t** %47\n",
      "      %49 = getelementptr %jl_value_t**, %jl_value_t*** %11, i32 0\n",
      "      %50 = bitcast %jl_value_t*** %49 to %jl_value_t**\n",
      "      store %jl_value_t* %48, %jl_value_t** %50\n",
      "; └└└└\n",
      "  ret %jl_value_t* %46\n",
      "}\n"
     ]
    }
   ],
   "source": [
    "@code_llvm removeDups(CW1)"
   ]
  },
  {
   "cell_type": "code",
   "execution_count": 21,
   "metadata": {},
   "outputs": [
    {
     "data": {
      "text/plain": [
       "BenchmarkTools.Trial: \n",
       "  memory estimate:  1.83 KiB\n",
       "  allocs estimate:  10\n",
       "  --------------\n",
       "  minimum time:     5.700 μs (0.00% GC)\n",
       "  median time:      6.750 μs (0.00% GC)\n",
       "  mean time:        10.016 μs (1.18% GC)\n",
       "  maximum time:     864.450 μs (0.00% GC)\n",
       "  --------------\n",
       "  samples:          10000\n",
       "  evals/sample:     6"
      ]
     },
     "execution_count": 21,
     "metadata": {},
     "output_type": "execute_result"
    }
   ],
   "source": [
    "@benchmark removeDups(CW1)"
   ]
  }
 ],
 "metadata": {
  "kernelspec": {
   "display_name": "Julia 1.5.3",
   "language": "julia",
   "name": "julia-1.5"
  },
  "language_info": {
   "file_extension": ".jl",
   "mimetype": "application/julia",
   "name": "julia",
   "version": "1.5.3"
  }
 },
 "nbformat": 4,
 "nbformat_minor": 4
}
