{
 "cells": [
  {
   "cell_type": "code",
   "execution_count": 8,
   "metadata": {},
   "outputs": [],
   "source": [
    "using BenchmarkTools\n",
    "using LinearAlgebra"
   ]
  },
  {
   "cell_type": "code",
   "execution_count": 9,
   "metadata": {},
   "outputs": [
    {
     "data": {
      "text/plain": [
       "12-element Array{Array{Int64,1},1}:\n",
       " [0, 1, 2, 3]\n",
       " [4, 5, 6, 7]\n",
       " [0, 1, 4, 5]\n",
       " [2, 3, 6, 7]\n",
       " [0, 2, 4, 6]\n",
       " [1, 3, 5, 7]\n",
       " [4, 5, 6, 7]\n",
       " [8, 9, 10, 11]\n",
       " [4, 5, 8, 9]\n",
       " [6, 7, 10, 11]\n",
       " [4, 6, 8, 10]\n",
       " [5, 7, 9, 11]"
      ]
     },
     "execution_count": 9,
     "metadata": {},
     "output_type": "execute_result"
    }
   ],
   "source": [
    "CW1=[[0,1,2,3],[4,5,6,7],[0,1,4,5],[2,3,6,7],[0,2,4,6],[1,3,5,7],\n",
    "\t[4,5,6,7],[8,9,10,11],[4,5,8,9],[6,7,10,11],[4,6,8,10],[5,7,9,11]]"
   ]
  },
  {
   "cell_type": "code",
   "execution_count": 10,
   "metadata": {},
   "outputs": [
    {
     "data": {
      "text/plain": [
       "5-element Array{Array{Int64,1},1}:\n",
       " [0, 1, 2, 3]\n",
       " [4, 5, 6, 7]\n",
       " [8, 9, 10, 11]\n",
       " [12, 13, 14, 15]\n",
       " [16, 17, 18, 19]"
      ]
     },
     "execution_count": 10,
     "metadata": {},
     "output_type": "execute_result"
    }
   ],
   "source": [
    "CW2=[[0,1,2,3],[4,5,6,7],[8,9,10,11],[12,13,14,15],[16,17,18,19]]"
   ]
  },
  {
   "cell_type": "markdown",
   "metadata": {},
   "source": [
    "## Vecchia funzione"
   ]
  },
  {
   "cell_type": "code",
   "execution_count": 5,
   "metadata": {},
   "outputs": [
    {
     "data": {
      "text/plain": [
       "removeDups (generic function with 1 method)"
      ]
     },
     "execution_count": 5,
     "metadata": {},
     "output_type": "execute_result"
    }
   ],
   "source": [
    "function removeDups(CW)\n",
    "\tCW = collect(Set(CW))\n",
    "\tCWs = collect(map(sort,CW))\n",
    "\treturn CWs\n",
    "end"
   ]
  },
  {
   "cell_type": "code",
   "execution_count": 6,
   "metadata": {},
   "outputs": [
    {
     "name": "stdout",
     "output_type": "stream",
     "text": [
      "  6.460 μs (21 allocations: 3.03 KiB)\n"
     ]
    },
    {
     "data": {
      "text/plain": [
       "11-element Array{Array{Int64,1},1}:\n",
       " [6, 7, 10, 11]\n",
       " [4, 5, 6, 7]\n",
       " [4, 6, 8, 10]\n",
       " [1, 3, 5, 7]\n",
       " [0, 1, 2, 3]\n",
       " [8, 9, 10, 11]\n",
       " [0, 2, 4, 6]\n",
       " [5, 7, 9, 11]\n",
       " [2, 3, 6, 7]\n",
       " [4, 5, 8, 9]\n",
       " [0, 1, 4, 5]"
      ]
     },
     "execution_count": 6,
     "metadata": {},
     "output_type": "execute_result"
    }
   ],
   "source": [
    "@btime removeDups(CW1)"
   ]
  },
  {
   "cell_type": "code",
   "execution_count": 7,
   "metadata": {},
   "outputs": [
    {
     "name": "stdout",
     "output_type": "stream",
     "text": [
      "  1.920 μs (12 allocations: 1.39 KiB)\n"
     ]
    },
    {
     "data": {
      "text/plain": [
       "5-element Array{Array{Int64,1},1}:\n",
       " [8, 9, 10, 11]\n",
       " [12, 13, 14, 15]\n",
       " [0, 1, 2, 3]\n",
       " [16, 17, 18, 19]\n",
       " [4, 5, 6, 7]"
      ]
     },
     "execution_count": 7,
     "metadata": {},
     "output_type": "execute_result"
    }
   ],
   "source": [
    "@btime removeDups(CW2)"
   ]
  },
  {
   "cell_type": "code",
   "execution_count": null,
   "metadata": {},
   "outputs": [],
   "source": [
    "@benchmark removeDups(CW1)"
   ]
  },
  {
   "cell_type": "markdown",
   "metadata": {},
   "source": [
    "## Nuove funzioni"
   ]
  },
  {
   "cell_type": "code",
   "execution_count": 8,
   "metadata": {},
   "outputs": [
    {
     "data": {
      "text/plain": [
       "sortCells (generic function with 1 method)"
      ]
     },
     "execution_count": 8,
     "metadata": {},
     "output_type": "execute_result"
    }
   ],
   "source": [
    "function sortCells(CW)\n",
    "\tCWs = collect(map(sort,CW))\n",
    "\treturn CWs\n",
    "end"
   ]
  },
  {
   "cell_type": "code",
   "execution_count": 9,
   "metadata": {},
   "outputs": [
    {
     "data": {
      "text/plain": [
       "removeDups (generic function with 1 method)"
      ]
     },
     "execution_count": 9,
     "metadata": {},
     "output_type": "execute_result"
    }
   ],
   "source": [
    "function removeDups(CW)\n",
    "\tCW = collect(Set(CW))\n",
    "\tsortCells(CW)\n",
    "end"
   ]
  },
  {
   "cell_type": "code",
   "execution_count": 10,
   "metadata": {},
   "outputs": [
    {
     "name": "stdout",
     "output_type": "stream",
     "text": [
      "  6.460 μs (21 allocations: 3.03 KiB)\n"
     ]
    },
    {
     "data": {
      "text/plain": [
       "11-element Array{Array{Int64,1},1}:\n",
       " [6, 7, 10, 11]\n",
       " [4, 5, 6, 7]\n",
       " [4, 6, 8, 10]\n",
       " [1, 3, 5, 7]\n",
       " [0, 1, 2, 3]\n",
       " [8, 9, 10, 11]\n",
       " [0, 2, 4, 6]\n",
       " [5, 7, 9, 11]\n",
       " [2, 3, 6, 7]\n",
       " [4, 5, 8, 9]\n",
       " [0, 1, 4, 5]"
      ]
     },
     "execution_count": 10,
     "metadata": {},
     "output_type": "execute_result"
    }
   ],
   "source": [
    "@btime removeDups(CW1)"
   ]
  },
  {
   "cell_type": "code",
   "execution_count": 11,
   "metadata": {},
   "outputs": [
    {
     "name": "stdout",
     "output_type": "stream",
     "text": [
      "  1.930 μs (12 allocations: 1.39 KiB)\n"
     ]
    },
    {
     "data": {
      "text/plain": [
       "5-element Array{Array{Int64,1},1}:\n",
       " [8, 9, 10, 11]\n",
       " [12, 13, 14, 15]\n",
       " [0, 1, 2, 3]\n",
       " [16, 17, 18, 19]\n",
       " [4, 5, 6, 7]"
      ]
     },
     "execution_count": 11,
     "metadata": {},
     "output_type": "execute_result"
    }
   ],
   "source": [
    "@btime removeDups(CW2)"
   ]
  },
  {
   "cell_type": "code",
   "execution_count": 12,
   "metadata": {},
   "outputs": [
    {
     "data": {
      "text/plain": [
       "BenchmarkTools.Trial: \n",
       "  memory estimate:  3.03 KiB\n",
       "  allocs estimate:  21\n",
       "  --------------\n",
       "  minimum time:     6.400 μs (0.00% GC)\n",
       "  median time:      7.380 μs (0.00% GC)\n",
       "  mean time:        8.436 μs (1.11% GC)\n",
       "  maximum time:     337.420 μs (94.99% GC)\n",
       "  --------------\n",
       "  samples:          10000\n",
       "  evals/sample:     5"
      ]
     },
     "execution_count": 12,
     "metadata": {},
     "output_type": "execute_result"
    }
   ],
   "source": [
    "@benchmark removeDups(CW1)"
   ]
  },
  {
   "cell_type": "code",
   "execution_count": 13,
   "metadata": {},
   "outputs": [
    {
     "data": {
      "text/plain": [
       "CodeInfo(\n",
       "\u001b[90m1 ─\u001b[39m %1  = invoke Dict{Array{Int64,1},Nothing}()\u001b[36m::Dict{Array{Int64,1},Nothing}\u001b[39m\n",
       "\u001b[90m│  \u001b[39m %2  = %new(Set{Array{Int64,1}}, %1)\u001b[36m::Set{Array{Int64,1}}\u001b[39m\n",
       "\u001b[90m│  \u001b[39m %3  = invoke Base.union!(%2::Set{Array{Int64,1}}, _2::Array{Array{Int64,1},1})\u001b[36m::Set{Array{Int64,1}}\u001b[39m\n",
       "\u001b[90m│  \u001b[39m %4  = Base.getfield(%3, :dict)\u001b[36m::Dict{Array{Int64,1},Nothing}\u001b[39m\n",
       "\u001b[90m│  \u001b[39m %5  = Base.getfield(%4, :count)\u001b[36m::Int64\u001b[39m\n",
       "\u001b[90m│  \u001b[39m %6  = $(Expr(:foreigncall, :(:jl_alloc_array_1d), Array{Array{Int64,1},1}, svec(Any, Int64), 0, :(:ccall), Array{Array{Int64,1},1}, :(%5), :(%5)))\u001b[36m::Array{Array{Int64,1},1}\u001b[39m\n",
       "\u001b[90m│  \u001b[39m %7  = invoke Base.copyto!(%6::Array{Array{Int64,1},1}, %3::Set{Array{Int64,1}})\u001b[36m::Array{Array{Int64,1},1}\u001b[39m\n",
       "\u001b[90m│  \u001b[39m %8  = %new(Base.Generator{Array{Array{Int64,1},1},typeof(sort)}, sort, %7)\u001b[36m::Base.Generator{Array{Array{Int64,1},1},typeof(sort)}\u001b[39m\n",
       "\u001b[90m│  \u001b[39m %9  = invoke Base._collect(%7::Array{Array{Int64,1},1}, %8::Base.Generator{Array{Array{Int64,1},1},typeof(sort)}, $(QuoteNode(Base.EltypeUnknown()))::Base.EltypeUnknown, $(QuoteNode(Base.HasShape{1}()))::Base.HasShape{1})\u001b[36m::Array{Array{Int64,1},1}\u001b[39m\n",
       "\u001b[90m│  \u001b[39m %10 = Base.arraysize(%9, 1)\u001b[36m::Int64\u001b[39m\n",
       "\u001b[90m│  \u001b[39m %11 = Base.slt_int(%10, 0)\u001b[36m::Bool\u001b[39m\n",
       "\u001b[90m│  \u001b[39m %12 = Base.ifelse(%11, 0, %10)\u001b[36m::Int64\u001b[39m\n",
       "\u001b[90m│  \u001b[39m %13 = $(Expr(:foreigncall, :(:jl_alloc_array_1d), Array{Array{Int64,1},1}, svec(Any, Int64), 0, :(:ccall), Array{Array{Int64,1},1}, :(%12), :(%12)))\u001b[36m::Array{Array{Int64,1},1}\u001b[39m\n",
       "\u001b[90m│  \u001b[39m %14 = Base.arraylen(%9)\u001b[36m::Int64\u001b[39m\n",
       "\u001b[90m│  \u001b[39m %15 = invoke Base._copyto_impl!(%13::Array{Array{Int64,1},1}, 1::Int64, %9::Array{Array{Int64,1},1}, 1::Int64, %14::Int64)\u001b[36m::Array{Array{Int64,1},1}\u001b[39m\n",
       "\u001b[90m└──\u001b[39m       return %15\n",
       ") => Array{Array{Int64,1},1}"
      ]
     },
     "execution_count": 13,
     "metadata": {},
     "output_type": "execute_result"
    }
   ],
   "source": [
    "@code_typed removeDups(CW1)"
   ]
  },
  {
   "cell_type": "code",
   "execution_count": 14,
   "metadata": {},
   "outputs": [
    {
     "name": "stdout",
     "output_type": "stream",
     "text": [
      "Variables\n",
      "  #self#\u001b[36m::Core.Compiler.Const(removeDups, false)\u001b[39m\n",
      "  CW@_2\u001b[36m::Array{Array{Int64,1},1}\u001b[39m\n",
      "  CW@_3\u001b[36m::Array{Array{Int64,1},1}\u001b[39m\n",
      "\n",
      "Body\u001b[36m::Array{Array{Int64,1},1}\u001b[39m\n",
      "\u001b[90m1 ─\u001b[39m      (CW@_3 = CW@_2)\n",
      "\u001b[90m│  \u001b[39m %2 = Main.Set(CW@_3)\u001b[36m::Set{Array{Int64,1}}\u001b[39m\n",
      "\u001b[90m│  \u001b[39m      (CW@_3 = Main.collect(%2))\n",
      "\u001b[90m│  \u001b[39m %4 = Main.sortCells(CW@_3)\u001b[36m::Array{Array{Int64,1},1}\u001b[39m\n",
      "\u001b[90m└──\u001b[39m      return %4\n"
     ]
    }
   ],
   "source": [
    "@code_warntype removeDups(CW1)"
   ]
  },
  {
   "cell_type": "markdown",
   "metadata": {},
   "source": [
    "## Modifiche"
   ]
  },
  {
   "cell_type": "markdown",
   "metadata": {},
   "source": [
    "\"\"\"\\\n",
    "sortCells(CW::Cells)::Cells\\\n",
    "Mette “Cells” in forma canonica, ovvero vengono ordinati gli indici di vertici in ogni singolo elemento dell’array “Cells”.\\\n",
    "\"\"\""
   ]
  },
  {
   "cell_type": "code",
   "execution_count": 11,
   "metadata": {},
   "outputs": [
    {
     "data": {
      "text/plain": [
       "sortCells (generic function with 1 method)"
      ]
     },
     "execution_count": 11,
     "metadata": {},
     "output_type": "execute_result"
    }
   ],
   "source": [
    "function sortCells(CW)\n",
    "\tCWs = collect(map(sort!,CW))\n",
    "\treturn CWs\n",
    "end"
   ]
  },
  {
   "cell_type": "markdown",
   "metadata": {},
   "source": [
    "\"\"\"\\\n",
    "removeDups(CW::Cells)::Cells\\\n",
    "Rimuove le celle duplicate dall’oggetto “Cells”.\\\n",
    "\"\"\""
   ]
  },
  {
   "cell_type": "code",
   "execution_count": 12,
   "metadata": {},
   "outputs": [
    {
     "data": {
      "text/plain": [
       "removeDups (generic function with 1 method)"
      ]
     },
     "execution_count": 12,
     "metadata": {},
     "output_type": "execute_result"
    }
   ],
   "source": [
    "function removeDups(CW)\n",
    "\tCW = collect(Set(CW))\n",
    "\tsortCells(CW)\n",
    "end"
   ]
  },
  {
   "cell_type": "code",
   "execution_count": 13,
   "metadata": {},
   "outputs": [
    {
     "ename": "LoadError",
     "evalue": "UndefVarError: pmap not defined",
     "output_type": "error",
     "traceback": [
      "UndefVarError: pmap not defined",
      "",
      "Stacktrace:",
      " [1] sortCells(::Array{Array{Int64,1},1}) at .\\In[11]:2",
      " [2] removeDups(::Array{Array{Int64,1},1}) at .\\In[12]:3",
      " [3] ##core#259() at C:\\Users\\omarm\\.julia\\packages\\BenchmarkTools\\eCEpo\\src\\execution.jl:371",
      " [4] ##sample#260(::BenchmarkTools.Parameters) at C:\\Users\\omarm\\.julia\\packages\\BenchmarkTools\\eCEpo\\src\\execution.jl:377",
      " [5] _run(::BenchmarkTools.Benchmark{Symbol(\"##benchmark#258\")}, ::BenchmarkTools.Parameters; verbose::Bool, pad::String, kwargs::Base.Iterators.Pairs{Symbol,Integer,NTuple{4,Symbol},NamedTuple{(:samples, :evals, :gctrial, :gcsample),Tuple{Int64,Int64,Bool,Bool}}}) at C:\\Users\\omarm\\.julia\\packages\\BenchmarkTools\\eCEpo\\src\\execution.jl:405",
      " [6] (::Base.var\"#inner#2\"{Base.Iterators.Pairs{Symbol,Integer,NTuple{5,Symbol},NamedTuple{(:verbose, :samples, :evals, :gctrial, :gcsample),Tuple{Bool,Int64,Int64,Bool,Bool}}},typeof(BenchmarkTools._run),Tuple{BenchmarkTools.Benchmark{Symbol(\"##benchmark#258\")},BenchmarkTools.Parameters}})() at .\\essentials.jl:713",
      " [7] #invokelatest#1 at .\\essentials.jl:714 [inlined]",
      " [8] #run_result#37 at C:\\Users\\omarm\\.julia\\packages\\BenchmarkTools\\eCEpo\\src\\execution.jl:32 [inlined]",
      " [9] run(::BenchmarkTools.Benchmark{Symbol(\"##benchmark#258\")}, ::BenchmarkTools.Parameters; progressid::Nothing, nleaves::Float64, ndone::Float64, kwargs::Base.Iterators.Pairs{Symbol,Integer,NTuple{5,Symbol},NamedTuple{(:verbose, :samples, :evals, :gctrial, :gcsample),Tuple{Bool,Int64,Int64,Bool,Bool}}}) at C:\\Users\\omarm\\.julia\\packages\\BenchmarkTools\\eCEpo\\src\\execution.jl:94",
      " [10] #warmup#45 at C:\\Users\\omarm\\.julia\\packages\\BenchmarkTools\\eCEpo\\src\\execution.jl:141 [inlined]",
      " [11] warmup(::BenchmarkTools.Benchmark{Symbol(\"##benchmark#258\")}) at C:\\Users\\omarm\\.julia\\packages\\BenchmarkTools\\eCEpo\\src\\execution.jl:141",
      " [12] top-level scope at C:\\Users\\omarm\\.julia\\packages\\BenchmarkTools\\eCEpo\\src\\execution.jl:481",
      " [13] include_string(::Function, ::Module, ::String, ::String) at .\\loading.jl:1091"
     ]
    }
   ],
   "source": [
    "@btime removeDups(CW1)"
   ]
  },
  {
   "cell_type": "code",
   "execution_count": 23,
   "metadata": {},
   "outputs": [
    {
     "data": {
      "text/plain": [
       "CodeInfo(\n",
       "\u001b[90m1 ─\u001b[39m %1  = invoke Dict{Array{Int64,1},Nothing}()\u001b[36m::Dict{Array{Int64,1},Nothing}\u001b[39m\n",
       "\u001b[90m│  \u001b[39m %2  = %new(Set{Array{Int64,1}}, %1)\u001b[36m::Set{Array{Int64,1}}\u001b[39m\n",
       "\u001b[90m│  \u001b[39m %3  = invoke Base.union!(%2::Set{Array{Int64,1}}, _2::Array{Array{Int64,1},1})\u001b[36m::Set{Array{Int64,1}}\u001b[39m\n",
       "\u001b[90m│  \u001b[39m %4  = Base.getfield(%3, :dict)\u001b[36m::Dict{Array{Int64,1},Nothing}\u001b[39m\n",
       "\u001b[90m│  \u001b[39m %5  = Base.getfield(%4, :count)\u001b[36m::Int64\u001b[39m\n",
       "\u001b[90m│  \u001b[39m %6  = $(Expr(:foreigncall, :(:jl_alloc_array_1d), Array{Array{Int64,1},1}, svec(Any, Int64), 0, :(:ccall), Array{Array{Int64,1},1}, :(%5), :(%5)))\u001b[36m::Array{Array{Int64,1},1}\u001b[39m\n",
       "\u001b[90m│  \u001b[39m %7  = invoke Base.copyto!(%6::Array{Array{Int64,1},1}, %3::Set{Array{Int64,1}})\u001b[36m::Array{Array{Int64,1},1}\u001b[39m\n",
       "\u001b[90m│  \u001b[39m %8  = %new(Base.Generator{Array{Array{Int64,1},1},typeof(sort)}, sort, %7)\u001b[36m::Base.Generator{Array{Array{Int64,1},1},typeof(sort)}\u001b[39m\n",
       "\u001b[90m│  \u001b[39m %9  = invoke Base._collect(%7::Array{Array{Int64,1},1}, %8::Base.Generator{Array{Array{Int64,1},1},typeof(sort)}, $(QuoteNode(Base.EltypeUnknown()))::Base.EltypeUnknown, $(QuoteNode(Base.HasShape{1}()))::Base.HasShape{1})\u001b[36m::Array{Array{Int64,1},1}\u001b[39m\n",
       "\u001b[90m│  \u001b[39m %10 = Base.arraysize(%9, 1)\u001b[36m::Int64\u001b[39m\n",
       "\u001b[90m│  \u001b[39m %11 = Base.slt_int(%10, 0)\u001b[36m::Bool\u001b[39m\n",
       "\u001b[90m│  \u001b[39m %12 = Base.ifelse(%11, 0, %10)\u001b[36m::Int64\u001b[39m\n",
       "\u001b[90m│  \u001b[39m %13 = $(Expr(:foreigncall, :(:jl_alloc_array_1d), Array{Array{Int64,1},1}, svec(Any, Int64), 0, :(:ccall), Array{Array{Int64,1},1}, :(%12), :(%12)))\u001b[36m::Array{Array{Int64,1},1}\u001b[39m\n",
       "\u001b[90m│  \u001b[39m %14 = Base.arraylen(%9)\u001b[36m::Int64\u001b[39m\n",
       "\u001b[90m│  \u001b[39m %15 = invoke Base._copyto_impl!(%13::Array{Array{Int64,1},1}, 1::Int64, %9::Array{Array{Int64,1},1}, 1::Int64, %14::Int64)\u001b[36m::Array{Array{Int64,1},1}\u001b[39m\n",
       "\u001b[90m└──\u001b[39m       return %15\n",
       ") => Array{Array{Int64,1},1}"
      ]
     },
     "execution_count": 23,
     "metadata": {},
     "output_type": "execute_result"
    }
   ],
   "source": [
    "@code_typed removeDups(CW1)"
   ]
  },
  {
   "cell_type": "code",
   "execution_count": null,
   "metadata": {},
   "outputs": [],
   "source": [
    "@benchmark removeDups(CW1)"
   ]
  }
 ],
 "metadata": {
  "kernelspec": {
   "display_name": "Julia 1.5.3",
   "language": "julia",
   "name": "julia-1.5"
  },
  "language_info": {
   "file_extension": ".jl",
   "mimetype": "application/julia",
   "name": "julia",
   "version": "1.5.3"
  }
 },
 "nbformat": 4,
 "nbformat_minor": 4
}
