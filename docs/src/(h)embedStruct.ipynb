{
 "cells": [
  {
   "cell_type": "code",
   "execution_count": 1,
   "metadata": {},
   "outputs": [
    {
     "data": {
      "text/plain": [
       "LinearAlgebraicRepresentation"
      ]
     },
     "execution_count": 1,
     "metadata": {},
     "output_type": "execute_result"
    }
   ],
   "source": [
    "using BenchmarkTools\n",
    "using LinearAlgebra\n",
    "using LinearAlgebraicRepresentation\n",
    "Lar = LinearAlgebraicRepresentation"
   ]
  },
  {
   "cell_type": "code",
   "execution_count": 2,
   "metadata": {},
   "outputs": [
    {
     "data": {
      "text/plain": [
       "([0.0 0.0 1.0 1.0; 0.0 1.0 0.0 1.0], [[1, 2, 3, 4]])"
      ]
     },
     "execution_count": 2,
     "metadata": {},
     "output_type": "execute_result"
    }
   ],
   "source": [
    "square = Lar.cuboid([1,1])"
   ]
  },
  {
   "cell_type": "code",
   "execution_count": 3,
   "metadata": {},
   "outputs": [
    {
     "data": {
      "text/plain": [
       "LinearAlgebraicRepresentation.Struct([([0.0 0.0 1.0 1.0; 0.0 1.0 0.0 1.0], [[1, 2, 3, 4]])], [[0.0; 0.0], [1.0; 1.0]], \"7377560575363784694\", 2, \"feature\")"
      ]
     },
     "execution_count": 3,
     "metadata": {},
     "output_type": "execute_result"
    }
   ],
   "source": [
    "x = Lar.Struct([square])"
   ]
  },
  {
   "cell_type": "markdown",
   "metadata": {},
   "source": [
    "## Vecchia funzione"
   ]
  },
  {
   "cell_type": "code",
   "execution_count": 4,
   "metadata": {},
   "outputs": [
    {
     "data": {
      "text/plain": [
       "embedStruct (generic function with 1 method)"
      ]
     },
     "execution_count": 4,
     "metadata": {},
     "output_type": "execute_result"
    }
   ],
   "source": [
    "function embedStruct(n::Int)\n",
    "\tfunction embedStruct0(self::Lar.Struct,suffix::String=\"New\")\n",
    "\t\tif n==0\n",
    "\t\t\treturn self, length(self.box[1])\n",
    "\t\tend\n",
    "\t\tcloned = Lar.Struct()\n",
    "\t\tcloned.box = [ [self.body[i].box[1];zeros(dimadd)],\n",
    "\t\t\t\t\t\t[self.body[i].box[2];zeros(dimadd)] ]\n",
    "\t\tcloned.name = self.name*suffix\n",
    "\t\tcloned.category = self.category\n",
    "\t\tcloned.dim = self.dim+n\n",
    "\t\tcloned = Lar.embedTraversal(cloned,self,n,suffix)\n",
    "\t\treturn cloned\n",
    "\tend\n",
    "\treturn embedStruct0\n",
    "end"
   ]
  },
  {
   "cell_type": "code",
   "execution_count": null,
   "metadata": {},
   "outputs": [],
   "source": [
    "@btime embedStruct(1)(x)"
   ]
  },
  {
   "cell_type": "code",
   "execution_count": null,
   "metadata": {},
   "outputs": [],
   "source": [
    "@benchmark embedStruct(1)(x)"
   ]
  },
  {
   "cell_type": "markdown",
   "metadata": {},
   "source": [
    "## Modifiche"
   ]
  },
  {
   "cell_type": "code",
   "execution_count": 16,
   "metadata": {},
   "outputs": [
    {
     "data": {
      "text/plain": [
       "embedStruc (generic function with 1 method)"
      ]
     },
     "execution_count": 16,
     "metadata": {},
     "output_type": "execute_result"
    }
   ],
   "source": [
    "function embedStruct(n)\n",
    "\tfunction embedStruct0(self, suffix)\n",
    "\t\tif n==0\n",
    "\t\t\treturn self, length(self.box[1])\n",
    "\t\tend\n",
    "\t\tcloned = Lar.Struct()\n",
    "\t\tcloned.box = hcat((self.box,[fill([0],n),fill([0],n)]))\n",
    "\t\tcloned.name = self.name*suffix\n",
    "\t\tcloned.category = self.category\n",
    "\t\tcloned.dim = self.dim+n\n",
    "\t\tcloned = Lar.embedTraversal(cloned,self,n,suffix)\n",
    "\t\treturn cloned\n",
    "\tend\n",
    "\treturn embedStruct0\n",
    "end"
   ]
  },
  {
   "cell_type": "code",
   "execution_count": 17,
   "metadata": {},
   "outputs": [
    {
     "name": "stdout",
     "output_type": "stream",
     "text": [
      "  11.300 μs (33 allocations: 2.45 KiB)\n"
     ]
    },
    {
     "data": {
      "text/plain": [
       "LinearAlgebraicRepresentation.Struct(Any[[([0.0 0.0 1.0 1.0; 0.0 1.0 0.0 1.0; 0.0 0.0 0.0 0.0], [[1, 2, 3, 4]])]], [([[0.0; 0.0], [1.0; 1.0]], [[[0]], [[0]]])], \"7377560575363784694-New\", 3, \"feature\")"
      ]
     },
     "execution_count": 17,
     "metadata": {},
     "output_type": "execute_result"
    }
   ],
   "source": [
    "@btime embedStruct(1)(x,\"-New\")"
   ]
  },
  {
   "cell_type": "code",
   "execution_count": 6,
   "metadata": {},
   "outputs": [
    {
     "data": {
      "text/plain": [
       "BenchmarkTools.Trial: \n",
       "  memory estimate:  2.45 KiB\n",
       "  allocs estimate:  33\n",
       "  --------------\n",
       "  minimum time:     11.400 μs (0.00% GC)\n",
       "  median time:      12.201 μs (0.00% GC)\n",
       "  mean time:        16.980 μs (0.00% GC)\n",
       "  maximum time:     438.400 μs (0.00% GC)\n",
       "  --------------\n",
       "  samples:          10000\n",
       "  evals/sample:     1"
      ]
     },
     "execution_count": 6,
     "metadata": {},
     "output_type": "execute_result"
    }
   ],
   "source": [
    "@benchmark embedStruct(1)(x,\"-New\")"
   ]
  },
  {
   "cell_type": "code",
   "execution_count": 7,
   "metadata": {
    "scrolled": false
   },
   "outputs": [
    {
     "data": {
      "text/plain": [
       "CodeInfo(\n",
       "\u001b[90m1 ──\u001b[39m %1   = Core.getfield(#self#, :n)\u001b[36m::Int64\u001b[39m\n",
       "\u001b[90m│   \u001b[39m %2   = (%1 === 0)\u001b[36m::Bool\u001b[39m\n",
       "\u001b[90m└───\u001b[39m        goto #3 if not %2\n",
       "\u001b[90m2 ──\u001b[39m %4   = Base.getfield(self, :box)\u001b[36m::Any\u001b[39m\n",
       "\u001b[90m│   \u001b[39m %5   = Base.getindex(%4, 1)\u001b[36m::Any\u001b[39m\n",
       "\u001b[90m│   \u001b[39m %6   = Main.length(%5)\u001b[36m::Any\u001b[39m\n",
       "\u001b[90m│   \u001b[39m %7   = Core.tuple(self, %6)\u001b[36m::Tuple{LinearAlgebraicRepresentation.Struct,Any}\u001b[39m\n",
       "\u001b[90m└───\u001b[39m        return %7\n",
       "\u001b[90m3 ──\u001b[39m %9   = Base.getproperty(Main.Lar, :Struct)\u001b[36m::Any\u001b[39m\n",
       "\u001b[90m│   \u001b[39m %10  = (%9)()\u001b[36m::Any\u001b[39m\n",
       "\u001b[90m│   \u001b[39m %11  = Base.getfield(self, :box)\u001b[36m::Any\u001b[39m\n",
       "\u001b[90m│   \u001b[39m %12  = $(Expr(:foreigncall, :(:jl_alloc_array_1d), Array{Int64,1}, svec(Any, Int64), 0, :(:ccall), Array{Int64,1}, 1, 1))\u001b[36m::Array{Int64,1}\u001b[39m\n",
       "\u001b[90m│   \u001b[39m        Base.arraysize(%12, 1)\u001b[90m::Int64\u001b[39m\n",
       "\u001b[90m└───\u001b[39m        goto #5 if not true\n",
       "\u001b[90m4 ──\u001b[39m        Base.arrayset(false, %12, 0, 1)\u001b[90m::Array{Int64,1}\u001b[39m\n",
       "\u001b[90m5 ┄─\u001b[39m        goto #6\n",
       "\u001b[90m6 ──\u001b[39m %17  = Core.getfield(#self#, :n)\u001b[36m::Int64\u001b[39m\n",
       "\u001b[90m│   \u001b[39m %18  = $(Expr(:foreigncall, :(:jl_alloc_array_1d), Array{Array{Int64,1},1}, svec(Any, Int64), 0, :(:ccall), Array{Array{Int64,1},1}, :(%17), :(%17)))\u001b[36m::Array{Array{Int64,1},1}\u001b[39m\n",
       "\u001b[90m│   \u001b[39m %19  = Base.arraysize(%18, 1)\u001b[36m::Int64\u001b[39m\n",
       "\u001b[90m│   \u001b[39m %20  = Base.slt_int(%19, 0)\u001b[36m::Bool\u001b[39m\n",
       "\u001b[90m│   \u001b[39m %21  = Base.ifelse(%20, 0, %19)\u001b[36m::Int64\u001b[39m\n",
       "\u001b[90m│   \u001b[39m %22  = Base.slt_int(%21, 1)\u001b[36m::Bool\u001b[39m\n",
       "\u001b[90m└───\u001b[39m        goto #8 if not %22\n",
       "\u001b[90m7 ──\u001b[39m        goto #9\n",
       "\u001b[90m8 ──\u001b[39m        goto #9\n",
       "\u001b[90m9 ┄─\u001b[39m %26  = φ (#7 => true, #8 => false)\u001b[36m::Bool\u001b[39m\n",
       "\u001b[90m│   \u001b[39m %27  = φ (#8 => 1)\u001b[36m::Int64\u001b[39m\n",
       "\u001b[90m│   \u001b[39m %28  = φ (#8 => 1)\u001b[36m::Int64\u001b[39m\n",
       "\u001b[90m│   \u001b[39m %29  = Base.not_int(%26)\u001b[36m::Bool\u001b[39m\n",
       "\u001b[90m└───\u001b[39m        goto #15 if not %29\n",
       "\u001b[90m10 ┄\u001b[39m %31  = φ (#9 => %27, #14 => %39)\u001b[36m::Int64\u001b[39m\n",
       "\u001b[90m│   \u001b[39m %32  = φ (#9 => %28, #14 => %40)\u001b[36m::Int64\u001b[39m\n",
       "\u001b[90m│   \u001b[39m        Base.arrayset(false, %18, %12, %31)\u001b[90m::Array{Array{Int64,1},1}\u001b[39m\n",
       "\u001b[90m│   \u001b[39m %34  = (%32 === %21)\u001b[36m::Bool\u001b[39m\n",
       "\u001b[90m└───\u001b[39m        goto #12 if not %34\n",
       "\u001b[90m11 ─\u001b[39m        goto #13\n",
       "\u001b[90m12 ─\u001b[39m %37  = Base.add_int(%32, 1)\u001b[36m::Int64\u001b[39m\n",
       "\u001b[90m└───\u001b[39m        goto #13\n",
       "\u001b[90m13 ┄\u001b[39m %39  = φ (#12 => %37)\u001b[36m::Int64\u001b[39m\n",
       "\u001b[90m│   \u001b[39m %40  = φ (#12 => %37)\u001b[36m::Int64\u001b[39m\n",
       "\u001b[90m│   \u001b[39m %41  = φ (#11 => true, #12 => false)\u001b[36m::Bool\u001b[39m\n",
       "\u001b[90m│   \u001b[39m %42  = Base.not_int(%41)\u001b[36m::Bool\u001b[39m\n",
       "\u001b[90m└───\u001b[39m        goto #15 if not %42\n",
       "\u001b[90m14 ─\u001b[39m        goto #10\n",
       "\u001b[90m15 ┄\u001b[39m        goto #16\n",
       "\u001b[90m16 ─\u001b[39m        goto #17\n",
       "\u001b[90m17 ─\u001b[39m        goto #18\n",
       "\u001b[90m18 ─\u001b[39m %48  = $(Expr(:foreigncall, :(:jl_alloc_array_1d), Array{Int64,1}, svec(Any, Int64), 0, :(:ccall), Array{Int64,1}, 1, 1))\u001b[36m::Array{Int64,1}\u001b[39m\n",
       "\u001b[90m│   \u001b[39m        Base.arraysize(%48, 1)\u001b[90m::Int64\u001b[39m\n",
       "\u001b[90m└───\u001b[39m        goto #20 if not true\n",
       "\u001b[90m19 ─\u001b[39m        Base.arrayset(false, %48, 0, 1)\u001b[90m::Array{Int64,1}\u001b[39m\n",
       "\u001b[90m20 ┄\u001b[39m        goto #21\n",
       "\u001b[90m21 ─\u001b[39m %53  = Core.getfield(#self#, :n)\u001b[36m::Int64\u001b[39m\n",
       "\u001b[90m│   \u001b[39m %54  = $(Expr(:foreigncall, :(:jl_alloc_array_1d), Array{Array{Int64,1},1}, svec(Any, Int64), 0, :(:ccall), Array{Array{Int64,1},1}, :(%53), :(%53)))\u001b[36m::Array{Array{Int64,1},1}\u001b[39m\n",
       "\u001b[90m│   \u001b[39m %55  = Base.arraysize(%54, 1)\u001b[36m::Int64\u001b[39m\n",
       "\u001b[90m│   \u001b[39m %56  = Base.slt_int(%55, 0)\u001b[36m::Bool\u001b[39m\n",
       "\u001b[90m│   \u001b[39m %57  = Base.ifelse(%56, 0, %55)\u001b[36m::Int64\u001b[39m\n",
       "\u001b[90m│   \u001b[39m %58  = Base.slt_int(%57, 1)\u001b[36m::Bool\u001b[39m\n",
       "\u001b[90m└───\u001b[39m        goto #23 if not %58\n",
       "\u001b[90m22 ─\u001b[39m        goto #24\n",
       "\u001b[90m23 ─\u001b[39m        goto #24\n",
       "\u001b[90m24 ┄\u001b[39m %62  = φ (#22 => true, #23 => false)\u001b[36m::Bool\u001b[39m\n",
       "\u001b[90m│   \u001b[39m %63  = φ (#23 => 1)\u001b[36m::Int64\u001b[39m\n",
       "\u001b[90m│   \u001b[39m %64  = φ (#23 => 1)\u001b[36m::Int64\u001b[39m\n",
       "\u001b[90m│   \u001b[39m %65  = Base.not_int(%62)\u001b[36m::Bool\u001b[39m\n",
       "\u001b[90m└───\u001b[39m        goto #30 if not %65\n",
       "\u001b[90m25 ┄\u001b[39m %67  = φ (#24 => %63, #29 => %75)\u001b[36m::Int64\u001b[39m\n",
       "\u001b[90m│   \u001b[39m %68  = φ (#24 => %64, #29 => %76)\u001b[36m::Int64\u001b[39m\n",
       "\u001b[90m│   \u001b[39m        Base.arrayset(false, %54, %48, %67)\u001b[90m::Array{Array{Int64,1},1}\u001b[39m\n",
       "\u001b[90m│   \u001b[39m %70  = (%68 === %57)\u001b[36m::Bool\u001b[39m\n",
       "\u001b[90m└───\u001b[39m        goto #27 if not %70\n",
       "\u001b[90m26 ─\u001b[39m        goto #28\n",
       "\u001b[90m27 ─\u001b[39m %73  = Base.add_int(%68, 1)\u001b[36m::Int64\u001b[39m\n",
       "\u001b[90m└───\u001b[39m        goto #28\n",
       "\u001b[90m28 ┄\u001b[39m %75  = φ (#27 => %73)\u001b[36m::Int64\u001b[39m\n",
       "\u001b[90m│   \u001b[39m %76  = φ (#27 => %73)\u001b[36m::Int64\u001b[39m\n",
       "\u001b[90m│   \u001b[39m %77  = φ (#26 => true, #27 => false)\u001b[36m::Bool\u001b[39m\n",
       "\u001b[90m│   \u001b[39m %78  = Base.not_int(%77)\u001b[36m::Bool\u001b[39m\n",
       "\u001b[90m└───\u001b[39m        goto #30 if not %78\n",
       "\u001b[90m29 ─\u001b[39m        goto #25\n",
       "\u001b[90m30 ┄\u001b[39m        goto #31\n",
       "\u001b[90m31 ─\u001b[39m        goto #32\n",
       "\u001b[90m32 ─\u001b[39m        goto #33\n",
       "\u001b[90m33 ─\u001b[39m %84  = Core.tuple(%18, %54)\u001b[36m::Tuple{Array{Array{Int64,1},1},Array{Array{Int64,1},1}}\u001b[39m\n",
       "\u001b[90m│   \u001b[39m %85  = $(Expr(:foreigncall, :(:jl_alloc_array_1d), Array{Array{Array{Int64,1},1},1}, svec(Any, Int64), 0, :(:ccall), Array{Array{Array{Int64,1},1},1}, 2, 2))\u001b[36m::Array{Array{Array{Int64,1},1},1}\u001b[39m\n",
       "\u001b[90m│   \u001b[39m        Base.arraysize(%85, 1)\u001b[90m::Int64\u001b[39m\n",
       "\u001b[90m└───\u001b[39m        goto #39 if not true\n",
       "\u001b[90m34 ┄\u001b[39m %88  = φ (#33 => 1, #38 => %93)\u001b[36m::Int64\u001b[39m\n",
       "\u001b[90m│   \u001b[39m %89  = φ (#33 => 1, #38 => %99)\u001b[36m::Int64\u001b[39m\n",
       "\u001b[90m│   \u001b[39m %90  = φ (#33 => 1, #38 => %100)\u001b[36m::Int64\u001b[39m\n",
       "\u001b[90m│   \u001b[39m %91  = Base.getfield(%84, %89, true)\u001b[36m::Array{Array{Int64,1},1}\u001b[39m\n",
       "\u001b[90m│   \u001b[39m        Base.arrayset(false, %85, %91, %88)\u001b[90m::Array{Array{Array{Int64,1},1},1}\u001b[39m\n",
       "\u001b[90m│   \u001b[39m %93  = Base.add_int(%88, 1)\u001b[36m::Int64\u001b[39m\n",
       "\u001b[90m│   \u001b[39m %94  = (%90 === 2)\u001b[36m::Bool\u001b[39m\n",
       "\u001b[90m└───\u001b[39m        goto #36 if not %94\n",
       "\u001b[90m35 ─\u001b[39m        goto #37\n",
       "\u001b[90m36 ─\u001b[39m %97  = Base.add_int(%90, 1)\u001b[36m::Int64\u001b[39m\n",
       "\u001b[90m└───\u001b[39m        goto #37\n",
       "\u001b[90m37 ┄\u001b[39m %99  = φ (#36 => %97)\u001b[36m::Int64\u001b[39m\n",
       "\u001b[90m│   \u001b[39m %100 = φ (#36 => %97)\u001b[36m::Int64\u001b[39m\n",
       "\u001b[90m│   \u001b[39m %101 = φ (#35 => true, #36 => false)\u001b[36m::Bool\u001b[39m\n",
       "\u001b[90m│   \u001b[39m %102 = Base.not_int(%101)\u001b[36m::Bool\u001b[39m\n",
       "\u001b[90m└───\u001b[39m        goto #39 if not %102\n",
       "\u001b[90m38 ─\u001b[39m        goto #34\n",
       "\u001b[90m39 ┄\u001b[39m        goto #40\n",
       "\u001b[90m40 ─\u001b[39m %106 = Core.tuple(%11, %85)\u001b[36m::Tuple{Any,Array{Array{Array{Int64,1},1},1}}\u001b[39m\n",
       "\u001b[90m│   \u001b[39m %107 = Main.hcat(%106)\u001b[36m::Array{_A,2} where _A\u001b[39m\n",
       "\u001b[90m│   \u001b[39m        Base.setproperty!(%10, :box, %107)\u001b[90m::Any\u001b[39m\n",
       "\u001b[90m│   \u001b[39m %109 = Base.getfield(self, :name)\u001b[36m::AbstractString\u001b[39m\n",
       "\u001b[90m│   \u001b[39m %110 = (%109 * suffix)\u001b[36m::String\u001b[39m\n",
       "\u001b[90m│   \u001b[39m        Base.setproperty!(%10, :name, %110)\u001b[90m::Any\u001b[39m\n",
       "\u001b[90m│   \u001b[39m %112 = Base.getfield(self, :category)\u001b[36m::AbstractString\u001b[39m\n",
       "\u001b[90m│   \u001b[39m        Base.setproperty!(%10, :category, %112)\u001b[90m::Any\u001b[39m\n",
       "\u001b[90m│   \u001b[39m %114 = Base.getfield(self, :dim)\u001b[36m::Any\u001b[39m\n",
       "\u001b[90m│   \u001b[39m %115 = Core.getfield(#self#, :n)\u001b[36m::Int64\u001b[39m\n",
       "\u001b[90m│   \u001b[39m %116 = (%114 + %115)\u001b[36m::Any\u001b[39m\n",
       "\u001b[90m│   \u001b[39m        Base.setproperty!(%10, :dim, %116)\u001b[90m::Any\u001b[39m\n",
       "\u001b[90m│   \u001b[39m %118 = Base.getproperty(Main.Lar, :embedTraversal)\u001b[36m::Any\u001b[39m\n",
       "\u001b[90m│   \u001b[39m %119 = Core.getfield(#self#, :n)\u001b[36m::Int64\u001b[39m\n",
       "\u001b[90m│   \u001b[39m %120 = (%118)(%10, self, %119, suffix)\u001b[36m::Any\u001b[39m\n",
       "\u001b[90m└───\u001b[39m        return %120\n",
       ") => Any"
      ]
     },
     "execution_count": 7,
     "metadata": {},
     "output_type": "execute_result"
    }
   ],
   "source": [
    "@code_typed embedStruct(1)(x,\"-New\")"
   ]
  },
  {
   "cell_type": "code",
   "execution_count": null,
   "metadata": {},
   "outputs": [],
   "source": [
    "@benchmark embedStruct(1)(x,\"-New\")"
   ]
  }
 ],
 "metadata": {
  "kernelspec": {
   "display_name": "Julia 1.5.3",
   "language": "julia",
   "name": "julia-1.5"
  },
  "language_info": {
   "file_extension": ".jl",
   "mimetype": "application/julia",
   "name": "julia",
   "version": "1.5.3"
  }
 },
 "nbformat": 4,
 "nbformat_minor": 4
}
