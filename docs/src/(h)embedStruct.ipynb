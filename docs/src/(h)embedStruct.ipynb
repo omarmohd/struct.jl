{
 "cells": [
  {
   "cell_type": "code",
   "execution_count": 1,
   "metadata": {},
   "outputs": [
    {
     "data": {
      "text/plain": [
       "LinearAlgebraicRepresentation"
      ]
     },
     "execution_count": 1,
     "metadata": {},
     "output_type": "execute_result"
    }
   ],
   "source": [
    "using BenchmarkTools\n",
    "using LinearAlgebra\n",
    "using LinearAlgebraicRepresentation\n",
    "Lar = LinearAlgebraicRepresentation"
   ]
  },
  {
   "cell_type": "code",
   "execution_count": 2,
   "metadata": {},
   "outputs": [
    {
     "data": {
      "text/plain": [
       "([0.0 0.0 1.0 1.0; 0.0 1.0 0.0 1.0], [[1, 2, 3, 4]])"
      ]
     },
     "execution_count": 2,
     "metadata": {},
     "output_type": "execute_result"
    }
   ],
   "source": [
    "square = Lar.cuboid([1,1])"
   ]
  },
  {
   "cell_type": "code",
   "execution_count": 3,
   "metadata": {},
   "outputs": [
    {
     "data": {
      "text/plain": [
       "LinearAlgebraicRepresentation.Struct([([0.0 0.0 1.0 1.0; 0.0 1.0 0.0 1.0], [[1, 2, 3, 4]])], [[0.0; 0.0], [1.0; 1.0]], \"16978137412824715025\", 2, \"feature\")"
      ]
     },
     "execution_count": 3,
     "metadata": {},
     "output_type": "execute_result"
    }
   ],
   "source": [
    "x = Lar.Struct([square])"
   ]
  },
  {
   "cell_type": "markdown",
   "metadata": {},
   "source": [
    "## Vecchia funzione"
   ]
  },
  {
   "cell_type": "code",
   "execution_count": 4,
   "metadata": {},
   "outputs": [
    {
     "data": {
      "text/plain": [
       "embedStruct (generic function with 1 method)"
      ]
     },
     "execution_count": 4,
     "metadata": {},
     "output_type": "execute_result"
    }
   ],
   "source": [
    "function embedStruct(n::Int)\n",
    "\tfunction embedStruct0(self::Lar.Struct,suffix::String=\"New\")\n",
    "\t\tif n==0\n",
    "\t\t\treturn self, length(self.box[1])\n",
    "\t\tend\n",
    "\t\tcloned = Lar.Struct()\n",
    "\t\tcloned.box = [ [self.body[i].box[1];zeros(dimadd)],\n",
    "\t\t\t\t\t\t[self.body[i].box[2];zeros(dimadd)] ]\n",
    "\t\tcloned.name = self.name*suffix\n",
    "\t\tcloned.category = self.category\n",
    "\t\tcloned.dim = self.dim+n\n",
    "\t\tcloned = Lar.embedTraversal(cloned,self,n,suffix)\n",
    "\t\treturn cloned\n",
    "\tend\n",
    "\treturn embedStruct0\n",
    "end"
   ]
  },
  {
   "cell_type": "code",
   "execution_count": 5,
   "metadata": {},
   "outputs": [
    {
     "ename": "LoadError",
     "evalue": "UndefVarError: i not defined",
     "output_type": "error",
     "traceback": [
      "UndefVarError: i not defined",
      "",
      "Stacktrace:",
      " [1] (::var\"#embedStruct0#3\"{Int64})(::LinearAlgebraicRepresentation.Struct, ::String) at .\\In[4]:7",
      " [2] embedStruct0 at .\\In[4]:3 [inlined]",
      " [3] ##core#261() at C:\\Users\\omarm\\.julia\\packages\\BenchmarkTools\\eCEpo\\src\\execution.jl:371",
      " [4] ##sample#262(::BenchmarkTools.Parameters) at C:\\Users\\omarm\\.julia\\packages\\BenchmarkTools\\eCEpo\\src\\execution.jl:377",
      " [5] _run(::BenchmarkTools.Benchmark{Symbol(\"##benchmark#260\")}, ::BenchmarkTools.Parameters; verbose::Bool, pad::String, kwargs::Base.Iterators.Pairs{Symbol,Integer,NTuple{4,Symbol},NamedTuple{(:samples, :evals, :gctrial, :gcsample),Tuple{Int64,Int64,Bool,Bool}}}) at C:\\Users\\omarm\\.julia\\packages\\BenchmarkTools\\eCEpo\\src\\execution.jl:405",
      " [6] (::Base.var\"#inner#2\"{Base.Iterators.Pairs{Symbol,Integer,NTuple{5,Symbol},NamedTuple{(:verbose, :samples, :evals, :gctrial, :gcsample),Tuple{Bool,Int64,Int64,Bool,Bool}}},typeof(BenchmarkTools._run),Tuple{BenchmarkTools.Benchmark{Symbol(\"##benchmark#260\")},BenchmarkTools.Parameters}})() at .\\essentials.jl:713",
      " [7] #invokelatest#1 at .\\essentials.jl:714 [inlined]",
      " [8] #run_result#37 at C:\\Users\\omarm\\.julia\\packages\\BenchmarkTools\\eCEpo\\src\\execution.jl:32 [inlined]",
      " [9] run(::BenchmarkTools.Benchmark{Symbol(\"##benchmark#260\")}, ::BenchmarkTools.Parameters; progressid::Nothing, nleaves::Float64, ndone::Float64, kwargs::Base.Iterators.Pairs{Symbol,Integer,NTuple{5,Symbol},NamedTuple{(:verbose, :samples, :evals, :gctrial, :gcsample),Tuple{Bool,Int64,Int64,Bool,Bool}}}) at C:\\Users\\omarm\\.julia\\packages\\BenchmarkTools\\eCEpo\\src\\execution.jl:94",
      " [10] #warmup#45 at C:\\Users\\omarm\\.julia\\packages\\BenchmarkTools\\eCEpo\\src\\execution.jl:141 [inlined]",
      " [11] warmup(::BenchmarkTools.Benchmark{Symbol(\"##benchmark#260\")}) at C:\\Users\\omarm\\.julia\\packages\\BenchmarkTools\\eCEpo\\src\\execution.jl:141",
      " [12] top-level scope at C:\\Users\\omarm\\.julia\\packages\\BenchmarkTools\\eCEpo\\src\\execution.jl:481",
      " [13] include_string(::Function, ::Module, ::String, ::String) at .\\loading.jl:1091"
     ]
    }
   ],
   "source": [
    "@btime embedStruct(1)(x)"
   ]
  },
  {
   "cell_type": "code",
   "execution_count": 6,
   "metadata": {},
   "outputs": [
    {
     "name": "stdout",
     "output_type": "stream",
     "text": [
      "\n",
      ";  @ In[4]:2 within `embedStruct0'\n",
      "; Function Attrs: uwtable\n",
      "define nonnull %jl_value_t* @julia_embedStruct0_2090([1 x i64]* nocapture nonnull readonly dereferenceable(8), %jl_value_t* nonnull align 8 dereferenceable(40)) #0 {\n",
      "top:\n",
      ";  @ In[4]:3 within `embedStruct0'\n",
      "  %2 = call nonnull %jl_value_t* @j_embedStruct0_2091([1 x i64]* nocapture nonnull readonly %0, %jl_value_t* nonnull %1, %jl_value_t* inttoptr (i64 353419792 to %jl_value_t*)) #0\n",
      "  ret %jl_value_t* %2\n",
      "}\n"
     ]
    }
   ],
   "source": [
    "@code_llvm embedStruct(1)(x)"
   ]
  },
  {
   "cell_type": "code",
   "execution_count": 7,
   "metadata": {},
   "outputs": [
    {
     "ename": "LoadError",
     "evalue": "UndefVarError: i not defined",
     "output_type": "error",
     "traceback": [
      "UndefVarError: i not defined",
      "",
      "Stacktrace:",
      " [1] (::var\"#embedStruct0#3\"{Int64})(::LinearAlgebraicRepresentation.Struct, ::String) at .\\In[4]:7",
      " [2] embedStruct0 at .\\In[4]:3 [inlined]",
      " [3] ##core#265() at C:\\Users\\omarm\\.julia\\packages\\BenchmarkTools\\eCEpo\\src\\execution.jl:371",
      " [4] ##sample#266(::BenchmarkTools.Parameters) at C:\\Users\\omarm\\.julia\\packages\\BenchmarkTools\\eCEpo\\src\\execution.jl:377",
      " [5] _run(::BenchmarkTools.Benchmark{Symbol(\"##benchmark#264\")}, ::BenchmarkTools.Parameters; verbose::Bool, pad::String, kwargs::Base.Iterators.Pairs{Symbol,Integer,NTuple{4,Symbol},NamedTuple{(:samples, :evals, :gctrial, :gcsample),Tuple{Int64,Int64,Bool,Bool}}}) at C:\\Users\\omarm\\.julia\\packages\\BenchmarkTools\\eCEpo\\src\\execution.jl:405",
      " [6] (::Base.var\"#inner#2\"{Base.Iterators.Pairs{Symbol,Integer,NTuple{5,Symbol},NamedTuple{(:verbose, :samples, :evals, :gctrial, :gcsample),Tuple{Bool,Int64,Int64,Bool,Bool}}},typeof(BenchmarkTools._run),Tuple{BenchmarkTools.Benchmark{Symbol(\"##benchmark#264\")},BenchmarkTools.Parameters}})() at .\\essentials.jl:713",
      " [7] #invokelatest#1 at .\\essentials.jl:714 [inlined]",
      " [8] #run_result#37 at C:\\Users\\omarm\\.julia\\packages\\BenchmarkTools\\eCEpo\\src\\execution.jl:32 [inlined]",
      " [9] run(::BenchmarkTools.Benchmark{Symbol(\"##benchmark#264\")}, ::BenchmarkTools.Parameters; progressid::Nothing, nleaves::Float64, ndone::Float64, kwargs::Base.Iterators.Pairs{Symbol,Integer,NTuple{5,Symbol},NamedTuple{(:verbose, :samples, :evals, :gctrial, :gcsample),Tuple{Bool,Int64,Int64,Bool,Bool}}}) at C:\\Users\\omarm\\.julia\\packages\\BenchmarkTools\\eCEpo\\src\\execution.jl:94",
      " [10] #warmup#45 at C:\\Users\\omarm\\.julia\\packages\\BenchmarkTools\\eCEpo\\src\\execution.jl:141 [inlined]",
      " [11] warmup(::BenchmarkTools.Benchmark{Symbol(\"##benchmark#264\")}) at C:\\Users\\omarm\\.julia\\packages\\BenchmarkTools\\eCEpo\\src\\execution.jl:141",
      " [12] top-level scope at C:\\Users\\omarm\\.julia\\packages\\BenchmarkTools\\eCEpo\\src\\execution.jl:287",
      " [13] include_string(::Function, ::Module, ::String, ::String) at .\\loading.jl:1091"
     ]
    }
   ],
   "source": [
    "@benchmark embedStruct(1)(x)"
   ]
  },
  {
   "cell_type": "markdown",
   "metadata": {},
   "source": [
    "## Modifiche"
   ]
  },
  {
   "cell_type": "markdown",
   "metadata": {},
   "source": [
    "\"\"\"\\\n",
    "\tembedStruct(n::Int)(self::Struct,suffix::String)::Struct\\\n",
    "Restituisce una struttura che è la copia della struttura “self” passata come\n",
    "parametro, dove però la dimensione è aumentata del fattore “n” e al nome è\n",
    "posto il suffisso. Per copiare il body è chiamata “embedTraversal”.\\\n",
    "\"\"\""
   ]
  },
  {
   "cell_type": "code",
   "execution_count": 8,
   "metadata": {},
   "outputs": [
    {
     "data": {
      "text/plain": [
       "embedStruct (generic function with 2 methods)"
      ]
     },
     "execution_count": 8,
     "metadata": {},
     "output_type": "execute_result"
    }
   ],
   "source": [
    "function embedStruct(n)\n",
    "\tfunction embedStruct0(self, suffix)\n",
    "\t\tif n==0\n",
    "\t\t\treturn self, length(self.box[1])\n",
    "\t\tend\n",
    "\t\tcloned = Lar.Struct()\n",
    "\t\tcloned.box = hcat((self.box,[fill([0],n),fill([0],n)]))\n",
    "\t\tcloned.name = self.name*suffix\n",
    "\t\tcloned.category = self.category\n",
    "\t\tcloned.dim = self.dim+n\n",
    "\t\tcloned = Lar.embedTraversal(cloned,self,n,suffix)\n",
    "\t\treturn cloned\n",
    "\tend\n",
    "\treturn embedStruct0\n",
    "end"
   ]
  },
  {
   "cell_type": "code",
   "execution_count": 9,
   "metadata": {},
   "outputs": [
    {
     "ename": "LoadError",
     "evalue": "UndefVarError: i not defined",
     "output_type": "error",
     "traceback": [
      "UndefVarError: i not defined",
      "",
      "Stacktrace:",
      " [1] (::var\"#embedStruct0#3\"{Int64})(::LinearAlgebraicRepresentation.Struct, ::String) at .\\In[4]:7",
      " [2] ##core#273() at C:\\Users\\omarm\\.julia\\packages\\BenchmarkTools\\eCEpo\\src\\execution.jl:371",
      " [3] ##sample#274(::BenchmarkTools.Parameters) at C:\\Users\\omarm\\.julia\\packages\\BenchmarkTools\\eCEpo\\src\\execution.jl:377",
      " [4] _run(::BenchmarkTools.Benchmark{Symbol(\"##benchmark#272\")}, ::BenchmarkTools.Parameters; verbose::Bool, pad::String, kwargs::Base.Iterators.Pairs{Symbol,Integer,NTuple{4,Symbol},NamedTuple{(:samples, :evals, :gctrial, :gcsample),Tuple{Int64,Int64,Bool,Bool}}}) at C:\\Users\\omarm\\.julia\\packages\\BenchmarkTools\\eCEpo\\src\\execution.jl:405",
      " [5] (::Base.var\"#inner#2\"{Base.Iterators.Pairs{Symbol,Integer,NTuple{5,Symbol},NamedTuple{(:verbose, :samples, :evals, :gctrial, :gcsample),Tuple{Bool,Int64,Int64,Bool,Bool}}},typeof(BenchmarkTools._run),Tuple{BenchmarkTools.Benchmark{Symbol(\"##benchmark#272\")},BenchmarkTools.Parameters}})() at .\\essentials.jl:713",
      " [6] #invokelatest#1 at .\\essentials.jl:714 [inlined]",
      " [7] #run_result#37 at C:\\Users\\omarm\\.julia\\packages\\BenchmarkTools\\eCEpo\\src\\execution.jl:32 [inlined]",
      " [8] run(::BenchmarkTools.Benchmark{Symbol(\"##benchmark#272\")}, ::BenchmarkTools.Parameters; progressid::Nothing, nleaves::Float64, ndone::Float64, kwargs::Base.Iterators.Pairs{Symbol,Integer,NTuple{5,Symbol},NamedTuple{(:verbose, :samples, :evals, :gctrial, :gcsample),Tuple{Bool,Int64,Int64,Bool,Bool}}}) at C:\\Users\\omarm\\.julia\\packages\\BenchmarkTools\\eCEpo\\src\\execution.jl:94",
      " [9] #warmup#45 at C:\\Users\\omarm\\.julia\\packages\\BenchmarkTools\\eCEpo\\src\\execution.jl:141 [inlined]",
      " [10] warmup(::BenchmarkTools.Benchmark{Symbol(\"##benchmark#272\")}) at C:\\Users\\omarm\\.julia\\packages\\BenchmarkTools\\eCEpo\\src\\execution.jl:141",
      " [11] top-level scope at C:\\Users\\omarm\\.julia\\packages\\BenchmarkTools\\eCEpo\\src\\execution.jl:481",
      " [12] include_string(::Function, ::Module, ::String, ::String) at .\\loading.jl:1091"
     ]
    }
   ],
   "source": [
    "@btime embedStruct(1)(x,\"-New\")"
   ]
  },
  {
   "cell_type": "code",
   "execution_count": 10,
   "metadata": {},
   "outputs": [
    {
     "ename": "LoadError",
     "evalue": "UndefVarError: i not defined",
     "output_type": "error",
     "traceback": [
      "UndefVarError: i not defined",
      "",
      "Stacktrace:",
      " [1] (::var\"#embedStruct0#3\"{Int64})(::LinearAlgebraicRepresentation.Struct, ::String) at .\\In[4]:7",
      " [2] ##core#277() at C:\\Users\\omarm\\.julia\\packages\\BenchmarkTools\\eCEpo\\src\\execution.jl:371",
      " [3] ##sample#278(::BenchmarkTools.Parameters) at C:\\Users\\omarm\\.julia\\packages\\BenchmarkTools\\eCEpo\\src\\execution.jl:377",
      " [4] _run(::BenchmarkTools.Benchmark{Symbol(\"##benchmark#276\")}, ::BenchmarkTools.Parameters; verbose::Bool, pad::String, kwargs::Base.Iterators.Pairs{Symbol,Integer,NTuple{4,Symbol},NamedTuple{(:samples, :evals, :gctrial, :gcsample),Tuple{Int64,Int64,Bool,Bool}}}) at C:\\Users\\omarm\\.julia\\packages\\BenchmarkTools\\eCEpo\\src\\execution.jl:405",
      " [5] (::Base.var\"#inner#2\"{Base.Iterators.Pairs{Symbol,Integer,NTuple{5,Symbol},NamedTuple{(:verbose, :samples, :evals, :gctrial, :gcsample),Tuple{Bool,Int64,Int64,Bool,Bool}}},typeof(BenchmarkTools._run),Tuple{BenchmarkTools.Benchmark{Symbol(\"##benchmark#276\")},BenchmarkTools.Parameters}})() at .\\essentials.jl:713",
      " [6] #invokelatest#1 at .\\essentials.jl:714 [inlined]",
      " [7] #run_result#37 at C:\\Users\\omarm\\.julia\\packages\\BenchmarkTools\\eCEpo\\src\\execution.jl:32 [inlined]",
      " [8] run(::BenchmarkTools.Benchmark{Symbol(\"##benchmark#276\")}, ::BenchmarkTools.Parameters; progressid::Nothing, nleaves::Float64, ndone::Float64, kwargs::Base.Iterators.Pairs{Symbol,Integer,NTuple{5,Symbol},NamedTuple{(:verbose, :samples, :evals, :gctrial, :gcsample),Tuple{Bool,Int64,Int64,Bool,Bool}}}) at C:\\Users\\omarm\\.julia\\packages\\BenchmarkTools\\eCEpo\\src\\execution.jl:94",
      " [9] #warmup#45 at C:\\Users\\omarm\\.julia\\packages\\BenchmarkTools\\eCEpo\\src\\execution.jl:141 [inlined]",
      " [10] warmup(::BenchmarkTools.Benchmark{Symbol(\"##benchmark#276\")}) at C:\\Users\\omarm\\.julia\\packages\\BenchmarkTools\\eCEpo\\src\\execution.jl:141",
      " [11] top-level scope at C:\\Users\\omarm\\.julia\\packages\\BenchmarkTools\\eCEpo\\src\\execution.jl:287",
      " [12] include_string(::Function, ::Module, ::String, ::String) at .\\loading.jl:1091"
     ]
    }
   ],
   "source": [
    "@benchmark embedStruct(1)(x,\"-New\")"
   ]
  },
  {
   "cell_type": "code",
   "execution_count": 11,
   "metadata": {
    "scrolled": false
   },
   "outputs": [
    {
     "data": {
      "text/plain": [
       "CodeInfo(\n",
       "\u001b[90m1 ─\u001b[39m %1  = Core.getfield(#self#, :n)\u001b[36m::Int64\u001b[39m\n",
       "\u001b[90m│  \u001b[39m %2  = (%1 === 0)\u001b[36m::Bool\u001b[39m\n",
       "\u001b[90m└──\u001b[39m       goto #3 if not %2\n",
       "\u001b[90m2 ─\u001b[39m %4  = Base.getfield(self, :box)\u001b[36m::Any\u001b[39m\n",
       "\u001b[90m│  \u001b[39m %5  = Base.getindex(%4, 1)\u001b[36m::Any\u001b[39m\n",
       "\u001b[90m│  \u001b[39m %6  = Main.length(%5)\u001b[36m::Any\u001b[39m\n",
       "\u001b[90m│  \u001b[39m %7  = Core.tuple(self, %6)\u001b[36m::Tuple{LinearAlgebraicRepresentation.Struct,Any}\u001b[39m\n",
       "\u001b[90m└──\u001b[39m       return %7\n",
       "\u001b[90m3 ─\u001b[39m %9  = Base.getproperty(Main.Lar, :Struct)\u001b[36m::Any\u001b[39m\n",
       "\u001b[90m│  \u001b[39m %10 = (%9)()\u001b[36m::Any\u001b[39m\n",
       "\u001b[90m│  \u001b[39m %11 = Base.getfield(self, :body)\u001b[36m::Array\u001b[39m\n",
       "\u001b[90m│  \u001b[39m %12 = Base.getindex(%11, Main.i)\u001b[36m::Any\u001b[39m\n",
       "\u001b[90m│  \u001b[39m %13 = Base.getproperty(%12, :box)\u001b[36m::Any\u001b[39m\n",
       "\u001b[90m│  \u001b[39m %14 = Base.getindex(%13, 1)\u001b[36m::Any\u001b[39m\n",
       "\u001b[90m│  \u001b[39m %15 = Main.zeros(Main.dimadd)\u001b[36m::Any\u001b[39m\n",
       "\u001b[90m│  \u001b[39m %16 = Base.vcat(%14, %15)\u001b[36m::Any\u001b[39m\n",
       "\u001b[90m│  \u001b[39m %17 = Base.getfield(self, :body)\u001b[36m::Array\u001b[39m\n",
       "\u001b[90m│  \u001b[39m %18 = Base.getindex(%17, Main.i)\u001b[36m::Any\u001b[39m\n",
       "\u001b[90m│  \u001b[39m %19 = Base.getproperty(%18, :box)\u001b[36m::Any\u001b[39m\n",
       "\u001b[90m│  \u001b[39m %20 = Base.getindex(%19, 2)\u001b[36m::Any\u001b[39m\n",
       "\u001b[90m│  \u001b[39m %21 = Main.zeros(Main.dimadd)\u001b[36m::Any\u001b[39m\n",
       "\u001b[90m│  \u001b[39m %22 = Base.vcat(%20, %21)\u001b[36m::Any\u001b[39m\n",
       "\u001b[90m│  \u001b[39m %23 = Base.vect(%16, %22)\u001b[36m::Array{_A,1} where _A\u001b[39m\n",
       "\u001b[90m│  \u001b[39m       Base.setproperty!(%10, :box, %23)\u001b[90m::Any\u001b[39m\n",
       "\u001b[90m│  \u001b[39m %25 = Base.getfield(self, :name)\u001b[36m::AbstractString\u001b[39m\n",
       "\u001b[90m│  \u001b[39m %26 = (%25 * suffix)\u001b[36m::String\u001b[39m\n",
       "\u001b[90m│  \u001b[39m       Base.setproperty!(%10, :name, %26)\u001b[90m::Any\u001b[39m\n",
       "\u001b[90m│  \u001b[39m %28 = Base.getfield(self, :category)\u001b[36m::AbstractString\u001b[39m\n",
       "\u001b[90m│  \u001b[39m       Base.setproperty!(%10, :category, %28)\u001b[90m::Any\u001b[39m\n",
       "\u001b[90m│  \u001b[39m %30 = Base.getfield(self, :dim)\u001b[36m::Any\u001b[39m\n",
       "\u001b[90m│  \u001b[39m %31 = Core.getfield(#self#, :n)\u001b[36m::Int64\u001b[39m\n",
       "\u001b[90m│  \u001b[39m %32 = (%30 + %31)\u001b[36m::Any\u001b[39m\n",
       "\u001b[90m│  \u001b[39m       Base.setproperty!(%10, :dim, %32)\u001b[90m::Any\u001b[39m\n",
       "\u001b[90m│  \u001b[39m %34 = Base.getproperty(Main.Lar, :embedTraversal)\u001b[36m::Any\u001b[39m\n",
       "\u001b[90m│  \u001b[39m %35 = Core.getfield(#self#, :n)\u001b[36m::Int64\u001b[39m\n",
       "\u001b[90m│  \u001b[39m %36 = (%34)(%10, self, %35, suffix)\u001b[36m::Any\u001b[39m\n",
       "\u001b[90m└──\u001b[39m       return %36\n",
       ") => Any"
      ]
     },
     "execution_count": 11,
     "metadata": {},
     "output_type": "execute_result"
    }
   ],
   "source": [
    "@code_typed embedStruct(1)(x,\"-New\")"
   ]
  },
  {
   "cell_type": "code",
   "execution_count": 12,
   "metadata": {},
   "outputs": [
    {
     "name": "stdout",
     "output_type": "stream",
     "text": [
      "\n",
      ";  @ In[4]:2 within `embedStruct0'\n",
      "; Function Attrs: uwtable\n",
      "define nonnull %jl_value_t* @julia_embedStruct0_2256([1 x i64]* nocapture nonnull readonly dereferenceable(8), %jl_value_t* nonnull align 8 dereferenceable(40), %jl_value_t* nonnull) #0 {\n",
      "top:\n",
      "  %3 = alloca %jl_value_t*, i32 4\n",
      "  %gcframe = alloca %jl_value_t*, i32 6, align 16\n",
      "  %4 = bitcast %jl_value_t** %gcframe to i8*\n",
      "  call void @llvm.memset.p0i8.i32(i8* align 16 %4, i8 0, i32 48, i1 false)\n",
      "  %5 = call %jl_value_t*** inttoptr (i64 1761836128 to %jl_value_t*** ()*)() #7\n",
      ";  @ In[4]:3 within `embedStruct0'\n",
      "  %6 = getelementptr %jl_value_t*, %jl_value_t** %gcframe, i32 0\n",
      "  %7 = bitcast %jl_value_t** %6 to i64*\n",
      "  store i64 16, i64* %7\n",
      "  %8 = getelementptr %jl_value_t**, %jl_value_t*** %5, i32 0\n",
      "  %9 = getelementptr %jl_value_t*, %jl_value_t** %gcframe, i32 1\n",
      "  %10 = bitcast %jl_value_t** %9 to %jl_value_t***\n",
      "  %11 = load %jl_value_t**, %jl_value_t*** %8\n",
      "  store %jl_value_t** %11, %jl_value_t*** %10\n",
      "  %12 = bitcast %jl_value_t*** %8 to %jl_value_t***\n",
      "  store %jl_value_t** %gcframe, %jl_value_t*** %12\n",
      "  %13 = getelementptr inbounds [1 x i64], [1 x i64]* %0, i64 0, i64 0\n",
      "; ┌ @ promotion.jl:398 within `=='\n",
      "   %14 = load i64, i64* %13, align 8\n",
      "   %15 = icmp eq i64 %14, 0\n",
      "; └\n",
      "  br i1 %15, label %L4, label %L9\n",
      "\n",
      "L4:                                               ; preds = %top\n",
      ";  @ In[4]:4 within `embedStruct0'\n",
      "; ┌ @ Base.jl:33 within `getproperty'\n",
      "   %16 = bitcast %jl_value_t* %1 to i8*\n",
      "   %17 = getelementptr inbounds i8, i8* %16, i64 8\n",
      "   %18 = bitcast i8* %17 to %jl_value_t**\n",
      "   %19 = load %jl_value_t*, %jl_value_t** %18, align 8\n",
      "   %20 = getelementptr %jl_value_t*, %jl_value_t** %gcframe, i32 2\n",
      "   store %jl_value_t* %19, %jl_value_t** %20\n",
      "; └\n",
      "  %21 = getelementptr %jl_value_t*, %jl_value_t** %3, i32 0\n",
      "  store %jl_value_t* %19, %jl_value_t** %21\n",
      "  %22 = getelementptr %jl_value_t*, %jl_value_t** %3, i32 1\n",
      "  store %jl_value_t* inttoptr (i64 129138784 to %jl_value_t*), %jl_value_t** %22\n",
      "  %23 = call nonnull %jl_value_t* @jl_apply_generic(%jl_value_t* inttoptr (i64 208308448 to %jl_value_t*), %jl_value_t** %3, i32 2)\n",
      "  %24 = getelementptr %jl_value_t*, %jl_value_t** %gcframe, i32 2\n",
      "  store %jl_value_t* %23, %jl_value_t** %24\n",
      "  %25 = getelementptr %jl_value_t*, %jl_value_t** %3, i32 0\n",
      "  store %jl_value_t* %23, %jl_value_t** %25\n",
      "  %26 = call nonnull %jl_value_t* @jl_apply_generic(%jl_value_t* inttoptr (i64 182485008 to %jl_value_t*), %jl_value_t** %3, i32 1)\n",
      "  %27 = getelementptr %jl_value_t*, %jl_value_t** %gcframe, i32 2\n",
      "  store %jl_value_t* %26, %jl_value_t** %27\n",
      "  %28 = getelementptr %jl_value_t*, %jl_value_t** %3, i32 0\n",
      "  store %jl_value_t* %1, %jl_value_t** %28\n",
      "  %29 = getelementptr %jl_value_t*, %jl_value_t** %3, i32 1\n",
      "  store %jl_value_t* %26, %jl_value_t** %29\n",
      "  %30 = call nonnull %jl_value_t* @jl_f_tuple(%jl_value_t* null, %jl_value_t** %3, i32 2)\n",
      "  %31 = getelementptr %jl_value_t*, %jl_value_t** %gcframe, i32 1\n",
      "  %32 = load %jl_value_t*, %jl_value_t** %31\n",
      "  %33 = getelementptr %jl_value_t**, %jl_value_t*** %5, i32 0\n",
      "  %34 = bitcast %jl_value_t*** %33 to %jl_value_t**\n",
      "  store %jl_value_t* %32, %jl_value_t** %34\n",
      "  ret %jl_value_t* %30\n",
      "\n",
      "L9:                                               ; preds = %top\n",
      ";  @ In[4]:6 within `embedStruct0'\n",
      "  %35 = load %jl_value_t*, %jl_value_t** inttoptr (i64 1050016312 to %jl_value_t**), align 8\n",
      "  %36 = getelementptr %jl_value_t*, %jl_value_t** %gcframe, i32 2\n",
      "  store %jl_value_t* %35, %jl_value_t** %36\n",
      "  %37 = getelementptr %jl_value_t*, %jl_value_t** %3, i32 0\n",
      "  store %jl_value_t* %35, %jl_value_t** %37\n",
      "  %38 = getelementptr %jl_value_t*, %jl_value_t** %3, i32 1\n",
      "  store %jl_value_t* inttoptr (i64 130800536 to %jl_value_t*), %jl_value_t** %38\n",
      "  %39 = call nonnull %jl_value_t* @jl_apply_generic(%jl_value_t* inttoptr (i64 206438992 to %jl_value_t*), %jl_value_t** %3, i32 2)\n",
      "  %40 = getelementptr %jl_value_t*, %jl_value_t** %gcframe, i32 2\n",
      "  store %jl_value_t* %39, %jl_value_t** %40\n",
      "  %41 = call nonnull %jl_value_t* @jl_apply_generic(%jl_value_t* %39, %jl_value_t** null, i32 0)\n",
      ";  @ In[4]:7 within `embedStruct0'\n",
      "; ┌ @ Base.jl:33 within `getproperty'\n",
      "   %42 = bitcast %jl_value_t* %1 to %jl_value_t**\n",
      "   %43 = load %jl_value_t*, %jl_value_t** %42, align 8\n",
      "; └\n",
      "  %44 = load %jl_value_t*, %jl_value_t** @delayedvar2257, align 8\n",
      "  %45 = icmp eq %jl_value_t* %44, null\n",
      "  br i1 %45, label %notfound, label %found\n",
      "\n",
      "notfound:                                         ; preds = %L9\n",
      "  %46 = getelementptr %jl_value_t*, %jl_value_t** %gcframe, i32 3\n",
      "  store %jl_value_t* %43, %jl_value_t** %46\n",
      "  %47 = getelementptr %jl_value_t*, %jl_value_t** %gcframe, i32 5\n",
      "  store %jl_value_t* %41, %jl_value_t** %47\n",
      "  %48 = call %jl_value_t* @jl_get_binding_or_error(%jl_value_t* nonnull inttoptr (i64 161768640 to %jl_value_t*), %jl_value_t* nonnull inttoptr (i64 129658320 to %jl_value_t*))\n",
      "  store %jl_value_t* %48, %jl_value_t** @delayedvar2257, align 8\n",
      "  br label %found\n",
      "\n",
      "found:                                            ; preds = %notfound, %L9\n",
      "  %49 = phi %jl_value_t* [ %44, %L9 ], [ %48, %notfound ]\n",
      "  %50 = bitcast %jl_value_t* %49 to %jl_value_t**\n",
      "  %51 = getelementptr inbounds %jl_value_t*, %jl_value_t** %50, i64 1\n",
      "  %52 = load %jl_value_t*, %jl_value_t** %51, align 8\n",
      "  %53 = icmp eq %jl_value_t* %52, null\n",
      "  br i1 %53, label %err, label %ok\n",
      "\n",
      "err:                                              ; preds = %found\n",
      "  call void @jl_undefined_var_error(%jl_value_t* inttoptr (i64 129658320 to %jl_value_t*))\n",
      "  unreachable\n",
      "\n",
      "ok:                                               ; preds = %found\n",
      "  %54 = getelementptr %jl_value_t*, %jl_value_t** %gcframe, i32 3\n",
      "  store %jl_value_t* %43, %jl_value_t** %54\n",
      "  %55 = getelementptr %jl_value_t*, %jl_value_t** %gcframe, i32 5\n",
      "  store %jl_value_t* %41, %jl_value_t** %55\n",
      "  %56 = getelementptr %jl_value_t*, %jl_value_t** %gcframe, i32 2\n",
      "  store %jl_value_t* %52, %jl_value_t** %56\n",
      "  %57 = getelementptr %jl_value_t*, %jl_value_t** %3, i32 0\n",
      "  store %jl_value_t* %43, %jl_value_t** %57\n",
      "  %58 = getelementptr %jl_value_t*, %jl_value_t** %3, i32 1\n",
      "  store %jl_value_t* %52, %jl_value_t** %58\n",
      "  %59 = call nonnull %jl_value_t* @jl_apply_generic(%jl_value_t* inttoptr (i64 208308448 to %jl_value_t*), %jl_value_t** %3, i32 2)\n",
      "  %60 = getelementptr %jl_value_t*, %jl_value_t** %gcframe, i32 2\n",
      "  store %jl_value_t* %59, %jl_value_t** %60\n",
      "  %61 = getelementptr %jl_value_t*, %jl_value_t** %3, i32 0\n",
      "  store %jl_value_t* %59, %jl_value_t** %61\n",
      "  %62 = getelementptr %jl_value_t*, %jl_value_t** %3, i32 1\n",
      "  store %jl_value_t* inttoptr (i64 130800576 to %jl_value_t*), %jl_value_t** %62\n",
      "  %63 = call nonnull %jl_value_t* @jl_apply_generic(%jl_value_t* inttoptr (i64 206438992 to %jl_value_t*), %jl_value_t** %3, i32 2)\n",
      "  %64 = getelementptr %jl_value_t*, %jl_value_t** %gcframe, i32 2\n",
      "  store %jl_value_t* %63, %jl_value_t** %64\n",
      "  %65 = getelementptr %jl_value_t*, %jl_value_t** %3, i32 0\n",
      "  store %jl_value_t* %63, %jl_value_t** %65\n",
      "  %66 = getelementptr %jl_value_t*, %jl_value_t** %3, i32 1\n",
      "  store %jl_value_t* inttoptr (i64 129138784 to %jl_value_t*), %jl_value_t** %66\n",
      "  %67 = call nonnull %jl_value_t* @jl_apply_generic(%jl_value_t* inttoptr (i64 208308448 to %jl_value_t*), %jl_value_t** %3, i32 2)\n",
      "  %68 = load %jl_value_t*, %jl_value_t** @delayedvar2258, align 8\n",
      "  %69 = icmp eq %jl_value_t* %68, null\n",
      "  br i1 %69, label %notfound1, label %found2\n",
      "\n",
      "notfound1:                                        ; preds = %ok\n",
      "  %70 = getelementptr %jl_value_t*, %jl_value_t** %gcframe, i32 3\n",
      "  store %jl_value_t* %67, %jl_value_t** %70\n",
      "  %71 = call %jl_value_t* @jl_get_binding_or_error(%jl_value_t* nonnull inttoptr (i64 161768640 to %jl_value_t*), %jl_value_t* nonnull inttoptr (i64 130836200 to %jl_value_t*))\n",
      "  store %jl_value_t* %71, %jl_value_t** @delayedvar2258, align 8\n",
      "  br label %found2\n",
      "\n",
      "found2:                                           ; preds = %notfound1, %ok\n",
      "  %72 = phi %jl_value_t* [ %68, %ok ], [ %71, %notfound1 ]\n",
      "  %73 = bitcast %jl_value_t* %72 to %jl_value_t**\n",
      "  %74 = getelementptr inbounds %jl_value_t*, %jl_value_t** %73, i64 1\n",
      "  %75 = load %jl_value_t*, %jl_value_t** %74, align 8\n",
      "  %76 = icmp eq %jl_value_t* %75, null\n",
      "  br i1 %76, label %err3, label %ok4\n",
      "\n",
      "err3:                                             ; preds = %found2\n",
      "  call void @jl_undefined_var_error(%jl_value_t* inttoptr (i64 130836200 to %jl_value_t*))\n",
      "  unreachable\n",
      "\n",
      "ok4:                                              ; preds = %found2\n",
      "  %77 = getelementptr %jl_value_t*, %jl_value_t** %gcframe, i32 3\n",
      "  store %jl_value_t* %67, %jl_value_t** %77\n",
      "  %78 = getelementptr %jl_value_t*, %jl_value_t** %gcframe, i32 2\n",
      "  store %jl_value_t* %75, %jl_value_t** %78\n",
      "  %79 = getelementptr %jl_value_t*, %jl_value_t** %3, i32 0\n",
      "  store %jl_value_t* %75, %jl_value_t** %79\n",
      "  %80 = call nonnull %jl_value_t* @jl_apply_generic(%jl_value_t* inttoptr (i64 194527056 to %jl_value_t*), %jl_value_t** %3, i32 1)\n",
      "  %81 = getelementptr %jl_value_t*, %jl_value_t** %gcframe, i32 2\n",
      "  store %jl_value_t* %80, %jl_value_t** %81\n",
      "  %82 = getelementptr %jl_value_t*, %jl_value_t** %3, i32 0\n",
      "  store %jl_value_t* %67, %jl_value_t** %82\n",
      "  %83 = getelementptr %jl_value_t*, %jl_value_t** %3, i32 1\n",
      "  store %jl_value_t* %80, %jl_value_t** %83\n",
      "  %84 = call nonnull %jl_value_t* @jl_apply_generic(%jl_value_t* inttoptr (i64 210695664 to %jl_value_t*), %jl_value_t** %3, i32 2)\n",
      "; ┌ @ Base.jl:33 within `getproperty'\n",
      "   %85 = load %jl_value_t*, %jl_value_t** %42, align 8\n",
      "; └\n",
      "  %86 = load %jl_value_t*, %jl_value_t** @delayedvar2259, align 8\n",
      "  %87 = icmp eq %jl_value_t* %86, null\n",
      "  br i1 %87, label %notfound5, label %found6\n",
      "\n",
      "notfound5:                                        ; preds = %ok4\n",
      "  %88 = getelementptr %jl_value_t*, %jl_value_t** %gcframe, i32 3\n",
      "  store %jl_value_t* %85, %jl_value_t** %88\n",
      "  %89 = getelementptr %jl_value_t*, %jl_value_t** %gcframe, i32 4\n",
      "  store %jl_value_t* %84, %jl_value_t** %89\n",
      "  %90 = call %jl_value_t* @jl_get_binding_or_error(%jl_value_t* nonnull inttoptr (i64 161768640 to %jl_value_t*), %jl_value_t* nonnull inttoptr (i64 129658320 to %jl_value_t*))\n",
      "  store %jl_value_t* %90, %jl_value_t** @delayedvar2259, align 8\n",
      "  br label %found6\n",
      "\n",
      "found6:                                           ; preds = %notfound5, %ok4\n",
      "  %91 = phi %jl_value_t* [ %86, %ok4 ], [ %90, %notfound5 ]\n",
      "  %92 = bitcast %jl_value_t* %91 to %jl_value_t**\n",
      "  %93 = getelementptr inbounds %jl_value_t*, %jl_value_t** %92, i64 1\n",
      "  %94 = load %jl_value_t*, %jl_value_t** %93, align 8\n",
      "  %95 = icmp eq %jl_value_t* %94, null\n",
      "  br i1 %95, label %err7, label %ok8\n",
      "\n",
      "err7:                                             ; preds = %found6\n",
      "  call void @jl_undefined_var_error(%jl_value_t* inttoptr (i64 129658320 to %jl_value_t*))\n",
      "  unreachable\n",
      "\n",
      "ok8:                                              ; preds = %found6\n",
      "  %96 = getelementptr %jl_value_t*, %jl_value_t** %gcframe, i32 3\n",
      "  store %jl_value_t* %85, %jl_value_t** %96\n",
      "  %97 = getelementptr %jl_value_t*, %jl_value_t** %gcframe, i32 4\n",
      "  store %jl_value_t* %84, %jl_value_t** %97\n",
      "  %98 = getelementptr %jl_value_t*, %jl_value_t** %gcframe, i32 2\n",
      "  store %jl_value_t* %94, %jl_value_t** %98\n",
      "  %99 = getelementptr %jl_value_t*, %jl_value_t** %3, i32 0\n",
      "  store %jl_value_t* %85, %jl_value_t** %99\n",
      "  %100 = getelementptr %jl_value_t*, %jl_value_t** %3, i32 1\n",
      "  store %jl_value_t* %94, %jl_value_t** %100\n",
      "  %101 = call nonnull %jl_value_t* @jl_apply_generic(%jl_value_t* inttoptr (i64 208308448 to %jl_value_t*), %jl_value_t** %3, i32 2)\n",
      "  %102 = getelementptr %jl_value_t*, %jl_value_t** %gcframe, i32 2\n",
      "  store %jl_value_t* %101, %jl_value_t** %102\n",
      "  %103 = getelementptr %jl_value_t*, %jl_value_t** %3, i32 0\n",
      "  store %jl_value_t* %101, %jl_value_t** %103\n",
      "  %104 = getelementptr %jl_value_t*, %jl_value_t** %3, i32 1\n",
      "  store %jl_value_t* inttoptr (i64 130800576 to %jl_value_t*), %jl_value_t** %104\n",
      "  %105 = call nonnull %jl_value_t* @jl_apply_generic(%jl_value_t* inttoptr (i64 206438992 to %jl_value_t*), %jl_value_t** %3, i32 2)\n",
      "  %106 = getelementptr %jl_value_t*, %jl_value_t** %gcframe, i32 2\n",
      "  store %jl_value_t* %105, %jl_value_t** %106\n",
      "  %107 = getelementptr %jl_value_t*, %jl_value_t** %3, i32 0\n",
      "  store %jl_value_t* %105, %jl_value_t** %107\n",
      "  %108 = getelementptr %jl_value_t*, %jl_value_t** %3, i32 1\n",
      "  store %jl_value_t* inttoptr (i64 129138848 to %jl_value_t*), %jl_value_t** %108\n",
      "  %109 = call nonnull %jl_value_t* @jl_apply_generic(%jl_value_t* inttoptr (i64 208308448 to %jl_value_t*), %jl_value_t** %3, i32 2)\n",
      "  %110 = load %jl_value_t*, %jl_value_t** @delayedvar2260, align 8\n",
      "  %111 = icmp eq %jl_value_t* %110, null\n",
      "  br i1 %111, label %notfound9, label %found10\n",
      "\n",
      "notfound9:                                        ; preds = %ok8\n",
      "  %112 = getelementptr %jl_value_t*, %jl_value_t** %gcframe, i32 3\n",
      "  store %jl_value_t* %109, %jl_value_t** %112\n",
      "  %113 = call %jl_value_t* @jl_get_binding_or_error(%jl_value_t* nonnull inttoptr (i64 161768640 to %jl_value_t*), %jl_value_t* nonnull inttoptr (i64 130836200 to %jl_value_t*))\n",
      "  store %jl_value_t* %113, %jl_value_t** @delayedvar2260, align 8\n",
      "  br label %found10\n",
      "\n",
      "found10:                                          ; preds = %notfound9, %ok8\n",
      "  %114 = phi %jl_value_t* [ %110, %ok8 ], [ %113, %notfound9 ]\n",
      "  %115 = bitcast %jl_value_t* %114 to %jl_value_t**\n",
      "  %116 = getelementptr inbounds %jl_value_t*, %jl_value_t** %115, i64 1\n",
      "  %117 = load %jl_value_t*, %jl_value_t** %116, align 8\n",
      "  %118 = icmp eq %jl_value_t* %117, null\n",
      "  br i1 %118, label %err11, label %ok12\n",
      "\n",
      "err11:                                            ; preds = %found10\n",
      "  call void @jl_undefined_var_error(%jl_value_t* inttoptr (i64 130836200 to %jl_value_t*))\n",
      "  unreachable\n",
      "\n",
      "ok12:                                             ; preds = %found10\n",
      "  %119 = getelementptr %jl_value_t*, %jl_value_t** %gcframe, i32 3\n",
      "  store %jl_value_t* %109, %jl_value_t** %119\n",
      "  %120 = getelementptr %jl_value_t*, %jl_value_t** %gcframe, i32 2\n",
      "  store %jl_value_t* %117, %jl_value_t** %120\n",
      "  %121 = getelementptr %jl_value_t*, %jl_value_t** %3, i32 0\n",
      "  store %jl_value_t* %117, %jl_value_t** %121\n",
      "  %122 = call nonnull %jl_value_t* @jl_apply_generic(%jl_value_t* inttoptr (i64 194527056 to %jl_value_t*), %jl_value_t** %3, i32 1)\n",
      "  %123 = getelementptr %jl_value_t*, %jl_value_t** %gcframe, i32 2\n",
      "  store %jl_value_t* %122, %jl_value_t** %123\n",
      "  %124 = getelementptr %jl_value_t*, %jl_value_t** %3, i32 0\n",
      "  store %jl_value_t* %109, %jl_value_t** %124\n",
      "  %125 = getelementptr %jl_value_t*, %jl_value_t** %3, i32 1\n",
      "  store %jl_value_t* %122, %jl_value_t** %125\n",
      "  %126 = call nonnull %jl_value_t* @jl_apply_generic(%jl_value_t* inttoptr (i64 210695664 to %jl_value_t*), %jl_value_t** %3, i32 2)\n",
      "  %127 = getelementptr %jl_value_t*, %jl_value_t** %gcframe, i32 2\n",
      "  store %jl_value_t* %126, %jl_value_t** %127\n",
      "  %128 = getelementptr %jl_value_t*, %jl_value_t** %3, i32 0\n",
      "  store %jl_value_t* %84, %jl_value_t** %128\n",
      "  %129 = getelementptr %jl_value_t*, %jl_value_t** %3, i32 1\n",
      "  store %jl_value_t* %126, %jl_value_t** %129\n",
      "  %130 = call nonnull %jl_value_t* @jl_apply_generic(%jl_value_t* inttoptr (i64 197825568 to %jl_value_t*), %jl_value_t** %3, i32 2)\n",
      "  %131 = getelementptr %jl_value_t*, %jl_value_t** %gcframe, i32 2\n",
      "  store %jl_value_t* %130, %jl_value_t** %131\n",
      "  %132 = getelementptr %jl_value_t*, %jl_value_t** %3, i32 0\n",
      "  store %jl_value_t* %41, %jl_value_t** %132\n",
      "  %133 = getelementptr %jl_value_t*, %jl_value_t** %3, i32 1\n",
      "  store %jl_value_t* inttoptr (i64 130800576 to %jl_value_t*), %jl_value_t** %133\n",
      "  %134 = getelementptr %jl_value_t*, %jl_value_t** %3, i32 2\n",
      "  store %jl_value_t* %130, %jl_value_t** %134\n",
      "  %135 = call nonnull %jl_value_t* @jl_apply_generic(%jl_value_t* inttoptr (i64 211679232 to %jl_value_t*), %jl_value_t** %3, i32 3)\n",
      ";  @ In[4]:9 within `embedStruct0'\n",
      "; ┌ @ Base.jl:33 within `getproperty'\n",
      "   %136 = bitcast %jl_value_t* %1 to i8*\n",
      "   %137 = getelementptr inbounds i8, i8* %136, i64 16\n",
      "   %138 = bitcast i8* %137 to %jl_value_t**\n",
      "   %139 = load %jl_value_t*, %jl_value_t** %138, align 8\n",
      "   %140 = getelementptr %jl_value_t*, %jl_value_t** %gcframe, i32 2\n",
      "   store %jl_value_t* %139, %jl_value_t** %140\n",
      "; └\n",
      "  %141 = getelementptr %jl_value_t*, %jl_value_t** %3, i32 0\n",
      "  store %jl_value_t* %139, %jl_value_t** %141\n",
      "  %142 = getelementptr %jl_value_t*, %jl_value_t** %3, i32 1\n",
      "  store %jl_value_t* %2, %jl_value_t** %142\n",
      "  %143 = call nonnull %jl_value_t* @jl_apply_generic(%jl_value_t* inttoptr (i64 201601840 to %jl_value_t*), %jl_value_t** %3, i32 2)\n",
      "  %144 = getelementptr %jl_value_t*, %jl_value_t** %gcframe, i32 2\n",
      "  store %jl_value_t* %143, %jl_value_t** %144\n",
      "  %145 = getelementptr %jl_value_t*, %jl_value_t** %3, i32 0\n",
      "  store %jl_value_t* %41, %jl_value_t** %145\n",
      "  %146 = getelementptr %jl_value_t*, %jl_value_t** %3, i32 1\n",
      "  store %jl_value_t* inttoptr (i64 129260320 to %jl_value_t*), %jl_value_t** %146\n",
      "  %147 = getelementptr %jl_value_t*, %jl_value_t** %3, i32 2\n",
      "  store %jl_value_t* %143, %jl_value_t** %147\n",
      "  %148 = call nonnull %jl_value_t* @jl_apply_generic(%jl_value_t* inttoptr (i64 211679232 to %jl_value_t*), %jl_value_t** %3, i32 3)\n",
      ";  @ In[4]:10 within `embedStruct0'\n",
      "; ┌ @ Base.jl:33 within `getproperty'\n",
      "   %149 = getelementptr inbounds i8, i8* %136, i64 32\n",
      "   %150 = bitcast i8* %149 to %jl_value_t**\n",
      "   %151 = load %jl_value_t*, %jl_value_t** %150, align 8\n",
      "   %152 = getelementptr %jl_value_t*, %jl_value_t** %gcframe, i32 2\n",
      "   store %jl_value_t* %151, %jl_value_t** %152\n",
      "; └\n",
      "  %153 = getelementptr %jl_value_t*, %jl_value_t** %3, i32 0\n",
      "  store %jl_value_t* %41, %jl_value_t** %153\n",
      "  %154 = getelementptr %jl_value_t*, %jl_value_t** %3, i32 1\n",
      "  store %jl_value_t* inttoptr (i64 130187024 to %jl_value_t*), %jl_value_t** %154\n",
      "  %155 = getelementptr %jl_value_t*, %jl_value_t** %3, i32 2\n",
      "  store %jl_value_t* %151, %jl_value_t** %155\n",
      "  %156 = call nonnull %jl_value_t* @jl_apply_generic(%jl_value_t* inttoptr (i64 211679232 to %jl_value_t*), %jl_value_t** %3, i32 3)\n",
      ";  @ In[4]:11 within `embedStruct0'\n",
      "; ┌ @ Base.jl:33 within `getproperty'\n",
      "   %157 = getelementptr inbounds i8, i8* %136, i64 24\n",
      "   %158 = bitcast i8* %157 to %jl_value_t**\n",
      "   %159 = load %jl_value_t*, %jl_value_t** %158, align 8\n",
      "   %160 = getelementptr %jl_value_t*, %jl_value_t** %gcframe, i32 3\n",
      "   store %jl_value_t* %159, %jl_value_t** %160\n",
      "; └\n",
      "  %161 = call %jl_value_t* @jl_box_int64(i64 signext %14)\n",
      "  %162 = getelementptr %jl_value_t*, %jl_value_t** %gcframe, i32 2\n",
      "  store %jl_value_t* %161, %jl_value_t** %162\n",
      "  %163 = getelementptr %jl_value_t*, %jl_value_t** %3, i32 0\n",
      "  store %jl_value_t* %159, %jl_value_t** %163\n",
      "  %164 = getelementptr %jl_value_t*, %jl_value_t** %3, i32 1\n",
      "  store %jl_value_t* %161, %jl_value_t** %164\n",
      "  %165 = call nonnull %jl_value_t* @jl_apply_generic(%jl_value_t* inttoptr (i64 194384928 to %jl_value_t*), %jl_value_t** %3, i32 2)\n",
      "  %166 = getelementptr %jl_value_t*, %jl_value_t** %gcframe, i32 2\n",
      "  store %jl_value_t* %165, %jl_value_t** %166\n",
      "  %167 = getelementptr %jl_value_t*, %jl_value_t** %3, i32 0\n",
      "  store %jl_value_t* %41, %jl_value_t** %167\n",
      "  %168 = getelementptr %jl_value_t*, %jl_value_t** %3, i32 1\n",
      "  store %jl_value_t* inttoptr (i64 130174760 to %jl_value_t*), %jl_value_t** %168\n",
      "  %169 = getelementptr %jl_value_t*, %jl_value_t** %3, i32 2\n",
      "  store %jl_value_t* %165, %jl_value_t** %169\n",
      "  %170 = call nonnull %jl_value_t* @jl_apply_generic(%jl_value_t* inttoptr (i64 211679232 to %jl_value_t*), %jl_value_t** %3, i32 3)\n",
      ";  @ In[4]:12 within `embedStruct0'\n",
      "  %171 = load %jl_value_t*, %jl_value_t** inttoptr (i64 1050016312 to %jl_value_t**), align 8\n",
      "  %172 = getelementptr %jl_value_t*, %jl_value_t** %gcframe, i32 2\n",
      "  store %jl_value_t* %171, %jl_value_t** %172\n",
      "  %173 = getelementptr %jl_value_t*, %jl_value_t** %3, i32 0\n",
      "  store %jl_value_t* %171, %jl_value_t** %173\n",
      "  %174 = getelementptr %jl_value_t*, %jl_value_t** %3, i32 1\n",
      "  store %jl_value_t* inttoptr (i64 130804840 to %jl_value_t*), %jl_value_t** %174\n",
      "  %175 = call nonnull %jl_value_t* @jl_apply_generic(%jl_value_t* inttoptr (i64 206438992 to %jl_value_t*), %jl_value_t** %3, i32 2)\n",
      "  %176 = getelementptr %jl_value_t*, %jl_value_t** %gcframe, i32 3\n",
      "  store %jl_value_t* %175, %jl_value_t** %176\n",
      "  %177 = call %jl_value_t* @jl_box_int64(i64 signext %14)\n",
      "  %178 = getelementptr %jl_value_t*, %jl_value_t** %gcframe, i32 2\n",
      "  store %jl_value_t* %177, %jl_value_t** %178\n",
      "  %179 = getelementptr %jl_value_t*, %jl_value_t** %3, i32 0\n",
      "  store %jl_value_t* %41, %jl_value_t** %179\n",
      "  %180 = getelementptr %jl_value_t*, %jl_value_t** %3, i32 1\n",
      "  store %jl_value_t* %1, %jl_value_t** %180\n",
      "  %181 = getelementptr %jl_value_t*, %jl_value_t** %3, i32 2\n",
      "  store %jl_value_t* %177, %jl_value_t** %181\n",
      "  %182 = getelementptr %jl_value_t*, %jl_value_t** %3, i32 3\n",
      "  store %jl_value_t* %2, %jl_value_t** %182\n",
      "  %183 = call nonnull %jl_value_t* @jl_apply_generic(%jl_value_t* %175, %jl_value_t** %3, i32 4)\n",
      "  %184 = getelementptr %jl_value_t*, %jl_value_t** %gcframe, i32 1\n",
      "  %185 = load %jl_value_t*, %jl_value_t** %184\n",
      "  %186 = getelementptr %jl_value_t**, %jl_value_t*** %5, i32 0\n",
      "  %187 = bitcast %jl_value_t*** %186 to %jl_value_t**\n",
      "  store %jl_value_t* %185, %jl_value_t** %187\n",
      ";  @ In[4]:13 within `embedStruct0'\n",
      "  ret %jl_value_t* %183\n",
      "}\n"
     ]
    }
   ],
   "source": [
    "@code_llvm embedStruct(1)(x,\"-New\")"
   ]
  },
  {
   "cell_type": "code",
   "execution_count": 13,
   "metadata": {},
   "outputs": [
    {
     "ename": "LoadError",
     "evalue": "UndefVarError: i not defined",
     "output_type": "error",
     "traceback": [
      "UndefVarError: i not defined",
      "",
      "Stacktrace:",
      " [1] (::var\"#embedStruct0#3\"{Int64})(::LinearAlgebraicRepresentation.Struct, ::String) at .\\In[4]:7",
      " [2] ##core#281() at C:\\Users\\omarm\\.julia\\packages\\BenchmarkTools\\eCEpo\\src\\execution.jl:371",
      " [3] ##sample#282(::BenchmarkTools.Parameters) at C:\\Users\\omarm\\.julia\\packages\\BenchmarkTools\\eCEpo\\src\\execution.jl:377",
      " [4] _run(::BenchmarkTools.Benchmark{Symbol(\"##benchmark#280\")}, ::BenchmarkTools.Parameters; verbose::Bool, pad::String, kwargs::Base.Iterators.Pairs{Symbol,Integer,NTuple{4,Symbol},NamedTuple{(:samples, :evals, :gctrial, :gcsample),Tuple{Int64,Int64,Bool,Bool}}}) at C:\\Users\\omarm\\.julia\\packages\\BenchmarkTools\\eCEpo\\src\\execution.jl:405",
      " [5] (::Base.var\"#inner#2\"{Base.Iterators.Pairs{Symbol,Integer,NTuple{5,Symbol},NamedTuple{(:verbose, :samples, :evals, :gctrial, :gcsample),Tuple{Bool,Int64,Int64,Bool,Bool}}},typeof(BenchmarkTools._run),Tuple{BenchmarkTools.Benchmark{Symbol(\"##benchmark#280\")},BenchmarkTools.Parameters}})() at .\\essentials.jl:713",
      " [6] #invokelatest#1 at .\\essentials.jl:714 [inlined]",
      " [7] #run_result#37 at C:\\Users\\omarm\\.julia\\packages\\BenchmarkTools\\eCEpo\\src\\execution.jl:32 [inlined]",
      " [8] run(::BenchmarkTools.Benchmark{Symbol(\"##benchmark#280\")}, ::BenchmarkTools.Parameters; progressid::Nothing, nleaves::Float64, ndone::Float64, kwargs::Base.Iterators.Pairs{Symbol,Integer,NTuple{5,Symbol},NamedTuple{(:verbose, :samples, :evals, :gctrial, :gcsample),Tuple{Bool,Int64,Int64,Bool,Bool}}}) at C:\\Users\\omarm\\.julia\\packages\\BenchmarkTools\\eCEpo\\src\\execution.jl:94",
      " [9] #warmup#45 at C:\\Users\\omarm\\.julia\\packages\\BenchmarkTools\\eCEpo\\src\\execution.jl:141 [inlined]",
      " [10] warmup(::BenchmarkTools.Benchmark{Symbol(\"##benchmark#280\")}) at C:\\Users\\omarm\\.julia\\packages\\BenchmarkTools\\eCEpo\\src\\execution.jl:141",
      " [11] top-level scope at C:\\Users\\omarm\\.julia\\packages\\BenchmarkTools\\eCEpo\\src\\execution.jl:287",
      " [12] include_string(::Function, ::Module, ::String, ::String) at .\\loading.jl:1091"
     ]
    }
   ],
   "source": [
    "@benchmark embedStruct(1)(x,\"-New\")"
   ]
  }
 ],
 "metadata": {
  "kernelspec": {
   "display_name": "Julia 1.5.3",
   "language": "julia",
   "name": "julia-1.5"
  },
  "language_info": {
   "file_extension": ".jl",
   "mimetype": "application/julia",
   "name": "julia",
   "version": "1.5.3"
  }
 },
 "nbformat": 4,
 "nbformat_minor": 4
}
