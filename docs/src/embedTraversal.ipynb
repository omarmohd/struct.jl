{
 "cells": [
  {
   "cell_type": "code",
   "execution_count": 89,
   "metadata": {},
   "outputs": [
    {
     "data": {
      "text/plain": [
       "LinearAlgebraicRepresentation"
      ]
     },
     "execution_count": 89,
     "metadata": {},
     "output_type": "execute_result"
    }
   ],
   "source": [
    "using BenchmarkTools\n",
    "using LinearAlgebra\n",
    "using LinearAlgebraicRepresentation\n",
    "Lar = LinearAlgebraicRepresentation"
   ]
  },
  {
   "cell_type": "code",
   "execution_count": 91,
   "metadata": {},
   "outputs": [
    {
     "data": {
      "text/plain": [
       "([0.0 0.0 1.0 1.0; 0.0 1.0 0.0 1.0], [[1, 2, 3, 4]])"
      ]
     },
     "execution_count": 91,
     "metadata": {},
     "output_type": "execute_result"
    }
   ],
   "source": [
    "square = Lar.cuboid([1,1])"
   ]
  },
  {
   "cell_type": "code",
   "execution_count": 92,
   "metadata": {},
   "outputs": [
    {
     "data": {
      "text/plain": [
       "LinearAlgebraicRepresentation.Struct([([0.0 0.0 1.0 1.0; 0.0 1.0 0.0 1.0], [[1, 2, 3, 4]])], [[0.0; 0.0], [1.0; 1.0]], \"5280728100755326513\", 2, \"feature\")"
      ]
     },
     "execution_count": 92,
     "metadata": {},
     "output_type": "execute_result"
    }
   ],
   "source": [
    "x = Lar.Struct([square])"
   ]
  },
  {
   "cell_type": "code",
   "execution_count": 93,
   "metadata": {},
   "outputs": [
    {
     "data": {
      "text/plain": [
       "LinearAlgebraicRepresentation.Struct(Any[], Any, \"6837444746729184950\", Any, \"feature\")"
      ]
     },
     "execution_count": 93,
     "metadata": {},
     "output_type": "execute_result"
    }
   ],
   "source": [
    "emptyStruct = Lar.Struct()"
   ]
  },
  {
   "cell_type": "markdown",
   "metadata": {},
   "source": [
    "## Vecchia funzione"
   ]
  },
  {
   "cell_type": "code",
   "execution_count": 111,
   "metadata": {},
   "outputs": [
    {
     "data": {
      "text/plain": [
       "embedTraversal (generic function with 2 methods)"
      ]
     },
     "execution_count": 111,
     "metadata": {},
     "output_type": "execute_result"
    }
   ],
   "source": [
    "function embedTraversal(cloned::Lar.Struct,obj::Lar.Struct,n::Int,suffix::String)\n",
    "\tfor i=1:length(obj.body)\n",
    "\t\tif isa(obj.body[i],Matrix)\n",
    "\t\t\tmat = obj.body[i]\n",
    "\t\t\td,d = size(mat)\n",
    "\t\t\tnewMat = Matrix{Float64}(LinearAlgebra.I, d+n, d+n)\n",
    "\t\t\tfor h in range(1, length=d)\n",
    "\t\t\t\tfor k in range(1, length=d)\n",
    "\t\t\t\t\tnewMat[h,k]=mat[h,k]\n",
    "\t\t\t\tend\n",
    "\t\t\tend\n",
    "\t\t\tpush!(cloned.body,[newMat])\n",
    "\t\telseif (isa(obj.body[i],Tuple) ||isa(obj.body[i],Array))&& length(obj.body[i])==3\n",
    "\t\t\tV,FV,EV = deepcopy(obj.body[i])\n",
    "\t\t\tdimadd = n\n",
    "\t\t\tncols = size(V,2)\n",
    "\t\t\tnmat = zeros(dimadd,ncols)\n",
    "\t\t\tV = [V;zeros(dimadd,ncols)]\n",
    "\t\t\tpush!(cloned.body,[(V,FV,EV)])\n",
    "\t\telseif  (isa(obj.body[i],Tuple) ||isa(obj.body[i],Array))&& length(obj.body[i])==2\n",
    "\t\t\tV,EV = deepcopy(obj.body[i])\n",
    "\t\t\tdimadd = n\n",
    "\t\t\tncols = size(V,2)\n",
    "\t\t\tnmat = zeros(dimadd,ncols)\n",
    "\t\t\tV = [V;zeros(dimadd,ncols)]\n",
    "\t\t\tpush!(cloned.body,[(V,EV)])\n",
    "\t\telseif isa(obj.body[i],Lar.Struct)\n",
    "\t\t\tnewObj = Struct()\n",
    "\t\t\tnewObj.box = [ [obj.body[i].box[1];zeros(dimadd)],\n",
    "\t\t\t\t\t\t\t[obj.body[i].box[2];zeros(dimadd)] ]\n",
    "\t\t\tnewObj.category = (obj.body[i]).category\n",
    "\t\t\tpush!(cloned.body,[embedTraversal(newObj,obj.body[i],obj.dim+n,suffix)])\n",
    "\t\tend\n",
    "\tend\n",
    "\treturn cloned\n",
    "end"
   ]
  },
  {
   "cell_type": "code",
   "execution_count": 110,
   "metadata": {},
   "outputs": [
    {
     "name": "stdout",
     "output_type": "stream",
     "text": [
      "  2.775 μs (20 allocations: 1.53 KiB)\n"
     ]
    },
    {
     "data": {
      "text/plain": [
       "LinearAlgebraicRepresentation.Struct(Any[[([0.0 0.0 1.0 1.0; 0.0 1.0 0.0 1.0; 0.0 0.0 0.0 0.0], [[1, 2, 3, 4]])], [([0.0 0.0 1.0 1.0; 0.0 1.0 0.0 1.0; 0.0 0.0 0.0 0.0], [[1, 2, 3, 4]])], [([0.0 0.0 1.0 1.0; 0.0 1.0 0.0 1.0; 0.0 0.0 0.0 0.0], [[1, 2, 3, 4]])], [([0.0 0.0 1.0 1.0; 0.0 1.0 0.0 1.0; 0.0 0.0 0.0 0.0], [[1, 2, 3, 4]])], [([0.0 0.0 1.0 1.0; 0.0 1.0 0.0 1.0; 0.0 0.0 0.0 0.0], [[1, 2, 3, 4]])], [([0.0 0.0 1.0 1.0; 0.0 1.0 0.0 1.0; 0.0 0.0 0.0 0.0], [[1, 2, 3, 4]])], [([0.0 0.0 1.0 1.0; 0.0 1.0 0.0 1.0; 0.0 0.0 0.0 0.0], [[1, 2, 3, 4]])], [([0.0 0.0 1.0 1.0; 0.0 1.0 0.0 1.0; 0.0 0.0 0.0 0.0], [[1, 2, 3, 4]])], [([0.0 0.0 1.0 1.0; 0.0 1.0 0.0 1.0; 0.0 0.0 0.0 0.0], [[1, 2, 3, 4]])], [([0.0 0.0 1.0 1.0; 0.0 1.0 0.0 1.0; 0.0 0.0 0.0 0.0], [[1, 2, 3, 4]])]  …  [([0.0 0.0 1.0 1.0; 0.0 1.0 0.0 1.0; 0.0 0.0 0.0 0.0], [[1, 2, 3, 4]])], [([0.0 0.0 1.0 1.0; 0.0 1.0 0.0 1.0; 0.0 0.0 0.0 0.0], [[1, 2, 3, 4]])], [([0.0 0.0 1.0 1.0; 0.0 1.0 0.0 1.0; 0.0 0.0 0.0 0.0], [[1, 2, 3, 4]])], [([0.0 0.0 1.0 1.0; 0.0 1.0 0.0 1.0; 0.0 0.0 0.0 0.0], [[1, 2, 3, 4]])], [([0.0 0.0 1.0 1.0; 0.0 1.0 0.0 1.0; 0.0 0.0 0.0 0.0], [[1, 2, 3, 4]])], [([0.0 0.0 1.0 1.0; 0.0 1.0 0.0 1.0; 0.0 0.0 0.0 0.0], [[1, 2, 3, 4]])], [([0.0 0.0 1.0 1.0; 0.0 1.0 0.0 1.0; 0.0 0.0 0.0 0.0], [[1, 2, 3, 4]])], [([0.0 0.0 1.0 1.0; 0.0 1.0 0.0 1.0; 0.0 0.0 0.0 0.0], [[1, 2, 3, 4]])], [([0.0 0.0 1.0 1.0; 0.0 1.0 0.0 1.0; 0.0 0.0 0.0 0.0], [[1, 2, 3, 4]])], [([0.0 0.0 1.0 1.0; 0.0 1.0 0.0 1.0; 0.0 0.0 0.0 0.0], [[1, 2, 3, 4]])]], Any, \"6837444746729184950\", Any, \"feature\")"
      ]
     },
     "execution_count": 110,
     "metadata": {},
     "output_type": "execute_result"
    }
   ],
   "source": [
    "@btime embedTraversal(emptyStruct,x,1,\"New\")"
   ]
  },
  {
   "cell_type": "markdown",
   "metadata": {},
   "source": [
    "## Nuove funzioni"
   ]
  },
  {
   "cell_type": "code",
   "execution_count": 96,
   "metadata": {},
   "outputs": [
    {
     "data": {
      "text/plain": [
       "embedTraversalMatrix (generic function with 1 method)"
      ]
     },
     "execution_count": 96,
     "metadata": {},
     "output_type": "execute_result"
    }
   ],
   "source": [
    "function embedTraversalMatrix(objBody)\n",
    "\tmat = objBody[i]\n",
    "\td,d = size(mat)\n",
    "\tnewMat = Matrix{Float64}(LinearAlgebra.I, d+n, d+n)\n",
    "\tfor h in range(1, length=d)\n",
    "\t\tfor k in range(1, length=d)\n",
    "\t\t\tnewMat[h,k]=mat[h,k]\n",
    "\t\tend\n",
    "\tend\n",
    "\treturn newMat\n",
    "end"
   ]
  },
  {
   "cell_type": "code",
   "execution_count": 97,
   "metadata": {},
   "outputs": [
    {
     "data": {
      "text/plain": [
       "embedTraversalTupleOrArray (generic function with 1 method)"
      ]
     },
     "execution_count": 97,
     "metadata": {},
     "output_type": "execute_result"
    }
   ],
   "source": [
    "function embedTraversalTupleOrArray(n,V)\n",
    "\tdimadd = n\n",
    "\tncols = size(V,2)\n",
    "\tnmat = zeros(dimadd,ncols)\n",
    "\tV = [V;nmat]\n",
    "\treturn V\n",
    "end"
   ]
  },
  {
   "cell_type": "code",
   "execution_count": 98,
   "metadata": {},
   "outputs": [
    {
     "data": {
      "text/plain": [
       "embedTraversalStruct (generic function with 1 method)"
      ]
     },
     "execution_count": 98,
     "metadata": {},
     "output_type": "execute_result"
    }
   ],
   "source": [
    "function embedTraversalStruct(objBody)\n",
    "\tnewObj = Struct()\n",
    "\tnewObj.box = [ [objBody[i].box[1];zeros(dimadd)],\n",
    "\t\t\t\t   [objBody[i].box[2];zeros(dimadd)] ]\n",
    "\tnewObj.category = (objBody[i]).category\n",
    "\treturn\n",
    "end"
   ]
  },
  {
   "cell_type": "code",
   "execution_count": 99,
   "metadata": {},
   "outputs": [
    {
     "data": {
      "text/plain": [
       "embedTraversa (generic function with 4 methods)"
      ]
     },
     "execution_count": 99,
     "metadata": {},
     "output_type": "execute_result"
    }
   ],
   "source": [
    "function embedTraversal(cloned,obj,n,suffix)\n",
    "\tobjBody = obj.body\n",
    "\tfor i=1:length(objBody)\n",
    "\t\tif isa(objBody[i],Matrix)\n",
    "\t\t\tnewMat = embedTraversalMatrix(objBody)\n",
    "\t\t\tpush!(cloned.body,[newMat])\n",
    "\t\telseif (isa(objBody[i],Tuple) || isa(objBody[i],Array))\n",
    "\t\t\tif (length(objBody[i])==3)\n",
    "\t\t\t\tV,FV,EV = deepcopy(objBody[i])\n",
    "\t\t\t\tV = embedTraversalTupleOrArray(n,V)\n",
    "\t\t\t\tpush!(cloned.body,[(V,FV,EV)])\n",
    "\t\t\telseif (length(objBody[i])==2)\n",
    "\t\t\t\tV,EV = deepcopy(objBody[i])\n",
    "\t\t\t\tV = embedTraversalTupleOrArray(n,V)\n",
    "\t\t\t\tpush!(cloned.body,[(V,EV)])\n",
    "\t\t\tend\n",
    "\t\telseif isa(objBody[i],Struct)\n",
    "\t\t\tnewObj = embedTraversalStruct(objBody)\n",
    "\t\t\tpush!(cloned.body,[embedTraversal(newObj,objBody[i],obj.dim+n,suffix)])\n",
    "\t\tend\n",
    "\tend\n",
    "\treturn cloned\n",
    "end"
   ]
  },
  {
   "cell_type": "code",
   "execution_count": 100,
   "metadata": {},
   "outputs": [
    {
     "name": "stdout",
     "output_type": "stream",
     "text": [
      "  2.544 μs (18 allocations: 1.39 KiB)\n"
     ]
    },
    {
     "data": {
      "text/plain": [
       "LinearAlgebraicRepresentation.Struct(Any[[([0.0 0.0 1.0 1.0; 0.0 1.0 0.0 1.0; 0.0 0.0 0.0 0.0], [[1, 2, 3, 4]])], [([0.0 0.0 1.0 1.0; 0.0 1.0 0.0 1.0; 0.0 0.0 0.0 0.0], [[1, 2, 3, 4]])], [([0.0 0.0 1.0 1.0; 0.0 1.0 0.0 1.0; 0.0 0.0 0.0 0.0], [[1, 2, 3, 4]])], [([0.0 0.0 1.0 1.0; 0.0 1.0 0.0 1.0; 0.0 0.0 0.0 0.0], [[1, 2, 3, 4]])], [([0.0 0.0 1.0 1.0; 0.0 1.0 0.0 1.0; 0.0 0.0 0.0 0.0], [[1, 2, 3, 4]])], [([0.0 0.0 1.0 1.0; 0.0 1.0 0.0 1.0; 0.0 0.0 0.0 0.0], [[1, 2, 3, 4]])], [([0.0 0.0 1.0 1.0; 0.0 1.0 0.0 1.0; 0.0 0.0 0.0 0.0], [[1, 2, 3, 4]])], [([0.0 0.0 1.0 1.0; 0.0 1.0 0.0 1.0; 0.0 0.0 0.0 0.0], [[1, 2, 3, 4]])], [([0.0 0.0 1.0 1.0; 0.0 1.0 0.0 1.0; 0.0 0.0 0.0 0.0], [[1, 2, 3, 4]])], [([0.0 0.0 1.0 1.0; 0.0 1.0 0.0 1.0; 0.0 0.0 0.0 0.0], [[1, 2, 3, 4]])]  …  [([0.0 0.0 1.0 1.0; 0.0 1.0 0.0 1.0; 0.0 0.0 0.0 0.0], [[1, 2, 3, 4]])], [([0.0 0.0 1.0 1.0; 0.0 1.0 0.0 1.0; 0.0 0.0 0.0 0.0], [[1, 2, 3, 4]])], [([0.0 0.0 1.0 1.0; 0.0 1.0 0.0 1.0; 0.0 0.0 0.0 0.0], [[1, 2, 3, 4]])], [([0.0 0.0 1.0 1.0; 0.0 1.0 0.0 1.0; 0.0 0.0 0.0 0.0], [[1, 2, 3, 4]])], [([0.0 0.0 1.0 1.0; 0.0 1.0 0.0 1.0; 0.0 0.0 0.0 0.0], [[1, 2, 3, 4]])], [([0.0 0.0 1.0 1.0; 0.0 1.0 0.0 1.0; 0.0 0.0 0.0 0.0], [[1, 2, 3, 4]])], [([0.0 0.0 1.0 1.0; 0.0 1.0 0.0 1.0; 0.0 0.0 0.0 0.0], [[1, 2, 3, 4]])], [([0.0 0.0 1.0 1.0; 0.0 1.0 0.0 1.0; 0.0 0.0 0.0 0.0], [[1, 2, 3, 4]])], [([0.0 0.0 1.0 1.0; 0.0 1.0 0.0 1.0; 0.0 0.0 0.0 0.0], [[1, 2, 3, 4]])], [([0.0 0.0 1.0 1.0; 0.0 1.0 0.0 1.0; 0.0 0.0 0.0 0.0], [[1, 2, 3, 4]])]], Any, \"6837444746729184950\", Any, \"feature\")"
      ]
     },
     "execution_count": 100,
     "metadata": {},
     "output_type": "execute_result"
    }
   ],
   "source": [
    "@btime embedTraversal(emptyStruct,x,1,\"New\")"
   ]
  },
  {
   "cell_type": "code",
   "execution_count": null,
   "metadata": {},
   "outputs": [],
   "source": []
  }
 ],
 "metadata": {
  "kernelspec": {
   "display_name": "Julia 1.5.3",
   "language": "julia",
   "name": "julia-1.5"
  },
  "language_info": {
   "file_extension": ".jl",
   "mimetype": "application/julia",
   "name": "julia",
   "version": "1.5.3"
  }
 },
 "nbformat": 4,
 "nbformat_minor": 4
}
