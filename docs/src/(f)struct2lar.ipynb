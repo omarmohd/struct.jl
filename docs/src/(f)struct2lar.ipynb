{
 "cells": [
  {
   "cell_type": "code",
   "execution_count": 1,
   "metadata": {},
   "outputs": [
    {
     "data": {
      "text/plain": [
       "LinearAlgebraicRepresentation"
      ]
     },
     "execution_count": 1,
     "metadata": {},
     "output_type": "execute_result"
    }
   ],
   "source": [
    "using BenchmarkTools\n",
    "using LinearAlgebra\n",
    "using LinearAlgebraicRepresentation\n",
    "Lar = LinearAlgebraicRepresentation"
   ]
  },
  {
   "cell_type": "code",
   "execution_count": 2,
   "metadata": {},
   "outputs": [
    {
     "data": {
      "text/plain": [
       "([0.0 0.0 1.0 1.0; 0.0 1.0 0.0 1.0], [[1, 2, 3, 4]])"
      ]
     },
     "execution_count": 2,
     "metadata": {},
     "output_type": "execute_result"
    }
   ],
   "source": [
    "square = Lar.cuboid([1,1])"
   ]
  },
  {
   "cell_type": "code",
   "execution_count": 3,
   "metadata": {},
   "outputs": [
    {
     "data": {
      "text/plain": [
       "([-0.5 -0.5 0.5 0.5; -0.5 0.5 -0.5 0.5], [[1, 2, 3, 4]])"
      ]
     },
     "execution_count": 3,
     "metadata": {},
     "output_type": "execute_result"
    }
   ],
   "source": [
    "table = Lar.apply(Lar.t(-0.5,-0.5),square)"
   ]
  },
  {
   "cell_type": "code",
   "execution_count": 4,
   "metadata": {},
   "outputs": [
    {
     "data": {
      "text/plain": [
       "LinearAlgebraicRepresentation.Struct(Any[([-0.5 -0.5 0.5 0.5; -0.5 0.5 -0.5 0.5], [[1, 2, 3, 4]]), [6.123233995736766e-17 -1.0 0.0; 1.0 6.123233995736766e-17 0.0; 0.0 0.0 1.0], ([-0.5 -0.5 0.5 0.5; -0.5 0.5 -0.5 0.5], [[1, 2, 3, 4]]), [6.123233995736766e-17 -1.0 0.0; 1.0 6.123233995736766e-17 0.0; 0.0 0.0 1.0]], [[-0.5; -0.5], [0.5; 0.5]], \"13132074318155819507\", 2, \"feature\")"
      ]
     },
     "execution_count": 4,
     "metadata": {},
     "output_type": "execute_result"
    }
   ],
   "source": [
    "structure = Lar.Struct([repeat([table,Lar.r(pi/2)],outer=2)...])"
   ]
  },
  {
   "cell_type": "code",
   "execution_count": 5,
   "metadata": {},
   "outputs": [
    {
     "data": {
      "text/plain": [
       "2-element Array{Array{Float64,2},1}:\n",
       " [-0.5; -0.5]\n",
       " [0.5; 0.5]"
      ]
     },
     "execution_count": 5,
     "metadata": {},
     "output_type": "execute_result"
    }
   ],
   "source": [
    "structure.box"
   ]
  },
  {
   "cell_type": "markdown",
   "metadata": {},
   "source": [
    "## Vecchia funzione"
   ]
  },
  {
   "cell_type": "code",
   "execution_count": 6,
   "metadata": {},
   "outputs": [
    {
     "data": {
      "text/plain": [
       "struct2lar (generic function with 1 method)"
      ]
     },
     "execution_count": 6,
     "metadata": {},
     "output_type": "execute_result"
    }
   ],
   "source": [
    "function struct2lar(structure)\n",
    "\tlistOfModels = Lar.evalStruct(structure)\n",
    "\tvertDict = Dict()\n",
    "\tindex,defaultValue = 0,0\n",
    "\tW = Array{Float64,1}[]\n",
    "\tm = length(listOfModels[1])\n",
    "\tlarmodel = [Array{Number,1}[] for k=1:m]\n",
    "\n",
    "\tfor model in listOfModels\n",
    "\t\tV = model[1]\n",
    "\t\tfor k=2:m\n",
    "\t\t\tfor incell in model[k]\n",
    "\t\t\t\toutcell=[]\n",
    "\t\t\t\tfor v in incell\n",
    "\t\t\t\t\tkey = map(Lar.approxVal(7), V[:,v])\n",
    "\t\t\t\t\tif get(vertDict,key,defaultValue)==defaultValue\n",
    "\t\t\t\t\t\tindex += 1\n",
    "\t\t\t\t\t\tvertDict[key]=index\n",
    "\t\t\t\t\t\tpush!(outcell,index)\n",
    "\t\t\t\t\t\tpush!(W,key)\n",
    "\t\t\t\t\telse\n",
    "\t\t\t\t\t\tpush!(outcell,vertDict[key])\n",
    "\t\t\t\t\tend\n",
    "\t\t\t\tend\n",
    "\t\t\t\tappend!(larmodel[k],[outcell])\n",
    "\t\t\tend\n",
    "\t\tend\n",
    "\tend\n",
    "\n",
    "\tappend!(larmodel[1], W)\n",
    "\tV = hcat(larmodel[1]...)\n",
    "\tchains = [convert(Lar.Cells, chain) for chain in larmodel[2:end]]\n",
    "\treturn (V, chains...)\n",
    "end"
   ]
  },
  {
   "cell_type": "code",
   "execution_count": 7,
   "metadata": {},
   "outputs": [
    {
     "name": "stdout",
     "output_type": "stream",
     "text": [
      "  33.299 μs (145 allocations: 8.86 KiB)\n"
     ]
    },
    {
     "data": {
      "text/plain": [
       "([-0.5 -0.5 0.5 0.5; -0.5 0.5 -0.5 0.5], [[1, 2, 3, 4], [3, 1, 4, 2]])"
      ]
     },
     "execution_count": 7,
     "metadata": {},
     "output_type": "execute_result"
    }
   ],
   "source": [
    "@btime struct2lar(structure)"
   ]
  },
  {
   "cell_type": "code",
   "execution_count": 8,
   "metadata": {},
   "outputs": [
    {
     "name": "stdout",
     "output_type": "stream",
     "text": [
      "Variables\n",
      "  #self#\u001b[36m::Core.Compiler.Const(struct2lar, false)\u001b[39m\n",
      "  structure\u001b[36m::LinearAlgebraicRepresentation.Struct\u001b[39m\n",
      "  #3\u001b[36m::var\"#3#5\"\u001b[39m\n",
      "  #4\u001b[36m::var\"#4#6\"\u001b[39m\n",
      "  listOfModels\u001b[91m\u001b[1m::Any\u001b[22m\u001b[39m\n",
      "  vertDict\u001b[36m::Dict{Any,Any}\u001b[39m\n",
      "  index\u001b[36m::Int64\u001b[39m\n",
      "  defaultValue\u001b[36m::Int64\u001b[39m\n",
      "  W\u001b[36m::Array{Array{Float64,1},1}\u001b[39m\n",
      "  m\u001b[91m\u001b[1m::Any\u001b[22m\u001b[39m\n",
      "  larmodel\u001b[91m\u001b[1m::Any\u001b[22m\u001b[39m\n",
      "  @_12\u001b[91m\u001b[1m::Any\u001b[22m\u001b[39m\n",
      "  V\u001b[91m\u001b[1m::Any\u001b[22m\u001b[39m\n",
      "  chains\u001b[91m\u001b[1m::Any\u001b[22m\u001b[39m\n",
      "  model\u001b[91m\u001b[1m::Any\u001b[22m\u001b[39m\n",
      "  @_16\u001b[91m\u001b[1m::Any\u001b[22m\u001b[39m\n",
      "  k\u001b[91m\u001b[1m::Any\u001b[22m\u001b[39m\n",
      "  @_18\u001b[91m\u001b[1m::Any\u001b[22m\u001b[39m\n",
      "  incell\u001b[91m\u001b[1m::Any\u001b[22m\u001b[39m\n",
      "  outcell\u001b[36m::Array{Any,1}\u001b[39m\n",
      "  @_21\u001b[91m\u001b[1m::Any\u001b[22m\u001b[39m\n",
      "  v\u001b[91m\u001b[1m::Any\u001b[22m\u001b[39m\n",
      "  key\u001b[91m\u001b[1m::Any\u001b[22m\u001b[39m\n",
      "\n",
      "Body\u001b[91m\u001b[1m::Tuple{Any,Vararg{Any,N} where N}\u001b[22m\u001b[39m\n",
      "\u001b[90m1 ──\u001b[39m        Core.NewvarNode(:(#4))\n",
      "\u001b[90m│   \u001b[39m        Core.NewvarNode(:(V))\n",
      "\u001b[90m│   \u001b[39m        Core.NewvarNode(:(chains))\n",
      "\u001b[90m│   \u001b[39m %4   = Base.getproperty(Main.Lar, :evalStruct)\u001b[91m\u001b[1m::Any\u001b[22m\u001b[39m\n",
      "\u001b[90m│   \u001b[39m        (listOfModels = (%4)(structure))\n",
      "\u001b[90m│   \u001b[39m        (vertDict = Main.Dict())\n",
      "\u001b[90m│   \u001b[39m        (index = 0)\n",
      "\u001b[90m│   \u001b[39m        (defaultValue = 0)\n",
      "\u001b[90m│   \u001b[39m %9   = Core.apply_type(Main.Array, Main.Float64, 1)\u001b[36m::Core.Compiler.Const(Array{Float64,1}, false)\u001b[39m\n",
      "\u001b[90m│   \u001b[39m        (W = Base.getindex(%9))\n",
      "\u001b[90m│   \u001b[39m %11  = Base.getindex(listOfModels, 1)\u001b[91m\u001b[1m::Any\u001b[22m\u001b[39m\n",
      "\u001b[90m│   \u001b[39m        (m = Main.length(%11))\n",
      "\u001b[90m│   \u001b[39m        (#3 = %new(Main.:(var\"#3#5\")))\n",
      "\u001b[90m│   \u001b[39m %14  = #3\u001b[36m::Core.Compiler.Const(var\"#3#5\"(), false)\u001b[39m\n",
      "\u001b[90m│   \u001b[39m %15  = (1:m)\u001b[91m\u001b[1m::Any\u001b[22m\u001b[39m\n",
      "\u001b[90m│   \u001b[39m %16  = Base.Generator(%14, %15)\u001b[91m\u001b[1m::Base.Generator{_A,var\"#3#5\"} where _A\u001b[22m\u001b[39m\n",
      "\u001b[90m│   \u001b[39m        (larmodel = Base.collect(%16))\n",
      "\u001b[90m│   \u001b[39m %18  = listOfModels\u001b[91m\u001b[1m::Any\u001b[22m\u001b[39m\n",
      "\u001b[90m│   \u001b[39m        (@_12 = Base.iterate(%18))\n",
      "\u001b[90m│   \u001b[39m %20  = (@_12 === nothing)\u001b[36m::Bool\u001b[39m\n",
      "\u001b[90m│   \u001b[39m %21  = Base.not_int(%20)\u001b[36m::Bool\u001b[39m\n",
      "\u001b[90m└───\u001b[39m        goto #16 if not %21\n",
      "\u001b[90m2 ┄─\u001b[39m %23  = @_12\u001b[91m\u001b[1m::Any\u001b[22m\u001b[39m\n",
      "\u001b[90m│   \u001b[39m        (model = Core.getfield(%23, 1))\n",
      "\u001b[90m│   \u001b[39m %25  = Core.getfield(%23, 2)\u001b[91m\u001b[1m::Any\u001b[22m\u001b[39m\n",
      "\u001b[90m│   \u001b[39m        (V = Base.getindex(model, 1))\n",
      "\u001b[90m│   \u001b[39m %27  = (2:m)\u001b[91m\u001b[1m::Any\u001b[22m\u001b[39m\n",
      "\u001b[90m│   \u001b[39m        (@_16 = Base.iterate(%27))\n",
      "\u001b[90m│   \u001b[39m %29  = (@_16 === nothing)\u001b[36m::Bool\u001b[39m\n",
      "\u001b[90m│   \u001b[39m %30  = Base.not_int(%29)\u001b[36m::Bool\u001b[39m\n",
      "\u001b[90m└───\u001b[39m        goto #14 if not %30\n",
      "\u001b[90m3 ┄─\u001b[39m %32  = @_16\u001b[91m\u001b[1m::Any\u001b[22m\u001b[39m\n",
      "\u001b[90m│   \u001b[39m        (k = Core.getfield(%32, 1))\n",
      "\u001b[90m│   \u001b[39m %34  = Core.getfield(%32, 2)\u001b[91m\u001b[1m::Any\u001b[22m\u001b[39m\n",
      "\u001b[90m│   \u001b[39m %35  = Base.getindex(model, k)\u001b[91m\u001b[1m::Any\u001b[22m\u001b[39m\n",
      "\u001b[90m│   \u001b[39m        (@_18 = Base.iterate(%35))\n",
      "\u001b[90m│   \u001b[39m %37  = (@_18 === nothing)\u001b[36m::Bool\u001b[39m\n",
      "\u001b[90m│   \u001b[39m %38  = Base.not_int(%37)\u001b[36m::Bool\u001b[39m\n",
      "\u001b[90m└───\u001b[39m        goto #12 if not %38\n",
      "\u001b[90m4 ┄─\u001b[39m %40  = @_18\u001b[91m\u001b[1m::Any\u001b[22m\u001b[39m\n",
      "\u001b[90m│   \u001b[39m        (incell = Core.getfield(%40, 1))\n",
      "\u001b[90m│   \u001b[39m %42  = Core.getfield(%40, 2)\u001b[91m\u001b[1m::Any\u001b[22m\u001b[39m\n",
      "\u001b[90m│   \u001b[39m        (outcell = Base.vect())\n",
      "\u001b[90m│   \u001b[39m %44  = incell\u001b[91m\u001b[1m::Any\u001b[22m\u001b[39m\n",
      "\u001b[90m│   \u001b[39m        (@_21 = Base.iterate(%44))\n",
      "\u001b[90m│   \u001b[39m %46  = (@_21 === nothing)\u001b[36m::Bool\u001b[39m\n",
      "\u001b[90m│   \u001b[39m %47  = Base.not_int(%46)\u001b[36m::Bool\u001b[39m\n",
      "\u001b[90m└───\u001b[39m        goto #10 if not %47\n",
      "\u001b[90m5 ┄─\u001b[39m %49  = @_21\u001b[91m\u001b[1m::Any\u001b[22m\u001b[39m\n",
      "\u001b[90m│   \u001b[39m        (v = Core.getfield(%49, 1))\n",
      "\u001b[90m│   \u001b[39m %51  = Core.getfield(%49, 2)\u001b[91m\u001b[1m::Any\u001b[22m\u001b[39m\n",
      "\u001b[90m│   \u001b[39m %52  = Base.getproperty(Main.Lar, :approxVal)\u001b[91m\u001b[1m::Any\u001b[22m\u001b[39m\n",
      "\u001b[90m│   \u001b[39m %53  = (%52)(7)\u001b[91m\u001b[1m::Any\u001b[22m\u001b[39m\n",
      "\u001b[90m│   \u001b[39m %54  = Base.getindex(V, Main.:(:), v)\u001b[91m\u001b[1m::Any\u001b[22m\u001b[39m\n",
      "\u001b[90m│   \u001b[39m        (key = Main.map(%53, %54))\n",
      "\u001b[90m│   \u001b[39m %56  = Main.get(vertDict, key, defaultValue::Core.Compiler.Const(0, false))\u001b[91m\u001b[1m::Any\u001b[22m\u001b[39m\n",
      "\u001b[90m│   \u001b[39m %57  = (%56 == defaultValue::Core.Compiler.Const(0, false))\u001b[91m\u001b[1m::Any\u001b[22m\u001b[39m\n",
      "\u001b[90m└───\u001b[39m        goto #7 if not %57\n",
      "\u001b[90m6 ──\u001b[39m        (index = index + 1)\n",
      "\u001b[90m│   \u001b[39m        Base.setindex!(vertDict, index, key)\n",
      "\u001b[90m│   \u001b[39m        Main.push!(outcell, index)\n",
      "\u001b[90m│   \u001b[39m        Main.push!(W, key)\n",
      "\u001b[90m└───\u001b[39m        goto #8\n",
      "\u001b[90m7 ──\u001b[39m %64  = outcell\u001b[36m::Array{Any,1}\u001b[39m\n",
      "\u001b[90m│   \u001b[39m %65  = Base.getindex(vertDict, key)\u001b[91m\u001b[1m::Any\u001b[22m\u001b[39m\n",
      "\u001b[90m└───\u001b[39m        Main.push!(%64, %65)\n",
      "\u001b[90m8 ┄─\u001b[39m        (@_21 = Base.iterate(%44, %51))\n",
      "\u001b[90m│   \u001b[39m %68  = (@_21 === nothing)\u001b[36m::Bool\u001b[39m\n",
      "\u001b[90m│   \u001b[39m %69  = Base.not_int(%68)\u001b[36m::Bool\u001b[39m\n",
      "\u001b[90m└───\u001b[39m        goto #10 if not %69\n",
      "\u001b[90m9 ──\u001b[39m        goto #5\n",
      "\u001b[90m10 ┄\u001b[39m %72  = Base.getindex(larmodel, k)\u001b[91m\u001b[1m::Any\u001b[22m\u001b[39m\n",
      "\u001b[90m│   \u001b[39m %73  = Base.vect(outcell)\u001b[36m::Array{Array{Any,1},1}\u001b[39m\n",
      "\u001b[90m│   \u001b[39m        Main.append!(%72, %73)\n",
      "\u001b[90m│   \u001b[39m        (@_18 = Base.iterate(%35, %42))\n",
      "\u001b[90m│   \u001b[39m %76  = (@_18 === nothing)\u001b[36m::Bool\u001b[39m\n",
      "\u001b[90m│   \u001b[39m %77  = Base.not_int(%76)\u001b[36m::Bool\u001b[39m\n",
      "\u001b[90m└───\u001b[39m        goto #12 if not %77\n",
      "\u001b[90m11 ─\u001b[39m        goto #4\n",
      "\u001b[90m12 ┄\u001b[39m        (@_16 = Base.iterate(%27, %34))\n",
      "\u001b[90m│   \u001b[39m %81  = (@_16 === nothing)\u001b[36m::Bool\u001b[39m\n",
      "\u001b[90m│   \u001b[39m %82  = Base.not_int(%81)\u001b[36m::Bool\u001b[39m\n",
      "\u001b[90m└───\u001b[39m        goto #14 if not %82\n",
      "\u001b[90m13 ─\u001b[39m        goto #3\n",
      "\u001b[90m14 ┄\u001b[39m        (@_12 = Base.iterate(%18, %25))\n",
      "\u001b[90m│   \u001b[39m %86  = (@_12 === nothing)\u001b[36m::Bool\u001b[39m\n",
      "\u001b[90m│   \u001b[39m %87  = Base.not_int(%86)\u001b[36m::Bool\u001b[39m\n",
      "\u001b[90m└───\u001b[39m        goto #16 if not %87\n",
      "\u001b[90m15 ─\u001b[39m        goto #2\n",
      "\u001b[90m16 ┄\u001b[39m %90  = Base.getindex(larmodel, 1)\u001b[91m\u001b[1m::Any\u001b[22m\u001b[39m\n",
      "\u001b[90m│   \u001b[39m        Main.append!(%90, W)\n",
      "\u001b[90m│   \u001b[39m %92  = Base.getindex(larmodel, 1)\u001b[91m\u001b[1m::Any\u001b[22m\u001b[39m\n",
      "\u001b[90m│   \u001b[39m        (V = Core._apply_iterate(Base.iterate, Main.hcat, %92))\n",
      "\u001b[90m│   \u001b[39m        (#4 = %new(Main.:(var\"#4#6\")))\n",
      "\u001b[90m│   \u001b[39m %95  = #4\u001b[36m::Core.Compiler.Const(var\"#4#6\"(), false)\u001b[39m\n",
      "\u001b[90m│   \u001b[39m %96  = larmodel\u001b[91m\u001b[1m::Any\u001b[22m\u001b[39m\n",
      "\u001b[90m│   \u001b[39m %97  = Base.lastindex(larmodel)\u001b[91m\u001b[1m::Any\u001b[22m\u001b[39m\n",
      "\u001b[90m│   \u001b[39m %98  = (2:%97)\u001b[91m\u001b[1m::Any\u001b[22m\u001b[39m\n",
      "\u001b[90m│   \u001b[39m %99  = Base.getindex(%96, %98)\u001b[91m\u001b[1m::Any\u001b[22m\u001b[39m\n",
      "\u001b[90m│   \u001b[39m %100 = Base.Generator(%95, %99)\u001b[91m\u001b[1m::Base.Generator{_A,var\"#4#6\"} where _A\u001b[22m\u001b[39m\n",
      "\u001b[90m│   \u001b[39m        (chains = Base.collect(%100))\n",
      "\u001b[90m│   \u001b[39m %102 = Core.tuple(V)\u001b[91m\u001b[1m::Tuple{Any}\u001b[22m\u001b[39m\n",
      "\u001b[90m│   \u001b[39m %103 = Core._apply_iterate(Base.iterate, Core.tuple, %102, chains)\u001b[91m\u001b[1m::Tuple{Any,Vararg{Any,N} where N}\u001b[22m\u001b[39m\n",
      "\u001b[90m└───\u001b[39m        return %103\n"
     ]
    }
   ],
   "source": [
    "@code_warntype struct2lar(structure)"
   ]
  },
  {
   "cell_type": "markdown",
   "metadata": {},
   "source": [
    "## Nuove funzioni"
   ]
  },
  {
   "cell_type": "code",
   "execution_count": 9,
   "metadata": {},
   "outputs": [
    {
     "data": {
      "text/plain": [
       "flatten (generic function with 1 method)"
      ]
     },
     "execution_count": 9,
     "metadata": {},
     "output_type": "execute_result"
    }
   ],
   "source": [
    "function flatten(listOfModels)\n",
    "\tW = Array{Float64,1}[]\n",
    "\tm = length(listOfModels[1])\n",
    "\tlarmodel = [Array{Number,1}[] for k=1:m]\n",
    "\tvertDict = Dict()\n",
    "\tindex,defaultValue = 0,0\n",
    "\tfor model in listOfModels\n",
    "\t\tV = model[1]\n",
    "\t\tfor k=2:m\n",
    "\t\t\tfor incell in model[k]\n",
    "\t\t\t\toutcell=[]\n",
    "\t\t\t\tfor v in incell\n",
    "\t\t\t\t\tkey = map(Lar.approxVal(7), V[:,v])\n",
    "\t\t\t\t\tif get(vertDict,key,defaultValue)==defaultValue\n",
    "\t\t\t\t\t\tindex += 1\n",
    "\t\t\t\t\t\tvertDict[key]=index\n",
    "\t\t\t\t\t\tpush!(outcell,index)\n",
    "\t\t\t\t\t\tpush!(W,key)\n",
    "\t\t\t\t\telse\n",
    "\t\t\t\t\t\tpush!(outcell,vertDict[key])\n",
    "\t\t\t\t\tend\n",
    "\t\t\t\tend\n",
    "\t\t\t\tappend!(larmodel[k],[outcell])\n",
    "\t\t\tend\n",
    "\t\tend\n",
    "\tend\n",
    "\treturn larmodel,W\n",
    "end"
   ]
  },
  {
   "cell_type": "code",
   "execution_count": 10,
   "metadata": {},
   "outputs": [
    {
     "data": {
      "text/plain": [
       "struct2lar (generic function with 1 method)"
      ]
     },
     "execution_count": 10,
     "metadata": {},
     "output_type": "execute_result"
    }
   ],
   "source": [
    "function struct2lar(structure) \n",
    "\tlarmodel,W = flatten(Lar.evalStruct(structure))\n",
    "\tappend!(larmodel[1], W)\n",
    "\tV = hcat(larmodel[1]...)\n",
    "\tchains = [convert(Lar.Cells, chain) for chain in larmodel[2:end]]\n",
    "\treturn (V, chains...)\n",
    "end"
   ]
  },
  {
   "cell_type": "code",
   "execution_count": 11,
   "metadata": {},
   "outputs": [
    {
     "name": "stdout",
     "output_type": "stream",
     "text": [
      "  32.900 μs (142 allocations: 8.77 KiB)\n"
     ]
    },
    {
     "data": {
      "text/plain": [
       "([-0.5 -0.5 0.5 0.5; -0.5 0.5 -0.5 0.5], [[1, 2, 3, 4], [3, 1, 4, 2]])"
      ]
     },
     "execution_count": 11,
     "metadata": {},
     "output_type": "execute_result"
    }
   ],
   "source": [
    "@btime struct2lar(structure)"
   ]
  },
  {
   "cell_type": "code",
   "execution_count": 12,
   "metadata": {},
   "outputs": [
    {
     "data": {
      "text/plain": [
       "BenchmarkTools.Trial: \n",
       "  memory estimate:  8.77 KiB\n",
       "  allocs estimate:  142\n",
       "  --------------\n",
       "  minimum time:     33.199 μs (0.00% GC)\n",
       "  median time:      35.101 μs (0.00% GC)\n",
       "  mean time:        50.967 μs (3.13% GC)\n",
       "  maximum time:     20.217 ms (0.00% GC)\n",
       "  --------------\n",
       "  samples:          10000\n",
       "  evals/sample:     1"
      ]
     },
     "execution_count": 12,
     "metadata": {},
     "output_type": "execute_result"
    }
   ],
   "source": [
    "@benchmark struct2lar(structure)"
   ]
  },
  {
   "cell_type": "code",
   "execution_count": 13,
   "metadata": {},
   "outputs": [
    {
     "name": "stdout",
     "output_type": "stream",
     "text": [
      "Variables\n",
      "  #self#\u001b[36m::Core.Compiler.Const(struct2lar, false)\u001b[39m\n",
      "  structure\u001b[36m::LinearAlgebraicRepresentation.Struct\u001b[39m\n",
      "  @_3\u001b[36m::Int64\u001b[39m\n",
      "  #10\u001b[36m::var\"#10#11\"\u001b[39m\n",
      "  larmodel\u001b[91m\u001b[1m::Any\u001b[22m\u001b[39m\n",
      "  W\u001b[36m::Array{Array{Float64,1},1}\u001b[39m\n",
      "  V\u001b[91m\u001b[1m::Any\u001b[22m\u001b[39m\n",
      "  chains\u001b[91m\u001b[1m::Any\u001b[22m\u001b[39m\n",
      "\n",
      "Body\u001b[91m\u001b[1m::Tuple{Any,Vararg{Any,N} where N}\u001b[22m\u001b[39m\n",
      "\u001b[90m1 ─\u001b[39m %1  = Base.getproperty(Main.Lar, :evalStruct)\u001b[91m\u001b[1m::Any\u001b[22m\u001b[39m\n",
      "\u001b[90m│  \u001b[39m %2  = (%1)(structure)\u001b[91m\u001b[1m::Any\u001b[22m\u001b[39m\n",
      "\u001b[90m│  \u001b[39m %3  = Main.flatten(%2)\u001b[91m\u001b[1m::Tuple{Any,Array{Array{Float64,1},1}}\u001b[22m\u001b[39m\n",
      "\u001b[90m│  \u001b[39m %4  = Base.indexed_iterate(%3, 1)\u001b[36m::Core.Compiler.PartialStruct(Tuple{Any,Int64}, Any[Any, Core.Compiler.Const(2, false)])\u001b[39m\n",
      "\u001b[90m│  \u001b[39m       (larmodel = Core.getfield(%4, 1))\n",
      "\u001b[90m│  \u001b[39m       (@_3 = Core.getfield(%4, 2))\n",
      "\u001b[90m│  \u001b[39m %7  = Base.indexed_iterate(%3, 2, @_3::Core.Compiler.Const(2, false))\u001b[36m::Core.Compiler.PartialStruct(Tuple{Array{Array{Float64,1},1},Int64}, Any[Array{Array{Float64,1},1}, Core.Compiler.Const(3, false)])\u001b[39m\n",
      "\u001b[90m│  \u001b[39m       (W = Core.getfield(%7, 1))\n",
      "\u001b[90m│  \u001b[39m %9  = Base.getindex(larmodel, 1)\u001b[91m\u001b[1m::Any\u001b[22m\u001b[39m\n",
      "\u001b[90m│  \u001b[39m       Main.append!(%9, W)\n",
      "\u001b[90m│  \u001b[39m %11 = Base.getindex(larmodel, 1)\u001b[91m\u001b[1m::Any\u001b[22m\u001b[39m\n",
      "\u001b[90m│  \u001b[39m       (V = Core._apply_iterate(Base.iterate, Main.hcat, %11))\n",
      "\u001b[90m│  \u001b[39m       (#10 = %new(Main.:(var\"#10#11\")))\n",
      "\u001b[90m│  \u001b[39m %14 = #10\u001b[36m::Core.Compiler.Const(var\"#10#11\"(), false)\u001b[39m\n",
      "\u001b[90m│  \u001b[39m %15 = larmodel\u001b[91m\u001b[1m::Any\u001b[22m\u001b[39m\n",
      "\u001b[90m│  \u001b[39m %16 = Base.lastindex(larmodel)\u001b[91m\u001b[1m::Any\u001b[22m\u001b[39m\n",
      "\u001b[90m│  \u001b[39m %17 = (2:%16)\u001b[91m\u001b[1m::Any\u001b[22m\u001b[39m\n",
      "\u001b[90m│  \u001b[39m %18 = Base.getindex(%15, %17)\u001b[91m\u001b[1m::Any\u001b[22m\u001b[39m\n",
      "\u001b[90m│  \u001b[39m %19 = Base.Generator(%14, %18)\u001b[91m\u001b[1m::Base.Generator{_A,var\"#10#11\"} where _A\u001b[22m\u001b[39m\n",
      "\u001b[90m│  \u001b[39m       (chains = Base.collect(%19))\n",
      "\u001b[90m│  \u001b[39m %21 = Core.tuple(V)\u001b[91m\u001b[1m::Tuple{Any}\u001b[22m\u001b[39m\n",
      "\u001b[90m│  \u001b[39m %22 = Core._apply_iterate(Base.iterate, Core.tuple, %21, chains)\u001b[91m\u001b[1m::Tuple{Any,Vararg{Any,N} where N}\u001b[22m\u001b[39m\n",
      "\u001b[90m└──\u001b[39m       return %22\n"
     ]
    }
   ],
   "source": [
    "@code_warntype struct2lar(structure)"
   ]
  },
  {
   "cell_type": "markdown",
   "metadata": {},
   "source": [
    "## Modifiche"
   ]
  },
  {
   "cell_type": "code",
   "execution_count": 46,
   "metadata": {},
   "outputs": [
    {
     "data": {
      "text/plain": [
       "flatten (generic function with 1 method)"
      ]
     },
     "execution_count": 46,
     "metadata": {},
     "output_type": "execute_result"
    }
   ],
   "source": [
    "function flatten(listOfModels)\n",
    "\tW = Array{Float64,1}[]\n",
    "\tm = length(listOfModels[1])\n",
    "\tlarmodel = [Array{Float64,1}[] for k=1:m]\n",
    "\tvertDict = Dict()\n",
    "\tindex,defaultValue = 0,0\n",
    "\tfor model in listOfModels\n",
    "\t\tV = model[1]\n",
    "\t\tfor k=2:m\n",
    "\t\t\tfor incell in model[k]\n",
    "\t\t\t\toutcell=[]\n",
    "\t\t\t\tfor v in incell\n",
    "\t\t\t\t\tkey = map(Lar.approxVal(7), V[:,v])\n",
    "\t\t\t\t\tif get(vertDict,key,defaultValue)==defaultValue\n",
    "\t\t\t\t\t\tindex += 1\n",
    "\t\t\t\t\t\tvertDict[key]=index\n",
    "\t\t\t\t\t\tpush!(outcell,index)\n",
    "\t\t\t\t\t\tpush!(W,key)\n",
    "\t\t\t\t\telse\n",
    "\t\t\t\t\t\tpush!(outcell,vertDict[key])\n",
    "\t\t\t\t\tend\n",
    "\t\t\t\tend\n",
    "\t\t\t\tappend!(larmodel[k],[outcell])\n",
    "\t\t\tend\n",
    "\t\tend\n",
    "\tend\n",
    "\treturn larmodel,W\n",
    "\n",
    "end"
   ]
  },
  {
   "cell_type": "code",
   "execution_count": 47,
   "metadata": {},
   "outputs": [
    {
     "data": {
      "text/plain": [
       "struct2lar (generic function with 1 method)"
      ]
     },
     "execution_count": 47,
     "metadata": {},
     "output_type": "execute_result"
    }
   ],
   "source": [
    "function struct2lar(structure) \n",
    "\tlarmodel,W = flatten(Lar.evalStruct(structure))\n",
    "\tappend!(larmodel[1], W)\n",
    "\tV = hcat(larmodel[1]...)\n",
    "\tchains = [convert(Lar.Cells, chain) for chain in larmodel[2:end]]\n",
    "\treturn (V, chains...)\n",
    "end"
   ]
  },
  {
   "cell_type": "code",
   "execution_count": 49,
   "metadata": {},
   "outputs": [
    {
     "name": "stdout",
     "output_type": "stream",
     "text": [
      "  31.600 μs (127 allocations: 8.09 KiB)\n"
     ]
    },
    {
     "data": {
      "text/plain": [
       "([-0.5 -0.5 0.5 0.5; -0.5 0.5 -0.5 0.5], [[1, 2, 3, 4], [3, 1, 4, 2]])"
      ]
     },
     "execution_count": 49,
     "metadata": {},
     "output_type": "execute_result"
    }
   ],
   "source": [
    "@btime struct2lar(structure)"
   ]
  },
  {
   "cell_type": "code",
   "execution_count": 17,
   "metadata": {},
   "outputs": [
    {
     "data": {
      "text/plain": [
       "CodeInfo(\n",
       "\u001b[90m1 ─\u001b[39m %1  = Base.getproperty(Main.Lar, :evalStruct)\u001b[36m::Any\u001b[39m\n",
       "\u001b[90m│  \u001b[39m %2  = (%1)(structure)\u001b[36m::Any\u001b[39m\n",
       "\u001b[90m│  \u001b[39m %3  = Main.flatten(%2)\u001b[36m::Tuple{Any,Array{Array{Float64,1},1}}\u001b[39m\n",
       "\u001b[90m│  \u001b[39m %4  = Base.getfield(%3, 1)\u001b[36m::Any\u001b[39m\n",
       "\u001b[90m│  \u001b[39m %5  = Base.getfield(%3, 2)\u001b[36m::Array{Array{Float64,1},1}\u001b[39m\n",
       "\u001b[90m│  \u001b[39m %6  = Base.getindex(%4, 1)\u001b[36m::Any\u001b[39m\n",
       "\u001b[90m│  \u001b[39m %7  = Main.append!\u001b[36m::Core.Compiler.Const(append!, false)\u001b[39m\n",
       "\u001b[90m│  \u001b[39m %8  = (isa)(%6, BitArray{1})\u001b[36m::Bool\u001b[39m\n",
       "\u001b[90m└──\u001b[39m       goto #3 if not %8\n",
       "\u001b[90m2 ─\u001b[39m %10 = π (%6, \u001b[36mBitArray{1}\u001b[39m)\n",
       "\u001b[90m│  \u001b[39m       invoke %7(%10::BitArray{1}, %5::Array{Array{Float64,1},1})\u001b[90m::Any\u001b[39m\n",
       "\u001b[90m└──\u001b[39m       goto #4\n",
       "\u001b[90m3 ─\u001b[39m       Main.append!(%6, %5)\u001b[90m::Any\u001b[39m\n",
       "\u001b[90m└──\u001b[39m       goto #4\n",
       "\u001b[90m4 ┄\u001b[39m %15 = Base.getindex(%4, 1)\u001b[36m::Any\u001b[39m\n",
       "\u001b[90m│  \u001b[39m %16 = Core._apply_iterate(Base.iterate, Main.hcat, %15)\u001b[36m::Any\u001b[39m\n",
       "\u001b[90m│  \u001b[39m %17 = %new(Main.:(var\"#16#17\"))\u001b[36m::Core.Compiler.Const(var\"#16#17\"(), false)\u001b[39m\n",
       "\u001b[90m│  \u001b[39m %18 = Base.lastindex(%4)\u001b[36m::Any\u001b[39m\n",
       "\u001b[90m│  \u001b[39m %19 = (isa)(%18, Int64)\u001b[36m::Bool\u001b[39m\n",
       "\u001b[90m└──\u001b[39m       goto #6 if not %19\n",
       "\u001b[90m5 ─\u001b[39m %21 = π (%18, \u001b[36mInt64\u001b[39m)\n",
       "\u001b[90m│  \u001b[39m %22 = Base.sle_int(2, %21)\u001b[36m::Bool\u001b[39m\n",
       "\u001b[90m│  \u001b[39m %23 = Base.sub_int(2, 1)\u001b[36m::Int64\u001b[39m\n",
       "\u001b[90m│  \u001b[39m %24 = Base.ifelse(%22, %21, %23)\u001b[36m::Int64\u001b[39m\n",
       "\u001b[90m│  \u001b[39m %25 = %new(UnitRange{Int64}, 2, %24)\u001b[36m::UnitRange{Int64}\u001b[39m\n",
       "\u001b[90m└──\u001b[39m       goto #7\n",
       "\u001b[90m6 ─\u001b[39m %27 = (2:%18)\u001b[36m::Any\u001b[39m\n",
       "\u001b[90m└──\u001b[39m       goto #7\n",
       "\u001b[90m7 ┄\u001b[39m %29 = φ (#5 => %25, #6 => %27)\u001b[36m::Any\u001b[39m\n",
       "\u001b[90m│  \u001b[39m %30 = Base.getindex(%4, %29)\u001b[36m::Any\u001b[39m\n",
       "\u001b[90m│  \u001b[39m %31 = Base.Generator(%17, %30)\u001b[36m::Base.Generator{_A,var\"#16#17\"} where _A\u001b[39m\n",
       "\u001b[90m│  \u001b[39m %32 = Base.collect(%31)\u001b[36m::Any\u001b[39m\n",
       "\u001b[90m│  \u001b[39m %33 = Core.tuple(%16)\u001b[36m::Tuple{Any}\u001b[39m\n",
       "\u001b[90m│  \u001b[39m %34 = Core._apply_iterate(Base.iterate, Core.tuple, %33, %32)\u001b[36m::Tuple{Any,Vararg{Any,N} where N}\u001b[39m\n",
       "\u001b[90m└──\u001b[39m       return %34\n",
       ") => Tuple{Any,Vararg{Any,N} where N}"
      ]
     },
     "execution_count": 17,
     "metadata": {},
     "output_type": "execute_result"
    }
   ],
   "source": [
    "@code_typed struct2lar(structure)"
   ]
  },
  {
   "cell_type": "code",
   "execution_count": 18,
   "metadata": {},
   "outputs": [
    {
     "name": "stdout",
     "output_type": "stream",
     "text": [
      "Variables\n",
      "  #self#\u001b[36m::Core.Compiler.Const(struct2lar, false)\u001b[39m\n",
      "  structure\u001b[36m::LinearAlgebraicRepresentation.Struct\u001b[39m\n",
      "  @_3\u001b[36m::Int64\u001b[39m\n",
      "  #16\u001b[36m::var\"#16#17\"\u001b[39m\n",
      "  larmodel\u001b[91m\u001b[1m::Any\u001b[22m\u001b[39m\n",
      "  W\u001b[36m::Array{Array{Float64,1},1}\u001b[39m\n",
      "  V\u001b[91m\u001b[1m::Any\u001b[22m\u001b[39m\n",
      "  chains\u001b[91m\u001b[1m::Any\u001b[22m\u001b[39m\n",
      "\n",
      "Body\u001b[91m\u001b[1m::Tuple{Any,Vararg{Any,N} where N}\u001b[22m\u001b[39m\n",
      "\u001b[90m1 ─\u001b[39m %1  = Base.getproperty(Main.Lar, :evalStruct)\u001b[91m\u001b[1m::Any\u001b[22m\u001b[39m\n",
      "\u001b[90m│  \u001b[39m %2  = (%1)(structure)\u001b[91m\u001b[1m::Any\u001b[22m\u001b[39m\n",
      "\u001b[90m│  \u001b[39m %3  = Main.flatten(%2)\u001b[91m\u001b[1m::Tuple{Any,Array{Array{Float64,1},1}}\u001b[22m\u001b[39m\n",
      "\u001b[90m│  \u001b[39m %4  = Base.indexed_iterate(%3, 1)\u001b[36m::Core.Compiler.PartialStruct(Tuple{Any,Int64}, Any[Any, Core.Compiler.Const(2, false)])\u001b[39m\n",
      "\u001b[90m│  \u001b[39m       (larmodel = Core.getfield(%4, 1))\n",
      "\u001b[90m│  \u001b[39m       (@_3 = Core.getfield(%4, 2))\n",
      "\u001b[90m│  \u001b[39m %7  = Base.indexed_iterate(%3, 2, @_3::Core.Compiler.Const(2, false))\u001b[36m::Core.Compiler.PartialStruct(Tuple{Array{Array{Float64,1},1},Int64}, Any[Array{Array{Float64,1},1}, Core.Compiler.Const(3, false)])\u001b[39m\n",
      "\u001b[90m│  \u001b[39m       (W = Core.getfield(%7, 1))\n",
      "\u001b[90m│  \u001b[39m %9  = Base.getindex(larmodel, 1)\u001b[91m\u001b[1m::Any\u001b[22m\u001b[39m\n",
      "\u001b[90m│  \u001b[39m       Main.append!(%9, W)\n",
      "\u001b[90m│  \u001b[39m %11 = Base.getindex(larmodel, 1)\u001b[91m\u001b[1m::Any\u001b[22m\u001b[39m\n",
      "\u001b[90m│  \u001b[39m       (V = Core._apply_iterate(Base.iterate, Main.hcat, %11))\n",
      "\u001b[90m│  \u001b[39m       (#16 = %new(Main.:(var\"#16#17\")))\n",
      "\u001b[90m│  \u001b[39m %14 = #16\u001b[36m::Core.Compiler.Const(var\"#16#17\"(), false)\u001b[39m\n",
      "\u001b[90m│  \u001b[39m %15 = larmodel\u001b[91m\u001b[1m::Any\u001b[22m\u001b[39m\n",
      "\u001b[90m│  \u001b[39m %16 = Base.lastindex(larmodel)\u001b[91m\u001b[1m::Any\u001b[22m\u001b[39m\n",
      "\u001b[90m│  \u001b[39m %17 = (2:%16)\u001b[91m\u001b[1m::Any\u001b[22m\u001b[39m\n",
      "\u001b[90m│  \u001b[39m %18 = Base.getindex(%15, %17)\u001b[91m\u001b[1m::Any\u001b[22m\u001b[39m\n",
      "\u001b[90m│  \u001b[39m %19 = Base.Generator(%14, %18)\u001b[91m\u001b[1m::Base.Generator{_A,var\"#16#17\"} where _A\u001b[22m\u001b[39m\n",
      "\u001b[90m│  \u001b[39m       (chains = Base.collect(%19))\n",
      "\u001b[90m│  \u001b[39m %21 = Core.tuple(V)\u001b[91m\u001b[1m::Tuple{Any}\u001b[22m\u001b[39m\n",
      "\u001b[90m│  \u001b[39m %22 = Core._apply_iterate(Base.iterate, Core.tuple, %21, chains)\u001b[91m\u001b[1m::Tuple{Any,Vararg{Any,N} where N}\u001b[22m\u001b[39m\n",
      "\u001b[90m└──\u001b[39m       return %22\n"
     ]
    }
   ],
   "source": [
    "@code_warntype struct2lar(structure)"
   ]
  },
  {
   "cell_type": "code",
   "execution_count": null,
   "metadata": {},
   "outputs": [],
   "source": []
  }
 ],
 "metadata": {
  "kernelspec": {
   "display_name": "Julia 1.5.3",
   "language": "julia",
   "name": "julia-1.5"
  },
  "language_info": {
   "file_extension": ".jl",
   "mimetype": "application/julia",
   "name": "julia",
   "version": "1.5.3"
  }
 },
 "nbformat": 4,
 "nbformat_minor": 4
}
