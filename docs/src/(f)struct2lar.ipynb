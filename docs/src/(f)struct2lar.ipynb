{
 "cells": [
  {
   "cell_type": "code",
   "execution_count": 1,
   "metadata": {},
   "outputs": [
    {
     "data": {
      "text/plain": [
       "LinearAlgebraicRepresentation"
      ]
     },
     "execution_count": 1,
     "metadata": {},
     "output_type": "execute_result"
    }
   ],
   "source": [
    "using BenchmarkTools\n",
    "using StaticArrays\n",
    "using LinearAlgebra\n",
    "using LinearAlgebraicRepresentation\n",
    "Lar = LinearAlgebraicRepresentation"
   ]
  },
  {
   "cell_type": "code",
   "execution_count": 2,
   "metadata": {},
   "outputs": [
    {
     "data": {
      "text/plain": [
       "([0.0 0.0 1.0 1.0; 0.0 1.0 0.0 1.0], [[1, 2, 3, 4]])"
      ]
     },
     "execution_count": 2,
     "metadata": {},
     "output_type": "execute_result"
    }
   ],
   "source": [
    "square = Lar.cuboid([1,1])"
   ]
  },
  {
   "cell_type": "code",
   "execution_count": 3,
   "metadata": {},
   "outputs": [
    {
     "data": {
      "text/plain": [
       "([-0.5 -0.5 0.5 0.5; -0.5 0.5 -0.5 0.5], [[1, 2, 3, 4]])"
      ]
     },
     "execution_count": 3,
     "metadata": {},
     "output_type": "execute_result"
    }
   ],
   "source": [
    "table = Lar.apply(Lar.t(-0.5,-0.5),square)"
   ]
  },
  {
   "cell_type": "code",
   "execution_count": 4,
   "metadata": {},
   "outputs": [
    {
     "data": {
      "text/plain": [
       "LinearAlgebraicRepresentation.Struct(Any[([-0.5 -0.5 0.5 0.5; -0.5 0.5 -0.5 0.5], [[1, 2, 3, 4]]), [6.123233995736766e-17 -1.0 0.0; 1.0 6.123233995736766e-17 0.0; 0.0 0.0 1.0], ([-0.5 -0.5 0.5 0.5; -0.5 0.5 -0.5 0.5], [[1, 2, 3, 4]]), [6.123233995736766e-17 -1.0 0.0; 1.0 6.123233995736766e-17 0.0; 0.0 0.0 1.0]], [[-0.5; -0.5], [0.5; 0.5]], \"4091848090022656326\", 2, \"feature\")"
      ]
     },
     "execution_count": 4,
     "metadata": {},
     "output_type": "execute_result"
    }
   ],
   "source": [
    "structure = Lar.Struct([repeat([table,Lar.r(pi/2)],outer=2)...])"
   ]
  },
  {
   "cell_type": "markdown",
   "metadata": {},
   "source": [
    "## Vecchia funzione"
   ]
  },
  {
   "cell_type": "code",
   "execution_count": 6,
   "metadata": {},
   "outputs": [
    {
     "data": {
      "text/plain": [
       "struct2lar (generic function with 1 method)"
      ]
     },
     "execution_count": 6,
     "metadata": {},
     "output_type": "execute_result"
    }
   ],
   "source": [
    "function struct2lar(structure)\n",
    "\tlistOfModels = Lar.evalStruct(structure)\n",
    "\tvertDict = Dict()\n",
    "\tindex,defaultValue = 0,0\n",
    "\tW = Array{Float64,1}[]\n",
    "\tm = length(listOfModels[1])\n",
    "\tlarmodel = [Array{Number,1}[] for k=1:m]\n",
    "\n",
    "\tfor model in listOfModels\n",
    "\t\tV = model[1]\n",
    "\t\tfor k=2:m\n",
    "\t\t\tfor incell in model[k]\n",
    "\t\t\t\toutcell=[]\n",
    "\t\t\t\tfor v in incell\n",
    "\t\t\t\t\tkey = map(Lar.approxVal(7), V[:,v])\n",
    "\t\t\t\t\tif get(vertDict,key,defaultValue)==defaultValue\n",
    "\t\t\t\t\t\tindex += 1\n",
    "\t\t\t\t\t\tvertDict[key]=index\n",
    "\t\t\t\t\t\tpush!(outcell,index)\n",
    "\t\t\t\t\t\tpush!(W,key)\n",
    "\t\t\t\t\telse\n",
    "\t\t\t\t\t\tpush!(outcell,vertDict[key])\n",
    "\t\t\t\t\tend\n",
    "\t\t\t\tend\n",
    "\t\t\t\tappend!(larmodel[k],[outcell])\n",
    "\t\t\tend\n",
    "\t\tend\n",
    "\tend\n",
    "\n",
    "\tappend!(larmodel[1], W)\n",
    "\tV = hcat(larmodel[1]...)\n",
    "\tchains = [convert(Lar.Cells, chain) for chain in larmodel[2:end]]\n",
    "\treturn (V, chains...)\n",
    "end"
   ]
  },
  {
   "cell_type": "code",
   "execution_count": 7,
   "metadata": {},
   "outputs": [
    {
     "name": "stdout",
     "output_type": "stream",
     "text": [
      "  33.299 μs (145 allocations: 8.86 KiB)\n"
     ]
    },
    {
     "data": {
      "text/plain": [
       "([-0.5 -0.5 0.5 0.5; -0.5 0.5 -0.5 0.5], [[1, 2, 3, 4], [3, 1, 4, 2]])"
      ]
     },
     "execution_count": 7,
     "metadata": {},
     "output_type": "execute_result"
    }
   ],
   "source": [
    "@btime struct2lar(structure)"
   ]
  },
  {
   "cell_type": "code",
   "execution_count": null,
   "metadata": {},
   "outputs": [],
   "source": [
    "@benchmark struct2lar(structure)"
   ]
  },
  {
   "cell_type": "markdown",
   "metadata": {},
   "source": [
    "## Nuove funzioni"
   ]
  },
  {
   "cell_type": "code",
   "execution_count": 9,
   "metadata": {},
   "outputs": [
    {
     "data": {
      "text/plain": [
       "flatten (generic function with 1 method)"
      ]
     },
     "execution_count": 9,
     "metadata": {},
     "output_type": "execute_result"
    }
   ],
   "source": [
    "function flatten(listOfModels)\n",
    "\tW = Array{Float64,1}[]\n",
    "\tm = length(listOfModels[1])\n",
    "\tlarmodel = [Array{Number,1}[] for k=1:m]\n",
    "\tvertDict = Dict()\n",
    "\tindex,defaultValue = 0,0\n",
    "\tfor model in listOfModels\n",
    "\t\tV = model[1]\n",
    "\t\tfor k=2:m\n",
    "\t\t\tfor incell in model[k]\n",
    "\t\t\t\toutcell=[]\n",
    "\t\t\t\tfor v in incell\n",
    "\t\t\t\t\tkey = map(Lar.approxVal(7), V[:,v])\n",
    "\t\t\t\t\tif get(vertDict,key,defaultValue)==defaultValue\n",
    "\t\t\t\t\t\tindex += 1\n",
    "\t\t\t\t\t\tvertDict[key]=index\n",
    "\t\t\t\t\t\tpush!(outcell,index)\n",
    "\t\t\t\t\t\tpush!(W,key)\n",
    "\t\t\t\t\telse\n",
    "\t\t\t\t\t\tpush!(outcell,vertDict[key])\n",
    "\t\t\t\t\tend\n",
    "\t\t\t\tend\n",
    "\t\t\t\tappend!(larmodel[k],[outcell])\n",
    "\t\t\tend\n",
    "\t\tend\n",
    "\tend\n",
    "\treturn larmodel,W\n",
    "end"
   ]
  },
  {
   "cell_type": "code",
   "execution_count": 10,
   "metadata": {},
   "outputs": [
    {
     "data": {
      "text/plain": [
       "struct2lar (generic function with 1 method)"
      ]
     },
     "execution_count": 10,
     "metadata": {},
     "output_type": "execute_result"
    }
   ],
   "source": [
    "function struct2lar(structure) \n",
    "\tlarmodel,W = flatten(Lar.evalStruct(structure))\n",
    "\tappend!(larmodel[1], W)\n",
    "\tV = hcat(larmodel[1]...)\n",
    "\tchains = [convert(Lar.Cells, chain) for chain in larmodel[2:end]]\n",
    "\treturn (V, chains...)\n",
    "end"
   ]
  },
  {
   "cell_type": "code",
   "execution_count": 11,
   "metadata": {},
   "outputs": [
    {
     "name": "stdout",
     "output_type": "stream",
     "text": [
      "  32.900 μs (142 allocations: 8.77 KiB)\n"
     ]
    },
    {
     "data": {
      "text/plain": [
       "([-0.5 -0.5 0.5 0.5; -0.5 0.5 -0.5 0.5], [[1, 2, 3, 4], [3, 1, 4, 2]])"
      ]
     },
     "execution_count": 11,
     "metadata": {},
     "output_type": "execute_result"
    }
   ],
   "source": [
    "@btime struct2lar(structure)"
   ]
  },
  {
   "cell_type": "code",
   "execution_count": 12,
   "metadata": {},
   "outputs": [
    {
     "data": {
      "text/plain": [
       "BenchmarkTools.Trial: \n",
       "  memory estimate:  8.77 KiB\n",
       "  allocs estimate:  142\n",
       "  --------------\n",
       "  minimum time:     33.199 μs (0.00% GC)\n",
       "  median time:      35.101 μs (0.00% GC)\n",
       "  mean time:        50.967 μs (3.13% GC)\n",
       "  maximum time:     20.217 ms (0.00% GC)\n",
       "  --------------\n",
       "  samples:          10000\n",
       "  evals/sample:     1"
      ]
     },
     "execution_count": 12,
     "metadata": {},
     "output_type": "execute_result"
    }
   ],
   "source": [
    "@benchmark struct2lar(structure)"
   ]
  },
  {
   "cell_type": "markdown",
   "metadata": {},
   "source": [
    "## Modifiche"
   ]
  },
  {
   "cell_type": "markdown",
   "metadata": {},
   "source": [
    "\"\"\"\\\n",
    "flatten(listOfModels::Array)::Array{...},Array\\\n",
    "\"Appiattisce” la struttura fondamentalmente in un’unica struttura dati di tipo LAR.\\\n",
    "Trasforma la gerarchia in un solo modello LAR.\\\n",
    "\"\"\""
   ]
  },
  {
   "cell_type": "code",
   "execution_count": 12,
   "metadata": {},
   "outputs": [
    {
     "data": {
      "text/plain": [
       "flatten (generic function with 1 method)"
      ]
     },
     "execution_count": 12,
     "metadata": {},
     "output_type": "execute_result"
    }
   ],
   "source": [
    "function flatten(listOfModels)\n",
    "\tW = Array{Float64,1}[]\n",
    "\tm = length(listOfModels[1])\n",
    "\tlarmodel = [Array{Float64,1}[] for k=1:m]\n",
    "\tvertDict = Dict()\n",
    "\tindex,defaultValue = 0,0\n",
    "\tfor model in listOfModels\n",
    "\t\tV = model[1]\n",
    "\t\tfor k=2:m\n",
    "\t\t\tfor incell in model[k]\n",
    "\t\t\t\toutcell=[]\n",
    "\t\t\t\t@simd for v in incell\n",
    "\t\t\t\t\tkey = map(Lar.approxVal(7), V[:,v])\n",
    "\t\t\t\t\tif get!(vertDict,key,defaultValue)==defaultValue\n",
    "\t\t\t\t\t\tindex += 1\n",
    "\t\t\t\t\t\tvertDict[key]=index\n",
    "\t\t\t\t\t\tpush!(outcell,index)\n",
    "\t\t\t\t\t\tpush!(W,key)\n",
    "\t\t\t\t\telse\n",
    "\t\t\t\t\t\tpush!(outcell,vertDict[key])\n",
    "\t\t\t\t\tend\n",
    "\t\t\t\tend\n",
    "\t\t\t\tappend!(larmodel[k],[outcell])\n",
    "\t\t\tend\n",
    "\t\tend\n",
    "\tend\n",
    "\treturn larmodel,W\n",
    "end"
   ]
  },
  {
   "cell_type": "code",
   "execution_count": 13,
   "metadata": {},
   "outputs": [
    {
     "data": {
      "text/plain": [
       "struct2lar (generic function with 1 method)"
      ]
     },
     "execution_count": 13,
     "metadata": {},
     "output_type": "execute_result"
    }
   ],
   "source": [
    "function struct2lar(structure)\n",
    "\tlarmodel,W = flatten(Lar.evalStruct(structure))\n",
    "\tappend!(larmodel[1], W)\n",
    "\tV = hcat(larmodel[1]...)\n",
    "\tchains = [convert(Lar.Cells, chain) for chain in larmodel[2:end]]\n",
    "\treturn (V, chains...)\n",
    "end"
   ]
  },
  {
   "cell_type": "code",
   "execution_count": 14,
   "metadata": {},
   "outputs": [
    {
     "name": "stdout",
     "output_type": "stream",
     "text": [
      "  33.000 μs (121 allocations: 7.91 KiB)\n"
     ]
    },
    {
     "data": {
      "text/plain": [
       "([-0.5 -0.5 0.5 0.5; -0.5 0.5 -0.5 0.5], [[1, 2, 3, 4], [3, 1, 4, 2]])"
      ]
     },
     "execution_count": 14,
     "metadata": {},
     "output_type": "execute_result"
    }
   ],
   "source": [
    "@btime struct2lar(structure)"
   ]
  },
  {
   "cell_type": "code",
   "execution_count": 17,
   "metadata": {},
   "outputs": [
    {
     "data": {
      "text/plain": [
       "CodeInfo(\n",
       "\u001b[90m1 ─\u001b[39m %1  = Base.getproperty(Main.Lar, :evalStruct)\u001b[36m::Any\u001b[39m\n",
       "\u001b[90m│  \u001b[39m %2  = (%1)(structure)\u001b[36m::Any\u001b[39m\n",
       "\u001b[90m│  \u001b[39m %3  = Main.flatten(%2)\u001b[36m::Tuple{Any,Array{Array{Float64,1},1}}\u001b[39m\n",
       "\u001b[90m│  \u001b[39m %4  = Base.getfield(%3, 1)\u001b[36m::Any\u001b[39m\n",
       "\u001b[90m│  \u001b[39m %5  = Base.getfield(%3, 2)\u001b[36m::Array{Array{Float64,1},1}\u001b[39m\n",
       "\u001b[90m│  \u001b[39m %6  = Base.getindex(%4, 1)\u001b[36m::Any\u001b[39m\n",
       "\u001b[90m│  \u001b[39m %7  = Main.append!\u001b[36m::Core.Compiler.Const(append!, false)\u001b[39m\n",
       "\u001b[90m│  \u001b[39m %8  = (isa)(%6, BitArray{1})\u001b[36m::Bool\u001b[39m\n",
       "\u001b[90m└──\u001b[39m       goto #3 if not %8\n",
       "\u001b[90m2 ─\u001b[39m %10 = π (%6, \u001b[36mBitArray{1}\u001b[39m)\n",
       "\u001b[90m│  \u001b[39m       invoke %7(%10::BitArray{1}, %5::Array{Array{Float64,1},1})\u001b[90m::Any\u001b[39m\n",
       "\u001b[90m└──\u001b[39m       goto #4\n",
       "\u001b[90m3 ─\u001b[39m       Main.append!(%6, %5)\u001b[90m::Any\u001b[39m\n",
       "\u001b[90m└──\u001b[39m       goto #4\n",
       "\u001b[90m4 ┄\u001b[39m %15 = Base.getindex(%4, 1)\u001b[36m::Any\u001b[39m\n",
       "\u001b[90m│  \u001b[39m %16 = Core._apply_iterate(Base.iterate, Main.hcat, %15)\u001b[36m::Any\u001b[39m\n",
       "\u001b[90m│  \u001b[39m %17 = %new(Main.:(var\"#16#17\"))\u001b[36m::Core.Compiler.Const(var\"#16#17\"(), false)\u001b[39m\n",
       "\u001b[90m│  \u001b[39m %18 = Base.lastindex(%4)\u001b[36m::Any\u001b[39m\n",
       "\u001b[90m│  \u001b[39m %19 = (isa)(%18, Int64)\u001b[36m::Bool\u001b[39m\n",
       "\u001b[90m└──\u001b[39m       goto #6 if not %19\n",
       "\u001b[90m5 ─\u001b[39m %21 = π (%18, \u001b[36mInt64\u001b[39m)\n",
       "\u001b[90m│  \u001b[39m %22 = Base.sle_int(2, %21)\u001b[36m::Bool\u001b[39m\n",
       "\u001b[90m│  \u001b[39m %23 = Base.sub_int(2, 1)\u001b[36m::Int64\u001b[39m\n",
       "\u001b[90m│  \u001b[39m %24 = Base.ifelse(%22, %21, %23)\u001b[36m::Int64\u001b[39m\n",
       "\u001b[90m│  \u001b[39m %25 = %new(UnitRange{Int64}, 2, %24)\u001b[36m::UnitRange{Int64}\u001b[39m\n",
       "\u001b[90m└──\u001b[39m       goto #7\n",
       "\u001b[90m6 ─\u001b[39m %27 = (2:%18)\u001b[36m::Any\u001b[39m\n",
       "\u001b[90m└──\u001b[39m       goto #7\n",
       "\u001b[90m7 ┄\u001b[39m %29 = φ (#5 => %25, #6 => %27)\u001b[36m::Any\u001b[39m\n",
       "\u001b[90m│  \u001b[39m %30 = Base.getindex(%4, %29)\u001b[36m::Any\u001b[39m\n",
       "\u001b[90m│  \u001b[39m %31 = Base.Generator(%17, %30)\u001b[36m::Base.Generator{_A,var\"#16#17\"} where _A\u001b[39m\n",
       "\u001b[90m│  \u001b[39m %32 = Base.collect(%31)\u001b[36m::Any\u001b[39m\n",
       "\u001b[90m│  \u001b[39m %33 = Core.tuple(%16)\u001b[36m::Tuple{Any}\u001b[39m\n",
       "\u001b[90m│  \u001b[39m %34 = Core._apply_iterate(Base.iterate, Core.tuple, %33, %32)\u001b[36m::Tuple{Any,Vararg{Any,N} where N}\u001b[39m\n",
       "\u001b[90m└──\u001b[39m       return %34\n",
       ") => Tuple{Any,Vararg{Any,N} where N}"
      ]
     },
     "execution_count": 17,
     "metadata": {},
     "output_type": "execute_result"
    }
   ],
   "source": [
    "@code_typed struct2lar(structure)"
   ]
  },
  {
   "cell_type": "code",
   "execution_count": null,
   "metadata": {},
   "outputs": [],
   "source": [
    "@benchmark struct2lar(structure)"
   ]
  }
 ],
 "metadata": {
  "kernelspec": {
   "display_name": "Julia 1.5.3",
   "language": "julia",
   "name": "julia-1.5"
  },
  "language_info": {
   "file_extension": ".jl",
   "mimetype": "application/julia",
   "name": "julia",
   "version": "1.5.3"
  }
 },
 "nbformat": 4,
 "nbformat_minor": 4
}
