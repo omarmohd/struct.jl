{
 "cells": [
  {
   "cell_type": "code",
   "execution_count": 2,
   "metadata": {},
   "outputs": [
    {
     "data": {
      "text/plain": [
       "LinearAlgebraicRepresentation"
      ]
     },
     "execution_count": 2,
     "metadata": {},
     "output_type": "execute_result"
    }
   ],
   "source": [
    "using BenchmarkTools\n",
    "using LinearAlgebra\n",
    "using LinearAlgebraicRepresentation\n",
    "Lar = LinearAlgebraicRepresentation"
   ]
  },
  {
   "cell_type": "code",
   "execution_count": 3,
   "metadata": {},
   "outputs": [
    {
     "data": {
      "text/plain": [
       "([0.0 0.0 1.0 1.0; 0.0 1.0 0.0 1.0], [[1, 2, 3, 4]])"
      ]
     },
     "execution_count": 3,
     "metadata": {},
     "output_type": "execute_result"
    }
   ],
   "source": [
    "square = Lar.cuboid([1,1])"
   ]
  },
  {
   "cell_type": "code",
   "execution_count": 4,
   "metadata": {},
   "outputs": [
    {
     "data": {
      "text/plain": [
       "([0.0 0.0 … 1.0 1.0; 0.0 0.0 … 1.0 1.0; 0.0 1.0 … 0.0 1.0], [[1, 2, 3, 4, 5, 6, 7, 8]])"
      ]
     },
     "execution_count": 4,
     "metadata": {},
     "output_type": "execute_result"
    }
   ],
   "source": [
    "cube = Lar.cuboid([1,1,1])"
   ]
  },
  {
   "cell_type": "markdown",
   "metadata": {},
   "source": [
    "## Vecchia funzione"
   ]
  },
  {
   "cell_type": "code",
   "execution_count": 5,
   "metadata": {},
   "outputs": [
    {
     "data": {
      "text/plain": [
       "apply (generic function with 2 methods)"
      ]
     },
     "execution_count": 5,
     "metadata": {},
     "output_type": "execute_result"
    }
   ],
   "source": [
    "function apply(affineMatrix, larmodel)\n",
    "\tdata = collect(larmodel)\n",
    "\tV = data[1]\n",
    "\n",
    "\tm,n = size(V)\n",
    "\tW = [V; fill(1.0, (1,n))]\n",
    "\tV = (affineMatrix * W)[1:m,1:n]\n",
    "\n",
    "\tdata[1] = V\n",
    "\tlarmodel = Tuple(data)\n",
    "\treturn larmodel\n",
    "end"
   ]
  },
  {
   "cell_type": "code",
   "execution_count": 6,
   "metadata": {},
   "outputs": [
    {
     "name": "stdout",
     "output_type": "stream",
     "text": [
      "  1.610 μs (14 allocations: 1.16 KiB)\n"
     ]
    },
    {
     "data": {
      "text/plain": [
       "([-0.5 -0.5 0.5 0.5; -0.5 0.5 -0.5 0.5], [[1, 2, 3, 4]])"
      ]
     },
     "execution_count": 6,
     "metadata": {},
     "output_type": "execute_result"
    }
   ],
   "source": [
    "@btime apply(Lar.t(-0.5,-0.5),square)"
   ]
  },
  {
   "cell_type": "code",
   "execution_count": 7,
   "metadata": {},
   "outputs": [
    {
     "name": "stdout",
     "output_type": "stream",
     "text": [
      "  1.770 μs (14 allocations: 1.67 KiB)\n"
     ]
    },
    {
     "data": {
      "text/plain": [
       "([-0.5 -0.5 … 0.5 0.5; -0.5 -0.5 … 0.5 0.5; -0.5 0.5 … -0.5 0.5], [[1, 2, 3, 4, 5, 6, 7, 8]])"
      ]
     },
     "execution_count": 7,
     "metadata": {},
     "output_type": "execute_result"
    }
   ],
   "source": [
    "@btime apply(Lar.t(-0.5,-0.5,-0.5),cube)"
   ]
  },
  {
   "cell_type": "code",
   "execution_count": 8,
   "metadata": {},
   "outputs": [
    {
     "data": {
      "text/plain": [
       "BenchmarkTools.Trial: \n",
       "  memory estimate:  1.67 KiB\n",
       "  allocs estimate:  14\n",
       "  --------------\n",
       "  minimum time:     1.760 μs (0.00% GC)\n",
       "  median time:      1.870 μs (0.00% GC)\n",
       "  mean time:        2.442 μs (3.61% GC)\n",
       "  maximum time:     328.000 μs (97.11% GC)\n",
       "  --------------\n",
       "  samples:          10000\n",
       "  evals/sample:     10"
      ]
     },
     "execution_count": 8,
     "metadata": {},
     "output_type": "execute_result"
    }
   ],
   "source": [
    "@benchmark apply(Lar.t(-0.5,-0.5,-0.5),cube)"
   ]
  },
  {
   "cell_type": "code",
   "execution_count": 9,
   "metadata": {},
   "outputs": [
    {
     "name": "stdout",
     "output_type": "stream",
     "text": [
      "Variables\n",
      "  #self#\u001b[36m::Core.Compiler.Const(apply, false)\u001b[39m\n",
      "  affineMatrix\u001b[36m::Array{Float64,2}\u001b[39m\n",
      "  larmodel@_3\u001b[36m::Tuple{Array{Float64,2},Array{Array{Int64,1},1}}\u001b[39m\n",
      "  @_4\u001b[91m\u001b[1m::Any\u001b[22m\u001b[39m\n",
      "  data\u001b[36m::Array{Array,1}\u001b[39m\n",
      "  m\u001b[91m\u001b[1m::Any\u001b[22m\u001b[39m\n",
      "  n\u001b[91m\u001b[1m::Any\u001b[22m\u001b[39m\n",
      "  W\u001b[91m\u001b[1m::Any\u001b[22m\u001b[39m\n",
      "  V\u001b[91m\u001b[1m::Any\u001b[22m\u001b[39m\n",
      "  larmodel@_10\u001b[91m\u001b[1m::Tuple{Vararg{Array,N} where N}\u001b[22m\u001b[39m\n",
      "\n",
      "Body\u001b[91m\u001b[1m::Tuple{Vararg{Array,N} where N}\u001b[22m\u001b[39m\n",
      "\u001b[90m1 ─\u001b[39m       (larmodel@_10 = larmodel@_3)\n",
      "\u001b[90m│  \u001b[39m       (data = Main.collect(larmodel@_10::Tuple{Array{Float64,2},Array{Array{Int64,1},1}}))\n",
      "\u001b[90m│  \u001b[39m       (V = Base.getindex(data, 1))\n",
      "\u001b[90m│  \u001b[39m %4  = Main.size(V::Array)\u001b[91m\u001b[1m::Any\u001b[22m\u001b[39m\n",
      "\u001b[90m│  \u001b[39m %5  = Base.indexed_iterate(%4, 1)\u001b[91m\u001b[1m::Any\u001b[22m\u001b[39m\n",
      "\u001b[90m│  \u001b[39m       (m = Core.getfield(%5, 1))\n",
      "\u001b[90m│  \u001b[39m       (@_4 = Core.getfield(%5, 2))\n",
      "\u001b[90m│  \u001b[39m %8  = Base.indexed_iterate(%4, 2, @_4)\u001b[91m\u001b[1m::Any\u001b[22m\u001b[39m\n",
      "\u001b[90m│  \u001b[39m       (n = Core.getfield(%8, 1))\n",
      "\u001b[90m│  \u001b[39m %10 = V::Array\u001b[91m\u001b[1m::Array\u001b[22m\u001b[39m\n",
      "\u001b[90m│  \u001b[39m %11 = Core.tuple(1, n)\u001b[36m::Core.Compiler.PartialStruct(Tuple{Int64,Any}, Any[Core.Compiler.Const(1, false), Any])\u001b[39m\n",
      "\u001b[90m│  \u001b[39m %12 = Main.fill(1.0, %11)\u001b[36m::Array{Float64,2}\u001b[39m\n",
      "\u001b[90m│  \u001b[39m       (W = Base.vcat(%10, %12))\n",
      "\u001b[90m│  \u001b[39m %14 = (affineMatrix * W)\u001b[91m\u001b[1m::Any\u001b[22m\u001b[39m\n",
      "\u001b[90m│  \u001b[39m %15 = (1:m)\u001b[91m\u001b[1m::Any\u001b[22m\u001b[39m\n",
      "\u001b[90m│  \u001b[39m %16 = (1:n)\u001b[91m\u001b[1m::Any\u001b[22m\u001b[39m\n",
      "\u001b[90m│  \u001b[39m       (V = Base.getindex(%14, %15, %16))\n",
      "\u001b[90m│  \u001b[39m       Base.setindex!(data, V, 1)\n",
      "\u001b[90m│  \u001b[39m       (larmodel@_10 = Main.Tuple(data))\n",
      "\u001b[90m└──\u001b[39m       return larmodel@_10\n"
     ]
    }
   ],
   "source": [
    "@code_warntype apply(Lar.t(-0.5,-0.5,-0.5),cube) "
   ]
  },
  {
   "cell_type": "markdown",
   "metadata": {},
   "source": [
    "## Modifiche"
   ]
  },
  {
   "cell_type": "code",
   "execution_count": 157,
   "metadata": {},
   "outputs": [
    {
     "data": {
      "text/plain": [
       "applyv (generic function with 2 methods)"
      ]
     },
     "execution_count": 157,
     "metadata": {},
     "output_type": "execute_result"
    }
   ],
   "source": [
    "function applyv(affineMatrix, larmodel)\n",
    "\tdata = collect(larmodel)\n",
    "\tV = data[1]\n",
    "\n",
    "\tm,n = size(V)\n",
    "\tW = [V; fill(1.0, (1,n))]\n",
    "\tV = (affineMatrix * W)[1:m,1:n]\n",
    "\n",
    "\tdata[1] = V\n",
    "\tlarmodel = Tuple(data)\n",
    "\treturn larmodel\n",
    "end"
   ]
  },
  {
   "cell_type": "code",
   "execution_count": 158,
   "metadata": {},
   "outputs": [
    {
     "name": "stdout",
     "output_type": "stream",
     "text": [
      "  1.770 μs (14 allocations: 1.67 KiB)\n"
     ]
    },
    {
     "data": {
      "text/plain": [
       "([-0.5 -0.5 … 0.5 0.5; -0.5 -0.5 … 0.5 0.5; -0.5 0.5 … -0.5 0.5], [[1, 2, 3, 4, 5, 6, 7, 8]])"
      ]
     },
     "execution_count": 158,
     "metadata": {},
     "output_type": "execute_result"
    }
   ],
   "source": [
    "@btime applyv(Lar.t(-0.5,-0.5,-0.5),cube)"
   ]
  },
  {
   "cell_type": "code",
   "execution_count": 146,
   "metadata": {},
   "outputs": [
    {
     "name": "stdout",
     "output_type": "stream",
     "text": [
      "Variables\n",
      "  #self#\u001b[36m::Core.Compiler.Const(applyv, false)\u001b[39m\n",
      "  affineMatrix\u001b[36m::Array{Float64,2}\u001b[39m\n",
      "  larmodel\u001b[36m::Tuple{Array{Float64,2},Array{Array{Int64,1},1}}\u001b[39m\n",
      "  @_4\u001b[36m::Int64\u001b[39m\n",
      "  data\u001b[36m::Array{Array,1}\u001b[39m\n",
      "  m\u001b[36m::Int64\u001b[39m\n",
      "  n\u001b[36m::Int64\u001b[39m\n",
      "  W\u001b[91m\u001b[1m::Array{_A,2} where _A\u001b[22m\u001b[39m\n",
      "  V\u001b[91m\u001b[1m::Array{T,2} where T\u001b[22m\u001b[39m\n",
      "  larmodel2\u001b[91m\u001b[1m::Tuple{Vararg{Array,N} where N}\u001b[22m\u001b[39m\n",
      "\n",
      "Body\u001b[91m\u001b[1m::Tuple{Vararg{Array,N} where N}\u001b[22m\u001b[39m\n",
      "\u001b[90m1 ─\u001b[39m       (data = Main.collect(larmodel))\n",
      "\u001b[90m│  \u001b[39m %2  = Base.getindex(data, 1)\u001b[91m\u001b[1m::Array\u001b[22m\u001b[39m\n",
      "\u001b[90m│  \u001b[39m %3  = Base.convert(Main.Matrix, %2)\u001b[91m\u001b[1m::Any\u001b[22m\u001b[39m\n",
      "\u001b[90m│  \u001b[39m       (V = Core.typeassert(%3, Main.Matrix))\n",
      "\u001b[90m│  \u001b[39m %5  = Main.size(V)\u001b[36m::Tuple{Int64,Int64}\u001b[39m\n",
      "\u001b[90m│  \u001b[39m %6  = Base.indexed_iterate(%5, 1)\u001b[36m::Core.Compiler.PartialStruct(Tuple{Int64,Int64}, Any[Int64, Core.Compiler.Const(2, false)])\u001b[39m\n",
      "\u001b[90m│  \u001b[39m       (m = Core.getfield(%6, 1))\n",
      "\u001b[90m│  \u001b[39m       (@_4 = Core.getfield(%6, 2))\n",
      "\u001b[90m│  \u001b[39m %9  = Base.indexed_iterate(%5, 2, @_4::Core.Compiler.Const(2, false))\u001b[36m::Core.Compiler.PartialStruct(Tuple{Int64,Int64}, Any[Int64, Core.Compiler.Const(3, false)])\u001b[39m\n",
      "\u001b[90m│  \u001b[39m       (n = Core.getfield(%9, 1))\n",
      "\u001b[90m│  \u001b[39m %11 = V\u001b[91m\u001b[1m::Array{T,2} where T\u001b[22m\u001b[39m\n",
      "\u001b[90m│  \u001b[39m %12 = Core.tuple(1, n)\u001b[36m::Core.Compiler.PartialStruct(Tuple{Int64,Int64}, Any[Core.Compiler.Const(1, false), Int64])\u001b[39m\n",
      "\u001b[90m│  \u001b[39m %13 = Main.fill(1.0, %12)\u001b[36m::Array{Float64,2}\u001b[39m\n",
      "\u001b[90m│  \u001b[39m       (W = Base.vcat(%11, %13))\n",
      "\u001b[90m│  \u001b[39m %15 = (affineMatrix * W)\u001b[91m\u001b[1m::Any\u001b[22m\u001b[39m\n",
      "\u001b[90m│  \u001b[39m %16 = (1:m)\u001b[36m::Core.Compiler.PartialStruct(UnitRange{Int64}, Any[Core.Compiler.Const(1, false), Int64])\u001b[39m\n",
      "\u001b[90m│  \u001b[39m %17 = (1:n)\u001b[36m::Core.Compiler.PartialStruct(UnitRange{Int64}, Any[Core.Compiler.Const(1, false), Int64])\u001b[39m\n",
      "\u001b[90m│  \u001b[39m %18 = Base.getindex(%15, %16, %17)\u001b[91m\u001b[1m::Any\u001b[22m\u001b[39m\n",
      "\u001b[90m│  \u001b[39m %19 = Base.convert(Main.Matrix, %18)\u001b[91m\u001b[1m::Any\u001b[22m\u001b[39m\n",
      "\u001b[90m│  \u001b[39m       (V = Core.typeassert(%19, Main.Matrix))\n",
      "\u001b[90m│  \u001b[39m       Base.setindex!(data, V, 1)\n",
      "\u001b[90m│  \u001b[39m %22 = Main.Tuple(data)\u001b[91m\u001b[1m::Tuple{Vararg{Array,N} where N}\u001b[22m\u001b[39m\n",
      "\u001b[90m│  \u001b[39m %23 = Base.convert(Main.Tuple, %22)\u001b[91m\u001b[1m::Tuple{Vararg{Array,N} where N}\u001b[22m\u001b[39m\n",
      "\u001b[90m│  \u001b[39m       (larmodel2 = Core.typeassert(%23, Main.Tuple))\n",
      "\u001b[90m└──\u001b[39m       return larmodel2\n"
     ]
    }
   ],
   "source": [
    "@code_warntype applyv(Lar.t(-0.5,-0.5,-0.5),cube)"
   ]
  },
  {
   "cell_type": "code",
   "execution_count": null,
   "metadata": {},
   "outputs": [],
   "source": []
  }
 ],
 "metadata": {
  "kernelspec": {
   "display_name": "Julia 1.5.3",
   "language": "julia",
   "name": "julia-1.5"
  },
  "language_info": {
   "file_extension": ".jl",
   "mimetype": "application/julia",
   "name": "julia",
   "version": "1.5.3"
  }
 },
 "nbformat": 4,
 "nbformat_minor": 4
}
