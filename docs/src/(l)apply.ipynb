{
 "cells": [
  {
   "cell_type": "code",
   "execution_count": 1,
   "metadata": {},
   "outputs": [
    {
     "data": {
      "text/plain": [
       "LinearAlgebraicRepresentation"
      ]
     },
     "execution_count": 1,
     "metadata": {},
     "output_type": "execute_result"
    }
   ],
   "source": [
    "using BenchmarkTools\n",
    "using LinearAlgebra\n",
    "using LinearAlgebraicRepresentation\n",
    "Lar = LinearAlgebraicRepresentation"
   ]
  },
  {
   "cell_type": "code",
   "execution_count": 2,
   "metadata": {},
   "outputs": [
    {
     "data": {
      "text/plain": [
       "([0.0 0.0 1.0 1.0; 0.0 1.0 0.0 1.0], [[1, 2, 3, 4]])"
      ]
     },
     "execution_count": 2,
     "metadata": {},
     "output_type": "execute_result"
    }
   ],
   "source": [
    "square = Lar.cuboid([1,1])"
   ]
  },
  {
   "cell_type": "code",
   "execution_count": 3,
   "metadata": {},
   "outputs": [
    {
     "data": {
      "text/plain": [
       "([0.0 0.0 … 1.0 1.0; 0.0 0.0 … 1.0 1.0; 0.0 1.0 … 0.0 1.0], [[1, 2, 3, 4, 5, 6, 7, 8]])"
      ]
     },
     "execution_count": 3,
     "metadata": {},
     "output_type": "execute_result"
    }
   ],
   "source": [
    "cube = Lar.cuboid([1,1,1])"
   ]
  },
  {
   "cell_type": "markdown",
   "metadata": {},
   "source": [
    "## Vecchia funzione"
   ]
  },
  {
   "cell_type": "code",
   "execution_count": 5,
   "metadata": {},
   "outputs": [
    {
     "data": {
      "text/plain": [
       "apply (generic function with 1 method)"
      ]
     },
     "execution_count": 5,
     "metadata": {},
     "output_type": "execute_result"
    }
   ],
   "source": [
    "function apply(affineMatrix, larmodel)\n",
    "\tdata = collect(larmodel)\n",
    "\tV = data[1]\n",
    "\n",
    "\tm,n = size(V)\n",
    "\tW = [V; fill(1.0, (1,n))]\n",
    "\tV = (affineMatrix * W)[1:m,1:n]\n",
    "\n",
    "\tdata[1] = V\n",
    "\tlarmodel = Tuple(data)\n",
    "\treturn larmodel\n",
    "end"
   ]
  },
  {
   "cell_type": "code",
   "execution_count": 6,
   "metadata": {},
   "outputs": [
    {
     "name": "stdout",
     "output_type": "stream",
     "text": [
      "  1.620 μs (14 allocations: 1.16 KiB)\n"
     ]
    },
    {
     "data": {
      "text/plain": [
       "([-0.5 -0.5 0.5 0.5; -0.5 0.5 -0.5 0.5], [[1, 2, 3, 4]])"
      ]
     },
     "execution_count": 6,
     "metadata": {},
     "output_type": "execute_result"
    }
   ],
   "source": [
    "@btime apply(Lar.t(-0.5,-0.5),square)"
   ]
  },
  {
   "cell_type": "code",
   "execution_count": 7,
   "metadata": {},
   "outputs": [
    {
     "name": "stdout",
     "output_type": "stream",
     "text": [
      "  1.710 μs (14 allocations: 1.67 KiB)\n"
     ]
    },
    {
     "data": {
      "text/plain": [
       "([-0.5 -0.5 … 0.5 0.5; -0.5 -0.5 … 0.5 0.5; -0.5 0.5 … -0.5 0.5], [[1, 2, 3, 4, 5, 6, 7, 8]])"
      ]
     },
     "execution_count": 7,
     "metadata": {},
     "output_type": "execute_result"
    }
   ],
   "source": [
    "@btime apply(Lar.t(-0.5,-0.5,-0.5),cube)"
   ]
  },
  {
   "cell_type": "code",
   "execution_count": 8,
   "metadata": {},
   "outputs": [
    {
     "data": {
      "text/plain": [
       "BenchmarkTools.Trial: \n",
       "  memory estimate:  1.67 KiB\n",
       "  allocs estimate:  14\n",
       "  --------------\n",
       "  minimum time:     1.710 μs (0.00% GC)\n",
       "  median time:      1.810 μs (0.00% GC)\n",
       "  mean time:        2.495 μs (4.15% GC)\n",
       "  maximum time:     414.630 μs (97.98% GC)\n",
       "  --------------\n",
       "  samples:          10000\n",
       "  evals/sample:     10"
      ]
     },
     "execution_count": 8,
     "metadata": {},
     "output_type": "execute_result"
    }
   ],
   "source": [
    "@benchmark apply(Lar.t(-0.5,-0.5,-0.5),cube)"
   ]
  },
  {
   "cell_type": "code",
   "execution_count": 9,
   "metadata": {},
   "outputs": [
    {
     "name": "stdout",
     "output_type": "stream",
     "text": [
      "Variables\n",
      "  #self#\u001b[36m::Core.Compiler.Const(apply, false)\u001b[39m\n",
      "  affineMatrix\u001b[36m::Array{Float64,2}\u001b[39m\n",
      "  larmodel@_3\u001b[36m::Tuple{Array{Float64,2},Array{Array{Int64,1},1}}\u001b[39m\n",
      "  @_4\u001b[91m\u001b[1m::Any\u001b[22m\u001b[39m\n",
      "  data\u001b[36m::Array{Array,1}\u001b[39m\n",
      "  m\u001b[91m\u001b[1m::Any\u001b[22m\u001b[39m\n",
      "  n\u001b[91m\u001b[1m::Any\u001b[22m\u001b[39m\n",
      "  W\u001b[91m\u001b[1m::Any\u001b[22m\u001b[39m\n",
      "  V\u001b[91m\u001b[1m::Any\u001b[22m\u001b[39m\n",
      "  larmodel@_10\u001b[91m\u001b[1m::Tuple{Vararg{Array,N} where N}\u001b[22m\u001b[39m\n",
      "\n",
      "Body\u001b[91m\u001b[1m::Tuple{Vararg{Array,N} where N}\u001b[22m\u001b[39m\n",
      "\u001b[90m1 ─\u001b[39m       (larmodel@_10 = larmodel@_3)\n",
      "\u001b[90m│  \u001b[39m       (data = Main.collect(larmodel@_10::Tuple{Array{Float64,2},Array{Array{Int64,1},1}}))\n",
      "\u001b[90m│  \u001b[39m       (V = Base.getindex(data, 1))\n",
      "\u001b[90m│  \u001b[39m %4  = Main.size(V::Array)\u001b[91m\u001b[1m::Any\u001b[22m\u001b[39m\n",
      "\u001b[90m│  \u001b[39m %5  = Base.indexed_iterate(%4, 1)\u001b[91m\u001b[1m::Any\u001b[22m\u001b[39m\n",
      "\u001b[90m│  \u001b[39m       (m = Core.getfield(%5, 1))\n",
      "\u001b[90m│  \u001b[39m       (@_4 = Core.getfield(%5, 2))\n",
      "\u001b[90m│  \u001b[39m %8  = Base.indexed_iterate(%4, 2, @_4)\u001b[91m\u001b[1m::Any\u001b[22m\u001b[39m\n",
      "\u001b[90m│  \u001b[39m       (n = Core.getfield(%8, 1))\n",
      "\u001b[90m│  \u001b[39m %10 = V::Array\u001b[91m\u001b[1m::Array\u001b[22m\u001b[39m\n",
      "\u001b[90m│  \u001b[39m %11 = Core.tuple(1, n)\u001b[36m::Core.Compiler.PartialStruct(Tuple{Int64,Any}, Any[Core.Compiler.Const(1, false), Any])\u001b[39m\n",
      "\u001b[90m│  \u001b[39m %12 = Main.fill(1.0, %11)\u001b[36m::Array{Float64,2}\u001b[39m\n",
      "\u001b[90m│  \u001b[39m       (W = Base.vcat(%10, %12))\n",
      "\u001b[90m│  \u001b[39m %14 = (affineMatrix * W)\u001b[91m\u001b[1m::Any\u001b[22m\u001b[39m\n",
      "\u001b[90m│  \u001b[39m %15 = (1:m)\u001b[91m\u001b[1m::Any\u001b[22m\u001b[39m\n",
      "\u001b[90m│  \u001b[39m %16 = (1:n)\u001b[91m\u001b[1m::Any\u001b[22m\u001b[39m\n",
      "\u001b[90m│  \u001b[39m       (V = Base.getindex(%14, %15, %16))\n",
      "\u001b[90m│  \u001b[39m       Base.setindex!(data, V, 1)\n",
      "\u001b[90m│  \u001b[39m       (larmodel@_10 = Main.Tuple(data))\n",
      "\u001b[90m└──\u001b[39m       return larmodel@_10\n"
     ]
    }
   ],
   "source": [
    "@code_warntype apply(Lar.t(-0.5,-0.5,-0.5),cube) "
   ]
  },
  {
   "cell_type": "markdown",
   "metadata": {},
   "source": [
    "## Modifiche"
   ]
  },
  {
   "cell_type": "code",
   "execution_count": 4,
   "metadata": {},
   "outputs": [
    {
     "data": {
      "text/plain": [
       "applyv (generic function with 1 method)"
      ]
     },
     "execution_count": 4,
     "metadata": {},
     "output_type": "execute_result"
    }
   ],
   "source": [
    "function applyv(affineMatrix, larmodel)\n",
    "\tdata = collect(larmodel)\n",
    "\tV = data[1]\n",
    "\n",
    "\tm,n = size(V)\n",
    "\tW = [V; fill(1.0, (1,n))]\n",
    "\tV = (affineMatrix * W)[1:m,1:n]\n",
    "\n",
    "\tdata[1] = V\n",
    "\tlarmodel = Tuple(data)\n",
    "\treturn larmodel\n",
    "end"
   ]
  },
  {
   "cell_type": "code",
   "execution_count": 21,
   "metadata": {},
   "outputs": [
    {
     "name": "stdout",
     "output_type": "stream",
     "text": [
      "  1.720 μs (14 allocations: 1.67 KiB)\n"
     ]
    },
    {
     "data": {
      "text/plain": [
       "([-0.5 -0.5 … 0.5 0.5; -0.5 -0.5 … 0.5 0.5; -0.5 0.5 … -0.5 0.5], [[1, 2, 3, 4, 5, 6, 7, 8]])"
      ]
     },
     "execution_count": 21,
     "metadata": {},
     "output_type": "execute_result"
    }
   ],
   "source": [
    "@btime applyv(Lar.t(-0.5,-0.5,-0.5),cube)"
   ]
  },
  {
   "cell_type": "code",
   "execution_count": 12,
   "metadata": {},
   "outputs": [
    {
     "data": {
      "text/plain": [
       "CodeInfo(\n",
       "\u001b[90m1 ─\u001b[39m %1  = π (larmodel@_3, \u001b[36mTuple{Array{Float64,2},Array{Array{Int64,1},1}}\u001b[39m)\n",
       "\u001b[90m│  \u001b[39m %2  = invoke Base._collect($(QuoteNode(1:1))::UnitRange{Int64}, %1::Tuple{Array{Float64,2},Array{Array{Int64,1},1}}, $(QuoteNode(Base.HasEltype()))::Base.HasEltype, $(QuoteNode(Base.HasLength()))::Base.HasLength)\u001b[36m::Array{Array,1}\u001b[39m\n",
       "\u001b[90m│  \u001b[39m %3  = Base.arrayref(true, %2, 1)\u001b[36m::Array\u001b[39m\n",
       "\u001b[90m│  \u001b[39m %4  = Main.size(%3)\u001b[36m::Any\u001b[39m\n",
       "\u001b[90m│  \u001b[39m %5  = Base.indexed_iterate(%4, 1)\u001b[36m::Any\u001b[39m\n",
       "\u001b[90m│  \u001b[39m %6  = Core.getfield(%5, 1)\u001b[36m::Any\u001b[39m\n",
       "\u001b[90m│  \u001b[39m %7  = Core.getfield(%5, 2)\u001b[36m::Any\u001b[39m\n",
       "\u001b[90m│  \u001b[39m %8  = Base.indexed_iterate(%4, 2, %7)\u001b[36m::Any\u001b[39m\n",
       "\u001b[90m│  \u001b[39m %9  = Core.getfield(%8, 1)\u001b[36m::Any\u001b[39m\n",
       "\u001b[90m│  \u001b[39m %10 = Core.tuple(1, %9)\u001b[36m::Core.Compiler.PartialStruct(Tuple{Int64,Any}, Any[Core.Compiler.Const(1, false), Any])\u001b[39m\n",
       "\u001b[90m│  \u001b[39m %11 = Main.fill(1.0, %10)\u001b[36m::Array{Float64,2}\u001b[39m\n",
       "\u001b[90m│  \u001b[39m %12 = Base.vcat(%3, %11)\u001b[36m::Any\u001b[39m\n",
       "\u001b[90m│  \u001b[39m %13 = (affineMatrix * %12)\u001b[36m::Any\u001b[39m\n",
       "\u001b[90m│  \u001b[39m %14 = (isa)(%6, Int64)\u001b[36m::Bool\u001b[39m\n",
       "\u001b[90m└──\u001b[39m       goto #3 if not %14\n",
       "\u001b[90m2 ─\u001b[39m %16 = π (%6, \u001b[36mInt64\u001b[39m)\n",
       "\u001b[90m│  \u001b[39m %17 = Base.sle_int(1, %16)\u001b[36m::Bool\u001b[39m\n",
       "\u001b[90m│  \u001b[39m %18 = Base.sub_int(1, 1)\u001b[36m::Int64\u001b[39m\n",
       "\u001b[90m│  \u001b[39m %19 = Base.ifelse(%17, %16, %18)\u001b[36m::Int64\u001b[39m\n",
       "\u001b[90m│  \u001b[39m %20 = %new(UnitRange{Int64}, 1, %19)\u001b[36m::UnitRange{Int64}\u001b[39m\n",
       "\u001b[90m└──\u001b[39m       goto #4\n",
       "\u001b[90m3 ─\u001b[39m %22 = (1:%6)\u001b[36m::Any\u001b[39m\n",
       "\u001b[90m└──\u001b[39m       goto #4\n",
       "\u001b[90m4 ┄\u001b[39m %24 = φ (#2 => %20, #3 => %22)\u001b[36m::Any\u001b[39m\n",
       "\u001b[90m│  \u001b[39m %25 = (isa)(%9, Int64)\u001b[36m::Bool\u001b[39m\n",
       "\u001b[90m└──\u001b[39m       goto #6 if not %25\n",
       "\u001b[90m5 ─\u001b[39m %27 = π (%9, \u001b[36mInt64\u001b[39m)\n",
       "\u001b[90m│  \u001b[39m %28 = Base.sle_int(1, %27)\u001b[36m::Bool\u001b[39m\n",
       "\u001b[90m│  \u001b[39m %29 = Base.sub_int(1, 1)\u001b[36m::Int64\u001b[39m\n",
       "\u001b[90m│  \u001b[39m %30 = Base.ifelse(%28, %27, %29)\u001b[36m::Int64\u001b[39m\n",
       "\u001b[90m│  \u001b[39m %31 = %new(UnitRange{Int64}, 1, %30)\u001b[36m::UnitRange{Int64}\u001b[39m\n",
       "\u001b[90m└──\u001b[39m       goto #7\n",
       "\u001b[90m6 ─\u001b[39m %33 = (1:%9)\u001b[36m::Any\u001b[39m\n",
       "\u001b[90m└──\u001b[39m       goto #7\n",
       "\u001b[90m7 ┄\u001b[39m %35 = φ (#5 => %31, #6 => %33)\u001b[36m::Any\u001b[39m\n",
       "\u001b[90m│  \u001b[39m %36 = Base.getindex(%13, %24, %35)\u001b[36m::Any\u001b[39m\n",
       "\u001b[90m│  \u001b[39m       Base.setindex!(%2, %36, 1)\u001b[90m::Any\u001b[39m\n",
       "\u001b[90m│  \u001b[39m %38 = Base.arraysize(%2, 1)\u001b[36m::Int64\u001b[39m\n",
       "\u001b[90m│  \u001b[39m %39 = Base.slt_int(%38, 0)\u001b[36m::Bool\u001b[39m\n",
       "\u001b[90m│  \u001b[39m %40 = Base.ifelse(%39, 0, %38)\u001b[36m::Int64\u001b[39m\n",
       "\u001b[90m│  \u001b[39m %41 = $(Expr(:foreigncall, :(:jl_alloc_array_1d), Array{Array,1}, svec(Any, Int64), 0, :(:ccall), Array{Array,1}, :(%40), :(%40)))\u001b[36m::Array{Array,1}\u001b[39m\n",
       "\u001b[90m│  \u001b[39m %42 = Base.arraylen(%2)\u001b[36m::Int64\u001b[39m\n",
       "\u001b[90m│  \u001b[39m %43 = invoke Base._copyto_impl!(%41::Array{Array,1}, 1::Int64, %2::Array{Array,1}, 1::Int64, %42::Int64)\u001b[36m::Array{Array,1}\u001b[39m\n",
       "\u001b[90m│  \u001b[39m %44 = Core._apply_iterate(Base.iterate, Core.tuple, %43)\u001b[36m::Tuple{Vararg{Array,N} where N}\u001b[39m\n",
       "\u001b[90m└──\u001b[39m       return %44\n",
       ") => Tuple{Vararg{Array,N} where N}"
      ]
     },
     "execution_count": 12,
     "metadata": {},
     "output_type": "execute_result"
    }
   ],
   "source": [
    "@code_typed applyv(Lar.t(-0.5,-0.5,-0.5),cube)"
   ]
  },
  {
   "cell_type": "code",
   "execution_count": 13,
   "metadata": {},
   "outputs": [
    {
     "name": "stdout",
     "output_type": "stream",
     "text": [
      "Variables\n",
      "  #self#\u001b[36m::Core.Compiler.Const(applyv, false)\u001b[39m\n",
      "  affineMatrix\u001b[36m::Array{Float64,2}\u001b[39m\n",
      "  larmodel@_3\u001b[36m::Tuple{Array{Float64,2},Array{Array{Int64,1},1}}\u001b[39m\n",
      "  @_4\u001b[91m\u001b[1m::Any\u001b[22m\u001b[39m\n",
      "  data\u001b[36m::Array{Array,1}\u001b[39m\n",
      "  m\u001b[91m\u001b[1m::Any\u001b[22m\u001b[39m\n",
      "  n\u001b[91m\u001b[1m::Any\u001b[22m\u001b[39m\n",
      "  W\u001b[91m\u001b[1m::Any\u001b[22m\u001b[39m\n",
      "  V\u001b[91m\u001b[1m::Any\u001b[22m\u001b[39m\n",
      "  larmodel@_10\u001b[91m\u001b[1m::Tuple{Vararg{Array,N} where N}\u001b[22m\u001b[39m\n",
      "\n",
      "Body\u001b[91m\u001b[1m::Tuple{Vararg{Array,N} where N}\u001b[22m\u001b[39m\n",
      "\u001b[90m1 ─\u001b[39m       (larmodel@_10 = larmodel@_3)\n",
      "\u001b[90m│  \u001b[39m       (data = Main.collect(larmodel@_10::Tuple{Array{Float64,2},Array{Array{Int64,1},1}}))\n",
      "\u001b[90m│  \u001b[39m       (V = Base.getindex(data, 1))\n",
      "\u001b[90m│  \u001b[39m %4  = Main.size(V::Array)\u001b[91m\u001b[1m::Any\u001b[22m\u001b[39m\n",
      "\u001b[90m│  \u001b[39m %5  = Base.indexed_iterate(%4, 1)\u001b[91m\u001b[1m::Any\u001b[22m\u001b[39m\n",
      "\u001b[90m│  \u001b[39m       (m = Core.getfield(%5, 1))\n",
      "\u001b[90m│  \u001b[39m       (@_4 = Core.getfield(%5, 2))\n",
      "\u001b[90m│  \u001b[39m %8  = Base.indexed_iterate(%4, 2, @_4)\u001b[91m\u001b[1m::Any\u001b[22m\u001b[39m\n",
      "\u001b[90m│  \u001b[39m       (n = Core.getfield(%8, 1))\n",
      "\u001b[90m│  \u001b[39m %10 = V::Array\u001b[91m\u001b[1m::Array\u001b[22m\u001b[39m\n",
      "\u001b[90m│  \u001b[39m %11 = Core.tuple(1, n)\u001b[36m::Core.Compiler.PartialStruct(Tuple{Int64,Any}, Any[Core.Compiler.Const(1, false), Any])\u001b[39m\n",
      "\u001b[90m│  \u001b[39m %12 = Main.fill(1.0, %11)\u001b[36m::Array{Float64,2}\u001b[39m\n",
      "\u001b[90m│  \u001b[39m       (W = Base.vcat(%10, %12))\n",
      "\u001b[90m│  \u001b[39m %14 = (affineMatrix * W)\u001b[91m\u001b[1m::Any\u001b[22m\u001b[39m\n",
      "\u001b[90m│  \u001b[39m %15 = (1:m)\u001b[91m\u001b[1m::Any\u001b[22m\u001b[39m\n",
      "\u001b[90m│  \u001b[39m %16 = (1:n)\u001b[91m\u001b[1m::Any\u001b[22m\u001b[39m\n",
      "\u001b[90m│  \u001b[39m       (V = Base.getindex(%14, %15, %16))\n",
      "\u001b[90m│  \u001b[39m       Base.setindex!(data, V, 1)\n",
      "\u001b[90m│  \u001b[39m       (larmodel@_10 = Main.Tuple(data))\n",
      "\u001b[90m└──\u001b[39m       return larmodel@_10\n"
     ]
    }
   ],
   "source": [
    "@code_warntype applyv(Lar.t(-0.5,-0.5,-0.5),cube)"
   ]
  },
  {
   "cell_type": "code",
   "execution_count": null,
   "metadata": {},
   "outputs": [],
   "source": []
  }
 ],
 "metadata": {
  "kernelspec": {
   "display_name": "Julia 1.5.3",
   "language": "julia",
   "name": "julia-1.5"
  },
  "language_info": {
   "file_extension": ".jl",
   "mimetype": "application/julia",
   "name": "julia",
   "version": "1.5.3"
  }
 },
 "nbformat": 4,
 "nbformat_minor": 4
}
