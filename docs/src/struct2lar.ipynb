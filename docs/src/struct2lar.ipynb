{
 "cells": [
  {
   "cell_type": "code",
   "execution_count": null,
   "metadata": {},
   "outputs": [],
   "source": [
    "function struct2lar(structure)\n",
    "\tlistOfModels = Lar.evalStruct(structure)\n",
    "\tvertDict= Dict()\n",
    "\tindex,defaultValue = 0,0\n",
    "\tW = Array{Float64,1}[]\n",
    "\tm = length(listOfModels[1])\n",
    "\tlarmodel = [Array{Number,1}[] for k=1:m]\n",
    "\n",
    "\tfor model in listOfModels\n",
    "\t\tV = model[1]\n",
    "\t\tfor k=2:m\n",
    "\t\t\tfor incell in model[k]\n",
    "\t\t\t\toutcell=[]\n",
    "\t\t\t\tfor v in incell\n",
    "\t\t\t\t\tkey = map(Lar.approxVal(7), V[:,v])\n",
    "\t\t\t\t\tif get(vertDict,key,defaultValue)==defaultValue\n",
    "\t\t\t\t\t\tindex += 1\n",
    "\t\t\t\t\t\tvertDict[key]=index\n",
    "\t\t\t\t\t\tpush!(outcell,index)\n",
    "\t\t\t\t\t\tpush!(W,key)\n",
    "\t\t\t\t\telse\n",
    "\t\t\t\t\t\tpush!(outcell,vertDict[key])\n",
    "\t\t\t\t\tend\n",
    "\t\t\t\tend\n",
    "\t\t\t\tappend!(larmodel[k],[outcell])\n",
    "\t\t\tend\n",
    "\t\tend\n",
    "\tend\n",
    "\n",
    "\tappend!(larmodel[1], W)\n",
    "\tV = hcat(larmodel[1]...)\n",
    "\tchains = [convert(Lar.Cells, chain) for chain in larmodel[2:end]]\n",
    "\treturn (V, chains...)\n",
    "end"
   ]
  }
 ],
 "metadata": {
  "kernelspec": {
   "display_name": "Julia 1.5.3",
   "language": "julia",
   "name": "julia-1.5"
  }
 },
 "nbformat": 4,
 "nbformat_minor": 4
}
