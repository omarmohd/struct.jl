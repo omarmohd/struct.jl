{
 "cells": [
  {
   "cell_type": "code",
   "execution_count": 3,
   "metadata": {},
   "outputs": [],
   "source": [
    "using BenchmarkTools\n",
    "using LinearAlgebra"
   ]
  },
  {
   "cell_type": "code",
   "execution_count": 4,
   "metadata": {},
   "outputs": [
    {
     "data": {
      "text/plain": [
       "12-element Array{Array{Int64,1},1}:\n",
       " [0, 1, 2, 3]\n",
       " [4, 5, 6, 7]\n",
       " [0, 1, 4, 5]\n",
       " [2, 3, 6, 7]\n",
       " [0, 2, 4, 6]\n",
       " [1, 3, 5, 7]\n",
       " [4, 5, 6, 7]\n",
       " [8, 9, 10, 11]\n",
       " [4, 5, 8, 9]\n",
       " [6, 7, 10, 11]\n",
       " [4, 6, 8, 10]\n",
       " [5, 7, 9, 11]"
      ]
     },
     "execution_count": 4,
     "metadata": {},
     "output_type": "execute_result"
    }
   ],
   "source": [
    "CW1=[[0,1,2,3],[4,5,6,7],[0,1,4,5],[2,3,6,7],[0,2,4,6],[1,3,5,7],\n",
    "\t[4,5,6,7],[8,9,10,11],[4,5,8,9],[6,7,10,11],[4,6,8,10],[5,7,9,11]]"
   ]
  },
  {
   "cell_type": "code",
   "execution_count": 5,
   "metadata": {},
   "outputs": [
    {
     "data": {
      "text/plain": [
       "5-element Array{Array{Int64,1},1}:\n",
       " [0, 1, 2, 3]\n",
       " [4, 5, 6, 7]\n",
       " [8, 9, 10, 11]\n",
       " [12, 13, 14, 15]\n",
       " [16, 17, 18, 19]"
      ]
     },
     "execution_count": 5,
     "metadata": {},
     "output_type": "execute_result"
    }
   ],
   "source": [
    "CW2=[[0,1,2,3],[4,5,6,7],[8,9,10,11],[12,13,14,15],[16,17,18,19]]"
   ]
  },
  {
   "cell_type": "markdown",
   "metadata": {},
   "source": [
    "## Vecchia funzione"
   ]
  },
  {
   "cell_type": "code",
   "execution_count": 6,
   "metadata": {},
   "outputs": [
    {
     "data": {
      "text/plain": [
       "removeDups (generic function with 1 method)"
      ]
     },
     "execution_count": 6,
     "metadata": {},
     "output_type": "execute_result"
    }
   ],
   "source": [
    "function removeDups(CW)\n",
    "\tCW = collect(Set(CW))\n",
    "\tCWs = collect(map(sort,CW))\n",
    "\treturn CWs\n",
    "end"
   ]
  },
  {
   "cell_type": "code",
   "execution_count": 7,
   "metadata": {},
   "outputs": [
    {
     "name": "stdout",
     "output_type": "stream",
     "text": [
      "  8.501 μs (21 allocations: 3.03 KiB)\n"
     ]
    },
    {
     "data": {
      "text/plain": [
       "11-element Array{Array{Int64,1},1}:\n",
       " [6, 7, 10, 11]\n",
       " [4, 5, 6, 7]\n",
       " [4, 6, 8, 10]\n",
       " [1, 3, 5, 7]\n",
       " [0, 1, 2, 3]\n",
       " [8, 9, 10, 11]\n",
       " [0, 2, 4, 6]\n",
       " [5, 7, 9, 11]\n",
       " [2, 3, 6, 7]\n",
       " [4, 5, 8, 9]\n",
       " [0, 1, 4, 5]"
      ]
     },
     "execution_count": 7,
     "metadata": {},
     "output_type": "execute_result"
    }
   ],
   "source": [
    "@btime removeDups(CW1)"
   ]
  },
  {
   "cell_type": "code",
   "execution_count": 8,
   "metadata": {},
   "outputs": [
    {
     "name": "stdout",
     "output_type": "stream",
     "text": [
      "  2.700 μs (12 allocations: 1.39 KiB)\n"
     ]
    },
    {
     "data": {
      "text/plain": [
       "5-element Array{Array{Int64,1},1}:\n",
       " [8, 9, 10, 11]\n",
       " [12, 13, 14, 15]\n",
       " [0, 1, 2, 3]\n",
       " [16, 17, 18, 19]\n",
       " [4, 5, 6, 7]"
      ]
     },
     "execution_count": 8,
     "metadata": {},
     "output_type": "execute_result"
    }
   ],
   "source": [
    "@btime removeDups(CW2)"
   ]
  },
  {
   "cell_type": "markdown",
   "metadata": {},
   "source": [
    "## Nuove funzioni"
   ]
  },
  {
   "cell_type": "code",
   "execution_count": 9,
   "metadata": {},
   "outputs": [
    {
     "data": {
      "text/plain": [
       "sortCells (generic function with 1 method)"
      ]
     },
     "execution_count": 9,
     "metadata": {},
     "output_type": "execute_result"
    }
   ],
   "source": [
    "function sortCells(CW)\n",
    "\tCWs = collect(map(sort,CW))\n",
    "\treturn CWs\n",
    "end"
   ]
  },
  {
   "cell_type": "code",
   "execution_count": 10,
   "metadata": {},
   "outputs": [
    {
     "data": {
      "text/plain": [
       "removeDups (generic function with 1 method)"
      ]
     },
     "execution_count": 10,
     "metadata": {},
     "output_type": "execute_result"
    }
   ],
   "source": [
    "function removeDups(CW)\n",
    "\tCW = collect(Set(CW))\n",
    "\tsortCells(CW)\n",
    "end"
   ]
  },
  {
   "cell_type": "code",
   "execution_count": 11,
   "metadata": {},
   "outputs": [
    {
     "name": "stdout",
     "output_type": "stream",
     "text": [
      "  8.160 μs (21 allocations: 3.03 KiB)\n"
     ]
    },
    {
     "data": {
      "text/plain": [
       "11-element Array{Array{Int64,1},1}:\n",
       " [6, 7, 10, 11]\n",
       " [4, 5, 6, 7]\n",
       " [4, 6, 8, 10]\n",
       " [1, 3, 5, 7]\n",
       " [0, 1, 2, 3]\n",
       " [8, 9, 10, 11]\n",
       " [0, 2, 4, 6]\n",
       " [5, 7, 9, 11]\n",
       " [2, 3, 6, 7]\n",
       " [4, 5, 8, 9]\n",
       " [0, 1, 4, 5]"
      ]
     },
     "execution_count": 11,
     "metadata": {},
     "output_type": "execute_result"
    }
   ],
   "source": [
    "@btime removeDups(CW1)"
   ]
  },
  {
   "cell_type": "code",
   "execution_count": 12,
   "metadata": {},
   "outputs": [
    {
     "name": "stdout",
     "output_type": "stream",
     "text": [
      "  1.940 μs (12 allocations: 1.39 KiB)\n"
     ]
    },
    {
     "data": {
      "text/plain": [
       "5-element Array{Array{Int64,1},1}:\n",
       " [8, 9, 10, 11]\n",
       " [12, 13, 14, 15]\n",
       " [0, 1, 2, 3]\n",
       " [16, 17, 18, 19]\n",
       " [4, 5, 6, 7]"
      ]
     },
     "execution_count": 12,
     "metadata": {},
     "output_type": "execute_result"
    }
   ],
   "source": [
    "@btime removeDups(CW2)"
   ]
  },
  {
   "cell_type": "code",
   "execution_count": 13,
   "metadata": {},
   "outputs": [
    {
     "data": {
      "text/plain": [
       "BenchmarkTools.Trial: \n",
       "  memory estimate:  3.03 KiB\n",
       "  allocs estimate:  21\n",
       "  --------------\n",
       "  minimum time:     6.333 μs (0.00% GC)\n",
       "  median time:      14.700 μs (0.00% GC)\n",
       "  mean time:        19.018 μs (0.93% GC)\n",
       "  maximum time:     2.061 ms (0.00% GC)\n",
       "  --------------\n",
       "  samples:          10000\n",
       "  evals/sample:     3"
      ]
     },
     "execution_count": 13,
     "metadata": {},
     "output_type": "execute_result"
    }
   ],
   "source": [
    "@benchmark removeDups(CW1)"
   ]
  },
  {
   "cell_type": "code",
   "execution_count": 14,
   "metadata": {},
   "outputs": [
    {
     "name": "stdout",
     "output_type": "stream",
     "text": [
      "Variables\n",
      "  #self#\u001b[36m::Core.Compiler.Const(removeDups, false)\u001b[39m\n",
      "  CW@_2\u001b[36m::Array{Array{Int64,1},1}\u001b[39m\n",
      "  CW@_3\u001b[36m::Array{Array{Int64,1},1}\u001b[39m\n",
      "\n",
      "Body\u001b[36m::Array{Array{Int64,1},1}\u001b[39m\n",
      "\u001b[90m1 ─\u001b[39m      (CW@_3 = CW@_2)\n",
      "\u001b[90m│  \u001b[39m %2 = Main.Set(CW@_3)\u001b[36m::Set{Array{Int64,1}}\u001b[39m\n",
      "\u001b[90m│  \u001b[39m      (CW@_3 = Main.collect(%2))\n",
      "\u001b[90m│  \u001b[39m %4 = Main.sortCells(CW@_3)\u001b[36m::Array{Array{Int64,1},1}\u001b[39m\n",
      "\u001b[90m└──\u001b[39m      return %4\n"
     ]
    }
   ],
   "source": [
    "@code_warntype removeDups(CW1)"
   ]
  },
  {
   "cell_type": "markdown",
   "metadata": {},
   "source": [
    "## Modifiche"
   ]
  },
  {
   "cell_type": "code",
   "execution_count": null,
   "metadata": {},
   "outputs": [],
   "source": []
  }
 ],
 "metadata": {
  "kernelspec": {
   "display_name": "Julia 1.5.3",
   "language": "julia",
   "name": "julia-1.5"
  },
  "language_info": {
   "file_extension": ".jl",
   "mimetype": "application/julia",
   "name": "julia",
   "version": "1.5.3"
  }
 },
 "nbformat": 4,
 "nbformat_minor": 4
}
