{
 "cells": [
  {
   "cell_type": "code",
   "execution_count": 1,
   "metadata": {},
   "outputs": [
    {
     "data": {
      "text/plain": [
       "LinearAlgebraicRepresentation"
      ]
     },
     "execution_count": 1,
     "metadata": {},
     "output_type": "execute_result"
    }
   ],
   "source": [
    "using BenchmarkTools\n",
    "using LinearAlgebra\n",
    "using LinearAlgebraicRepresentation\n",
    "Lar = LinearAlgebraicRepresentation"
   ]
  },
  {
   "cell_type": "code",
   "execution_count": 2,
   "metadata": {},
   "outputs": [
    {
     "data": {
      "text/plain": [
       "([0.0 0.0 1.0 1.0; 0.0 1.0 0.0 1.0], [[1, 2, 3, 4]])"
      ]
     },
     "execution_count": 2,
     "metadata": {},
     "output_type": "execute_result"
    }
   ],
   "source": [
    "square = Lar.cuboid([1,1])"
   ]
  },
  {
   "cell_type": "code",
   "execution_count": 3,
   "metadata": {},
   "outputs": [
    {
     "data": {
      "text/plain": [
       "LinearAlgebraicRepresentation.Struct([([0.0 0.0 1.0 1.0; 0.0 1.0 0.0 1.0], [[1, 2, 3, 4]])], [[0.0; 0.0], [1.0; 1.0]], \"16767493099498662495\", 2, \"feature\")"
      ]
     },
     "execution_count": 3,
     "metadata": {},
     "output_type": "execute_result"
    }
   ],
   "source": [
    "x = Lar.Struct([square])"
   ]
  },
  {
   "cell_type": "code",
   "execution_count": 4,
   "metadata": {},
   "outputs": [
    {
     "data": {
      "text/plain": [
       "([-0.5 -0.5 0.5 0.5; -0.5 0.5 -0.5 0.5], [[1, 2, 3, 4]])"
      ]
     },
     "execution_count": 4,
     "metadata": {},
     "output_type": "execute_result"
    }
   ],
   "source": [
    "table = Lar.apply(Lar.t(-0.5,-0.5),square)"
   ]
  },
  {
   "cell_type": "code",
   "execution_count": 5,
   "metadata": {},
   "outputs": [
    {
     "data": {
      "text/plain": [
       "LinearAlgebraicRepresentation.Struct(Any[([-0.5 -0.5 0.5 0.5; -0.5 0.5 -0.5 0.5], [[1, 2, 3, 4]]), [6.123233995736766e-17 -1.0 0.0; 1.0 6.123233995736766e-17 0.0; 0.0 0.0 1.0], ([-0.5 -0.5 0.5 0.5; -0.5 0.5 -0.5 0.5], [[1, 2, 3, 4]]), [6.123233995736766e-17 -1.0 0.0; 1.0 6.123233995736766e-17 0.0; 0.0 0.0 1.0]], [[-0.5; -0.5], [0.5; 0.5]], \"6683389019738139842\", 2, \"feature\")"
      ]
     },
     "execution_count": 5,
     "metadata": {},
     "output_type": "execute_result"
    }
   ],
   "source": [
    "y = Lar.Struct([repeat([table,Lar.r(pi/2)],outer=2)...])"
   ]
  },
  {
   "cell_type": "markdown",
   "metadata": {},
   "source": [
    "## Vecchia funzione"
   ]
  },
  {
   "cell_type": "code",
   "execution_count": 6,
   "metadata": {},
   "outputs": [
    {
     "data": {
      "text/plain": [
       "box (generic function with 1 method)"
      ]
     },
     "execution_count": 6,
     "metadata": {},
     "output_type": "execute_result"
    }
   ],
   "source": [
    "function box(model)\n",
    "\tif isa(model,Matrix)\n",
    "\t\treturn nothing\n",
    "\telseif isa(model,Lar.Struct)\n",
    "\t\tlistOfModels = Lar.evalStruct(model)\n",
    "\t\t#dim = checkStruct(listOfModels)\n",
    "\t\tif listOfModels == []\n",
    "\t\t\treturn model.box\n",
    "\t\telse\n",
    "\t\t\ttheMin,theMax = box(listOfModels[1])\n",
    "\t\t\tfor theModel in listOfModels[2:end]\n",
    "\t\t\t\tmodelMin,modelMax = box(theModel)\n",
    "\t\t\t\tfor (k,val) in enumerate(modelMin)\n",
    "\t\t\t\t\tif val < theMin[k]\n",
    "\t\t\t\t\t\ttheMin[k]=val\n",
    "\t\t\t\t\tend\n",
    "\t\t\t\tend\n",
    "\t\t\t\tfor (k,val) in enumerate(modelMax)\n",
    "\t\t\t\t\tif val > theMax[k]\n",
    "\t\t\t\t\t\ttheMax[k]=val\n",
    "\t\t\t\t\tend\n",
    "\t\t\t\tend\n",
    "\t\t\tend\n",
    "\t\tend\n",
    "\t\treturn [theMin,theMax]\n",
    "\n",
    "\telseif (isa(model,Tuple) ||isa(model,Array))&& (length(model)>=2)\n",
    "\t\tV = model[1]\n",
    "\t\ttheMin = minimum(V, dims=2)\n",
    "\t\ttheMax = maximum(V, dims=2)\n",
    "\tend\n",
    "\n",
    "\treturn [theMin,theMax]\n",
    "end"
   ]
  },
  {
   "cell_type": "code",
   "execution_count": 7,
   "metadata": {},
   "outputs": [
    {
     "name": "stdout",
     "output_type": "stream",
     "text": [
      "  5.980 μs (53 allocations: 2.72 KiB)\n"
     ]
    },
    {
     "data": {
      "text/plain": [
       "2-element Array{Array{Float64,2},1}:\n",
       " [0.0; 0.0]\n",
       " [1.0; 1.0]"
      ]
     },
     "execution_count": 7,
     "metadata": {},
     "output_type": "execute_result"
    }
   ],
   "source": [
    "@btime box(x)"
   ]
  },
  {
   "cell_type": "code",
   "execution_count": 8,
   "metadata": {},
   "outputs": [
    {
     "name": "stdout",
     "output_type": "stream",
     "text": [
      "  15.600 μs (118 allocations: 5.55 KiB)\n"
     ]
    },
    {
     "data": {
      "text/plain": [
       "2-element Array{Array{Float64,2},1}:\n",
       " [-0.5; -0.5]\n",
       " [0.5; 0.5]"
      ]
     },
     "execution_count": 8,
     "metadata": {},
     "output_type": "execute_result"
    }
   ],
   "source": [
    "@btime box(y)"
   ]
  },
  {
   "cell_type": "code",
   "execution_count": null,
   "metadata": {},
   "outputs": [],
   "source": [
    "@benchmark box(y)"
   ]
  },
  {
   "cell_type": "markdown",
   "metadata": {},
   "source": [
    "## Nuove funzioni"
   ]
  },
  {
   "cell_type": "code",
   "execution_count": 9,
   "metadata": {},
   "outputs": [
    {
     "data": {
      "text/plain": [
       "evalBox (generic function with 1 method)"
      ]
     },
     "execution_count": 9,
     "metadata": {},
     "output_type": "execute_result"
    }
   ],
   "source": [
    "function evalBox(listOfModels)\n",
    "\ttheMin,theMax = box(listOfModels[1])\n",
    "\tfor theModel in listOfModels[2:end]\n",
    "\t\tmodelMin,modelMax= box(theModel)\n",
    "\t\tfor (k,val) in enumerate(modelMin)\n",
    "\t\t\tif val < theMin[k]\n",
    "\t\t\t\ttheMin[k]=val\n",
    "\t\t\tend\n",
    "\t\tend\n",
    "\t\tfor (k,val) in enumerate(modelMax)\n",
    "\t\t\tif val > theMax[k]\n",
    "\t\t\t\ttheMax[k]=val\n",
    "\t\t\tend\n",
    "\t\tend\n",
    "\tend\n",
    "\treturn theMin,theMax\n",
    "end"
   ]
  },
  {
   "cell_type": "code",
   "execution_count": 10,
   "metadata": {},
   "outputs": [
    {
     "data": {
      "text/plain": [
       "box (generic function with 1 method)"
      ]
     },
     "execution_count": 10,
     "metadata": {},
     "output_type": "execute_result"
    }
   ],
   "source": [
    "function box(model)\n",
    "\tif isa(model,Matrix)\n",
    "\t\treturn nothing\n",
    "\telseif isa(model,Lar.Struct)\n",
    "\t\tlistOfModels = Lar.evalStruct(model)\n",
    "\t\t#dim = checkStruct(listOfModels)\n",
    "\t\tif listOfModels == []\n",
    "\t\t\treturn model.box\n",
    "\t\telse\n",
    "\t\t\ttheMin,theMax = evalBox(listOfModels)\n",
    "\t\tend\n",
    "        \n",
    "\t\treturn [theMin,theMax]\n",
    "\n",
    "\telseif (isa(model,Tuple) || isa(model,Array)) && (length(model)>=2)\n",
    "\t\tV = model[1]\n",
    "\t\ttheMin = minimum(V, dims=2)\n",
    "\t\ttheMax = maximum(V, dims=2)\n",
    "\tend\n",
    "    \n",
    "\treturn [theMin,theMax]\n",
    "end"
   ]
  },
  {
   "cell_type": "code",
   "execution_count": 11,
   "metadata": {},
   "outputs": [
    {
     "name": "stdout",
     "output_type": "stream",
     "text": [
      "  5.933 μs (53 allocations: 2.72 KiB)\n"
     ]
    },
    {
     "data": {
      "text/plain": [
       "2-element Array{Array{Float64,2},1}:\n",
       " [0.0; 0.0]\n",
       " [1.0; 1.0]"
      ]
     },
     "execution_count": 11,
     "metadata": {},
     "output_type": "execute_result"
    }
   ],
   "source": [
    "@btime box(x)"
   ]
  },
  {
   "cell_type": "code",
   "execution_count": 12,
   "metadata": {},
   "outputs": [
    {
     "name": "stdout",
     "output_type": "stream",
     "text": [
      "  15.300 μs (116 allocations: 5.48 KiB)\n"
     ]
    },
    {
     "data": {
      "text/plain": [
       "2-element Array{Array{Float64,2},1}:\n",
       " [-0.5; -0.5]\n",
       " [0.5; 0.5]"
      ]
     },
     "execution_count": 12,
     "metadata": {},
     "output_type": "execute_result"
    }
   ],
   "source": [
    "@btime box(y)"
   ]
  },
  {
   "cell_type": "code",
   "execution_count": 13,
   "metadata": {},
   "outputs": [
    {
     "data": {
      "text/plain": [
       "BenchmarkTools.Trial: \n",
       "  memory estimate:  5.48 KiB\n",
       "  allocs estimate:  116\n",
       "  --------------\n",
       "  minimum time:     15.200 μs (0.00% GC)\n",
       "  median time:      17.101 μs (0.00% GC)\n",
       "  mean time:        22.729 μs (2.78% GC)\n",
       "  maximum time:     6.387 ms (98.78% GC)\n",
       "  --------------\n",
       "  samples:          10000\n",
       "  evals/sample:     1"
      ]
     },
     "execution_count": 13,
     "metadata": {},
     "output_type": "execute_result"
    }
   ],
   "source": [
    "@benchmark box(y)"
   ]
  },
  {
   "cell_type": "code",
   "execution_count": 14,
   "metadata": {},
   "outputs": [
    {
     "data": {
      "text/plain": [
       "CodeInfo(\n",
       "\u001b[90m1 ──\u001b[39m       goto #3 if not false\n",
       "\u001b[90m2 ──\u001b[39m       nothing\u001b[90m::Nothing\u001b[39m\n",
       "\u001b[90m3 ┄─\u001b[39m %3  = Base.getproperty(Main.Lar, :Struct)\u001b[36m::Any\u001b[39m\n",
       "\u001b[90m│   \u001b[39m %4  = (model isa %3)\u001b[36m::Bool\u001b[39m\n",
       "\u001b[90m└───\u001b[39m       goto #12 if not %4\n",
       "\u001b[90m4 ──\u001b[39m %6  = Base.getproperty(Main.Lar, :evalStruct)\u001b[36m::Any\u001b[39m\n",
       "\u001b[90m│   \u001b[39m %7  = (%6)(model)\u001b[36m::Any\u001b[39m\n",
       "\u001b[90m│   \u001b[39m %8  = $(Expr(:foreigncall, :(:jl_alloc_array_1d), Array{Any,1}, svec(Any, Int64), 0, :(:ccall), Array{Any,1}, 0, 0))\u001b[36m::Array{Any,1}\u001b[39m\n",
       "\u001b[90m│   \u001b[39m %9  = Main.:(==)\u001b[36m::Core.Compiler.Const(==, false)\u001b[39m\n",
       "\u001b[90m│   \u001b[39m %10 = (isa)(%7, WeakRef)\u001b[36m::Bool\u001b[39m\n",
       "\u001b[90m└───\u001b[39m       goto #6 if not %10\n",
       "\u001b[90m5 ──\u001b[39m %12 = π (%7, \u001b[36mWeakRef\u001b[39m)\n",
       "\u001b[90m│   \u001b[39m %13 = invoke %9(%12::WeakRef, %8::Array{Any,1})\u001b[36m::Union{Missing, Bool}\u001b[39m\n",
       "\u001b[90m└───\u001b[39m       goto #9\n",
       "\u001b[90m6 ──\u001b[39m %15 = (isa)(%7, Missing)\u001b[36m::Bool\u001b[39m\n",
       "\u001b[90m└───\u001b[39m       goto #8 if not %15\n",
       "\u001b[90m7 ──\u001b[39m       goto #9\n",
       "\u001b[90m8 ──\u001b[39m %18 = (%7 == %8)\u001b[36m::Union{Missing, Bool}\u001b[39m\n",
       "\u001b[90m└───\u001b[39m       goto #9\n",
       "\u001b[90m9 ┄─\u001b[39m %20 = φ (#5 => %13, #7 => $(QuoteNode(missing)), #8 => %18)\u001b[36m::Union{Missing, Bool}\u001b[39m\n",
       "\u001b[90m└───\u001b[39m       goto #11 if not %20\n",
       "\u001b[90m10 ─\u001b[39m %22 = Base.getfield(model, :box)\u001b[36m::Any\u001b[39m\n",
       "\u001b[90m└───\u001b[39m       return %22\n",
       "\u001b[90m11 ─\u001b[39m %24 = Main.evalBox(%7)\u001b[36m::Tuple{Any,Any}\u001b[39m\n",
       "\u001b[90m│   \u001b[39m %25 = Base.getfield(%24, 1)\u001b[36m::Any\u001b[39m\n",
       "\u001b[90m│   \u001b[39m %26 = Base.getfield(%24, 2)\u001b[36m::Any\u001b[39m\n",
       "\u001b[90m│   \u001b[39m %27 = Base.vect(%25, %26)\u001b[36m::Array{_A,1} where _A\u001b[39m\n",
       "\u001b[90m└───\u001b[39m       return %27\n",
       "\u001b[90m12 ─\u001b[39m       goto #14 if not false\n",
       "\u001b[90m13 ─\u001b[39m       nothing\u001b[90m::Nothing\u001b[39m\n",
       "\u001b[90m14 ┄\u001b[39m       goto #16 if not false\n",
       "\u001b[90m15 ─\u001b[39m       nothing\u001b[90m::Nothing\u001b[39m\n",
       "\u001b[90m16 ┄\u001b[39m %33 = π (false, \u001b[36mCore.Compiler.Const(false, false)\u001b[39m)\n",
       "\u001b[90m└───\u001b[39m       goto #18 if not %33\n",
       "\u001b[90m17 ─\u001b[39m       nothing\u001b[90m::Nothing\u001b[39m\n",
       "\u001b[90m18 ┄\u001b[39m       $(Expr(:throw_undef_if_not, :theMin, false))\u001b[90m::Any\u001b[39m\n",
       "\u001b[90m└───\u001b[39m       $(Expr(:unreachable))\u001b[90m::Union{}\u001b[39m\n",
       ") => Any"
      ]
     },
     "execution_count": 14,
     "metadata": {},
     "output_type": "execute_result"
    }
   ],
   "source": [
    "@code_typed box(y)"
   ]
  },
  {
   "cell_type": "markdown",
   "metadata": {},
   "source": [
    "## Modifiche"
   ]
  },
  {
   "cell_type": "markdown",
   "metadata": {},
   "source": [
    "\"\"\"\\\n",
    "evalBox(listOfModels::Array)::Tuple\\\n",
    "Genera e restituisce  il volume di contenimento, ovvero il minimo parallelepipedo parallelo agli assi che li contiene, se l'input è una struttura.\\\n",
    "\"\"\""
   ]
  },
  {
   "cell_type": "code",
   "execution_count": 10,
   "metadata": {},
   "outputs": [
    {
     "data": {
      "text/plain": [
       "evalBox (generic function with 1 method)"
      ]
     },
     "execution_count": 10,
     "metadata": {},
     "output_type": "execute_result"
    }
   ],
   "source": [
    "@inline function evalBox(listOfModels)\n",
    "\ttheMin,theMax = box(listOfModels[1])\n",
    "\tfor theModel in listOfModels[2:end]\n",
    "\t\tmodelMin,modelMax= box(theModel)\n",
    "\t\tfor (k,val) in enumerate(modelMin)\n",
    "\t\t\tif val < theMin[k]\n",
    "\t\t\t\ttheMin[k]=val\n",
    "\t\t\tend\n",
    "\t\tend\n",
    "\t\tfor (k,val) in enumerate(modelMax)\n",
    "\t\t\tif val > theMax[k]\n",
    "\t\t\t\ttheMax[k]=val\n",
    "\t\t\tend\n",
    "\t\tend\n",
    "\tend\n",
    "\treturn theMin,theMax\n",
    "end"
   ]
  },
  {
   "cell_type": "code",
   "execution_count": 22,
   "metadata": {},
   "outputs": [
    {
     "data": {
      "text/plain": [
       "box (generic function with 1 method)"
      ]
     },
     "execution_count": 22,
     "metadata": {},
     "output_type": "execute_result"
    }
   ],
   "source": [
    "@inline function box(model)\n",
    "\tif isa(model,Matrix)\n",
    "\t\treturn nothing\n",
    "\telseif isa(model,Lar.Struct)\n",
    "\t\tlistOfModels = Lar.evalStruct(model)\n",
    "\t\tif listOfModels == []\n",
    "\t\t\treturn model.box\n",
    "\t\telse\n",
    "\t\t\ttheMin,theMax = evalBox(listOfModels)\n",
    "\t\tend\n",
    "        \n",
    "\t\treturn [theMin,theMax]\n",
    "\n",
    "\telseif (isa(model,Tuple) || isa(model,Array)) && (length(model)>=2)\n",
    "\t\tV = model[1]\n",
    "\t\ttheMin = minimum(V, dims=2)\n",
    "\t\ttheMax = maximum(V, dims=2)\n",
    "\tend\n",
    "    \n",
    "\treturn [theMin,theMax]\n",
    "end"
   ]
  },
  {
   "cell_type": "code",
   "execution_count": 23,
   "metadata": {},
   "outputs": [
    {
     "name": "stdout",
     "output_type": "stream",
     "text": [
      "  5.883 μs (52 allocations: 2.63 KiB)\n"
     ]
    },
    {
     "data": {
      "text/plain": [
       "Tuple{Array{Float64,2},Array{Float64,2}}"
      ]
     },
     "execution_count": 23,
     "metadata": {},
     "output_type": "execute_result"
    }
   ],
   "source": [
    "@btime box(x)"
   ]
  },
  {
   "cell_type": "code",
   "execution_count": 17,
   "metadata": {},
   "outputs": [
    {
     "name": "stdout",
     "output_type": "stream",
     "text": [
      "  15.300 μs (115 allocations: 5.39 KiB)\n"
     ]
    },
    {
     "data": {
      "text/plain": [
       "([-0.5; -0.5], [0.5; 0.5])"
      ]
     },
     "execution_count": 17,
     "metadata": {},
     "output_type": "execute_result"
    }
   ],
   "source": [
    "@btime box(y)"
   ]
  },
  {
   "cell_type": "code",
   "execution_count": null,
   "metadata": {},
   "outputs": [],
   "source": [
    "@benchmark box(y)"
   ]
  }
 ],
 "metadata": {
  "kernelspec": {
   "display_name": "Julia 1.5.3",
   "language": "julia",
   "name": "julia-1.5"
  },
  "language_info": {
   "file_extension": ".jl",
   "mimetype": "application/julia",
   "name": "julia",
   "version": "1.5.3"
  }
 },
 "nbformat": 4,
 "nbformat_minor": 4
}
