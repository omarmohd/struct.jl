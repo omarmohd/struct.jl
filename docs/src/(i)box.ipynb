{
 "cells": [
  {
   "cell_type": "code",
   "execution_count": 1,
   "metadata": {},
   "outputs": [
    {
     "data": {
      "text/plain": [
       "LinearAlgebraicRepresentation"
      ]
     },
     "execution_count": 1,
     "metadata": {},
     "output_type": "execute_result"
    }
   ],
   "source": [
    "using BenchmarkTools\n",
    "using LinearAlgebra\n",
    "using LinearAlgebraicRepresentation\n",
    "Lar = LinearAlgebraicRepresentation"
   ]
  },
  {
   "cell_type": "code",
   "execution_count": 2,
   "metadata": {},
   "outputs": [
    {
     "data": {
      "text/plain": [
       "([0.0 0.0 1.0 1.0; 0.0 1.0 0.0 1.0], [[1, 2, 3, 4]])"
      ]
     },
     "execution_count": 2,
     "metadata": {},
     "output_type": "execute_result"
    }
   ],
   "source": [
    "square = Lar.cuboid([1,1])"
   ]
  },
  {
   "cell_type": "code",
   "execution_count": 3,
   "metadata": {},
   "outputs": [
    {
     "data": {
      "text/plain": [
       "LinearAlgebraicRepresentation.Struct([([0.0 0.0 1.0 1.0; 0.0 1.0 0.0 1.0], [[1, 2, 3, 4]])], [[0.0; 0.0], [1.0; 1.0]], \"9053859826990061733\", 2, \"feature\")"
      ]
     },
     "execution_count": 3,
     "metadata": {},
     "output_type": "execute_result"
    }
   ],
   "source": [
    "x = Lar.Struct([square])"
   ]
  },
  {
   "cell_type": "code",
   "execution_count": 4,
   "metadata": {},
   "outputs": [
    {
     "data": {
      "text/plain": [
       "([-0.5 -0.5 0.5 0.5; -0.5 0.5 -0.5 0.5], [[1, 2, 3, 4]])"
      ]
     },
     "execution_count": 4,
     "metadata": {},
     "output_type": "execute_result"
    }
   ],
   "source": [
    "table = Lar.apply(Lar.t(-0.5,-0.5),square)"
   ]
  },
  {
   "cell_type": "code",
   "execution_count": 5,
   "metadata": {},
   "outputs": [
    {
     "data": {
      "text/plain": [
       "LinearAlgebraicRepresentation.Struct(Any[([-0.5 -0.5 0.5 0.5; -0.5 0.5 -0.5 0.5], [[1, 2, 3, 4]]), [6.123233995736766e-17 -1.0 0.0; 1.0 6.123233995736766e-17 0.0; 0.0 0.0 1.0], ([-0.5 -0.5 0.5 0.5; -0.5 0.5 -0.5 0.5], [[1, 2, 3, 4]]), [6.123233995736766e-17 -1.0 0.0; 1.0 6.123233995736766e-17 0.0; 0.0 0.0 1.0]], [[-0.5; -0.5], [0.5; 0.5]], \"7395534281569541614\", 2, \"feature\")"
      ]
     },
     "execution_count": 5,
     "metadata": {},
     "output_type": "execute_result"
    }
   ],
   "source": [
    "y = Lar.Struct([repeat([table,Lar.r(pi/2)],outer=2)...])"
   ]
  },
  {
   "cell_type": "markdown",
   "metadata": {},
   "source": [
    "## Vecchia funzione"
   ]
  },
  {
   "cell_type": "code",
   "execution_count": 6,
   "metadata": {},
   "outputs": [
    {
     "data": {
      "text/plain": [
       "box (generic function with 1 method)"
      ]
     },
     "execution_count": 6,
     "metadata": {},
     "output_type": "execute_result"
    }
   ],
   "source": [
    "function box(model)\n",
    "\tif isa(model,Matrix)\n",
    "\t\treturn nothing\n",
    "\telseif isa(model,Lar.Struct)\n",
    "\t\tlistOfModels = Lar.evalStruct(model)\n",
    "\t\t#dim = checkStruct(listOfModels)\n",
    "\t\tif listOfModels == []\n",
    "\t\t\treturn model.box\n",
    "\t\telse\n",
    "\t\t\ttheMin,theMax = box(listOfModels[1])\n",
    "\t\t\tfor theModel in listOfModels[2:end]\n",
    "\t\t\t\tmodelMin,modelMax = box(theModel)\n",
    "\t\t\t\tfor (k,val) in enumerate(modelMin)\n",
    "\t\t\t\t\tif val < theMin[k]\n",
    "\t\t\t\t\t\ttheMin[k]=val\n",
    "\t\t\t\t\tend\n",
    "\t\t\t\tend\n",
    "\t\t\t\tfor (k,val) in enumerate(modelMax)\n",
    "\t\t\t\t\tif val > theMax[k]\n",
    "\t\t\t\t\t\ttheMax[k]=val\n",
    "\t\t\t\t\tend\n",
    "\t\t\t\tend\n",
    "\t\t\tend\n",
    "\t\tend\n",
    "\t\treturn [theMin,theMax]\n",
    "\n",
    "\telseif (isa(model,Tuple) ||isa(model,Array))&& (length(model)>=2)\n",
    "\t\tV = model[1]\n",
    "\t\ttheMin = minimum(V, dims=2)\n",
    "\t\ttheMax = maximum(V, dims=2)\n",
    "\tend\n",
    "\n",
    "\treturn [theMin,theMax]\n",
    "end"
   ]
  },
  {
   "cell_type": "code",
   "execution_count": 7,
   "metadata": {},
   "outputs": [
    {
     "name": "stdout",
     "output_type": "stream",
     "text": [
      "  5.980 μs (53 allocations: 2.72 KiB)\n"
     ]
    },
    {
     "data": {
      "text/plain": [
       "2-element Array{Array{Float64,2},1}:\n",
       " [0.0; 0.0]\n",
       " [1.0; 1.0]"
      ]
     },
     "execution_count": 7,
     "metadata": {},
     "output_type": "execute_result"
    }
   ],
   "source": [
    "@btime box(x)"
   ]
  },
  {
   "cell_type": "code",
   "execution_count": 8,
   "metadata": {},
   "outputs": [
    {
     "name": "stdout",
     "output_type": "stream",
     "text": [
      "  15.600 μs (118 allocations: 5.55 KiB)\n"
     ]
    },
    {
     "data": {
      "text/plain": [
       "2-element Array{Array{Float64,2},1}:\n",
       " [-0.5; -0.5]\n",
       " [0.5; 0.5]"
      ]
     },
     "execution_count": 8,
     "metadata": {},
     "output_type": "execute_result"
    }
   ],
   "source": [
    "@btime box(y)"
   ]
  },
  {
   "cell_type": "markdown",
   "metadata": {},
   "source": [
    "## Nuove funzioni"
   ]
  },
  {
   "cell_type": "code",
   "execution_count": 9,
   "metadata": {},
   "outputs": [
    {
     "data": {
      "text/plain": [
       "evalBox (generic function with 1 method)"
      ]
     },
     "execution_count": 9,
     "metadata": {},
     "output_type": "execute_result"
    }
   ],
   "source": [
    "function evalBox(listOfModels)\n",
    "\ttheMin,theMax = box(listOfModels[1])\n",
    "\tfor theModel in listOfModels[2:end]\n",
    "\t\tmodelMin,modelMax= box(theModel)\n",
    "\t\tfor (k,val) in enumerate(modelMin)\n",
    "\t\t\tif val < theMin[k]\n",
    "\t\t\t\ttheMin[k]=val\n",
    "\t\t\tend\n",
    "\t\tend\n",
    "\t\tfor (k,val) in enumerate(modelMax)\n",
    "\t\t\tif val > theMax[k]\n",
    "\t\t\t\ttheMax[k]=val\n",
    "\t\t\tend\n",
    "\t\tend\n",
    "\tend\n",
    "\treturn theMin,theMax\n",
    "end"
   ]
  },
  {
   "cell_type": "code",
   "execution_count": 10,
   "metadata": {},
   "outputs": [
    {
     "data": {
      "text/plain": [
       "box (generic function with 1 method)"
      ]
     },
     "execution_count": 10,
     "metadata": {},
     "output_type": "execute_result"
    }
   ],
   "source": [
    "function box(model)\n",
    "\tif isa(model,Matrix)\n",
    "\t\treturn nothing\n",
    "\telseif isa(model,Lar.Struct)\n",
    "\t\tlistOfModels = Lar.evalStruct(model)\n",
    "\t\t#dim = checkStruct(listOfModels)\n",
    "\t\tif listOfModels == []\n",
    "\t\t\treturn model.box\n",
    "\t\telse\n",
    "\t\t\ttheMin,theMax = evalBox(listOfModels)\n",
    "\t\tend\n",
    "        \n",
    "\t\treturn [theMin,theMax]\n",
    "\n",
    "\telseif (isa(model,Tuple) || isa(model,Array)) && (length(model)>=2)\n",
    "\t\tV = model[1]\n",
    "\t\ttheMin = minimum(V, dims=2)\n",
    "\t\ttheMax = maximum(V, dims=2)\n",
    "\tend\n",
    "    \n",
    "\treturn [theMin,theMax]\n",
    "end"
   ]
  },
  {
   "cell_type": "code",
   "execution_count": 11,
   "metadata": {},
   "outputs": [
    {
     "name": "stdout",
     "output_type": "stream",
     "text": [
      "  5.933 μs (53 allocations: 2.72 KiB)\n"
     ]
    },
    {
     "data": {
      "text/plain": [
       "2-element Array{Array{Float64,2},1}:\n",
       " [0.0; 0.0]\n",
       " [1.0; 1.0]"
      ]
     },
     "execution_count": 11,
     "metadata": {},
     "output_type": "execute_result"
    }
   ],
   "source": [
    "@btime box(x)"
   ]
  },
  {
   "cell_type": "code",
   "execution_count": 12,
   "metadata": {},
   "outputs": [
    {
     "name": "stdout",
     "output_type": "stream",
     "text": [
      "  15.300 μs (116 allocations: 5.48 KiB)\n"
     ]
    },
    {
     "data": {
      "text/plain": [
       "2-element Array{Array{Float64,2},1}:\n",
       " [-0.5; -0.5]\n",
       " [0.5; 0.5]"
      ]
     },
     "execution_count": 12,
     "metadata": {},
     "output_type": "execute_result"
    }
   ],
   "source": [
    "@btime box(y)"
   ]
  },
  {
   "cell_type": "code",
   "execution_count": 13,
   "metadata": {},
   "outputs": [
    {
     "data": {
      "text/plain": [
       "BenchmarkTools.Trial: \n",
       "  memory estimate:  5.48 KiB\n",
       "  allocs estimate:  116\n",
       "  --------------\n",
       "  minimum time:     15.200 μs (0.00% GC)\n",
       "  median time:      17.101 μs (0.00% GC)\n",
       "  mean time:        22.729 μs (2.78% GC)\n",
       "  maximum time:     6.387 ms (98.78% GC)\n",
       "  --------------\n",
       "  samples:          10000\n",
       "  evals/sample:     1"
      ]
     },
     "execution_count": 13,
     "metadata": {},
     "output_type": "execute_result"
    }
   ],
   "source": [
    "@benchmark box(y)"
   ]
  },
  {
   "cell_type": "code",
   "execution_count": 14,
   "metadata": {},
   "outputs": [
    {
     "data": {
      "text/plain": [
       "CodeInfo(\n",
       "\u001b[90m1 ──\u001b[39m       goto #3 if not false\n",
       "\u001b[90m2 ──\u001b[39m       nothing\u001b[90m::Nothing\u001b[39m\n",
       "\u001b[90m3 ┄─\u001b[39m %3  = Base.getproperty(Main.Lar, :Struct)\u001b[36m::Any\u001b[39m\n",
       "\u001b[90m│   \u001b[39m %4  = (model isa %3)\u001b[36m::Bool\u001b[39m\n",
       "\u001b[90m└───\u001b[39m       goto #12 if not %4\n",
       "\u001b[90m4 ──\u001b[39m %6  = Base.getproperty(Main.Lar, :evalStruct)\u001b[36m::Any\u001b[39m\n",
       "\u001b[90m│   \u001b[39m %7  = (%6)(model)\u001b[36m::Any\u001b[39m\n",
       "\u001b[90m│   \u001b[39m %8  = $(Expr(:foreigncall, :(:jl_alloc_array_1d), Array{Any,1}, svec(Any, Int64), 0, :(:ccall), Array{Any,1}, 0, 0))\u001b[36m::Array{Any,1}\u001b[39m\n",
       "\u001b[90m│   \u001b[39m %9  = Main.:(==)\u001b[36m::Core.Compiler.Const(==, false)\u001b[39m\n",
       "\u001b[90m│   \u001b[39m %10 = (isa)(%7, WeakRef)\u001b[36m::Bool\u001b[39m\n",
       "\u001b[90m└───\u001b[39m       goto #6 if not %10\n",
       "\u001b[90m5 ──\u001b[39m %12 = π (%7, \u001b[36mWeakRef\u001b[39m)\n",
       "\u001b[90m│   \u001b[39m %13 = invoke %9(%12::WeakRef, %8::Array{Any,1})\u001b[36m::Union{Missing, Bool}\u001b[39m\n",
       "\u001b[90m└───\u001b[39m       goto #9\n",
       "\u001b[90m6 ──\u001b[39m %15 = (isa)(%7, Missing)\u001b[36m::Bool\u001b[39m\n",
       "\u001b[90m└───\u001b[39m       goto #8 if not %15\n",
       "\u001b[90m7 ──\u001b[39m       goto #9\n",
       "\u001b[90m8 ──\u001b[39m %18 = (%7 == %8)\u001b[36m::Union{Missing, Bool}\u001b[39m\n",
       "\u001b[90m└───\u001b[39m       goto #9\n",
       "\u001b[90m9 ┄─\u001b[39m %20 = φ (#5 => %13, #7 => $(QuoteNode(missing)), #8 => %18)\u001b[36m::Union{Missing, Bool}\u001b[39m\n",
       "\u001b[90m└───\u001b[39m       goto #11 if not %20\n",
       "\u001b[90m10 ─\u001b[39m %22 = Base.getfield(model, :box)\u001b[36m::Any\u001b[39m\n",
       "\u001b[90m└───\u001b[39m       return %22\n",
       "\u001b[90m11 ─\u001b[39m %24 = Main.evalBox(%7)\u001b[36m::Tuple{Any,Any}\u001b[39m\n",
       "\u001b[90m│   \u001b[39m %25 = Base.getfield(%24, 1)\u001b[36m::Any\u001b[39m\n",
       "\u001b[90m│   \u001b[39m %26 = Base.getfield(%24, 2)\u001b[36m::Any\u001b[39m\n",
       "\u001b[90m│   \u001b[39m %27 = Base.vect(%25, %26)\u001b[36m::Array{_A,1} where _A\u001b[39m\n",
       "\u001b[90m└───\u001b[39m       return %27\n",
       "\u001b[90m12 ─\u001b[39m       goto #14 if not false\n",
       "\u001b[90m13 ─\u001b[39m       nothing\u001b[90m::Nothing\u001b[39m\n",
       "\u001b[90m14 ┄\u001b[39m       goto #16 if not false\n",
       "\u001b[90m15 ─\u001b[39m       nothing\u001b[90m::Nothing\u001b[39m\n",
       "\u001b[90m16 ┄\u001b[39m %33 = π (false, \u001b[36mCore.Compiler.Const(false, false)\u001b[39m)\n",
       "\u001b[90m└───\u001b[39m       goto #18 if not %33\n",
       "\u001b[90m17 ─\u001b[39m       nothing\u001b[90m::Nothing\u001b[39m\n",
       "\u001b[90m18 ┄\u001b[39m       $(Expr(:throw_undef_if_not, :theMin, false))\u001b[90m::Any\u001b[39m\n",
       "\u001b[90m└───\u001b[39m       $(Expr(:unreachable))\u001b[90m::Union{}\u001b[39m\n",
       ") => Any"
      ]
     },
     "execution_count": 14,
     "metadata": {},
     "output_type": "execute_result"
    }
   ],
   "source": [
    "@code_typed box(y)"
   ]
  },
  {
   "cell_type": "code",
   "execution_count": 15,
   "metadata": {},
   "outputs": [
    {
     "name": "stdout",
     "output_type": "stream",
     "text": [
      "Variables\n",
      "  #self#\u001b[36m::Core.Compiler.Const(box, false)\u001b[39m\n",
      "  model\u001b[36m::LinearAlgebraicRepresentation.Struct\u001b[39m\n",
      "  @_3\u001b[36m::Int64\u001b[39m\n",
      "  listOfModels\u001b[91m\u001b[1m::Any\u001b[22m\u001b[39m\n",
      "  V\u001b[36m::Union{}\u001b[39m\n",
      "  theMin\u001b[91m\u001b[1m::Any\u001b[22m\u001b[39m\n",
      "  theMax\u001b[91m\u001b[1m::Any\u001b[22m\u001b[39m\n",
      "  @_8\u001b[36m::Bool\u001b[39m\n",
      "  @_9\u001b[36m::Bool\u001b[39m\n",
      "\n",
      "Body\u001b[91m\u001b[1m::Any\u001b[22m\u001b[39m\n",
      "\u001b[90m1 ──\u001b[39m       Core.NewvarNode(:(@_3))\n",
      "\u001b[90m│   \u001b[39m       Core.NewvarNode(:(listOfModels))\n",
      "\u001b[90m│   \u001b[39m       Core.NewvarNode(:(V))\n",
      "\u001b[90m│   \u001b[39m       Core.NewvarNode(:(theMin))\n",
      "\u001b[90m│   \u001b[39m       Core.NewvarNode(:(theMax))\n",
      "\u001b[90m│   \u001b[39m %6  = (model isa Main.Matrix)\u001b[36m::Core.Compiler.Const(false, false)\u001b[39m\n",
      "\u001b[90m└───\u001b[39m       goto #3 if not %6\n",
      "\u001b[90m2 ──\u001b[39m       Core.Compiler.Const(:(return Main.nothing), false)\n",
      "\u001b[90m3 ┄─\u001b[39m %9  = Base.getproperty(Main.Lar, :Struct)\u001b[91m\u001b[1m::Any\u001b[22m\u001b[39m\n",
      "\u001b[90m│   \u001b[39m %10 = (model isa %9)\u001b[36m::Bool\u001b[39m\n",
      "\u001b[90m└───\u001b[39m       goto #7 if not %10\n",
      "\u001b[90m4 ──\u001b[39m %12 = Base.getproperty(Main.Lar, :evalStruct)\u001b[91m\u001b[1m::Any\u001b[22m\u001b[39m\n",
      "\u001b[90m│   \u001b[39m       (listOfModels = (%12)(model))\n",
      "\u001b[90m│   \u001b[39m %14 = listOfModels\u001b[91m\u001b[1m::Any\u001b[22m\u001b[39m\n",
      "\u001b[90m│   \u001b[39m %15 = Base.vect()\u001b[36m::Array{Any,1}\u001b[39m\n",
      "\u001b[90m│   \u001b[39m %16 = (%14 == %15)\u001b[33m\u001b[1m::Union{Missing, Bool}\u001b[22m\u001b[39m\n",
      "\u001b[90m└───\u001b[39m       goto #6 if not %16\n",
      "\u001b[90m5 ──\u001b[39m %18 = Base.getproperty(model, :box)\u001b[91m\u001b[1m::Any\u001b[22m\u001b[39m\n",
      "\u001b[90m└───\u001b[39m       return %18\n",
      "\u001b[90m6 ──\u001b[39m %20 = Main.evalBox(listOfModels)\u001b[91m\u001b[1m::Tuple{Any,Any}\u001b[22m\u001b[39m\n",
      "\u001b[90m│   \u001b[39m %21 = Base.indexed_iterate(%20, 1)\u001b[36m::Core.Compiler.PartialStruct(Tuple{Any,Int64}, Any[Any, Core.Compiler.Const(2, false)])\u001b[39m\n",
      "\u001b[90m│   \u001b[39m       (theMin = Core.getfield(%21, 1))\n",
      "\u001b[90m│   \u001b[39m       (@_3 = Core.getfield(%21, 2))\n",
      "\u001b[90m│   \u001b[39m %24 = Base.indexed_iterate(%20, 2, @_3::Core.Compiler.Const(2, false))\u001b[36m::Core.Compiler.PartialStruct(Tuple{Any,Int64}, Any[Any, Core.Compiler.Const(3, false)])\u001b[39m\n",
      "\u001b[90m│   \u001b[39m       (theMax = Core.getfield(%24, 1))\n",
      "\u001b[90m│   \u001b[39m %26 = Base.vect(theMin, theMax)\u001b[91m\u001b[1m::Array{_A,1} where _A\u001b[22m\u001b[39m\n",
      "\u001b[90m└───\u001b[39m       return %26\n",
      "\u001b[90m7 ──\u001b[39m %28 = (model isa Main.Tuple)\u001b[36m::Core.Compiler.Const(false, false)\u001b[39m\n",
      "\u001b[90m└───\u001b[39m       goto #9 if not %28\n",
      "\u001b[90m8 ──\u001b[39m       Core.Compiler.Const(:(@_8 = %28), false)\n",
      "\u001b[90m└───\u001b[39m       Core.Compiler.Const(:(goto %33), false)\n",
      "\u001b[90m9 ┄─\u001b[39m       (@_8 = model isa Main.Array)\n",
      "\u001b[90m└───\u001b[39m       goto #11 if not @_8::Core.Compiler.Const(false, false)\n",
      "\u001b[90m10 ─\u001b[39m       Core.Compiler.Const(:(Main.length(model)), false)\n",
      "\u001b[90m│   \u001b[39m       Core.Compiler.Const(:(@_9 = %34 >= 2), false)\n",
      "\u001b[90m└───\u001b[39m       Core.Compiler.Const(:(goto %38), false)\n",
      "\u001b[90m11 ┄\u001b[39m       (@_9 = false)\n",
      "\u001b[90m└───\u001b[39m       goto #13 if not @_9::Core.Compiler.Const(false, false)\n",
      "\u001b[90m12 ─\u001b[39m       Core.Compiler.Const(:(V = Base.getindex(model, 1)), false)\n",
      "\u001b[90m│   \u001b[39m       Core.Compiler.Const((:dims,), false)\n",
      "\u001b[90m│   \u001b[39m       Core.Compiler.Const(:(Core.apply_type(Core.NamedTuple, %40)), false)\n",
      "\u001b[90m│   \u001b[39m       Core.Compiler.Const(:(Core.tuple(2)), false)\n",
      "\u001b[90m│   \u001b[39m       Core.Compiler.Const(:((%41)(%42)), false)\n",
      "\u001b[90m│   \u001b[39m       Core.Compiler.Const(:(Core.kwfunc(Main.minimum)), false)\n",
      "\u001b[90m│   \u001b[39m       Core.Compiler.Const(:(theMin = (%44)(%43, Main.minimum, V)), false)\n",
      "\u001b[90m│   \u001b[39m       Core.Compiler.Const((:dims,), false)\n",
      "\u001b[90m│   \u001b[39m       Core.Compiler.Const(:(Core.apply_type(Core.NamedTuple, %46)), false)\n",
      "\u001b[90m│   \u001b[39m       Core.Compiler.Const(:(Core.tuple(2)), false)\n",
      "\u001b[90m│   \u001b[39m       Core.Compiler.Const(:((%47)(%48)), false)\n",
      "\u001b[90m│   \u001b[39m       Core.Compiler.Const(:(Core.kwfunc(Main.maximum)), false)\n",
      "\u001b[90m└───\u001b[39m       Core.Compiler.Const(:(theMax = (%50)(%49, Main.maximum, V)), false)\n",
      "\u001b[90m13 ┄\u001b[39m       Base.vect(theMin::Union{}, theMax::Union{})\n",
      "\u001b[90m└───\u001b[39m       Core.Compiler.Const(:(return %52), false)\n"
     ]
    }
   ],
   "source": [
    "@code_warntype box(y)"
   ]
  },
  {
   "cell_type": "markdown",
   "metadata": {},
   "source": [
    "## Modifiche"
   ]
  },
  {
   "cell_type": "code",
   "execution_count": null,
   "metadata": {},
   "outputs": [],
   "source": []
  }
 ],
 "metadata": {
  "kernelspec": {
   "display_name": "Julia 1.5.3",
   "language": "julia",
   "name": "julia-1.5"
  },
  "language_info": {
   "file_extension": ".jl",
   "mimetype": "application/julia",
   "name": "julia",
   "version": "1.5.3"
  }
 },
 "nbformat": 4,
 "nbformat_minor": 4
}
