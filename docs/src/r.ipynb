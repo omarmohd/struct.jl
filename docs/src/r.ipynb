{
 "cells": [
  {
   "cell_type": "code",
   "execution_count": 12,
   "metadata": {},
   "outputs": [],
   "source": [
    "using BenchmarkTools\n",
    "using LinearAlgebra"
   ]
  },
  {
   "cell_type": "markdown",
   "metadata": {},
   "source": [
    "## Vecchia funzione"
   ]
  },
  {
   "cell_type": "code",
   "execution_count": 13,
   "metadata": {},
   "outputs": [
    {
     "data": {
      "text/plain": [
       "r (generic function with 1 method)"
      ]
     },
     "execution_count": 13,
     "metadata": {},
     "output_type": "execute_result"
    }
   ],
   "source": [
    "function r(args...)\n",
    "    args = collect(args)\n",
    "    n = length(args)\n",
    "    if n == 1 # rotation in 2D\n",
    "        angle = args[1]; COS = cos(angle); SIN = sin(angle)\n",
    "        mat = Matrix{Float64}(LinearAlgebra.I, 3, 3)\n",
    "        mat[1,1] = COS;    mat[1,2] = -SIN;\n",
    "        mat[2,1] = SIN;    mat[2,2] = COS;\n",
    "    end\n",
    "\n",
    "     if n == 3 # rotation in 3D\n",
    "        mat = Matrix{Float64}(LinearAlgebra.I, 4, 4)\n",
    "        angle = norm(args);\n",
    "        if norm(args) != 0.0\n",
    "\t\t\taxis = args #normalize(args)\n",
    "\t\t\tCOS = cos(angle); SIN= sin(angle)\n",
    "\t\t\tif axis[2]==axis[3]==0.0    # rotation about x\n",
    "\t\t\t\tmat[2,2] = COS;    mat[2,3] = -SIN;\n",
    "\t\t\t\tmat[3,2] = SIN;    mat[3,3] = COS;\n",
    "\t\t\telseif axis[1]==axis[3]==0.0   # rotation about y\n",
    "\t\t\t\tmat[1,1] = COS;    mat[1,3] = SIN;\n",
    "\t\t\t\tmat[3,1] = -SIN;    mat[3,3] = COS;\n",
    "\t\t\telseif axis[1]==axis[2]==0.0    # rotation about z\n",
    "\t\t\t\tmat[1,1] = COS;    mat[1,2] = -SIN;\n",
    "\t\t\t\tmat[2,1] = SIN;    mat[2,2] = COS;\n",
    "\t\t\telse\n",
    "\t\t\t\tI = Matrix{Float64}(LinearAlgebra.I, 3, 3); u = axis\n",
    "\t\t\t\tUx=[0 -u[3] u[2] ; u[3] 0 -u[1] ;  -u[2] u[1] 1]\n",
    "\t\t\t\tUU =[u[1]*u[1]    u[1]*u[2]   u[1]*u[3];\n",
    "\t\t\t\t\t u[2]*u[1]    u[2]*u[2]   u[2]*u[3];\n",
    "\t\t\t\t\t u[3]*u[1]    u[3]*u[2]   u[3]*u[3]]\n",
    "\t\t\t\tmat[1:3,1:3]=COS*I+SIN*Ux+(1.0-COS)*UU\n",
    "\t\t\tend\n",
    "\t\tend\n",
    "\tend\n",
    "\treturn mat\n",
    "end"
   ]
  },
  {
   "cell_type": "code",
   "execution_count": 14,
   "metadata": {},
   "outputs": [
    {
     "name": "stdout",
     "output_type": "stream",
     "text": [
      "  128.795 ns (2 allocations: 256 bytes)\n"
     ]
    },
    {
     "data": {
      "text/plain": [
       "3×3 Array{Float64,2}:\n",
       " 1.0  -0.0  0.0\n",
       " 0.0   1.0  0.0\n",
       " 0.0   0.0  1.0"
      ]
     },
     "execution_count": 14,
     "metadata": {},
     "output_type": "execute_result"
    }
   ],
   "source": [
    "@btime r(0)"
   ]
  },
  {
   "cell_type": "code",
   "execution_count": 15,
   "metadata": {},
   "outputs": [
    {
     "name": "stdout",
     "output_type": "stream",
     "text": [
      "  1.160 μs (9 allocations: 1.41 KiB)\n"
     ]
    },
    {
     "data": {
      "text/plain": [
       "4×4 Array{Float64,2}:\n",
       " 1.0      0.17353  2.14758  0.0\n",
       " 2.14758  1.0      0.17353  0.0\n",
       " 0.17353  2.14758  1.98703  0.0\n",
       " 0.0      0.0      0.0      1.0"
      ]
     },
     "execution_count": 15,
     "metadata": {},
     "output_type": "execute_result"
    }
   ],
   "source": [
    "@btime r(1,1,1)"
   ]
  },
  {
   "cell_type": "markdown",
   "metadata": {},
   "source": [
    "## Nuove funzioni"
   ]
  },
  {
   "cell_type": "code",
   "execution_count": 16,
   "metadata": {},
   "outputs": [
    {
     "data": {
      "text/plain": [
       "r2D (generic function with 1 method)"
      ]
     },
     "execution_count": 16,
     "metadata": {},
     "output_type": "execute_result"
    }
   ],
   "source": [
    "function r2D(args)\n",
    "\tangle = args[1]; COS = cos(angle); SIN = sin(angle)\n",
    "\tmat = Matrix{Float64}(LinearAlgebra.I, 3, 3)\n",
    "\tmat[1,1] = COS;    mat[1,2] = -SIN;\n",
    "\tmat[2,1] = SIN;    mat[2,2] = COS;\n",
    "\treturn mat\n",
    "end"
   ]
  },
  {
   "cell_type": "code",
   "execution_count": 17,
   "metadata": {},
   "outputs": [
    {
     "data": {
      "text/plain": [
       "rX (generic function with 1 method)"
      ]
     },
     "execution_count": 17,
     "metadata": {},
     "output_type": "execute_result"
    }
   ],
   "source": [
    "function rX(mat)\n",
    "\tmat[2,2] = COS;    mat[2,3] = -SIN;\n",
    "\tmat[3,2] = SIN;    mat[3,3] = COS;\n",
    "\treturn mat\n",
    "end"
   ]
  },
  {
   "cell_type": "code",
   "execution_count": 18,
   "metadata": {},
   "outputs": [
    {
     "data": {
      "text/plain": [
       "rY (generic function with 1 method)"
      ]
     },
     "execution_count": 18,
     "metadata": {},
     "output_type": "execute_result"
    }
   ],
   "source": [
    "function rY(mat)\n",
    "\tmat[1,1] = COS;    mat[1,3] = SIN;\n",
    "\tmat[3,1] = -SIN;    mat[3,3] = COS;\n",
    "\treturn mat\n",
    "end"
   ]
  },
  {
   "cell_type": "code",
   "execution_count": 19,
   "metadata": {},
   "outputs": [
    {
     "data": {
      "text/plain": [
       "rZ (generic function with 1 method)"
      ]
     },
     "execution_count": 19,
     "metadata": {},
     "output_type": "execute_result"
    }
   ],
   "source": [
    "function rZ(mat)\n",
    "\tmat[1,1] = COS;    mat[1,2] = -SIN;\n",
    "\tmat[2,1] = SIN;    mat[2,2] = COS;\n",
    "\treturn mat\n",
    "end"
   ]
  },
  {
   "cell_type": "code",
   "execution_count": 20,
   "metadata": {},
   "outputs": [
    {
     "data": {
      "text/plain": [
       "rAxis (generic function with 1 method)"
      ]
     },
     "execution_count": 20,
     "metadata": {},
     "output_type": "execute_result"
    }
   ],
   "source": [
    "function rAxis(mat, axis, COS, SIN)\n",
    "\tI = Matrix{Float64}(LinearAlgebra.I, 3, 3); u = axis\n",
    "\tUx=[0 -u[3] u[2] ; u[3] 0 -u[1] ;  -u[2] u[1] 1]\n",
    "\tUU =[u[1]*u[1]    u[1]*u[2]   u[1]*u[3];\n",
    "\t\t u[2]*u[1]    u[2]*u[2]   u[2]*u[3];\n",
    "\t\t u[3]*u[1]    u[3]*u[2]   u[3]*u[3]]\n",
    "\tmat[1:3,1:3]=COS*I+SIN*Ux+(1.0-COS)*UU\n",
    "\treturn mat\n",
    "end"
   ]
  },
  {
   "cell_type": "code",
   "execution_count": 21,
   "metadata": {},
   "outputs": [
    {
     "data": {
      "text/plain": [
       "r3D (generic function with 1 method)"
      ]
     },
     "execution_count": 21,
     "metadata": {},
     "output_type": "execute_result"
    }
   ],
   "source": [
    "function r3D(args)\n",
    "\tmat = Matrix{Float64}(LinearAlgebra.I, 4, 4)\n",
    "\tangle = norm(args);\n",
    "\tif angle != 0.0\n",
    "\t\t axis = args #normalize(args)\n",
    "\t\t COS = cos(angle); SIN= sin(angle)\n",
    "\t\t if axis[2]==axis[3]==0.0    # rotation about x\n",
    "\t\t\t mat = rX(mat)\n",
    "\t\t elseif axis[1]==axis[3]==0.0   # rotation about y\n",
    "\t\t\t mat = rY(mat)\n",
    "\t\t elseif axis[1]==axis[2]==0.0    # rotation about z\n",
    "\t\t\t mat = rZ(mat)\n",
    "\t\t else\n",
    "\t\t\t mat = rAxis(mat, axis, COS, SIN)\n",
    "\t\t end\n",
    "\t end\n",
    "\t return mat\n",
    "end"
   ]
  },
  {
   "cell_type": "code",
   "execution_count": 22,
   "metadata": {},
   "outputs": [
    {
     "data": {
      "text/plain": [
       "r (generic function with 1 method)"
      ]
     },
     "execution_count": 22,
     "metadata": {},
     "output_type": "execute_result"
    }
   ],
   "source": [
    "function r(args...)\n",
    "   args = collect(args)\n",
    "   n = length(args)\n",
    "\n",
    "   if n == 1 # rotation in 2D\n",
    "\t   mat = r2D(args)\n",
    "   end\n",
    "\n",
    "    if n == 3 # rotation in 3D\n",
    "       mat = r3D(args)\n",
    "\tend\n",
    "\treturn mat\n",
    "end"
   ]
  },
  {
   "cell_type": "code",
   "execution_count": 23,
   "metadata": {},
   "outputs": [
    {
     "name": "stdout",
     "output_type": "stream",
     "text": [
      "  187.407 ns (2 allocations: 256 bytes)\n"
     ]
    },
    {
     "data": {
      "text/plain": [
       "3×3 Array{Float64,2}:\n",
       " 1.0  -0.0  0.0\n",
       " 0.0   1.0  0.0\n",
       " 0.0   0.0  1.0"
      ]
     },
     "execution_count": 23,
     "metadata": {},
     "output_type": "execute_result"
    }
   ],
   "source": [
    "@btime r(0)"
   ]
  },
  {
   "cell_type": "code",
   "execution_count": 24,
   "metadata": {},
   "outputs": [
    {
     "name": "stdout",
     "output_type": "stream",
     "text": [
      "  1.210 μs (9 allocations: 1.41 KiB)\n"
     ]
    },
    {
     "data": {
      "text/plain": [
       "4×4 Array{Float64,2}:\n",
       " 1.0      0.17353  2.14758  0.0\n",
       " 2.14758  1.0      0.17353  0.0\n",
       " 0.17353  2.14758  1.98703  0.0\n",
       " 0.0      0.0      0.0      1.0"
      ]
     },
     "execution_count": 24,
     "metadata": {},
     "output_type": "execute_result"
    }
   ],
   "source": [
    "@btime r(1,1,1)"
   ]
  },
  {
   "cell_type": "code",
   "execution_count": 25,
   "metadata": {},
   "outputs": [
    {
     "data": {
      "text/plain": [
       "BenchmarkTools.Trial: \n",
       "  memory estimate:  1.41 KiB\n",
       "  allocs estimate:  9\n",
       "  --------------\n",
       "  minimum time:     1.160 μs (0.00% GC)\n",
       "  median time:      2.470 μs (0.00% GC)\n",
       "  mean time:        3.764 μs (1.22% GC)\n",
       "  maximum time:     1.293 ms (0.00% GC)\n",
       "  --------------\n",
       "  samples:          10000\n",
       "  evals/sample:     10"
      ]
     },
     "execution_count": 25,
     "metadata": {},
     "output_type": "execute_result"
    }
   ],
   "source": [
    "@benchmark r(1,1,1)"
   ]
  },
  {
   "cell_type": "code",
   "execution_count": 26,
   "metadata": {},
   "outputs": [
    {
     "name": "stdout",
     "output_type": "stream",
     "text": [
      "Variables\n",
      "  #self#\u001b[36m::Core.Compiler.Const(r, false)\u001b[39m\n",
      "  args@_2\u001b[36m::Tuple{Int64,Int64,Int64}\u001b[39m\n",
      "  n\u001b[36m::Int64\u001b[39m\n",
      "  mat\u001b[36m::Array{Float64,2}\u001b[39m\n",
      "  args@_5\u001b[91m\u001b[1m::Union{Tuple{Int64,Int64,Int64}, Array{Int64,1}}\u001b[22m\u001b[39m\n",
      "\n",
      "Body\u001b[36m::Array{Float64,2}\u001b[39m\n",
      "\u001b[90m1 ─\u001b[39m      (args@_5 = args@_2)\n",
      "\u001b[90m│  \u001b[39m      Core.NewvarNode(:(mat))\n",
      "\u001b[90m│  \u001b[39m      (args@_5 = Main.collect(args@_5::Tuple{Int64,Int64,Int64}))\n",
      "\u001b[90m│  \u001b[39m      (n = Main.length(args@_5::Array{Int64,1}))\n",
      "\u001b[90m│  \u001b[39m %5 = (n == 1)\u001b[36m::Bool\u001b[39m\n",
      "\u001b[90m└──\u001b[39m      goto #3 if not %5\n",
      "\u001b[90m2 ─\u001b[39m      (mat = Main.r2D(args@_5::Array{Int64,1}))\n",
      "\u001b[90m3 ┄\u001b[39m %8 = (n == 3)\u001b[36m::Bool\u001b[39m\n",
      "\u001b[90m└──\u001b[39m      goto #5 if not %8\n",
      "\u001b[90m4 ─\u001b[39m      (mat = Main.r3D(args@_5::Array{Int64,1}))\n",
      "\u001b[90m5 ┄\u001b[39m      return mat\n"
     ]
    }
   ],
   "source": [
    "@code_warntype r(1,1,1)"
   ]
  },
  {
   "cell_type": "markdown",
   "metadata": {},
   "source": [
    "## Modifiche"
   ]
  },
  {
   "cell_type": "code",
   "execution_count": null,
   "metadata": {},
   "outputs": [],
   "source": []
  }
 ],
 "metadata": {
  "kernelspec": {
   "display_name": "Julia 1.5.3",
   "language": "julia",
   "name": "julia-1.5"
  },
  "language_info": {
   "file_extension": ".jl",
   "mimetype": "application/julia",
   "name": "julia",
   "version": "1.5.3"
  }
 },
 "nbformat": 4,
 "nbformat_minor": 4
}
