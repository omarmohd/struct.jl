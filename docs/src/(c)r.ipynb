{
 "cells": [
  {
   "cell_type": "code",
   "execution_count": 4,
   "metadata": {},
   "outputs": [],
   "source": [
    "using BenchmarkTools\n",
    "using LinearAlgebra\n",
    "using StaticArrays"
   ]
  },
  {
   "cell_type": "markdown",
   "metadata": {},
   "source": [
    "## Vecchia funzione"
   ]
  },
  {
   "cell_type": "code",
   "execution_count": 43,
   "metadata": {},
   "outputs": [
    {
     "data": {
      "text/plain": [
       "r (generic function with 1 method)"
      ]
     },
     "execution_count": 43,
     "metadata": {},
     "output_type": "execute_result"
    }
   ],
   "source": [
    "function r(args...)\n",
    "    args = collect(args)\n",
    "    n = length(args)\n",
    "    if n == 1 # rotation in 2D\n",
    "        angle = args[1]; COS = cos(angle); SIN = sin(angle)\n",
    "        mat = Matrix{Float64}(LinearAlgebra.I, 3, 3)\n",
    "        mat[1,1] = COS;    mat[1,2] = -SIN;\n",
    "        mat[2,1] = SIN;    mat[2,2] = COS;\n",
    "    end\n",
    "\n",
    "     if n == 3 # rotation in 3D\n",
    "        mat = Matrix{Float64}(LinearAlgebra.I, 4, 4)\n",
    "        angle = norm(args);\n",
    "        if norm(args) != 0.0\n",
    "\t\t\taxis = args #normalize(args)\n",
    "\t\t\tCOS = cos(angle); SIN= sin(angle)\n",
    "\t\t\tif axis[2]==axis[3]==0.0    # rotation about x\n",
    "\t\t\t\tmat[2,2] = COS;    mat[2,3] = -SIN;\n",
    "\t\t\t\tmat[3,2] = SIN;    mat[3,3] = COS;\n",
    "\t\t\telseif axis[1]==axis[3]==0.0   # rotation about y\n",
    "\t\t\t\tmat[1,1] = COS;    mat[1,3] = SIN;\n",
    "\t\t\t\tmat[3,1] = -SIN;    mat[3,3] = COS;\n",
    "\t\t\telseif axis[1]==axis[2]==0.0    # rotation about z\n",
    "\t\t\t\tmat[1,1] = COS;    mat[1,2] = -SIN;\n",
    "\t\t\t\tmat[2,1] = SIN;    mat[2,2] = COS;\n",
    "\t\t\telse\n",
    "\t\t\t\tI = Matrix{Float64}(LinearAlgebra.I, 3, 3); u = axis\n",
    "\t\t\t\tUx=[0 -u[3] u[2] ; u[3] 0 -u[1] ;  -u[2] u[1] 1]\n",
    "\t\t\t\tUU =[u[1]*u[1]    u[1]*u[2]   u[1]*u[3];\n",
    "\t\t\t\t\t u[2]*u[1]    u[2]*u[2]   u[2]*u[3];\n",
    "\t\t\t\t\t u[3]*u[1]    u[3]*u[2]   u[3]*u[3]]\n",
    "\t\t\t\tmat[1:3,1:3]=COS*I+SIN*Ux+(1.0-COS)*UU\n",
    "\t\t\tend\n",
    "\t\tend\n",
    "\tend\n",
    "\treturn mat\n",
    "end"
   ]
  },
  {
   "cell_type": "code",
   "execution_count": 44,
   "metadata": {},
   "outputs": [
    {
     "name": "stdout",
     "output_type": "stream",
     "text": [
      "  131.988 ns (2 allocations: 256 bytes)\n"
     ]
    },
    {
     "data": {
      "text/plain": [
       "3×3 Array{Float64,2}:\n",
       " 1.0  -0.0  0.0\n",
       " 0.0   1.0  0.0\n",
       " 0.0   0.0  1.0"
      ]
     },
     "execution_count": 44,
     "metadata": {},
     "output_type": "execute_result"
    }
   ],
   "source": [
    "@btime r(0)"
   ]
  },
  {
   "cell_type": "code",
   "execution_count": 45,
   "metadata": {},
   "outputs": [
    {
     "name": "stdout",
     "output_type": "stream",
     "text": [
      "  834.556 ns (9 allocations: 1.41 KiB)\n"
     ]
    },
    {
     "data": {
      "text/plain": [
       "4×4 Array{Float64,2}:\n",
       " 1.0      0.17353  2.14758  0.0\n",
       " 2.14758  1.0      0.17353  0.0\n",
       " 0.17353  2.14758  1.98703  0.0\n",
       " 0.0      0.0      0.0      1.0"
      ]
     },
     "execution_count": 45,
     "metadata": {},
     "output_type": "execute_result"
    }
   ],
   "source": [
    "@btime r(1,1,1)"
   ]
  },
  {
   "cell_type": "code",
   "execution_count": null,
   "metadata": {},
   "outputs": [],
   "source": [
    "@benchmark r(1,1,1)"
   ]
  },
  {
   "cell_type": "markdown",
   "metadata": {},
   "source": [
    "## Nuove funzioni"
   ]
  },
  {
   "cell_type": "code",
   "execution_count": 46,
   "metadata": {},
   "outputs": [
    {
     "data": {
      "text/plain": [
       "r2D (generic function with 1 method)"
      ]
     },
     "execution_count": 46,
     "metadata": {},
     "output_type": "execute_result"
    }
   ],
   "source": [
    "function r2D(args)\n",
    "\tangle = args[1]; COS = cos(angle); SIN = sin(angle)\n",
    "\tmat = Matrix{Float64}(LinearAlgebra.I, 3, 3)\n",
    "\tmat[1,1] = COS;    mat[1,2] = -SIN;\n",
    "\tmat[2,1] = SIN;    mat[2,2] = COS;\n",
    "\treturn mat\n",
    "end"
   ]
  },
  {
   "cell_type": "code",
   "execution_count": 47,
   "metadata": {},
   "outputs": [
    {
     "data": {
      "text/plain": [
       "rX (generic function with 1 method)"
      ]
     },
     "execution_count": 47,
     "metadata": {},
     "output_type": "execute_result"
    }
   ],
   "source": [
    "function rX(mat,COS,SIN)\n",
    "\tmat[2,2] = COS;    mat[2,3] = -SIN;\n",
    "\tmat[3,2] = SIN;    mat[3,3] = COS;\n",
    "\treturn mat\n",
    "end"
   ]
  },
  {
   "cell_type": "code",
   "execution_count": 48,
   "metadata": {},
   "outputs": [
    {
     "data": {
      "text/plain": [
       "rY (generic function with 1 method)"
      ]
     },
     "execution_count": 48,
     "metadata": {},
     "output_type": "execute_result"
    }
   ],
   "source": [
    "function rY(mat,COS,SIN)\n",
    "\tmat[1,1] = COS;    mat[1,3] = SIN;\n",
    "\tmat[3,1] = -SIN;    mat[3,3] = COS;\n",
    "\treturn mat\n",
    "end"
   ]
  },
  {
   "cell_type": "code",
   "execution_count": 49,
   "metadata": {},
   "outputs": [
    {
     "data": {
      "text/plain": [
       "rZ (generic function with 1 method)"
      ]
     },
     "execution_count": 49,
     "metadata": {},
     "output_type": "execute_result"
    }
   ],
   "source": [
    "function rZ(mat,COS,SIN)\n",
    "\tmat[1,1] = COS;    mat[1,2] = -SIN;\n",
    "\tmat[2,1] = SIN;    mat[2,2] = COS;\n",
    "\treturn mat\n",
    "end"
   ]
  },
  {
   "cell_type": "code",
   "execution_count": 50,
   "metadata": {},
   "outputs": [
    {
     "data": {
      "text/plain": [
       "rAxis (generic function with 1 method)"
      ]
     },
     "execution_count": 50,
     "metadata": {},
     "output_type": "execute_result"
    }
   ],
   "source": [
    "function rAxis(mat,axis,COS,SIN)\n",
    "\tI = Matrix{Float64}(LinearAlgebra.I, 3, 3); u = axis\n",
    "\tUx=[0 -u[3] u[2] ; u[3] 0 -u[1] ;  -u[2] u[1] 1]\n",
    "\tUU =[u[1]*u[1]    u[1]*u[2]   u[1]*u[3];\n",
    "\t\t u[2]*u[1]    u[2]*u[2]   u[2]*u[3];\n",
    "\t\t u[3]*u[1]    u[3]*u[2]   u[3]*u[3]]\n",
    "\tmat[1:3,1:3]=COS*I+SIN*Ux+(1.0-COS)*UU\n",
    "\treturn mat\n",
    "end"
   ]
  },
  {
   "cell_type": "code",
   "execution_count": 51,
   "metadata": {},
   "outputs": [
    {
     "data": {
      "text/plain": [
       "r3D (generic function with 1 method)"
      ]
     },
     "execution_count": 51,
     "metadata": {},
     "output_type": "execute_result"
    }
   ],
   "source": [
    "function r3D(args)\n",
    "\tmat = Matrix{Float64}(LinearAlgebra.I, 4, 4)\n",
    "\tangle = norm(args);\n",
    "\tif angle != 0.0\n",
    "\t\t axis = args #normalize(args)\n",
    "\t\t COS = cos(angle); SIN= sin(angle)\n",
    "\t\t if axis[2]==axis[3]==0.0    # rotation about x\n",
    "\t\t\t mat = rX(mat,COS,SIN)\n",
    "\t\t elseif axis[1]==axis[3]==0.0   # rotation about y\n",
    "\t\t\t mat = rY(mat,COS,SIN)\n",
    "\t\t elseif axis[1]==axis[2]==0.0    # rotation about z\n",
    "\t\t\t mat = rZ(mat,COS,SIN)\n",
    "\t\t else\n",
    "\t\t\t mat = rAxis(mat,axis,COS,SIN)\n",
    "\t\t end\n",
    "\t end\n",
    "\t return mat\n",
    "end"
   ]
  },
  {
   "cell_type": "code",
   "execution_count": 52,
   "metadata": {},
   "outputs": [
    {
     "data": {
      "text/plain": [
       "r (generic function with 1 method)"
      ]
     },
     "execution_count": 52,
     "metadata": {},
     "output_type": "execute_result"
    }
   ],
   "source": [
    "function r(args...)\n",
    "   n = length(args)\n",
    "\n",
    "   if n == 1 # rotation in 2D\n",
    "\t   mat = r2D(args)\n",
    "   end\n",
    "\n",
    "    if n == 3 # rotation in 3D\n",
    "       mat = r3D(args)\n",
    "\tend\n",
    "\treturn mat\n",
    "end"
   ]
  },
  {
   "cell_type": "code",
   "execution_count": 53,
   "metadata": {},
   "outputs": [
    {
     "name": "stdout",
     "output_type": "stream",
     "text": [
      "  87.527 ns (1 allocation: 160 bytes)\n"
     ]
    },
    {
     "data": {
      "text/plain": [
       "3×3 Array{Float64,2}:\n",
       " 1.0  -0.0  0.0\n",
       " 0.0   1.0  0.0\n",
       " 0.0   0.0  1.0"
      ]
     },
     "execution_count": 53,
     "metadata": {},
     "output_type": "execute_result"
    }
   ],
   "source": [
    "@btime r(0)"
   ]
  },
  {
   "cell_type": "code",
   "execution_count": 54,
   "metadata": {},
   "outputs": [
    {
     "name": "stdout",
     "output_type": "stream",
     "text": [
      "  764.463 ns (8 allocations: 1.30 KiB)\n"
     ]
    },
    {
     "data": {
      "text/plain": [
       "4×4 Array{Float64,2}:\n",
       " 1.0      0.17353  2.14758  0.0\n",
       " 2.14758  1.0      0.17353  0.0\n",
       " 0.17353  2.14758  1.98703  0.0\n",
       " 0.0      0.0      0.0      1.0"
      ]
     },
     "execution_count": 54,
     "metadata": {},
     "output_type": "execute_result"
    }
   ],
   "source": [
    "@btime r(1,1,1)"
   ]
  },
  {
   "cell_type": "code",
   "execution_count": 55,
   "metadata": {},
   "outputs": [
    {
     "data": {
      "text/plain": [
       "BenchmarkTools.Trial: \n",
       "  memory estimate:  1.30 KiB\n",
       "  allocs estimate:  8\n",
       "  --------------\n",
       "  minimum time:     759.504 ns (0.00% GC)\n",
       "  median time:      784.298 ns (0.00% GC)\n",
       "  mean time:        980.480 ns (2.26% GC)\n",
       "  maximum time:     26.402 μs (0.00% GC)\n",
       "  --------------\n",
       "  samples:          10000\n",
       "  evals/sample:     121"
      ]
     },
     "execution_count": 55,
     "metadata": {},
     "output_type": "execute_result"
    }
   ],
   "source": [
    "@benchmark r(1,1,1)"
   ]
  },
  {
   "cell_type": "code",
   "execution_count": 56,
   "metadata": {},
   "outputs": [
    {
     "data": {
      "text/plain": [
       "CodeInfo(\n",
       "\u001b[90m1 ─\u001b[39m      goto #3 if not false\n",
       "\u001b[90m2 ─\u001b[39m      nothing\u001b[90m::Nothing\u001b[39m\n",
       "\u001b[90m3 ┄\u001b[39m      goto #5 if not true\n",
       "\u001b[90m4 ─\u001b[39m %4 = invoke Main.r3D(_2::Tuple{Int64,Int64,Int64})\u001b[36m::Array{Float64,2}\u001b[39m\n",
       "\u001b[90m5 ┄\u001b[39m %5 = φ (#4 => %4, #3 => #undef)\u001b[36m::Core.Compiler.MaybeUndef(Array{Float64,2})\u001b[39m\n",
       "\u001b[90m└──\u001b[39m      return %5\n",
       ") => Array{Float64,2}"
      ]
     },
     "execution_count": 56,
     "metadata": {},
     "output_type": "execute_result"
    }
   ],
   "source": [
    "@code_typed r(1,1,1)"
   ]
  },
  {
   "cell_type": "code",
   "execution_count": 57,
   "metadata": {},
   "outputs": [
    {
     "name": "stdout",
     "output_type": "stream",
     "text": [
      "Variables\n",
      "  #self#\u001b[36m::Core.Compiler.Const(r, false)\u001b[39m\n",
      "  args\u001b[36m::Tuple{Int64,Int64,Int64}\u001b[39m\n",
      "  n\u001b[36m::Int64\u001b[39m\n",
      "  mat\u001b[36m::Array{Float64,2}\u001b[39m\n",
      "\n",
      "Body\u001b[36m::Array{Float64,2}\u001b[39m\n",
      "\u001b[90m1 ─\u001b[39m      Core.NewvarNode(:(mat))\n",
      "\u001b[90m│  \u001b[39m      (n = Main.length(args))\n",
      "\u001b[90m│  \u001b[39m %3 = (n::Core.Compiler.Const(3, false) == 1)\u001b[36m::Core.Compiler.Const(false, false)\u001b[39m\n",
      "\u001b[90m└──\u001b[39m      goto #3 if not %3\n",
      "\u001b[90m2 ─\u001b[39m      Core.Compiler.Const(:(mat = Main.r2D(args)), false)\n",
      "\u001b[90m3 ┄\u001b[39m %6 = (n::Core.Compiler.Const(3, false) == 3)\u001b[36m::Core.Compiler.Const(true, false)\u001b[39m\n",
      "\u001b[90m└──\u001b[39m      goto #5 if not %6\n",
      "\u001b[90m4 ─\u001b[39m      (mat = Main.r3D(args))\n",
      "\u001b[90m5 ┄\u001b[39m      return mat\n"
     ]
    }
   ],
   "source": [
    "@code_warntype r(1,1,1)"
   ]
  },
  {
   "cell_type": "markdown",
   "metadata": {},
   "source": [
    "## Modifiche"
   ]
  },
  {
   "cell_type": "markdown",
   "metadata": {},
   "source": [
    "\"\"\"\\\n",
    "r2D(args::Array{Float64,1}...)::Matrix\\\n",
    "Genera e ritorna una matrice “mat” di trasformazione affine(di rotazione in 2D) in coordinate omogenee. Questa matrice ha dimensione uguale a 3 dato che la rotazione è effettuata in 2 dimensioni.\\\n",
    "\"\"\""
   ]
  },
  {
   "cell_type": "code",
   "execution_count": 7,
   "metadata": {},
   "outputs": [
    {
     "data": {
      "text/plain": [
       "r2D (generic function with 1 method)"
      ]
     },
     "execution_count": 7,
     "metadata": {},
     "output_type": "execute_result"
    }
   ],
   "source": [
    "@inline function r2D(args)\n",
    "\tangle = args[1]; COS = cos(angle); SIN = sin(angle)\n",
    "\tmat = Matrix{Float64}(LinearAlgebra.I, 3, 3)\n",
    "\tmat[1,1] = COS;    mat[1,2] = -SIN;\n",
    "\tmat[2,1] = SIN;    mat[2,2] = COS;\n",
    "\treturn mat\n",
    "end"
   ]
  },
  {
   "cell_type": "markdown",
   "metadata": {},
   "source": [
    "\"\"\"\\\n",
    "rX(mat::Matrix,COS,SIN)::Matrix\\\n",
    "Ritorna la matrice “mat” passata come parametro, \"ruotata\" rispetto all'asse delle ascisse secondo i parametri COS e SIN.\\\n",
    "\"\"\""
   ]
  },
  {
   "cell_type": "code",
   "execution_count": 8,
   "metadata": {},
   "outputs": [
    {
     "data": {
      "text/plain": [
       "rX (generic function with 1 method)"
      ]
     },
     "execution_count": 8,
     "metadata": {},
     "output_type": "execute_result"
    }
   ],
   "source": [
    "@inline function rX(mat,COS,SIN)\n",
    "\tmat[2,2] = COS;    mat[2,3] = -SIN;\n",
    "\tmat[3,2] = SIN;    mat[3,3] = COS;\n",
    "\treturn mat\n",
    "end"
   ]
  },
  {
   "cell_type": "markdown",
   "metadata": {},
   "source": [
    "\"\"\"\\\n",
    "rY(mat::Matrix,COS,SIN)::Matrix\\\n",
    "Ritorna la matrice “mat” passata come parametro, \"ruotata\" rispetto all'asse delle ordinate secondo i parametri COS e SIN.\\ \n",
    "\"\"\""
   ]
  },
  {
   "cell_type": "code",
   "execution_count": 9,
   "metadata": {},
   "outputs": [
    {
     "data": {
      "text/plain": [
       "rY (generic function with 1 method)"
      ]
     },
     "execution_count": 9,
     "metadata": {},
     "output_type": "execute_result"
    }
   ],
   "source": [
    "@inline function rY(mat,COS,SIN)\n",
    "\tmat[1,1] = COS;    mat[1,3] = SIN;\n",
    "\tmat[3,1] = -SIN;    mat[3,3] = COS;\n",
    "\treturn mat\n",
    "end"
   ]
  },
  {
   "cell_type": "markdown",
   "metadata": {},
   "source": [
    "\"\"\"\\\n",
    "rZ(mat::Matrix,COS,SIN)::Matrix\\\n",
    "Ritorna la matrice “mat” passata come parametro, \"ruotata\" rispetto all'asse delle quote secondo i parametri COS e SIN.\\\n",
    "\"\"\""
   ]
  },
  {
   "cell_type": "code",
   "execution_count": 10,
   "metadata": {},
   "outputs": [
    {
     "data": {
      "text/plain": [
       "rZ (generic function with 1 method)"
      ]
     },
     "execution_count": 10,
     "metadata": {},
     "output_type": "execute_result"
    }
   ],
   "source": [
    "@inline function rZ(mat,COS,SIN)\n",
    "\tmat[1,1] = COS;    mat[1,2] = -SIN;\n",
    "\tmat[2,1] = SIN;    mat[2,2] = COS;\n",
    "\treturn mat\n",
    "end"
   ]
  },
  {
   "cell_type": "markdown",
   "metadata": {},
   "source": [
    "\"\"\"\\\n",
    "rAxis(mat::Matrix,axis,COS,SIN)::Matrix\\\n",
    "Ritorna la matrice “mat” passata come parametro, \"ruotata\" rispetto all'asse axis, passato come parametro, secondo i parametri COS e SIN.\\ \n",
    "\"\"\""
   ]
  },
  {
   "cell_type": "code",
   "execution_count": 11,
   "metadata": {},
   "outputs": [
    {
     "data": {
      "text/plain": [
       "rAxis (generic function with 1 method)"
      ]
     },
     "execution_count": 11,
     "metadata": {},
     "output_type": "execute_result"
    }
   ],
   "source": [
    "@inline @fastmath function rAxis(mat,axis,COS,SIN)\n",
    "\ti = SMatrix{3,3,Float64}(1I)\n",
    "    u = axis\n",
    "\tUx = [0 -u[3] u[2] ; u[3] 0 -u[1] ;  -u[2] u[1] 1]\n",
    "\tUU =[u[1]*u[1]    u[1]*u[2]   u[1]*u[3];\n",
    "         u[2]*u[1]    u[2]*u[2]   u[2]*u[3];\n",
    "         u[3]*u[1]    u[3]*u[2]   u[3]*u[3]]\n",
    "\tmat[1:3,1:3]=COS*i+SIN*Ux+(1.0-COS)*UU\n",
    "\treturn mat\n",
    "end"
   ]
  },
  {
   "cell_type": "markdown",
   "metadata": {},
   "source": [
    "\"\"\"\\\n",
    "r3D(args::Array{Float64,1}...)::Matrix\\\n",
    "Genera e ritorna la matrice “mat” di trasformazione affine(di rotazione in 3D) in coordinate omogenee. Questa matrice ha dimensione uguale a 4 dato che la rotazione è effettuata in 3 dimensioni.\\\n",
    "\"\"\""
   ]
  },
  {
   "cell_type": "code",
   "execution_count": 12,
   "metadata": {},
   "outputs": [
    {
     "data": {
      "text/plain": [
       "r3D (generic function with 1 method)"
      ]
     },
     "execution_count": 12,
     "metadata": {},
     "output_type": "execute_result"
    }
   ],
   "source": [
    "@inline function r3D(args)\n",
    "\tmat = Matrix{Float64}(LinearAlgebra.I, 4, 4)\n",
    "\tangle = norm(args);\n",
    "\tif angle != 0.0\n",
    "\t\t axis = args #normalize(args)\n",
    "\t\t COS = cos(angle); SIN= sin(angle)\n",
    "\t\t if axis[2]==axis[3]==0.0    # rotation about x\n",
    "\t\t\t mat = rX(mat,COS,SIN)\n",
    "\t\t elseif axis[1]==axis[3]==0.0   # rotation about y\n",
    "\t\t\t mat = rY(mat,COS,SIN)\n",
    "\t\t elseif axis[1]==axis[2]==0.0    # rotation about z\n",
    "\t\t\t mat = rZ(mat,COS,SIN)\n",
    "\t\t else\n",
    "\t\t\t mat = rAxis(mat,axis,COS,SIN)\n",
    "\t\t end\n",
    "\t end\n",
    "\t return mat\n",
    "end"
   ]
  },
  {
   "cell_type": "code",
   "execution_count": 13,
   "metadata": {},
   "outputs": [
    {
     "data": {
      "text/plain": [
       "r (generic function with 1 method)"
      ]
     },
     "execution_count": 13,
     "metadata": {},
     "output_type": "execute_result"
    }
   ],
   "source": [
    "@inline function r(args...)\n",
    "   n = length(args)\n",
    "\n",
    "   if n == 1 # rotation in 2D\n",
    "\t   mat = r2D(args)\n",
    "   end\n",
    "\n",
    "    if n == 3 # rotation in 3D\n",
    "       mat = r3D(args)\n",
    "\tend\n",
    "\treturn mat\n",
    "end"
   ]
  },
  {
   "cell_type": "code",
   "execution_count": 29,
   "metadata": {},
   "outputs": [
    {
     "data": {
      "text/plain": [
       "CodeInfo(\n",
       "\u001b[90m1 ───\u001b[39m        goto #3 if not false\n",
       "\u001b[90m2 ───\u001b[39m        nothing\u001b[90m::Nothing\u001b[39m\n",
       "\u001b[90m3 ┄──\u001b[39m        goto #190 if not true\n",
       "\u001b[90m4 ───\u001b[39m %4   = %new(MArray{Tuple{4,4},Float64,2,16}, (1.0, 0.0, 0.0, 0.0, 0.0, 1.0, 0.0, 0.0, 0.0, 0.0, 1.0, 0.0, 0.0, 0.0, 0.0, 1.0))\u001b[36m::MArray{Tuple{4,4},Float64,2,16}\u001b[39m\n",
       "\u001b[90m│    \u001b[39m %5   = Main.norm\u001b[36m::typeof(norm)\u001b[39m\n",
       "\u001b[90m│    \u001b[39m %6   = invoke %5(_2::Tuple{Int64,Int64,Int64}, 2::Int64)\u001b[36m::Float64\u001b[39m\n",
       "\u001b[90m│    \u001b[39m %7   = Base.ne_float(%6, 0.0)\u001b[36m::Bool\u001b[39m\n",
       "\u001b[90m└────\u001b[39m        goto #188 if not %7\n",
       "\u001b[90m5 ───\u001b[39m %9   = invoke Main.cos(%6::Float64)\u001b[36m::Float64\u001b[39m\n",
       "\u001b[90m│    \u001b[39m %10  = invoke Main.sin(%6::Float64)\u001b[36m::Float64\u001b[39m\n",
       "\u001b[90m│    \u001b[39m %11  = Base.getfield(args, 3, true)\u001b[36m::Int64\u001b[39m\n",
       "\u001b[90m│    \u001b[39m %12  = Base.getfield(args, 2, true)\u001b[36m::Int64\u001b[39m\n",
       "\u001b[90m│    \u001b[39m %13  = (%12 === %11)\u001b[36m::Bool\u001b[39m\n",
       "\u001b[90m└────\u001b[39m        goto #7 if not %13\n",
       "\u001b[90m6 ───\u001b[39m %15  = Base.sitofp(Float64, %11)\u001b[36m::Float64\u001b[39m\n",
       "\u001b[90m│    \u001b[39m %16  = Base.eq_float(0.0, %15)\u001b[36m::Bool\u001b[39m\n",
       "\u001b[90m│    \u001b[39m %17  = Base.ne_float(%15, 9.223372036854776e18)\u001b[36m::Bool\u001b[39m\n",
       "\u001b[90m│    \u001b[39m %18  = Base.and_int(%16, %17)\u001b[36m::Bool\u001b[39m\n",
       "\u001b[90m│    \u001b[39m %19  = Base.fptosi(Int64, %15)\u001b[36m::Int64\u001b[39m\n",
       "\u001b[90m│    \u001b[39m %20  = (%11 === %19)\u001b[36m::Bool\u001b[39m\n",
       "\u001b[90m│    \u001b[39m %21  = Base.and_int(%18, %20)\u001b[36m::Bool\u001b[39m\n",
       "\u001b[90m└────\u001b[39m        goto #8\n",
       "\u001b[90m7 ───\u001b[39m        nothing\u001b[90m::Nothing\u001b[39m\n",
       "\u001b[90m8 ┄──\u001b[39m %24  = φ (#6 => %21, #7 => false)\u001b[36m::Bool\u001b[39m\n",
       "\u001b[90m└────\u001b[39m        goto #63 if not %24\n",
       "\u001b[90m9 ───\u001b[39m        goto #14 if not true\n",
       "\u001b[90m10 ──\u001b[39m %27  = Core.tuple(2, 2)\u001b[36m::Tuple{Int64,Int64}\u001b[39m\n",
       "\u001b[90m│    \u001b[39m %28  = Base.sle_int(1, 2)\u001b[36m::Bool\u001b[39m\n",
       "\u001b[90m│    \u001b[39m %29  = Base.sle_int(2, 4)\u001b[36m::Bool\u001b[39m\n",
       "\u001b[90m│    \u001b[39m %30  = Base.and_int(%28, %29)\u001b[36m::Bool\u001b[39m\n",
       "\u001b[90m│    \u001b[39m %31  = Base.sle_int(1, 2)\u001b[36m::Bool\u001b[39m\n",
       "\u001b[90m│    \u001b[39m %32  = Base.sle_int(2, 4)\u001b[36m::Bool\u001b[39m\n",
       "\u001b[90m│    \u001b[39m %33  = Base.and_int(%31, %32)\u001b[36m::Bool\u001b[39m\n",
       "\u001b[90m│    \u001b[39m %34  = Base.and_int(%33, true)\u001b[36m::Bool\u001b[39m\n",
       "\u001b[90m│    \u001b[39m %35  = Base.and_int(%30, %34)\u001b[36m::Bool\u001b[39m\n",
       "\u001b[90m└────\u001b[39m        goto #12 if not %35\n",
       "\u001b[90m11 ──\u001b[39m        goto #13\n",
       "\u001b[90m12 ──\u001b[39m        invoke Base.throw_boundserror(%4::MArray{Tuple{4,4},Float64,2,16}, %27::Tuple{Int64,Int64})\u001b[90m::Union{}\u001b[39m\n",
       "\u001b[90m└────\u001b[39m        $(Expr(:unreachable))\u001b[90m::Union{}\u001b[39m\n",
       "\u001b[90m13 ┄─\u001b[39m        nothing\u001b[90m::Nothing\u001b[39m\n",
       "\u001b[90m14 ┄─\u001b[39m %41  = Base.sub_int(2, 1)\u001b[36m::Int64\u001b[39m\n",
       "\u001b[90m│    \u001b[39m %42  = Base.mul_int(4, %41)\u001b[36m::Int64\u001b[39m\n",
       "\u001b[90m│    \u001b[39m %43  = Base.add_int(2, %42)\u001b[36m::Int64\u001b[39m\n",
       "\u001b[90m└────\u001b[39m        goto #19 if not true\n",
       "\u001b[90m15 ──\u001b[39m %45  = Core.tuple(%43)\u001b[36m::Tuple{Int64}\u001b[39m\n",
       "\u001b[90m│    \u001b[39m %46  = Base.sle_int(1, %43)\u001b[36m::Bool\u001b[39m\n",
       "\u001b[90m│    \u001b[39m %47  = Base.sle_int(%43, 16)\u001b[36m::Bool\u001b[39m\n",
       "\u001b[90m│    \u001b[39m %48  = Base.and_int(%46, %47)\u001b[36m::Bool\u001b[39m\n",
       "\u001b[90m└────\u001b[39m        goto #17 if not %48\n",
       "\u001b[90m16 ──\u001b[39m        goto #18\n",
       "\u001b[90m17 ──\u001b[39m        invoke Base.throw_boundserror(%4::MArray{Tuple{4,4},Float64,2,16}, %45::Tuple{Int64})\u001b[90m::Union{}\u001b[39m\n",
       "\u001b[90m└────\u001b[39m        $(Expr(:unreachable))\u001b[90m::Union{}\u001b[39m\n",
       "\u001b[90m18 ┄─\u001b[39m        nothing\u001b[90m::Nothing\u001b[39m\n",
       "\u001b[90m19 ┄─\u001b[39m %54  = $(Expr(:gc_preserve_begin, :(%4)))\n",
       "\u001b[90m│    \u001b[39m %55  = $(Expr(:foreigncall, :(:jl_value_ptr), Ptr{Nothing}, svec(Any), 0, :(:ccall), :(%4)))\u001b[36m::Ptr{Nothing}\u001b[39m\n",
       "\u001b[90m│    \u001b[39m %56  = Base.bitcast(Ptr{Float64}, %55)\u001b[36m::Ptr{Float64}\u001b[39m\n",
       "\u001b[90m│    \u001b[39m        Base.pointerset(%56, %9, %43, 1)\u001b[90m::Ptr{Float64}\u001b[39m\n",
       "\u001b[90m│    \u001b[39m        $(Expr(:gc_preserve_end, :(%54)))\n",
       "\u001b[90m└────\u001b[39m        goto #20\n",
       "\u001b[90m20 ──\u001b[39m        goto #21\n",
       "\u001b[90m21 ──\u001b[39m        goto #22\n",
       "\u001b[90m22 ──\u001b[39m %62  = Base.neg_float(%10)\u001b[36m::Float64\u001b[39m\n",
       "\u001b[90m└────\u001b[39m        goto #27 if not true\n",
       "\u001b[90m23 ──\u001b[39m %64  = Core.tuple(2, 3)\u001b[36m::Tuple{Int64,Int64}\u001b[39m\n",
       "\u001b[90m│    \u001b[39m %65  = Base.sle_int(1, 2)\u001b[36m::Bool\u001b[39m\n",
       "\u001b[90m│    \u001b[39m %66  = Base.sle_int(2, 4)\u001b[36m::Bool\u001b[39m\n",
       "\u001b[90m│    \u001b[39m %67  = Base.and_int(%65, %66)\u001b[36m::Bool\u001b[39m\n",
       "\u001b[90m│    \u001b[39m %68  = Base.sle_int(1, 3)\u001b[36m::Bool\u001b[39m\n",
       "\u001b[90m│    \u001b[39m %69  = Base.sle_int(3, 4)\u001b[36m::Bool\u001b[39m\n",
       "\u001b[90m│    \u001b[39m %70  = Base.and_int(%68, %69)\u001b[36m::Bool\u001b[39m\n",
       "\u001b[90m│    \u001b[39m %71  = Base.and_int(%70, true)\u001b[36m::Bool\u001b[39m\n",
       "\u001b[90m│    \u001b[39m %72  = Base.and_int(%67, %71)\u001b[36m::Bool\u001b[39m\n",
       "\u001b[90m└────\u001b[39m        goto #25 if not %72\n",
       "\u001b[90m24 ──\u001b[39m        goto #26\n",
       "\u001b[90m25 ──\u001b[39m        invoke Base.throw_boundserror(%4::MArray{Tuple{4,4},Float64,2,16}, %64::Tuple{Int64,Int64})\u001b[90m::Union{}\u001b[39m\n",
       "\u001b[90m└────\u001b[39m        $(Expr(:unreachable))\u001b[90m::Union{}\u001b[39m\n",
       "\u001b[90m26 ┄─\u001b[39m        nothing\u001b[90m::Nothing\u001b[39m\n",
       "\u001b[90m27 ┄─\u001b[39m %78  = Base.sub_int(3, 1)\u001b[36m::Int64\u001b[39m\n",
       "\u001b[90m│    \u001b[39m %79  = Base.mul_int(4, %78)\u001b[36m::Int64\u001b[39m\n",
       "\u001b[90m│    \u001b[39m %80  = Base.add_int(2, %79)\u001b[36m::Int64\u001b[39m\n",
       "\u001b[90m└────\u001b[39m        goto #32 if not true\n",
       "\u001b[90m28 ──\u001b[39m %82  = Core.tuple(%80)\u001b[36m::Tuple{Int64}\u001b[39m\n",
       "\u001b[90m│    \u001b[39m %83  = Base.sle_int(1, %80)\u001b[36m::Bool\u001b[39m\n",
       "\u001b[90m│    \u001b[39m %84  = Base.sle_int(%80, 16)\u001b[36m::Bool\u001b[39m\n",
       "\u001b[90m│    \u001b[39m %85  = Base.and_int(%83, %84)\u001b[36m::Bool\u001b[39m\n",
       "\u001b[90m└────\u001b[39m        goto #30 if not %85\n",
       "\u001b[90m29 ──\u001b[39m        goto #31\n",
       "\u001b[90m30 ──\u001b[39m        invoke Base.throw_boundserror(%4::MArray{Tuple{4,4},Float64,2,16}, %82::Tuple{Int64})\u001b[90m::Union{}\u001b[39m\n",
       "\u001b[90m└────\u001b[39m        $(Expr(:unreachable))\u001b[90m::Union{}\u001b[39m\n",
       "\u001b[90m31 ┄─\u001b[39m        nothing\u001b[90m::Nothing\u001b[39m\n",
       "\u001b[90m32 ┄─\u001b[39m %91  = $(Expr(:gc_preserve_begin, :(%4)))\n",
       "\u001b[90m│    \u001b[39m %92  = $(Expr(:foreigncall, :(:jl_value_ptr), Ptr{Nothing}, svec(Any), 0, :(:ccall), :(%4)))\u001b[36m::Ptr{Nothing}\u001b[39m\n",
       "\u001b[90m│    \u001b[39m %93  = Base.bitcast(Ptr{Float64}, %92)\u001b[36m::Ptr{Float64}\u001b[39m\n",
       "\u001b[90m│    \u001b[39m        Base.pointerset(%93, %62, %80, 1)\u001b[90m::Ptr{Float64}\u001b[39m\n",
       "\u001b[90m│    \u001b[39m        $(Expr(:gc_preserve_end, :(%91)))\n",
       "\u001b[90m└────\u001b[39m        goto #33\n",
       "\u001b[90m33 ──\u001b[39m        goto #34\n",
       "\u001b[90m34 ──\u001b[39m        goto #35\n",
       "\u001b[90m35 ──\u001b[39m        goto #40 if not true\n",
       "\u001b[90m36 ──\u001b[39m %100 = Core.tuple(3, 2)\u001b[36m::Tuple{Int64,Int64}\u001b[39m\n",
       "\u001b[90m│    \u001b[39m %101 = Base.sle_int(1, 3)\u001b[36m::Bool\u001b[39m\n",
       "\u001b[90m│    \u001b[39m %102 = Base.sle_int(3, 4)\u001b[36m::Bool\u001b[39m\n",
       "\u001b[90m│    \u001b[39m %103 = Base.and_int(%101, %102)\u001b[36m::Bool\u001b[39m\n",
       "\u001b[90m│    \u001b[39m %104 = Base.sle_int(1, 2)\u001b[36m::Bool\u001b[39m\n",
       "\u001b[90m│    \u001b[39m %105 = Base.sle_int(2, 4)\u001b[36m::Bool\u001b[39m\n",
       "\u001b[90m│    \u001b[39m %106 = Base.and_int(%104, %105)\u001b[36m::Bool\u001b[39m\n",
       "\u001b[90m│    \u001b[39m %107 = Base.and_int(%106, true)\u001b[36m::Bool\u001b[39m\n",
       "\u001b[90m│    \u001b[39m %108 = Base.and_int(%103, %107)\u001b[36m::Bool\u001b[39m\n",
       "\u001b[90m└────\u001b[39m        goto #38 if not %108\n",
       "\u001b[90m37 ──\u001b[39m        goto #39\n",
       "\u001b[90m38 ──\u001b[39m        invoke Base.throw_boundserror(%4::MArray{Tuple{4,4},Float64,2,16}, %100::Tuple{Int64,Int64})\u001b[90m::Union{}\u001b[39m\n",
       "\u001b[90m└────\u001b[39m        $(Expr(:unreachable))\u001b[90m::Union{}\u001b[39m\n",
       "\u001b[90m39 ┄─\u001b[39m        nothing\u001b[90m::Nothing\u001b[39m\n",
       "\u001b[90m40 ┄─\u001b[39m %114 = Base.sub_int(2, 1)\u001b[36m::Int64\u001b[39m\n",
       "\u001b[90m│    \u001b[39m %115 = Base.mul_int(4, %114)\u001b[36m::Int64\u001b[39m\n",
       "\u001b[90m│    \u001b[39m %116 = Base.add_int(3, %115)\u001b[36m::Int64\u001b[39m\n",
       "\u001b[90m└────\u001b[39m        goto #45 if not true\n",
       "\u001b[90m41 ──\u001b[39m %118 = Core.tuple(%116)\u001b[36m::Tuple{Int64}\u001b[39m\n",
       "\u001b[90m│    \u001b[39m %119 = Base.sle_int(1, %116)\u001b[36m::Bool\u001b[39m\n",
       "\u001b[90m│    \u001b[39m %120 = Base.sle_int(%116, 16)\u001b[36m::Bool\u001b[39m\n",
       "\u001b[90m│    \u001b[39m %121 = Base.and_int(%119, %120)\u001b[36m::Bool\u001b[39m\n",
       "\u001b[90m└────\u001b[39m        goto #43 if not %121\n",
       "\u001b[90m42 ──\u001b[39m        goto #44\n",
       "\u001b[90m43 ──\u001b[39m        invoke Base.throw_boundserror(%4::MArray{Tuple{4,4},Float64,2,16}, %118::Tuple{Int64})\u001b[90m::Union{}\u001b[39m\n",
       "\u001b[90m└────\u001b[39m        $(Expr(:unreachable))\u001b[90m::Union{}\u001b[39m\n",
       "\u001b[90m44 ┄─\u001b[39m        nothing\u001b[90m::Nothing\u001b[39m\n",
       "\u001b[90m45 ┄─\u001b[39m %127 = $(Expr(:gc_preserve_begin, :(%4)))\n",
       "\u001b[90m│    \u001b[39m %128 = $(Expr(:foreigncall, :(:jl_value_ptr), Ptr{Nothing}, svec(Any), 0, :(:ccall), :(%4)))\u001b[36m::Ptr{Nothing}\u001b[39m\n",
       "\u001b[90m│    \u001b[39m %129 = Base.bitcast(Ptr{Float64}, %128)\u001b[36m::Ptr{Float64}\u001b[39m\n",
       "\u001b[90m│    \u001b[39m        Base.pointerset(%129, %10, %116, 1)\u001b[90m::Ptr{Float64}\u001b[39m\n",
       "\u001b[90m│    \u001b[39m        $(Expr(:gc_preserve_end, :(%127)))\n",
       "\u001b[90m└────\u001b[39m        goto #46\n",
       "\u001b[90m46 ──\u001b[39m        goto #47\n",
       "\u001b[90m47 ──\u001b[39m        goto #48\n",
       "\u001b[90m48 ──\u001b[39m        goto #53 if not true\n",
       "\u001b[90m49 ──\u001b[39m %136 = Core.tuple(3, 3)\u001b[36m::Tuple{Int64,Int64}\u001b[39m\n",
       "\u001b[90m│    \u001b[39m %137 = Base.sle_int(1, 3)\u001b[36m::Bool\u001b[39m\n",
       "\u001b[90m│    \u001b[39m %138 = Base.sle_int(3, 4)\u001b[36m::Bool\u001b[39m\n",
       "\u001b[90m│    \u001b[39m %139 = Base.and_int(%137, %138)\u001b[36m::Bool\u001b[39m\n",
       "\u001b[90m│    \u001b[39m %140 = Base.sle_int(1, 3)\u001b[36m::Bool\u001b[39m\n",
       "\u001b[90m│    \u001b[39m %141 = Base.sle_int(3, 4)\u001b[36m::Bool\u001b[39m\n",
       "\u001b[90m│    \u001b[39m %142 = Base.and_int(%140, %141)\u001b[36m::Bool\u001b[39m\n",
       "\u001b[90m│    \u001b[39m %143 = Base.and_int(%142, true)\u001b[36m::Bool\u001b[39m\n",
       "\u001b[90m│    \u001b[39m %144 = Base.and_int(%139, %143)\u001b[36m::Bool\u001b[39m\n",
       "\u001b[90m└────\u001b[39m        goto #51 if not %144\n",
       "\u001b[90m50 ──\u001b[39m        goto #52\n",
       "\u001b[90m51 ──\u001b[39m        invoke Base.throw_boundserror(%4::MArray{Tuple{4,4},Float64,2,16}, %136::Tuple{Int64,Int64})\u001b[90m::Union{}\u001b[39m\n",
       "\u001b[90m└────\u001b[39m        $(Expr(:unreachable))\u001b[90m::Union{}\u001b[39m\n",
       "\u001b[90m52 ┄─\u001b[39m        nothing\u001b[90m::Nothing\u001b[39m\n",
       "\u001b[90m53 ┄─\u001b[39m %150 = Base.sub_int(3, 1)\u001b[36m::Int64\u001b[39m\n",
       "\u001b[90m│    \u001b[39m %151 = Base.mul_int(4, %150)\u001b[36m::Int64\u001b[39m\n",
       "\u001b[90m│    \u001b[39m %152 = Base.add_int(3, %151)\u001b[36m::Int64\u001b[39m\n",
       "\u001b[90m└────\u001b[39m        goto #58 if not true\n",
       "\u001b[90m54 ──\u001b[39m %154 = Core.tuple(%152)\u001b[36m::Tuple{Int64}\u001b[39m\n",
       "\u001b[90m│    \u001b[39m %155 = Base.sle_int(1, %152)\u001b[36m::Bool\u001b[39m\n",
       "\u001b[90m│    \u001b[39m %156 = Base.sle_int(%152, 16)\u001b[36m::Bool\u001b[39m\n",
       "\u001b[90m│    \u001b[39m %157 = Base.and_int(%155, %156)\u001b[36m::Bool\u001b[39m\n",
       "\u001b[90m└────\u001b[39m        goto #56 if not %157\n",
       "\u001b[90m55 ──\u001b[39m        goto #57\n",
       "\u001b[90m56 ──\u001b[39m        invoke Base.throw_boundserror(%4::MArray{Tuple{4,4},Float64,2,16}, %154::Tuple{Int64})\u001b[90m::Union{}\u001b[39m\n",
       "\u001b[90m└────\u001b[39m        $(Expr(:unreachable))\u001b[90m::Union{}\u001b[39m\n",
       "\u001b[90m57 ┄─\u001b[39m        nothing\u001b[90m::Nothing\u001b[39m\n",
       "\u001b[90m58 ┄─\u001b[39m %163 = $(Expr(:gc_preserve_begin, :(%4)))\n",
       "\u001b[90m│    \u001b[39m %164 = $(Expr(:foreigncall, :(:jl_value_ptr), Ptr{Nothing}, svec(Any), 0, :(:ccall), :(%4)))\u001b[36m::Ptr{Nothing}\u001b[39m\n",
       "\u001b[90m│    \u001b[39m %165 = Base.bitcast(Ptr{Float64}, %164)\u001b[36m::Ptr{Float64}\u001b[39m\n",
       "\u001b[90m│    \u001b[39m        Base.pointerset(%165, %9, %152, 1)\u001b[90m::Ptr{Float64}\u001b[39m\n",
       "\u001b[90m│    \u001b[39m        $(Expr(:gc_preserve_end, :(%163)))\n",
       "\u001b[90m└────\u001b[39m        goto #59\n",
       "\u001b[90m59 ──\u001b[39m        goto #60\n",
       "\u001b[90m60 ──\u001b[39m        goto #61\n",
       "\u001b[90m61 ──\u001b[39m        goto #62\n",
       "\u001b[90m62 ──\u001b[39m        goto #188\n",
       "\u001b[90m63 ──\u001b[39m %173 = Base.getfield(args, 3, true)\u001b[36m::Int64\u001b[39m\n",
       "\u001b[90m│    \u001b[39m %174 = Base.getfield(args, 1, true)\u001b[36m::Int64\u001b[39m\n",
       "\u001b[90m│    \u001b[39m %175 = (%174 === %173)\u001b[36m::Bool\u001b[39m\n",
       "\u001b[90m└────\u001b[39m        goto #65 if not %175\n",
       "\u001b[90m64 ──\u001b[39m %177 = Base.sitofp(Float64, %173)\u001b[36m::Float64\u001b[39m\n",
       "\u001b[90m│    \u001b[39m %178 = Base.eq_float(0.0, %177)\u001b[36m::Bool\u001b[39m\n",
       "\u001b[90m│    \u001b[39m %179 = Base.ne_float(%177, 9.223372036854776e18)\u001b[36m::Bool\u001b[39m\n",
       "\u001b[90m│    \u001b[39m %180 = Base.and_int(%178, %179)\u001b[36m::Bool\u001b[39m\n",
       "\u001b[90m│    \u001b[39m %181 = Base.fptosi(Int64, %177)\u001b[36m::Int64\u001b[39m\n",
       "\u001b[90m│    \u001b[39m %182 = (%173 === %181)\u001b[36m::Bool\u001b[39m\n",
       "\u001b[90m│    \u001b[39m %183 = Base.and_int(%180, %182)\u001b[36m::Bool\u001b[39m\n",
       "\u001b[90m└────\u001b[39m        goto #66\n",
       "\u001b[90m65 ──\u001b[39m        nothing\u001b[90m::Nothing\u001b[39m\n",
       "\u001b[90m66 ┄─\u001b[39m %186 = φ (#64 => %183, #65 => false)\u001b[36m::Bool\u001b[39m\n",
       "\u001b[90m└────\u001b[39m        goto #121 if not %186\n",
       "\u001b[90m67 ──\u001b[39m        goto #72 if not true\n",
       "\u001b[90m68 ──\u001b[39m %189 = Core.tuple(1, 1)\u001b[36m::Tuple{Int64,Int64}\u001b[39m\n",
       "\u001b[90m│    \u001b[39m %190 = Base.sle_int(1, 1)\u001b[36m::Bool\u001b[39m\n",
       "\u001b[90m│    \u001b[39m %191 = Base.sle_int(1, 4)\u001b[36m::Bool\u001b[39m\n",
       "\u001b[90m│    \u001b[39m %192 = Base.and_int(%190, %191)\u001b[36m::Bool\u001b[39m\n",
       "\u001b[90m│    \u001b[39m %193 = Base.sle_int(1, 1)\u001b[36m::Bool\u001b[39m\n",
       "\u001b[90m│    \u001b[39m %194 = Base.sle_int(1, 4)\u001b[36m::Bool\u001b[39m\n",
       "\u001b[90m│    \u001b[39m %195 = Base.and_int(%193, %194)\u001b[36m::Bool\u001b[39m\n",
       "\u001b[90m│    \u001b[39m %196 = Base.and_int(%195, true)\u001b[36m::Bool\u001b[39m\n",
       "\u001b[90m│    \u001b[39m %197 = Base.and_int(%192, %196)\u001b[36m::Bool\u001b[39m\n",
       "\u001b[90m└────\u001b[39m        goto #70 if not %197\n",
       "\u001b[90m69 ──\u001b[39m        goto #71\n",
       "\u001b[90m70 ──\u001b[39m        invoke Base.throw_boundserror(%4::MArray{Tuple{4,4},Float64,2,16}, %189::Tuple{Int64,Int64})\u001b[90m::Union{}\u001b[39m\n",
       "\u001b[90m└────\u001b[39m        $(Expr(:unreachable))\u001b[90m::Union{}\u001b[39m\n",
       "\u001b[90m71 ┄─\u001b[39m        nothing\u001b[90m::Nothing\u001b[39m\n",
       "\u001b[90m72 ┄─\u001b[39m %203 = Base.sub_int(1, 1)\u001b[36m::Int64\u001b[39m\n",
       "\u001b[90m│    \u001b[39m %204 = Base.mul_int(4, %203)\u001b[36m::Int64\u001b[39m\n",
       "\u001b[90m│    \u001b[39m %205 = Base.add_int(1, %204)\u001b[36m::Int64\u001b[39m\n",
       "\u001b[90m└────\u001b[39m        goto #77 if not true\n",
       "\u001b[90m73 ──\u001b[39m %207 = Core.tuple(%205)\u001b[36m::Tuple{Int64}\u001b[39m\n",
       "\u001b[90m│    \u001b[39m %208 = Base.sle_int(1, %205)\u001b[36m::Bool\u001b[39m\n",
       "\u001b[90m│    \u001b[39m %209 = Base.sle_int(%205, 16)\u001b[36m::Bool\u001b[39m\n",
       "\u001b[90m│    \u001b[39m %210 = Base.and_int(%208, %209)\u001b[36m::Bool\u001b[39m\n",
       "\u001b[90m└────\u001b[39m        goto #75 if not %210\n",
       "\u001b[90m74 ──\u001b[39m        goto #76\n",
       "\u001b[90m75 ──\u001b[39m        invoke Base.throw_boundserror(%4::MArray{Tuple{4,4},Float64,2,16}, %207::Tuple{Int64})\u001b[90m::Union{}\u001b[39m\n",
       "\u001b[90m└────\u001b[39m        $(Expr(:unreachable))\u001b[90m::Union{}\u001b[39m\n",
       "\u001b[90m76 ┄─\u001b[39m        nothing\u001b[90m::Nothing\u001b[39m\n",
       "\u001b[90m77 ┄─\u001b[39m %216 = $(Expr(:gc_preserve_begin, :(%4)))\n",
       "\u001b[90m│    \u001b[39m %217 = $(Expr(:foreigncall, :(:jl_value_ptr), Ptr{Nothing}, svec(Any), 0, :(:ccall), :(%4)))\u001b[36m::Ptr{Nothing}\u001b[39m\n",
       "\u001b[90m│    \u001b[39m %218 = Base.bitcast(Ptr{Float64}, %217)\u001b[36m::Ptr{Float64}\u001b[39m\n",
       "\u001b[90m│    \u001b[39m        Base.pointerset(%218, %9, %205, 1)\u001b[90m::Ptr{Float64}\u001b[39m\n",
       "\u001b[90m│    \u001b[39m        $(Expr(:gc_preserve_end, :(%216)))\n",
       "\u001b[90m└────\u001b[39m        goto #78\n",
       "\u001b[90m78 ──\u001b[39m        goto #79\n",
       "\u001b[90m79 ──\u001b[39m        goto #80\n",
       "\u001b[90m80 ──\u001b[39m        goto #85 if not true\n",
       "\u001b[90m81 ──\u001b[39m %225 = Core.tuple(1, 3)\u001b[36m::Tuple{Int64,Int64}\u001b[39m\n",
       "\u001b[90m│    \u001b[39m %226 = Base.sle_int(1, 1)\u001b[36m::Bool\u001b[39m\n",
       "\u001b[90m│    \u001b[39m %227 = Base.sle_int(1, 4)\u001b[36m::Bool\u001b[39m\n",
       "\u001b[90m│    \u001b[39m %228 = Base.and_int(%226, %227)\u001b[36m::Bool\u001b[39m\n",
       "\u001b[90m│    \u001b[39m %229 = Base.sle_int(1, 3)\u001b[36m::Bool\u001b[39m\n",
       "\u001b[90m│    \u001b[39m %230 = Base.sle_int(3, 4)\u001b[36m::Bool\u001b[39m\n",
       "\u001b[90m│    \u001b[39m %231 = Base.and_int(%229, %230)\u001b[36m::Bool\u001b[39m\n",
       "\u001b[90m│    \u001b[39m %232 = Base.and_int(%231, true)\u001b[36m::Bool\u001b[39m\n",
       "\u001b[90m│    \u001b[39m %233 = Base.and_int(%228, %232)\u001b[36m::Bool\u001b[39m\n",
       "\u001b[90m└────\u001b[39m        goto #83 if not %233\n",
       "\u001b[90m82 ──\u001b[39m        goto #84\n",
       "\u001b[90m83 ──\u001b[39m        invoke Base.throw_boundserror(%4::MArray{Tuple{4,4},Float64,2,16}, %225::Tuple{Int64,Int64})\u001b[90m::Union{}\u001b[39m\n",
       "\u001b[90m└────\u001b[39m        $(Expr(:unreachable))\u001b[90m::Union{}\u001b[39m\n",
       "\u001b[90m84 ┄─\u001b[39m        nothing\u001b[90m::Nothing\u001b[39m\n",
       "\u001b[90m85 ┄─\u001b[39m %239 = Base.sub_int(3, 1)\u001b[36m::Int64\u001b[39m\n",
       "\u001b[90m│    \u001b[39m %240 = Base.mul_int(4, %239)\u001b[36m::Int64\u001b[39m\n",
       "\u001b[90m│    \u001b[39m %241 = Base.add_int(1, %240)\u001b[36m::Int64\u001b[39m\n",
       "\u001b[90m└────\u001b[39m        goto #90 if not true\n",
       "\u001b[90m86 ──\u001b[39m %243 = Core.tuple(%241)\u001b[36m::Tuple{Int64}\u001b[39m\n",
       "\u001b[90m│    \u001b[39m %244 = Base.sle_int(1, %241)\u001b[36m::Bool\u001b[39m\n",
       "\u001b[90m│    \u001b[39m %245 = Base.sle_int(%241, 16)\u001b[36m::Bool\u001b[39m\n",
       "\u001b[90m│    \u001b[39m %246 = Base.and_int(%244, %245)\u001b[36m::Bool\u001b[39m\n",
       "\u001b[90m└────\u001b[39m        goto #88 if not %246\n",
       "\u001b[90m87 ──\u001b[39m        goto #89\n",
       "\u001b[90m88 ──\u001b[39m        invoke Base.throw_boundserror(%4::MArray{Tuple{4,4},Float64,2,16}, %243::Tuple{Int64})\u001b[90m::Union{}\u001b[39m\n",
       "\u001b[90m└────\u001b[39m        $(Expr(:unreachable))\u001b[90m::Union{}\u001b[39m\n",
       "\u001b[90m89 ┄─\u001b[39m        nothing\u001b[90m::Nothing\u001b[39m\n",
       "\u001b[90m90 ┄─\u001b[39m %252 = $(Expr(:gc_preserve_begin, :(%4)))\n",
       "\u001b[90m│    \u001b[39m %253 = $(Expr(:foreigncall, :(:jl_value_ptr), Ptr{Nothing}, svec(Any), 0, :(:ccall), :(%4)))\u001b[36m::Ptr{Nothing}\u001b[39m\n",
       "\u001b[90m│    \u001b[39m %254 = Base.bitcast(Ptr{Float64}, %253)\u001b[36m::Ptr{Float64}\u001b[39m\n",
       "\u001b[90m│    \u001b[39m        Base.pointerset(%254, %10, %241, 1)\u001b[90m::Ptr{Float64}\u001b[39m\n",
       "\u001b[90m│    \u001b[39m        $(Expr(:gc_preserve_end, :(%252)))\n",
       "\u001b[90m└────\u001b[39m        goto #91\n",
       "\u001b[90m91 ──\u001b[39m        goto #92\n",
       "\u001b[90m92 ──\u001b[39m        goto #93\n",
       "\u001b[90m93 ──\u001b[39m %260 = Base.neg_float(%10)\u001b[36m::Float64\u001b[39m\n",
       "\u001b[90m└────\u001b[39m        goto #98 if not true\n",
       "\u001b[90m94 ──\u001b[39m %262 = Core.tuple(3, 1)\u001b[36m::Tuple{Int64,Int64}\u001b[39m\n",
       "\u001b[90m│    \u001b[39m %263 = Base.sle_int(1, 3)\u001b[36m::Bool\u001b[39m\n",
       "\u001b[90m│    \u001b[39m %264 = Base.sle_int(3, 4)\u001b[36m::Bool\u001b[39m\n",
       "\u001b[90m│    \u001b[39m %265 = Base.and_int(%263, %264)\u001b[36m::Bool\u001b[39m\n",
       "\u001b[90m│    \u001b[39m %266 = Base.sle_int(1, 1)\u001b[36m::Bool\u001b[39m\n",
       "\u001b[90m│    \u001b[39m %267 = Base.sle_int(1, 4)\u001b[36m::Bool\u001b[39m\n",
       "\u001b[90m│    \u001b[39m %268 = Base.and_int(%266, %267)\u001b[36m::Bool\u001b[39m\n",
       "\u001b[90m│    \u001b[39m %269 = Base.and_int(%268, true)\u001b[36m::Bool\u001b[39m\n",
       "\u001b[90m│    \u001b[39m %270 = Base.and_int(%265, %269)\u001b[36m::Bool\u001b[39m\n",
       "\u001b[90m└────\u001b[39m        goto #96 if not %270\n",
       "\u001b[90m95 ──\u001b[39m        goto #97\n",
       "\u001b[90m96 ──\u001b[39m        invoke Base.throw_boundserror(%4::MArray{Tuple{4,4},Float64,2,16}, %262::Tuple{Int64,Int64})\u001b[90m::Union{}\u001b[39m\n",
       "\u001b[90m└────\u001b[39m        $(Expr(:unreachable))\u001b[90m::Union{}\u001b[39m\n",
       "\u001b[90m97 ┄─\u001b[39m        nothing\u001b[90m::Nothing\u001b[39m\n",
       "\u001b[90m98 ┄─\u001b[39m %276 = Base.sub_int(1, 1)\u001b[36m::Int64\u001b[39m\n",
       "\u001b[90m│    \u001b[39m %277 = Base.mul_int(4, %276)\u001b[36m::Int64\u001b[39m\n",
       "\u001b[90m│    \u001b[39m %278 = Base.add_int(3, %277)\u001b[36m::Int64\u001b[39m\n",
       "\u001b[90m└────\u001b[39m        goto #103 if not true\n",
       "\u001b[90m99 ──\u001b[39m %280 = Core.tuple(%278)\u001b[36m::Tuple{Int64}\u001b[39m\n",
       "\u001b[90m│    \u001b[39m %281 = Base.sle_int(1, %278)\u001b[36m::Bool\u001b[39m\n",
       "\u001b[90m│    \u001b[39m %282 = Base.sle_int(%278, 16)\u001b[36m::Bool\u001b[39m\n",
       "\u001b[90m│    \u001b[39m %283 = Base.and_int(%281, %282)\u001b[36m::Bool\u001b[39m\n",
       "\u001b[90m└────\u001b[39m        goto #101 if not %283\n",
       "\u001b[90m100 ─\u001b[39m        goto #102\n",
       "\u001b[90m101 ─\u001b[39m        invoke Base.throw_boundserror(%4::MArray{Tuple{4,4},Float64,2,16}, %280::Tuple{Int64})\u001b[90m::Union{}\u001b[39m\n",
       "\u001b[90m└────\u001b[39m        $(Expr(:unreachable))\u001b[90m::Union{}\u001b[39m\n",
       "\u001b[90m102 ┄\u001b[39m        nothing\u001b[90m::Nothing\u001b[39m\n",
       "\u001b[90m103 ┄\u001b[39m %289 = $(Expr(:gc_preserve_begin, :(%4)))\n",
       "\u001b[90m│    \u001b[39m %290 = $(Expr(:foreigncall, :(:jl_value_ptr), Ptr{Nothing}, svec(Any), 0, :(:ccall), :(%4)))\u001b[36m::Ptr{Nothing}\u001b[39m\n",
       "\u001b[90m│    \u001b[39m %291 = Base.bitcast(Ptr{Float64}, %290)\u001b[36m::Ptr{Float64}\u001b[39m\n",
       "\u001b[90m│    \u001b[39m        Base.pointerset(%291, %260, %278, 1)\u001b[90m::Ptr{Float64}\u001b[39m\n",
       "\u001b[90m│    \u001b[39m        $(Expr(:gc_preserve_end, :(%289)))\n",
       "\u001b[90m└────\u001b[39m        goto #104\n",
       "\u001b[90m104 ─\u001b[39m        goto #105\n",
       "\u001b[90m105 ─\u001b[39m        goto #106\n",
       "\u001b[90m106 ─\u001b[39m        goto #111 if not true\n",
       "\u001b[90m107 ─\u001b[39m %298 = Core.tuple(3, 3)\u001b[36m::Tuple{Int64,Int64}\u001b[39m\n",
       "\u001b[90m│    \u001b[39m %299 = Base.sle_int(1, 3)\u001b[36m::Bool\u001b[39m\n",
       "\u001b[90m│    \u001b[39m %300 = Base.sle_int(3, 4)\u001b[36m::Bool\u001b[39m\n",
       "\u001b[90m│    \u001b[39m %301 = Base.and_int(%299, %300)\u001b[36m::Bool\u001b[39m\n",
       "\u001b[90m│    \u001b[39m %302 = Base.sle_int(1, 3)\u001b[36m::Bool\u001b[39m\n",
       "\u001b[90m│    \u001b[39m %303 = Base.sle_int(3, 4)\u001b[36m::Bool\u001b[39m\n",
       "\u001b[90m│    \u001b[39m %304 = Base.and_int(%302, %303)\u001b[36m::Bool\u001b[39m\n",
       "\u001b[90m│    \u001b[39m %305 = Base.and_int(%304, true)\u001b[36m::Bool\u001b[39m\n",
       "\u001b[90m│    \u001b[39m %306 = Base.and_int(%301, %305)\u001b[36m::Bool\u001b[39m\n",
       "\u001b[90m└────\u001b[39m        goto #109 if not %306\n",
       "\u001b[90m108 ─\u001b[39m        goto #110\n",
       "\u001b[90m109 ─\u001b[39m        invoke Base.throw_boundserror(%4::MArray{Tuple{4,4},Float64,2,16}, %298::Tuple{Int64,Int64})\u001b[90m::Union{}\u001b[39m\n",
       "\u001b[90m└────\u001b[39m        $(Expr(:unreachable))\u001b[90m::Union{}\u001b[39m\n",
       "\u001b[90m110 ┄\u001b[39m        nothing\u001b[90m::Nothing\u001b[39m\n",
       "\u001b[90m111 ┄\u001b[39m %312 = Base.sub_int(3, 1)\u001b[36m::Int64\u001b[39m\n",
       "\u001b[90m│    \u001b[39m %313 = Base.mul_int(4, %312)\u001b[36m::Int64\u001b[39m\n",
       "\u001b[90m│    \u001b[39m %314 = Base.add_int(3, %313)\u001b[36m::Int64\u001b[39m\n",
       "\u001b[90m└────\u001b[39m        goto #116 if not true\n",
       "\u001b[90m112 ─\u001b[39m %316 = Core.tuple(%314)\u001b[36m::Tuple{Int64}\u001b[39m\n",
       "\u001b[90m│    \u001b[39m %317 = Base.sle_int(1, %314)\u001b[36m::Bool\u001b[39m\n",
       "\u001b[90m│    \u001b[39m %318 = Base.sle_int(%314, 16)\u001b[36m::Bool\u001b[39m\n",
       "\u001b[90m│    \u001b[39m %319 = Base.and_int(%317, %318)\u001b[36m::Bool\u001b[39m\n",
       "\u001b[90m└────\u001b[39m        goto #114 if not %319\n",
       "\u001b[90m113 ─\u001b[39m        goto #115\n",
       "\u001b[90m114 ─\u001b[39m        invoke Base.throw_boundserror(%4::MArray{Tuple{4,4},Float64,2,16}, %316::Tuple{Int64})\u001b[90m::Union{}\u001b[39m\n",
       "\u001b[90m└────\u001b[39m        $(Expr(:unreachable))\u001b[90m::Union{}\u001b[39m\n",
       "\u001b[90m115 ┄\u001b[39m        nothing\u001b[90m::Nothing\u001b[39m\n",
       "\u001b[90m116 ┄\u001b[39m %325 = $(Expr(:gc_preserve_begin, :(%4)))\n",
       "\u001b[90m│    \u001b[39m %326 = $(Expr(:foreigncall, :(:jl_value_ptr), Ptr{Nothing}, svec(Any), 0, :(:ccall), :(%4)))\u001b[36m::Ptr{Nothing}\u001b[39m\n",
       "\u001b[90m│    \u001b[39m %327 = Base.bitcast(Ptr{Float64}, %326)\u001b[36m::Ptr{Float64}\u001b[39m\n",
       "\u001b[90m│    \u001b[39m        Base.pointerset(%327, %9, %314, 1)\u001b[90m::Ptr{Float64}\u001b[39m\n",
       "\u001b[90m│    \u001b[39m        $(Expr(:gc_preserve_end, :(%325)))\n",
       "\u001b[90m└────\u001b[39m        goto #117\n",
       "\u001b[90m117 ─\u001b[39m        goto #118\n",
       "\u001b[90m118 ─\u001b[39m        goto #119\n",
       "\u001b[90m119 ─\u001b[39m        goto #120\n",
       "\u001b[90m120 ─\u001b[39m        goto #188\n",
       "\u001b[90m121 ─\u001b[39m %335 = Base.getfield(args, 2, true)\u001b[36m::Int64\u001b[39m\n",
       "\u001b[90m│    \u001b[39m %336 = Base.getfield(args, 1, true)\u001b[36m::Int64\u001b[39m\n",
       "\u001b[90m│    \u001b[39m %337 = (%336 === %335)\u001b[36m::Bool\u001b[39m\n",
       "\u001b[90m└────\u001b[39m        goto #123 if not %337\n",
       "\u001b[90m122 ─\u001b[39m %339 = Base.sitofp(Float64, %335)\u001b[36m::Float64\u001b[39m\n",
       "\u001b[90m│    \u001b[39m %340 = Base.eq_float(0.0, %339)\u001b[36m::Bool\u001b[39m\n",
       "\u001b[90m│    \u001b[39m %341 = Base.ne_float(%339, 9.223372036854776e18)\u001b[36m::Bool\u001b[39m\n",
       "\u001b[90m│    \u001b[39m %342 = Base.and_int(%340, %341)\u001b[36m::Bool\u001b[39m\n",
       "\u001b[90m│    \u001b[39m %343 = Base.fptosi(Int64, %339)\u001b[36m::Int64\u001b[39m\n",
       "\u001b[90m│    \u001b[39m %344 = (%335 === %343)\u001b[36m::Bool\u001b[39m\n",
       "\u001b[90m│    \u001b[39m %345 = Base.and_int(%342, %344)\u001b[36m::Bool\u001b[39m\n",
       "\u001b[90m└────\u001b[39m        goto #124\n",
       "\u001b[90m123 ─\u001b[39m        nothing\u001b[90m::Nothing\u001b[39m\n",
       "\u001b[90m124 ┄\u001b[39m %348 = φ (#122 => %345, #123 => false)\u001b[36m::Bool\u001b[39m\n",
       "\u001b[90m└────\u001b[39m        goto #179 if not %348\n",
       "\u001b[90m125 ─\u001b[39m        goto #130 if not true\n",
       "\u001b[90m126 ─\u001b[39m %351 = Core.tuple(1, 1)\u001b[36m::Tuple{Int64,Int64}\u001b[39m\n",
       "\u001b[90m│    \u001b[39m %352 = Base.sle_int(1, 1)\u001b[36m::Bool\u001b[39m\n",
       "\u001b[90m│    \u001b[39m %353 = Base.sle_int(1, 4)\u001b[36m::Bool\u001b[39m\n",
       "\u001b[90m│    \u001b[39m %354 = Base.and_int(%352, %353)\u001b[36m::Bool\u001b[39m\n",
       "\u001b[90m│    \u001b[39m %355 = Base.sle_int(1, 1)\u001b[36m::Bool\u001b[39m\n",
       "\u001b[90m│    \u001b[39m %356 = Base.sle_int(1, 4)\u001b[36m::Bool\u001b[39m\n",
       "\u001b[90m│    \u001b[39m %357 = Base.and_int(%355, %356)\u001b[36m::Bool\u001b[39m\n",
       "\u001b[90m│    \u001b[39m %358 = Base.and_int(%357, true)\u001b[36m::Bool\u001b[39m\n",
       "\u001b[90m│    \u001b[39m %359 = Base.and_int(%354, %358)\u001b[36m::Bool\u001b[39m\n",
       "\u001b[90m└────\u001b[39m        goto #128 if not %359\n",
       "\u001b[90m127 ─\u001b[39m        goto #129\n",
       "\u001b[90m128 ─\u001b[39m        invoke Base.throw_boundserror(%4::MArray{Tuple{4,4},Float64,2,16}, %351::Tuple{Int64,Int64})\u001b[90m::Union{}\u001b[39m\n",
       "\u001b[90m└────\u001b[39m        $(Expr(:unreachable))\u001b[90m::Union{}\u001b[39m\n",
       "\u001b[90m129 ┄\u001b[39m        nothing\u001b[90m::Nothing\u001b[39m\n",
       "\u001b[90m130 ┄\u001b[39m %365 = Base.sub_int(1, 1)\u001b[36m::Int64\u001b[39m\n",
       "\u001b[90m│    \u001b[39m %366 = Base.mul_int(4, %365)\u001b[36m::Int64\u001b[39m\n",
       "\u001b[90m│    \u001b[39m %367 = Base.add_int(1, %366)\u001b[36m::Int64\u001b[39m\n",
       "\u001b[90m└────\u001b[39m        goto #135 if not true\n",
       "\u001b[90m131 ─\u001b[39m %369 = Core.tuple(%367)\u001b[36m::Tuple{Int64}\u001b[39m\n",
       "\u001b[90m│    \u001b[39m %370 = Base.sle_int(1, %367)\u001b[36m::Bool\u001b[39m\n",
       "\u001b[90m│    \u001b[39m %371 = Base.sle_int(%367, 16)\u001b[36m::Bool\u001b[39m\n",
       "\u001b[90m│    \u001b[39m %372 = Base.and_int(%370, %371)\u001b[36m::Bool\u001b[39m\n",
       "\u001b[90m└────\u001b[39m        goto #133 if not %372\n",
       "\u001b[90m132 ─\u001b[39m        goto #134\n",
       "\u001b[90m133 ─\u001b[39m        invoke Base.throw_boundserror(%4::MArray{Tuple{4,4},Float64,2,16}, %369::Tuple{Int64})\u001b[90m::Union{}\u001b[39m\n",
       "\u001b[90m└────\u001b[39m        $(Expr(:unreachable))\u001b[90m::Union{}\u001b[39m\n",
       "\u001b[90m134 ┄\u001b[39m        nothing\u001b[90m::Nothing\u001b[39m\n",
       "\u001b[90m135 ┄\u001b[39m %378 = $(Expr(:gc_preserve_begin, :(%4)))\n",
       "\u001b[90m│    \u001b[39m %379 = $(Expr(:foreigncall, :(:jl_value_ptr), Ptr{Nothing}, svec(Any), 0, :(:ccall), :(%4)))\u001b[36m::Ptr{Nothing}\u001b[39m\n",
       "\u001b[90m│    \u001b[39m %380 = Base.bitcast(Ptr{Float64}, %379)\u001b[36m::Ptr{Float64}\u001b[39m\n",
       "\u001b[90m│    \u001b[39m        Base.pointerset(%380, %9, %367, 1)\u001b[90m::Ptr{Float64}\u001b[39m\n",
       "\u001b[90m│    \u001b[39m        $(Expr(:gc_preserve_end, :(%378)))\n",
       "\u001b[90m└────\u001b[39m        goto #136\n",
       "\u001b[90m136 ─\u001b[39m        goto #137\n",
       "\u001b[90m137 ─\u001b[39m        goto #138\n",
       "\u001b[90m138 ─\u001b[39m %386 = Base.neg_float(%10)\u001b[36m::Float64\u001b[39m\n",
       "\u001b[90m└────\u001b[39m        goto #143 if not true\n",
       "\u001b[90m139 ─\u001b[39m %388 = Core.tuple(1, 2)\u001b[36m::Tuple{Int64,Int64}\u001b[39m\n",
       "\u001b[90m│    \u001b[39m %389 = Base.sle_int(1, 1)\u001b[36m::Bool\u001b[39m\n",
       "\u001b[90m│    \u001b[39m %390 = Base.sle_int(1, 4)\u001b[36m::Bool\u001b[39m\n",
       "\u001b[90m│    \u001b[39m %391 = Base.and_int(%389, %390)\u001b[36m::Bool\u001b[39m\n",
       "\u001b[90m│    \u001b[39m %392 = Base.sle_int(1, 2)\u001b[36m::Bool\u001b[39m\n",
       "\u001b[90m│    \u001b[39m %393 = Base.sle_int(2, 4)\u001b[36m::Bool\u001b[39m\n",
       "\u001b[90m│    \u001b[39m %394 = Base.and_int(%392, %393)\u001b[36m::Bool\u001b[39m\n",
       "\u001b[90m│    \u001b[39m %395 = Base.and_int(%394, true)\u001b[36m::Bool\u001b[39m\n",
       "\u001b[90m│    \u001b[39m %396 = Base.and_int(%391, %395)\u001b[36m::Bool\u001b[39m\n",
       "\u001b[90m└────\u001b[39m        goto #141 if not %396\n",
       "\u001b[90m140 ─\u001b[39m        goto #142\n",
       "\u001b[90m141 ─\u001b[39m        invoke Base.throw_boundserror(%4::MArray{Tuple{4,4},Float64,2,16}, %388::Tuple{Int64,Int64})\u001b[90m::Union{}\u001b[39m\n",
       "\u001b[90m└────\u001b[39m        $(Expr(:unreachable))\u001b[90m::Union{}\u001b[39m\n",
       "\u001b[90m142 ┄\u001b[39m        nothing\u001b[90m::Nothing\u001b[39m\n",
       "\u001b[90m143 ┄\u001b[39m %402 = Base.sub_int(2, 1)\u001b[36m::Int64\u001b[39m\n",
       "\u001b[90m│    \u001b[39m %403 = Base.mul_int(4, %402)\u001b[36m::Int64\u001b[39m\n",
       "\u001b[90m│    \u001b[39m %404 = Base.add_int(1, %403)\u001b[36m::Int64\u001b[39m\n",
       "\u001b[90m└────\u001b[39m        goto #148 if not true\n",
       "\u001b[90m144 ─\u001b[39m %406 = Core.tuple(%404)\u001b[36m::Tuple{Int64}\u001b[39m\n",
       "\u001b[90m│    \u001b[39m %407 = Base.sle_int(1, %404)\u001b[36m::Bool\u001b[39m\n",
       "\u001b[90m│    \u001b[39m %408 = Base.sle_int(%404, 16)\u001b[36m::Bool\u001b[39m\n",
       "\u001b[90m│    \u001b[39m %409 = Base.and_int(%407, %408)\u001b[36m::Bool\u001b[39m\n",
       "\u001b[90m└────\u001b[39m        goto #146 if not %409\n",
       "\u001b[90m145 ─\u001b[39m        goto #147\n",
       "\u001b[90m146 ─\u001b[39m        invoke Base.throw_boundserror(%4::MArray{Tuple{4,4},Float64,2,16}, %406::Tuple{Int64})\u001b[90m::Union{}\u001b[39m\n",
       "\u001b[90m└────\u001b[39m        $(Expr(:unreachable))\u001b[90m::Union{}\u001b[39m\n",
       "\u001b[90m147 ┄\u001b[39m        nothing\u001b[90m::Nothing\u001b[39m\n",
       "\u001b[90m148 ┄\u001b[39m %415 = $(Expr(:gc_preserve_begin, :(%4)))\n",
       "\u001b[90m│    \u001b[39m %416 = $(Expr(:foreigncall, :(:jl_value_ptr), Ptr{Nothing}, svec(Any), 0, :(:ccall), :(%4)))\u001b[36m::Ptr{Nothing}\u001b[39m\n",
       "\u001b[90m│    \u001b[39m %417 = Base.bitcast(Ptr{Float64}, %416)\u001b[36m::Ptr{Float64}\u001b[39m\n",
       "\u001b[90m│    \u001b[39m        Base.pointerset(%417, %386, %404, 1)\u001b[90m::Ptr{Float64}\u001b[39m\n",
       "\u001b[90m│    \u001b[39m        $(Expr(:gc_preserve_end, :(%415)))\n",
       "\u001b[90m└────\u001b[39m        goto #149\n",
       "\u001b[90m149 ─\u001b[39m        goto #150\n",
       "\u001b[90m150 ─\u001b[39m        goto #151\n",
       "\u001b[90m151 ─\u001b[39m        goto #156 if not true\n",
       "\u001b[90m152 ─\u001b[39m %424 = Core.tuple(2, 1)\u001b[36m::Tuple{Int64,Int64}\u001b[39m\n",
       "\u001b[90m│    \u001b[39m %425 = Base.sle_int(1, 2)\u001b[36m::Bool\u001b[39m\n",
       "\u001b[90m│    \u001b[39m %426 = Base.sle_int(2, 4)\u001b[36m::Bool\u001b[39m\n",
       "\u001b[90m│    \u001b[39m %427 = Base.and_int(%425, %426)\u001b[36m::Bool\u001b[39m\n",
       "\u001b[90m│    \u001b[39m %428 = Base.sle_int(1, 1)\u001b[36m::Bool\u001b[39m\n",
       "\u001b[90m│    \u001b[39m %429 = Base.sle_int(1, 4)\u001b[36m::Bool\u001b[39m\n",
       "\u001b[90m│    \u001b[39m %430 = Base.and_int(%428, %429)\u001b[36m::Bool\u001b[39m\n",
       "\u001b[90m│    \u001b[39m %431 = Base.and_int(%430, true)\u001b[36m::Bool\u001b[39m\n",
       "\u001b[90m│    \u001b[39m %432 = Base.and_int(%427, %431)\u001b[36m::Bool\u001b[39m\n",
       "\u001b[90m└────\u001b[39m        goto #154 if not %432\n",
       "\u001b[90m153 ─\u001b[39m        goto #155\n",
       "\u001b[90m154 ─\u001b[39m        invoke Base.throw_boundserror(%4::MArray{Tuple{4,4},Float64,2,16}, %424::Tuple{Int64,Int64})\u001b[90m::Union{}\u001b[39m\n",
       "\u001b[90m└────\u001b[39m        $(Expr(:unreachable))\u001b[90m::Union{}\u001b[39m\n",
       "\u001b[90m155 ┄\u001b[39m        nothing\u001b[90m::Nothing\u001b[39m\n",
       "\u001b[90m156 ┄\u001b[39m %438 = Base.sub_int(1, 1)\u001b[36m::Int64\u001b[39m\n",
       "\u001b[90m│    \u001b[39m %439 = Base.mul_int(4, %438)\u001b[36m::Int64\u001b[39m\n",
       "\u001b[90m│    \u001b[39m %440 = Base.add_int(2, %439)\u001b[36m::Int64\u001b[39m\n",
       "\u001b[90m└────\u001b[39m        goto #161 if not true\n",
       "\u001b[90m157 ─\u001b[39m %442 = Core.tuple(%440)\u001b[36m::Tuple{Int64}\u001b[39m\n",
       "\u001b[90m│    \u001b[39m %443 = Base.sle_int(1, %440)\u001b[36m::Bool\u001b[39m\n",
       "\u001b[90m│    \u001b[39m %444 = Base.sle_int(%440, 16)\u001b[36m::Bool\u001b[39m\n",
       "\u001b[90m│    \u001b[39m %445 = Base.and_int(%443, %444)\u001b[36m::Bool\u001b[39m\n",
       "\u001b[90m└────\u001b[39m        goto #159 if not %445\n",
       "\u001b[90m158 ─\u001b[39m        goto #160\n",
       "\u001b[90m159 ─\u001b[39m        invoke Base.throw_boundserror(%4::MArray{Tuple{4,4},Float64,2,16}, %442::Tuple{Int64})\u001b[90m::Union{}\u001b[39m\n",
       "\u001b[90m└────\u001b[39m        $(Expr(:unreachable))\u001b[90m::Union{}\u001b[39m\n",
       "\u001b[90m160 ┄\u001b[39m        nothing\u001b[90m::Nothing\u001b[39m\n",
       "\u001b[90m161 ┄\u001b[39m %451 = $(Expr(:gc_preserve_begin, :(%4)))\n",
       "\u001b[90m│    \u001b[39m %452 = $(Expr(:foreigncall, :(:jl_value_ptr), Ptr{Nothing}, svec(Any), 0, :(:ccall), :(%4)))\u001b[36m::Ptr{Nothing}\u001b[39m\n",
       "\u001b[90m│    \u001b[39m %453 = Base.bitcast(Ptr{Float64}, %452)\u001b[36m::Ptr{Float64}\u001b[39m\n",
       "\u001b[90m│    \u001b[39m        Base.pointerset(%453, %10, %440, 1)\u001b[90m::Ptr{Float64}\u001b[39m\n",
       "\u001b[90m│    \u001b[39m        $(Expr(:gc_preserve_end, :(%451)))\n",
       "\u001b[90m└────\u001b[39m        goto #162\n",
       "\u001b[90m162 ─\u001b[39m        goto #163\n",
       "\u001b[90m163 ─\u001b[39m        goto #164\n",
       "\u001b[90m164 ─\u001b[39m        goto #169 if not true\n",
       "\u001b[90m165 ─\u001b[39m %460 = Core.tuple(2, 2)\u001b[36m::Tuple{Int64,Int64}\u001b[39m\n",
       "\u001b[90m│    \u001b[39m %461 = Base.sle_int(1, 2)\u001b[36m::Bool\u001b[39m\n",
       "\u001b[90m│    \u001b[39m %462 = Base.sle_int(2, 4)\u001b[36m::Bool\u001b[39m\n",
       "\u001b[90m│    \u001b[39m %463 = Base.and_int(%461, %462)\u001b[36m::Bool\u001b[39m\n",
       "\u001b[90m│    \u001b[39m %464 = Base.sle_int(1, 2)\u001b[36m::Bool\u001b[39m\n",
       "\u001b[90m│    \u001b[39m %465 = Base.sle_int(2, 4)\u001b[36m::Bool\u001b[39m\n",
       "\u001b[90m│    \u001b[39m %466 = Base.and_int(%464, %465)\u001b[36m::Bool\u001b[39m\n",
       "\u001b[90m│    \u001b[39m %467 = Base.and_int(%466, true)\u001b[36m::Bool\u001b[39m\n",
       "\u001b[90m│    \u001b[39m %468 = Base.and_int(%463, %467)\u001b[36m::Bool\u001b[39m\n",
       "\u001b[90m└────\u001b[39m        goto #167 if not %468\n",
       "\u001b[90m166 ─\u001b[39m        goto #168\n",
       "\u001b[90m167 ─\u001b[39m        invoke Base.throw_boundserror(%4::MArray{Tuple{4,4},Float64,2,16}, %460::Tuple{Int64,Int64})\u001b[90m::Union{}\u001b[39m\n",
       "\u001b[90m└────\u001b[39m        $(Expr(:unreachable))\u001b[90m::Union{}\u001b[39m\n",
       "\u001b[90m168 ┄\u001b[39m        nothing\u001b[90m::Nothing\u001b[39m\n",
       "\u001b[90m169 ┄\u001b[39m %474 = Base.sub_int(2, 1)\u001b[36m::Int64\u001b[39m\n",
       "\u001b[90m│    \u001b[39m %475 = Base.mul_int(4, %474)\u001b[36m::Int64\u001b[39m\n",
       "\u001b[90m│    \u001b[39m %476 = Base.add_int(2, %475)\u001b[36m::Int64\u001b[39m\n",
       "\u001b[90m└────\u001b[39m        goto #174 if not true\n",
       "\u001b[90m170 ─\u001b[39m %478 = Core.tuple(%476)\u001b[36m::Tuple{Int64}\u001b[39m\n",
       "\u001b[90m│    \u001b[39m %479 = Base.sle_int(1, %476)\u001b[36m::Bool\u001b[39m\n",
       "\u001b[90m│    \u001b[39m %480 = Base.sle_int(%476, 16)\u001b[36m::Bool\u001b[39m\n",
       "\u001b[90m│    \u001b[39m %481 = Base.and_int(%479, %480)\u001b[36m::Bool\u001b[39m\n",
       "\u001b[90m└────\u001b[39m        goto #172 if not %481\n",
       "\u001b[90m171 ─\u001b[39m        goto #173\n",
       "\u001b[90m172 ─\u001b[39m        invoke Base.throw_boundserror(%4::MArray{Tuple{4,4},Float64,2,16}, %478::Tuple{Int64})\u001b[90m::Union{}\u001b[39m\n",
       "\u001b[90m└────\u001b[39m        $(Expr(:unreachable))\u001b[90m::Union{}\u001b[39m\n",
       "\u001b[90m173 ┄\u001b[39m        nothing\u001b[90m::Nothing\u001b[39m\n",
       "\u001b[90m174 ┄\u001b[39m %487 = $(Expr(:gc_preserve_begin, :(%4)))\n",
       "\u001b[90m│    \u001b[39m %488 = $(Expr(:foreigncall, :(:jl_value_ptr), Ptr{Nothing}, svec(Any), 0, :(:ccall), :(%4)))\u001b[36m::Ptr{Nothing}\u001b[39m\n",
       "\u001b[90m│    \u001b[39m %489 = Base.bitcast(Ptr{Float64}, %488)\u001b[36m::Ptr{Float64}\u001b[39m\n",
       "\u001b[90m│    \u001b[39m        Base.pointerset(%489, %9, %476, 1)\u001b[90m::Ptr{Float64}\u001b[39m\n",
       "\u001b[90m│    \u001b[39m        $(Expr(:gc_preserve_end, :(%487)))\n",
       "\u001b[90m└────\u001b[39m        goto #175\n",
       "\u001b[90m175 ─\u001b[39m        goto #176\n",
       "\u001b[90m176 ─\u001b[39m        goto #177\n",
       "\u001b[90m177 ─\u001b[39m        goto #178\n",
       "\u001b[90m178 ─\u001b[39m        goto #188\n",
       "\u001b[90m179 ─\u001b[39m %497 = Base.getfield(args, 3, true)\u001b[36m::Int64\u001b[39m\n",
       "\u001b[90m│    \u001b[39m %498 = Base.neg_int(%497)\u001b[36m::Int64\u001b[39m\n",
       "\u001b[90m│    \u001b[39m %499 = Base.getfield(args, 2, true)\u001b[36m::Int64\u001b[39m\n",
       "\u001b[90m│    \u001b[39m %500 = Base.getfield(args, 3, true)\u001b[36m::Int64\u001b[39m\n",
       "\u001b[90m│    \u001b[39m %501 = Base.getfield(args, 1, true)\u001b[36m::Int64\u001b[39m\n",
       "\u001b[90m│    \u001b[39m %502 = Base.neg_int(%501)\u001b[36m::Int64\u001b[39m\n",
       "\u001b[90m│    \u001b[39m %503 = Base.getfield(args, 2, true)\u001b[36m::Int64\u001b[39m\n",
       "\u001b[90m│    \u001b[39m %504 = Base.neg_int(%503)\u001b[36m::Int64\u001b[39m\n",
       "\u001b[90m│    \u001b[39m %505 = Base.getfield(args, 1, true)\u001b[36m::Int64\u001b[39m\n",
       "\u001b[90m│    \u001b[39m %506 = invoke Base.hvcat((3, 3, 3)::Tuple{Int64,Int64,Int64}, 0::Int64, %498::Vararg{Int64,N} where N, %499, %500, 0, %502, %504, %505, 1)\u001b[36m::Array{Int64,2}\u001b[39m\n",
       "\u001b[90m│    \u001b[39m %507 = Base.getfield(args, 1, true)\u001b[36m::Int64\u001b[39m\n",
       "\u001b[90m│    \u001b[39m %508 = Base.getfield(args, 1, true)\u001b[36m::Int64\u001b[39m\n",
       "\u001b[90m│    \u001b[39m %509 = Base.mul_int(%507, %508)\u001b[36m::Int64\u001b[39m\n",
       "\u001b[90m│    \u001b[39m %510 = Base.getfield(args, 1, true)\u001b[36m::Int64\u001b[39m\n",
       "\u001b[90m│    \u001b[39m %511 = Base.getfield(args, 2, true)\u001b[36m::Int64\u001b[39m\n",
       "\u001b[90m│    \u001b[39m %512 = Base.mul_int(%510, %511)\u001b[36m::Int64\u001b[39m\n",
       "\u001b[90m│    \u001b[39m %513 = Base.getfield(args, 1, true)\u001b[36m::Int64\u001b[39m\n",
       "\u001b[90m│    \u001b[39m %514 = Base.getfield(args, 3, true)\u001b[36m::Int64\u001b[39m\n",
       "\u001b[90m│    \u001b[39m %515 = Base.mul_int(%513, %514)\u001b[36m::Int64\u001b[39m\n",
       "\u001b[90m│    \u001b[39m %516 = Base.getfield(args, 2, true)\u001b[36m::Int64\u001b[39m\n",
       "\u001b[90m│    \u001b[39m %517 = Base.getfield(args, 1, true)\u001b[36m::Int64\u001b[39m\n",
       "\u001b[90m│    \u001b[39m %518 = Base.mul_int(%516, %517)\u001b[36m::Int64\u001b[39m\n",
       "\u001b[90m│    \u001b[39m %519 = Base.getfield(args, 2, true)\u001b[36m::Int64\u001b[39m\n",
       "\u001b[90m│    \u001b[39m %520 = Base.getfield(args, 2, true)\u001b[36m::Int64\u001b[39m\n",
       "\u001b[90m│    \u001b[39m %521 = Base.mul_int(%519, %520)\u001b[36m::Int64\u001b[39m\n",
       "\u001b[90m│    \u001b[39m %522 = Base.getfield(args, 2, true)\u001b[36m::Int64\u001b[39m\n",
       "\u001b[90m│    \u001b[39m %523 = Base.getfield(args, 3, true)\u001b[36m::Int64\u001b[39m\n",
       "\u001b[90m│    \u001b[39m %524 = Base.mul_int(%522, %523)\u001b[36m::Int64\u001b[39m\n",
       "\u001b[90m│    \u001b[39m %525 = Base.getfield(args, 3, true)\u001b[36m::Int64\u001b[39m\n",
       "\u001b[90m│    \u001b[39m %526 = Base.getfield(args, 1, true)\u001b[36m::Int64\u001b[39m\n",
       "\u001b[90m│    \u001b[39m %527 = Base.mul_int(%525, %526)\u001b[36m::Int64\u001b[39m\n",
       "\u001b[90m│    \u001b[39m %528 = Base.getfield(args, 3, true)\u001b[36m::Int64\u001b[39m\n",
       "\u001b[90m│    \u001b[39m %529 = Base.getfield(args, 2, true)\u001b[36m::Int64\u001b[39m\n",
       "\u001b[90m│    \u001b[39m %530 = Base.mul_int(%528, %529)\u001b[36m::Int64\u001b[39m\n",
       "\u001b[90m│    \u001b[39m %531 = Base.getfield(args, 3, true)\u001b[36m::Int64\u001b[39m\n",
       "\u001b[90m│    \u001b[39m %532 = Base.getfield(args, 3, true)\u001b[36m::Int64\u001b[39m\n",
       "\u001b[90m│    \u001b[39m %533 = Base.mul_int(%531, %532)\u001b[36m::Int64\u001b[39m\n",
       "\u001b[90m│    \u001b[39m %534 = invoke Base.hvcat((3, 3, 3)::Tuple{Int64,Int64,Int64}, %509::Int64, %512::Vararg{Int64,N} where N, %515, %518, %521, %524, %527, %530, %533)\u001b[36m::Array{Int64,2}\u001b[39m\n",
       "\u001b[90m│    \u001b[39m %535 = Base.mul_float(%9, 1.0)\u001b[36m::Float64\u001b[39m\n",
       "\u001b[90m│    \u001b[39m %536 = Base.mul_float(%9, 0.0)\u001b[36m::Float64\u001b[39m\n",
       "\u001b[90m│    \u001b[39m %537 = Base.mul_float(%9, 0.0)\u001b[36m::Float64\u001b[39m\n",
       "\u001b[90m│    \u001b[39m %538 = Base.mul_float(%9, 0.0)\u001b[36m::Float64\u001b[39m\n",
       "\u001b[90m│    \u001b[39m %539 = Base.mul_float(%9, 1.0)\u001b[36m::Float64\u001b[39m\n",
       "\u001b[90m│    \u001b[39m %540 = Base.mul_float(%9, 0.0)\u001b[36m::Float64\u001b[39m\n",
       "\u001b[90m│    \u001b[39m %541 = Base.mul_float(%9, 0.0)\u001b[36m::Float64\u001b[39m\n",
       "\u001b[90m│    \u001b[39m %542 = Base.mul_float(%9, 0.0)\u001b[36m::Float64\u001b[39m\n",
       "\u001b[90m│    \u001b[39m %543 = Base.mul_float(%9, 1.0)\u001b[36m::Float64\u001b[39m\n",
       "\u001b[90m│    \u001b[39m %544 = StaticArrays.tuple(%535, %536, %537, %538, %539, %540, %541, %542, %543)\u001b[36m::NTuple{9,Float64}\u001b[39m\n",
       "\u001b[90m│    \u001b[39m %545 = %new(SArray{Tuple{3,3},Float64,2,9}, %544)\u001b[36m::SArray{Tuple{3,3},Float64,2,9}\u001b[39m\n",
       "\u001b[90m│    \u001b[39m %546 = invoke Base.FastMath.:*(%10::Float64, %506::Array{Int64,2})\u001b[36m::Array{Float64,2}\u001b[39m\n",
       "\u001b[90m│    \u001b[39m %547 = Base.FastMath.sub_float_fast(1.0, %9)\u001b[36m::Float64\u001b[39m\n",
       "\u001b[90m│    \u001b[39m %548 = invoke Base.FastMath.:*(%547::Float64, %534::Array{Int64,2})\u001b[36m::Array{Float64,2}\u001b[39m\n",
       "\u001b[90m│    \u001b[39m %549 = invoke Base.FastMath.add_fast(%545::SArray{Tuple{3,3},Float64,2,9}, %546::Array{Float64,2}, %548::Array{Float64,2})\u001b[36m::SArray{Tuple{3,3},Float64,2,9}\u001b[39m\n",
       "\u001b[90m└────\u001b[39m        goto #184 if not true\n",
       "\u001b[90m180 ─\u001b[39m %551 = Core.tuple($(QuoteNode(1:3)), $(QuoteNode(1:3)))\u001b[36m::Tuple{UnitRange{Int64},UnitRange{Int64}}\u001b[39m\n",
       "\u001b[90m│    \u001b[39m %552 = Base.slt_int(3, 1)\u001b[36m::Bool\u001b[39m\n",
       "\u001b[90m│    \u001b[39m %553 = Base.sle_int(1, 1)\u001b[36m::Bool\u001b[39m\n",
       "\u001b[90m│    \u001b[39m %554 = Base.sle_int(1, 4)\u001b[36m::Bool\u001b[39m\n",
       "\u001b[90m│    \u001b[39m %555 = Base.and_int(%553, %554)\u001b[36m::Bool\u001b[39m\n",
       "\u001b[90m│    \u001b[39m %556 = Base.sle_int(1, 3)\u001b[36m::Bool\u001b[39m\n",
       "\u001b[90m│    \u001b[39m %557 = Base.sle_int(3, 4)\u001b[36m::Bool\u001b[39m\n",
       "\u001b[90m│    \u001b[39m %558 = Base.and_int(%556, %557)\u001b[36m::Bool\u001b[39m\n",
       "\u001b[90m│    \u001b[39m %559 = Base.and_int(%555, %558)\u001b[36m::Bool\u001b[39m\n",
       "\u001b[90m│    \u001b[39m %560 = Base.or_int(%552, %559)\u001b[36m::Bool\u001b[39m\n",
       "\u001b[90m│    \u001b[39m %561 = Base.slt_int(3, 1)\u001b[36m::Bool\u001b[39m\n",
       "\u001b[90m│    \u001b[39m %562 = Base.sle_int(1, 1)\u001b[36m::Bool\u001b[39m\n",
       "\u001b[90m│    \u001b[39m %563 = Base.sle_int(1, 4)\u001b[36m::Bool\u001b[39m\n",
       "\u001b[90m│    \u001b[39m %564 = Base.and_int(%562, %563)\u001b[36m::Bool\u001b[39m\n",
       "\u001b[90m│    \u001b[39m %565 = Base.sle_int(1, 3)\u001b[36m::Bool\u001b[39m\n",
       "\u001b[90m│    \u001b[39m %566 = Base.sle_int(3, 4)\u001b[36m::Bool\u001b[39m\n",
       "\u001b[90m│    \u001b[39m %567 = Base.and_int(%565, %566)\u001b[36m::Bool\u001b[39m\n",
       "\u001b[90m│    \u001b[39m %568 = Base.and_int(%564, %567)\u001b[36m::Bool\u001b[39m\n",
       "\u001b[90m│    \u001b[39m %569 = Base.or_int(%561, %568)\u001b[36m::Bool\u001b[39m\n",
       "\u001b[90m│    \u001b[39m %570 = Base.and_int(%569, true)\u001b[36m::Bool\u001b[39m\n",
       "\u001b[90m│    \u001b[39m %571 = Base.and_int(%560, %570)\u001b[36m::Bool\u001b[39m\n",
       "\u001b[90m└────\u001b[39m        goto #182 if not %571\n",
       "\u001b[90m181 ─\u001b[39m        goto #183\n",
       "\u001b[90m182 ─\u001b[39m        invoke Base.throw_boundserror(%4::MArray{Tuple{4,4},Float64,2,16}, %551::Tuple{UnitRange{Int64},UnitRange{Int64}})\u001b[90m::Union{}\u001b[39m\n",
       "\u001b[90m└────\u001b[39m        $(Expr(:unreachable))\u001b[90m::Union{}\u001b[39m\n",
       "\u001b[90m183 ┄\u001b[39m        nothing\u001b[90m::Nothing\u001b[39m\n",
       "\u001b[90m184 ┄\u001b[39m        invoke Base._unsafe_setindex!($(QuoteNode(IndexLinear()))::IndexLinear, %4::MArray{Tuple{4,4},Float64,2,16}, %549::SArray{Tuple{3,3},Float64,2,9}, $(QuoteNode(1:3))::UnitRange{Int64}, $(QuoteNode(1:3))::UnitRange{Int64})\u001b[90m::Any\u001b[39m\n",
       "\u001b[90m└────\u001b[39m        goto #185\n",
       "\u001b[90m185 ─\u001b[39m        goto #186\n",
       "\u001b[90m186 ─\u001b[39m        goto #187\n",
       "\u001b[90m187 ─\u001b[39m        nothing\u001b[90m::Nothing\u001b[39m\n",
       "\u001b[90m188 ┄\u001b[39m %582 = φ (#62 => %4, #120 => %4, #178 => %4, #187 => %4, #4 => %4)\u001b[36m::MArray{Tuple{4,4},Float64,2,16}\u001b[39m\n",
       "\u001b[90m└────\u001b[39m        goto #189\n",
       "\u001b[90m189 ─\u001b[39m        nothing\u001b[90m::Nothing\u001b[39m\n",
       "\u001b[90m190 ┄\u001b[39m %585 = φ (#189 => %582, #3 => #undef)\u001b[36m::Core.Compiler.MaybeUndef(MArray{Tuple{4,4},Float64,2,16})\u001b[39m\n",
       "\u001b[90m└────\u001b[39m        return %585\n",
       ") => MArray{Tuple{4,4},Float64,2,16}"
      ]
     },
     "execution_count": 29,
     "metadata": {},
     "output_type": "execute_result"
    }
   ],
   "source": [
    "@code_typed r(1,1,1)"
   ]
  },
  {
   "cell_type": "code",
   "execution_count": 14,
   "metadata": {},
   "outputs": [
    {
     "name": "stdout",
     "output_type": "stream",
     "text": [
      "  360.000 ns (5 allocations: 784 bytes)\n"
     ]
    },
    {
     "data": {
      "text/plain": [
       "4×4 MArray{Tuple{4,4},Float64,2,16} with indices SOneTo(4)×SOneTo(4):\n",
       " 1.0      0.17353  2.14758  0.0\n",
       " 2.14758  1.0      0.17353  0.0\n",
       " 0.17353  2.14758  1.98703  0.0\n",
       " 0.0      0.0      0.0      1.0"
      ]
     },
     "execution_count": 14,
     "metadata": {},
     "output_type": "execute_result"
    }
   ],
   "source": [
    "@btime r(1,1,1)"
   ]
  },
  {
   "cell_type": "code",
   "execution_count": 31,
   "metadata": {},
   "outputs": [
    {
     "name": "stdout",
     "output_type": "stream",
     "text": [
      "  15.215 ns (1 allocation: 80 bytes)\n"
     ]
    },
    {
     "data": {
      "text/plain": [
       "3×3 MArray{Tuple{3,3},Float64,2,9} with indices SOneTo(3)×SOneTo(3):\n",
       " 1.0  -0.0  0.0\n",
       " 0.0   1.0  0.0\n",
       " 0.0   0.0  1.0"
      ]
     },
     "execution_count": 31,
     "metadata": {},
     "output_type": "execute_result"
    }
   ],
   "source": [
    "@btime r(0)"
   ]
  },
  {
   "cell_type": "code",
   "execution_count": null,
   "metadata": {},
   "outputs": [],
   "source": [
    "@benchmark r(1,1,1)"
   ]
  }
 ],
 "metadata": {
  "kernelspec": {
   "display_name": "Julia 1.5.3",
   "language": "julia",
   "name": "julia-1.5"
  },
  "language_info": {
   "file_extension": ".jl",
   "mimetype": "application/julia",
   "name": "julia",
   "version": "1.5.3"
  }
 },
 "nbformat": 4,
 "nbformat_minor": 4
}
