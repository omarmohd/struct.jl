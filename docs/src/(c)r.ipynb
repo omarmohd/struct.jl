{
 "cells": [
  {
   "cell_type": "code",
   "execution_count": 22,
   "metadata": {},
   "outputs": [],
   "source": [
    "using BenchmarkTools\n",
    "using LinearAlgebra"
   ]
  },
  {
   "cell_type": "markdown",
   "metadata": {},
   "source": [
    "## Vecchia funzione"
   ]
  },
  {
   "cell_type": "code",
   "execution_count": 23,
   "metadata": {},
   "outputs": [
    {
     "data": {
      "text/plain": [
       "r (generic function with 1 method)"
      ]
     },
     "execution_count": 23,
     "metadata": {},
     "output_type": "execute_result"
    }
   ],
   "source": [
    "function r(args...)\n",
    "    args = collect(args)\n",
    "    n = length(args)\n",
    "    if n == 1 # rotation in 2D\n",
    "        angle = args[1]; COS = cos(angle); SIN = sin(angle)\n",
    "        mat = Matrix{Float64}(LinearAlgebra.I, 3, 3)\n",
    "        mat[1,1] = COS;    mat[1,2] = -SIN;\n",
    "        mat[2,1] = SIN;    mat[2,2] = COS;\n",
    "    end\n",
    "\n",
    "     if n == 3 # rotation in 3D\n",
    "        mat = Matrix{Float64}(LinearAlgebra.I, 4, 4)\n",
    "        angle = norm(args);\n",
    "        if norm(args) != 0.0\n",
    "\t\t\taxis = args #normalize(args)\n",
    "\t\t\tCOS = cos(angle); SIN= sin(angle)\n",
    "\t\t\tif axis[2]==axis[3]==0.0    # rotation about x\n",
    "\t\t\t\tmat[2,2] = COS;    mat[2,3] = -SIN;\n",
    "\t\t\t\tmat[3,2] = SIN;    mat[3,3] = COS;\n",
    "\t\t\telseif axis[1]==axis[3]==0.0   # rotation about y\n",
    "\t\t\t\tmat[1,1] = COS;    mat[1,3] = SIN;\n",
    "\t\t\t\tmat[3,1] = -SIN;    mat[3,3] = COS;\n",
    "\t\t\telseif axis[1]==axis[2]==0.0    # rotation about z\n",
    "\t\t\t\tmat[1,1] = COS;    mat[1,2] = -SIN;\n",
    "\t\t\t\tmat[2,1] = SIN;    mat[2,2] = COS;\n",
    "\t\t\telse\n",
    "\t\t\t\tI = Matrix{Float64}(LinearAlgebra.I, 3, 3); u = axis\n",
    "\t\t\t\tUx=[0 -u[3] u[2] ; u[3] 0 -u[1] ;  -u[2] u[1] 1]\n",
    "\t\t\t\tUU =[u[1]*u[1]    u[1]*u[2]   u[1]*u[3];\n",
    "\t\t\t\t\t u[2]*u[1]    u[2]*u[2]   u[2]*u[3];\n",
    "\t\t\t\t\t u[3]*u[1]    u[3]*u[2]   u[3]*u[3]]\n",
    "\t\t\t\tmat[1:3,1:3]=COS*I+SIN*Ux+(1.0-COS)*UU\n",
    "\t\t\tend\n",
    "\t\tend\n",
    "\tend\n",
    "\treturn mat\n",
    "end"
   ]
  },
  {
   "cell_type": "code",
   "execution_count": 24,
   "metadata": {},
   "outputs": [
    {
     "name": "stdout",
     "output_type": "stream",
     "text": [
      "  130.233 ns (2 allocations: 256 bytes)\n"
     ]
    },
    {
     "data": {
      "text/plain": [
       "3×3 Array{Float64,2}:\n",
       " 1.0  -0.0  0.0\n",
       " 0.0   1.0  0.0\n",
       " 0.0   0.0  1.0"
      ]
     },
     "execution_count": 24,
     "metadata": {},
     "output_type": "execute_result"
    }
   ],
   "source": [
    "@btime r(0)"
   ]
  },
  {
   "cell_type": "code",
   "execution_count": 25,
   "metadata": {},
   "outputs": [
    {
     "name": "stdout",
     "output_type": "stream",
     "text": [
      "  834.197 ns (9 allocations: 1.41 KiB)\n"
     ]
    },
    {
     "data": {
      "text/plain": [
       "4×4 Array{Float64,2}:\n",
       " 1.0      0.17353  2.14758  0.0\n",
       " 2.14758  1.0      0.17353  0.0\n",
       " 0.17353  2.14758  1.98703  0.0\n",
       " 0.0      0.0      0.0      1.0"
      ]
     },
     "execution_count": 25,
     "metadata": {},
     "output_type": "execute_result"
    }
   ],
   "source": [
    "@btime r(1,1,1)"
   ]
  },
  {
   "cell_type": "markdown",
   "metadata": {},
   "source": [
    "## Nuove funzioni"
   ]
  },
  {
   "cell_type": "code",
   "execution_count": 47,
   "metadata": {},
   "outputs": [
    {
     "data": {
      "text/plain": [
       "r2D (generic function with 1 method)"
      ]
     },
     "execution_count": 47,
     "metadata": {},
     "output_type": "execute_result"
    }
   ],
   "source": [
    "function r2D(args)\n",
    "\tangle = args[1]; COS = cos(angle); SIN = sin(angle)\n",
    "\tmat = Matrix{Float64}(LinearAlgebra.I, 3, 3)\n",
    "\tmat[1,1] = COS;    mat[1,2] = -SIN;\n",
    "\tmat[2,1] = SIN;    mat[2,2] = COS;\n",
    "\treturn mat\n",
    "end"
   ]
  },
  {
   "cell_type": "code",
   "execution_count": 48,
   "metadata": {},
   "outputs": [
    {
     "data": {
      "text/plain": [
       "rX (generic function with 2 methods)"
      ]
     },
     "execution_count": 48,
     "metadata": {},
     "output_type": "execute_result"
    }
   ],
   "source": [
    "function rX(mat,COS,SIN)\n",
    "\tmat[2,2] = COS;    mat[2,3] = -SIN;\n",
    "\tmat[3,2] = SIN;    mat[3,3] = COS;\n",
    "\treturn mat\n",
    "end"
   ]
  },
  {
   "cell_type": "code",
   "execution_count": 49,
   "metadata": {},
   "outputs": [
    {
     "data": {
      "text/plain": [
       "rY (generic function with 2 methods)"
      ]
     },
     "execution_count": 49,
     "metadata": {},
     "output_type": "execute_result"
    }
   ],
   "source": [
    "function rY(mat,COS,SIN)\n",
    "\tmat[1,1] = COS;    mat[1,3] = SIN;\n",
    "\tmat[3,1] = -SIN;    mat[3,3] = COS;\n",
    "\treturn mat\n",
    "end"
   ]
  },
  {
   "cell_type": "code",
   "execution_count": 50,
   "metadata": {},
   "outputs": [
    {
     "data": {
      "text/plain": [
       "rZ (generic function with 2 methods)"
      ]
     },
     "execution_count": 50,
     "metadata": {},
     "output_type": "execute_result"
    }
   ],
   "source": [
    "function rZ(mat,COS,SIN)\n",
    "\tmat[1,1] = COS;    mat[1,2] = -SIN;\n",
    "\tmat[2,1] = SIN;    mat[2,2] = COS;\n",
    "\treturn mat\n",
    "end"
   ]
  },
  {
   "cell_type": "code",
   "execution_count": 51,
   "metadata": {},
   "outputs": [
    {
     "data": {
      "text/plain": [
       "rAxis (generic function with 2 methods)"
      ]
     },
     "execution_count": 51,
     "metadata": {},
     "output_type": "execute_result"
    }
   ],
   "source": [
    "function rAxis(mat,axis,COS,SIN)\n",
    "\tI = Matrix{Float64}(LinearAlgebra.I, 3, 3); u = axis\n",
    "\tUx=[0 -u[3] u[2] ; u[3] 0 -u[1] ;  -u[2] u[1] 1]\n",
    "\tUU =[u[1]*u[1]    u[1]*u[2]   u[1]*u[3];\n",
    "\t\t u[2]*u[1]    u[2]*u[2]   u[2]*u[3];\n",
    "\t\t u[3]*u[1]    u[3]*u[2]   u[3]*u[3]]\n",
    "\tmat[1:3,1:3]=COS*I+SIN*Ux+(1.0-COS)*UU\n",
    "\treturn mat\n",
    "end"
   ]
  },
  {
   "cell_type": "code",
   "execution_count": 52,
   "metadata": {},
   "outputs": [
    {
     "data": {
      "text/plain": [
       "r3D (generic function with 1 method)"
      ]
     },
     "execution_count": 52,
     "metadata": {},
     "output_type": "execute_result"
    }
   ],
   "source": [
    "function r3D(args)\n",
    "\tmat = Matrix{Float64}(LinearAlgebra.I, 4, 4)\n",
    "\tangle = norm(args);\n",
    "\tif angle != 0.0\n",
    "\t\t axis = args #normalize(args)\n",
    "\t\t COS = cos(angle); SIN= sin(angle)\n",
    "\t\t if axis[2]==axis[3]==0.0    # rotation about x\n",
    "\t\t\t mat = rX(mat,COS,SIN)\n",
    "\t\t elseif axis[1]==axis[3]==0.0   # rotation about y\n",
    "\t\t\t mat = rY(mat,COS,SIN)\n",
    "\t\t elseif axis[1]==axis[2]==0.0    # rotation about z\n",
    "\t\t\t mat = rZ(mat,COS,SIN)\n",
    "\t\t else\n",
    "\t\t\t mat = rAxis(mat,axis,COS,SIN)\n",
    "\t\t end\n",
    "\t end\n",
    "\t return mat\n",
    "end"
   ]
  },
  {
   "cell_type": "code",
   "execution_count": 53,
   "metadata": {},
   "outputs": [
    {
     "data": {
      "text/plain": [
       "r (generic function with 1 method)"
      ]
     },
     "execution_count": 53,
     "metadata": {},
     "output_type": "execute_result"
    }
   ],
   "source": [
    "function r(args...)\n",
    "   n = length(args)\n",
    "\n",
    "   if n == 1 # rotation in 2D\n",
    "\t   mat = r2D(args)\n",
    "   end\n",
    "\n",
    "    if n == 3 # rotation in 3D\n",
    "       mat = r3D(args)\n",
    "\tend\n",
    "\treturn mat\n",
    "end"
   ]
  },
  {
   "cell_type": "code",
   "execution_count": 54,
   "metadata": {},
   "outputs": [
    {
     "name": "stdout",
     "output_type": "stream",
     "text": [
      "  87.344 ns (1 allocation: 160 bytes)\n"
     ]
    },
    {
     "data": {
      "text/plain": [
       "3×3 Array{Float64,2}:\n",
       " 1.0  -0.0  0.0\n",
       " 0.0   1.0  0.0\n",
       " 0.0   0.0  1.0"
      ]
     },
     "execution_count": 54,
     "metadata": {},
     "output_type": "execute_result"
    }
   ],
   "source": [
    "@btime r(0)"
   ]
  },
  {
   "cell_type": "code",
   "execution_count": 55,
   "metadata": {},
   "outputs": [
    {
     "name": "stdout",
     "output_type": "stream",
     "text": [
      "  751.969 ns (8 allocations: 1.30 KiB)\n"
     ]
    },
    {
     "data": {
      "text/plain": [
       "4×4 Array{Float64,2}:\n",
       " 1.0      0.17353  2.14758  0.0\n",
       " 2.14758  1.0      0.17353  0.0\n",
       " 0.17353  2.14758  1.98703  0.0\n",
       " 0.0      0.0      0.0      1.0"
      ]
     },
     "execution_count": 55,
     "metadata": {},
     "output_type": "execute_result"
    }
   ],
   "source": [
    "@btime r(1,1,1)"
   ]
  },
  {
   "cell_type": "code",
   "execution_count": 56,
   "metadata": {},
   "outputs": [
    {
     "data": {
      "text/plain": [
       "BenchmarkTools.Trial: \n",
       "  memory estimate:  1.30 KiB\n",
       "  allocs estimate:  8\n",
       "  --------------\n",
       "  minimum time:     749.147 ns (0.00% GC)\n",
       "  median time:      768.974 ns (0.00% GC)\n",
       "  mean time:        899.143 ns (2.33% GC)\n",
       "  maximum time:     9.069 μs (81.41% GC)\n",
       "  --------------\n",
       "  samples:          10000\n",
       "  evals/sample:     116"
      ]
     },
     "execution_count": 56,
     "metadata": {},
     "output_type": "execute_result"
    }
   ],
   "source": [
    "@benchmark r(1,1,1)"
   ]
  },
  {
   "cell_type": "code",
   "execution_count": 57,
   "metadata": {},
   "outputs": [
    {
     "name": "stdout",
     "output_type": "stream",
     "text": [
      "Variables\n",
      "  #self#\u001b[36m::Core.Compiler.Const(r, false)\u001b[39m\n",
      "  args\u001b[36m::Tuple{Int64,Int64,Int64}\u001b[39m\n",
      "  n\u001b[36m::Int64\u001b[39m\n",
      "  mat\u001b[36m::Array{Float64,2}\u001b[39m\n",
      "\n",
      "Body\u001b[36m::Array{Float64,2}\u001b[39m\n",
      "\u001b[90m1 ─\u001b[39m      Core.NewvarNode(:(mat))\n",
      "\u001b[90m│  \u001b[39m      (n = Main.length(args))\n",
      "\u001b[90m│  \u001b[39m %3 = (n::Core.Compiler.Const(3, false) == 1)\u001b[36m::Core.Compiler.Const(false, false)\u001b[39m\n",
      "\u001b[90m└──\u001b[39m      goto #3 if not %3\n",
      "\u001b[90m2 ─\u001b[39m      Core.Compiler.Const(:(mat = Main.r2D(args)), false)\n",
      "\u001b[90m3 ┄\u001b[39m %6 = (n::Core.Compiler.Const(3, false) == 3)\u001b[36m::Core.Compiler.Const(true, false)\u001b[39m\n",
      "\u001b[90m└──\u001b[39m      goto #5 if not %6\n",
      "\u001b[90m4 ─\u001b[39m      (mat = Main.r3D(args))\n",
      "\u001b[90m5 ┄\u001b[39m      return mat\n"
     ]
    }
   ],
   "source": [
    "@code_warntype r(1,1,1)"
   ]
  },
  {
   "cell_type": "markdown",
   "metadata": {},
   "source": [
    "## Modifiche"
   ]
  },
  {
   "cell_type": "code",
   "execution_count": null,
   "metadata": {},
   "outputs": [],
   "source": []
  }
 ],
 "metadata": {
  "kernelspec": {
   "display_name": "Julia 1.5.3",
   "language": "julia",
   "name": "julia-1.5"
  },
  "language_info": {
   "file_extension": ".jl",
   "mimetype": "application/julia",
   "name": "julia",
   "version": "1.5.3"
  }
 },
 "nbformat": 4,
 "nbformat_minor": 4
}
