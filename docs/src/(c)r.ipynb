{
 "cells": [
  {
   "cell_type": "code",
   "execution_count": 42,
   "metadata": {},
   "outputs": [],
   "source": [
    "using BenchmarkTools\n",
    "using LinearAlgebra"
   ]
  },
  {
   "cell_type": "markdown",
   "metadata": {},
   "source": [
    "## Vecchia funzione"
   ]
  },
  {
   "cell_type": "code",
   "execution_count": 43,
   "metadata": {},
   "outputs": [
    {
     "data": {
      "text/plain": [
       "r (generic function with 1 method)"
      ]
     },
     "execution_count": 43,
     "metadata": {},
     "output_type": "execute_result"
    }
   ],
   "source": [
    "function r(args...)\n",
    "    args = collect(args)\n",
    "    n = length(args)\n",
    "    if n == 1 # rotation in 2D\n",
    "        angle = args[1]; COS = cos(angle); SIN = sin(angle)\n",
    "        mat = Matrix{Float64}(LinearAlgebra.I, 3, 3)\n",
    "        mat[1,1] = COS;    mat[1,2] = -SIN;\n",
    "        mat[2,1] = SIN;    mat[2,2] = COS;\n",
    "    end\n",
    "\n",
    "     if n == 3 # rotation in 3D\n",
    "        mat = Matrix{Float64}(LinearAlgebra.I, 4, 4)\n",
    "        angle = norm(args);\n",
    "        if norm(args) != 0.0\n",
    "\t\t\taxis = args #normalize(args)\n",
    "\t\t\tCOS = cos(angle); SIN= sin(angle)\n",
    "\t\t\tif axis[2]==axis[3]==0.0    # rotation about x\n",
    "\t\t\t\tmat[2,2] = COS;    mat[2,3] = -SIN;\n",
    "\t\t\t\tmat[3,2] = SIN;    mat[3,3] = COS;\n",
    "\t\t\telseif axis[1]==axis[3]==0.0   # rotation about y\n",
    "\t\t\t\tmat[1,1] = COS;    mat[1,3] = SIN;\n",
    "\t\t\t\tmat[3,1] = -SIN;    mat[3,3] = COS;\n",
    "\t\t\telseif axis[1]==axis[2]==0.0    # rotation about z\n",
    "\t\t\t\tmat[1,1] = COS;    mat[1,2] = -SIN;\n",
    "\t\t\t\tmat[2,1] = SIN;    mat[2,2] = COS;\n",
    "\t\t\telse\n",
    "\t\t\t\tI = Matrix{Float64}(LinearAlgebra.I, 3, 3); u = axis\n",
    "\t\t\t\tUx=[0 -u[3] u[2] ; u[3] 0 -u[1] ;  -u[2] u[1] 1]\n",
    "\t\t\t\tUU =[u[1]*u[1]    u[1]*u[2]   u[1]*u[3];\n",
    "\t\t\t\t\t u[2]*u[1]    u[2]*u[2]   u[2]*u[3];\n",
    "\t\t\t\t\t u[3]*u[1]    u[3]*u[2]   u[3]*u[3]]\n",
    "\t\t\t\tmat[1:3,1:3]=COS*I+SIN*Ux+(1.0-COS)*UU\n",
    "\t\t\tend\n",
    "\t\tend\n",
    "\tend\n",
    "\treturn mat\n",
    "end"
   ]
  },
  {
   "cell_type": "code",
   "execution_count": 44,
   "metadata": {},
   "outputs": [
    {
     "name": "stdout",
     "output_type": "stream",
     "text": [
      "  131.988 ns (2 allocations: 256 bytes)\n"
     ]
    },
    {
     "data": {
      "text/plain": [
       "3×3 Array{Float64,2}:\n",
       " 1.0  -0.0  0.0\n",
       " 0.0   1.0  0.0\n",
       " 0.0   0.0  1.0"
      ]
     },
     "execution_count": 44,
     "metadata": {},
     "output_type": "execute_result"
    }
   ],
   "source": [
    "@btime r(0)"
   ]
  },
  {
   "cell_type": "code",
   "execution_count": 45,
   "metadata": {},
   "outputs": [
    {
     "name": "stdout",
     "output_type": "stream",
     "text": [
      "  834.556 ns (9 allocations: 1.41 KiB)\n"
     ]
    },
    {
     "data": {
      "text/plain": [
       "4×4 Array{Float64,2}:\n",
       " 1.0      0.17353  2.14758  0.0\n",
       " 2.14758  1.0      0.17353  0.0\n",
       " 0.17353  2.14758  1.98703  0.0\n",
       " 0.0      0.0      0.0      1.0"
      ]
     },
     "execution_count": 45,
     "metadata": {},
     "output_type": "execute_result"
    }
   ],
   "source": [
    "@btime r(1,1,1)"
   ]
  },
  {
   "cell_type": "markdown",
   "metadata": {},
   "source": [
    "## Nuove funzioni"
   ]
  },
  {
   "cell_type": "code",
   "execution_count": 46,
   "metadata": {},
   "outputs": [
    {
     "data": {
      "text/plain": [
       "r2D (generic function with 1 method)"
      ]
     },
     "execution_count": 46,
     "metadata": {},
     "output_type": "execute_result"
    }
   ],
   "source": [
    "function r2D(args)\n",
    "\tangle = args[1]; COS = cos(angle); SIN = sin(angle)\n",
    "\tmat = Matrix{Float64}(LinearAlgebra.I, 3, 3)\n",
    "\tmat[1,1] = COS;    mat[1,2] = -SIN;\n",
    "\tmat[2,1] = SIN;    mat[2,2] = COS;\n",
    "\treturn mat\n",
    "end"
   ]
  },
  {
   "cell_type": "code",
   "execution_count": 47,
   "metadata": {},
   "outputs": [
    {
     "data": {
      "text/plain": [
       "rX (generic function with 1 method)"
      ]
     },
     "execution_count": 47,
     "metadata": {},
     "output_type": "execute_result"
    }
   ],
   "source": [
    "function rX(mat,COS,SIN)\n",
    "\tmat[2,2] = COS;    mat[2,3] = -SIN;\n",
    "\tmat[3,2] = SIN;    mat[3,3] = COS;\n",
    "\treturn mat\n",
    "end"
   ]
  },
  {
   "cell_type": "code",
   "execution_count": 48,
   "metadata": {},
   "outputs": [
    {
     "data": {
      "text/plain": [
       "rY (generic function with 1 method)"
      ]
     },
     "execution_count": 48,
     "metadata": {},
     "output_type": "execute_result"
    }
   ],
   "source": [
    "function rY(mat,COS,SIN)\n",
    "\tmat[1,1] = COS;    mat[1,3] = SIN;\n",
    "\tmat[3,1] = -SIN;    mat[3,3] = COS;\n",
    "\treturn mat\n",
    "end"
   ]
  },
  {
   "cell_type": "code",
   "execution_count": 49,
   "metadata": {},
   "outputs": [
    {
     "data": {
      "text/plain": [
       "rZ (generic function with 1 method)"
      ]
     },
     "execution_count": 49,
     "metadata": {},
     "output_type": "execute_result"
    }
   ],
   "source": [
    "function rZ(mat,COS,SIN)\n",
    "\tmat[1,1] = COS;    mat[1,2] = -SIN;\n",
    "\tmat[2,1] = SIN;    mat[2,2] = COS;\n",
    "\treturn mat\n",
    "end"
   ]
  },
  {
   "cell_type": "code",
   "execution_count": 50,
   "metadata": {},
   "outputs": [
    {
     "data": {
      "text/plain": [
       "rAxis (generic function with 1 method)"
      ]
     },
     "execution_count": 50,
     "metadata": {},
     "output_type": "execute_result"
    }
   ],
   "source": [
    "function rAxis(mat,axis,COS,SIN)\n",
    "\tI = Matrix{Float64}(LinearAlgebra.I, 3, 3); u = axis\n",
    "\tUx=[0 -u[3] u[2] ; u[3] 0 -u[1] ;  -u[2] u[1] 1]\n",
    "\tUU =[u[1]*u[1]    u[1]*u[2]   u[1]*u[3];\n",
    "\t\t u[2]*u[1]    u[2]*u[2]   u[2]*u[3];\n",
    "\t\t u[3]*u[1]    u[3]*u[2]   u[3]*u[3]]\n",
    "\tmat[1:3,1:3]=COS*I+SIN*Ux+(1.0-COS)*UU\n",
    "\treturn mat\n",
    "end"
   ]
  },
  {
   "cell_type": "code",
   "execution_count": 51,
   "metadata": {},
   "outputs": [
    {
     "data": {
      "text/plain": [
       "r3D (generic function with 1 method)"
      ]
     },
     "execution_count": 51,
     "metadata": {},
     "output_type": "execute_result"
    }
   ],
   "source": [
    "function r3D(args)\n",
    "\tmat = Matrix{Float64}(LinearAlgebra.I, 4, 4)\n",
    "\tangle = norm(args);\n",
    "\tif angle != 0.0\n",
    "\t\t axis = args #normalize(args)\n",
    "\t\t COS = cos(angle); SIN= sin(angle)\n",
    "\t\t if axis[2]==axis[3]==0.0    # rotation about x\n",
    "\t\t\t mat = rX(mat,COS,SIN)\n",
    "\t\t elseif axis[1]==axis[3]==0.0   # rotation about y\n",
    "\t\t\t mat = rY(mat,COS,SIN)\n",
    "\t\t elseif axis[1]==axis[2]==0.0    # rotation about z\n",
    "\t\t\t mat = rZ(mat,COS,SIN)\n",
    "\t\t else\n",
    "\t\t\t mat = rAxis(mat,axis,COS,SIN)\n",
    "\t\t end\n",
    "\t end\n",
    "\t return mat\n",
    "end"
   ]
  },
  {
   "cell_type": "code",
   "execution_count": 52,
   "metadata": {},
   "outputs": [
    {
     "data": {
      "text/plain": [
       "r (generic function with 1 method)"
      ]
     },
     "execution_count": 52,
     "metadata": {},
     "output_type": "execute_result"
    }
   ],
   "source": [
    "function r(args...)\n",
    "   n = length(args)\n",
    "\n",
    "   if n == 1 # rotation in 2D\n",
    "\t   mat = r2D(args)\n",
    "   end\n",
    "\n",
    "    if n == 3 # rotation in 3D\n",
    "       mat = r3D(args)\n",
    "\tend\n",
    "\treturn mat\n",
    "end"
   ]
  },
  {
   "cell_type": "code",
   "execution_count": 53,
   "metadata": {},
   "outputs": [
    {
     "name": "stdout",
     "output_type": "stream",
     "text": [
      "  87.527 ns (1 allocation: 160 bytes)\n"
     ]
    },
    {
     "data": {
      "text/plain": [
       "3×3 Array{Float64,2}:\n",
       " 1.0  -0.0  0.0\n",
       " 0.0   1.0  0.0\n",
       " 0.0   0.0  1.0"
      ]
     },
     "execution_count": 53,
     "metadata": {},
     "output_type": "execute_result"
    }
   ],
   "source": [
    "@btime r(0)"
   ]
  },
  {
   "cell_type": "code",
   "execution_count": 54,
   "metadata": {},
   "outputs": [
    {
     "name": "stdout",
     "output_type": "stream",
     "text": [
      "  764.463 ns (8 allocations: 1.30 KiB)\n"
     ]
    },
    {
     "data": {
      "text/plain": [
       "4×4 Array{Float64,2}:\n",
       " 1.0      0.17353  2.14758  0.0\n",
       " 2.14758  1.0      0.17353  0.0\n",
       " 0.17353  2.14758  1.98703  0.0\n",
       " 0.0      0.0      0.0      1.0"
      ]
     },
     "execution_count": 54,
     "metadata": {},
     "output_type": "execute_result"
    }
   ],
   "source": [
    "@btime r(1,1,1)"
   ]
  },
  {
   "cell_type": "code",
   "execution_count": 55,
   "metadata": {},
   "outputs": [
    {
     "data": {
      "text/plain": [
       "BenchmarkTools.Trial: \n",
       "  memory estimate:  1.30 KiB\n",
       "  allocs estimate:  8\n",
       "  --------------\n",
       "  minimum time:     759.504 ns (0.00% GC)\n",
       "  median time:      784.298 ns (0.00% GC)\n",
       "  mean time:        980.480 ns (2.26% GC)\n",
       "  maximum time:     26.402 μs (0.00% GC)\n",
       "  --------------\n",
       "  samples:          10000\n",
       "  evals/sample:     121"
      ]
     },
     "execution_count": 55,
     "metadata": {},
     "output_type": "execute_result"
    }
   ],
   "source": [
    "@benchmark r(1,1,1)"
   ]
  },
  {
   "cell_type": "code",
   "execution_count": 56,
   "metadata": {},
   "outputs": [
    {
     "data": {
      "text/plain": [
       "CodeInfo(\n",
       "\u001b[90m1 ─\u001b[39m      goto #3 if not false\n",
       "\u001b[90m2 ─\u001b[39m      nothing\u001b[90m::Nothing\u001b[39m\n",
       "\u001b[90m3 ┄\u001b[39m      goto #5 if not true\n",
       "\u001b[90m4 ─\u001b[39m %4 = invoke Main.r3D(_2::Tuple{Int64,Int64,Int64})\u001b[36m::Array{Float64,2}\u001b[39m\n",
       "\u001b[90m5 ┄\u001b[39m %5 = φ (#4 => %4, #3 => #undef)\u001b[36m::Core.Compiler.MaybeUndef(Array{Float64,2})\u001b[39m\n",
       "\u001b[90m└──\u001b[39m      return %5\n",
       ") => Array{Float64,2}"
      ]
     },
     "execution_count": 56,
     "metadata": {},
     "output_type": "execute_result"
    }
   ],
   "source": [
    "@code_typed r(1,1,1)"
   ]
  },
  {
   "cell_type": "code",
   "execution_count": 57,
   "metadata": {},
   "outputs": [
    {
     "name": "stdout",
     "output_type": "stream",
     "text": [
      "Variables\n",
      "  #self#\u001b[36m::Core.Compiler.Const(r, false)\u001b[39m\n",
      "  args\u001b[36m::Tuple{Int64,Int64,Int64}\u001b[39m\n",
      "  n\u001b[36m::Int64\u001b[39m\n",
      "  mat\u001b[36m::Array{Float64,2}\u001b[39m\n",
      "\n",
      "Body\u001b[36m::Array{Float64,2}\u001b[39m\n",
      "\u001b[90m1 ─\u001b[39m      Core.NewvarNode(:(mat))\n",
      "\u001b[90m│  \u001b[39m      (n = Main.length(args))\n",
      "\u001b[90m│  \u001b[39m %3 = (n::Core.Compiler.Const(3, false) == 1)\u001b[36m::Core.Compiler.Const(false, false)\u001b[39m\n",
      "\u001b[90m└──\u001b[39m      goto #3 if not %3\n",
      "\u001b[90m2 ─\u001b[39m      Core.Compiler.Const(:(mat = Main.r2D(args)), false)\n",
      "\u001b[90m3 ┄\u001b[39m %6 = (n::Core.Compiler.Const(3, false) == 3)\u001b[36m::Core.Compiler.Const(true, false)\u001b[39m\n",
      "\u001b[90m└──\u001b[39m      goto #5 if not %6\n",
      "\u001b[90m4 ─\u001b[39m      (mat = Main.r3D(args))\n",
      "\u001b[90m5 ┄\u001b[39m      return mat\n"
     ]
    }
   ],
   "source": [
    "@code_warntype r(1,1,1)"
   ]
  },
  {
   "cell_type": "markdown",
   "metadata": {},
   "source": [
    "## Modifiche"
   ]
  },
  {
   "cell_type": "code",
   "execution_count": 118,
   "metadata": {},
   "outputs": [
    {
     "data": {
      "text/plain": [
       "r2D (generic function with 2 methods)"
      ]
     },
     "execution_count": 118,
     "metadata": {},
     "output_type": "execute_result"
    }
   ],
   "source": [
    "@inline function r2D(args)\n",
    "\tangle = args[1]; COS = cos(angle); SIN = sin(angle)\n",
    "\tmat = Matrix{Float64}(LinearAlgebra.I, 3, 3)\n",
    "\tmat[1,1] = COS;    mat[1,2] = -SIN;\n",
    "\tmat[2,1] = SIN;    mat[2,2] = COS;\n",
    "\treturn mat\n",
    "end"
   ]
  },
  {
   "cell_type": "code",
   "execution_count": 119,
   "metadata": {},
   "outputs": [
    {
     "data": {
      "text/plain": [
       "rX (generic function with 1 method)"
      ]
     },
     "execution_count": 119,
     "metadata": {},
     "output_type": "execute_result"
    }
   ],
   "source": [
    "@inline function rX(mat,COS,SIN)\n",
    "\tmat[2,2] = COS;    mat[2,3] = -SIN;\n",
    "\tmat[3,2] = SIN;    mat[3,3] = COS;\n",
    "\treturn mat\n",
    "end"
   ]
  },
  {
   "cell_type": "code",
   "execution_count": 120,
   "metadata": {},
   "outputs": [
    {
     "data": {
      "text/plain": [
       "rY (generic function with 1 method)"
      ]
     },
     "execution_count": 120,
     "metadata": {},
     "output_type": "execute_result"
    }
   ],
   "source": [
    "@inline function rY(mat,COS,SIN)\n",
    "\tmat[1,1] = COS;    mat[1,3] = SIN;\n",
    "\tmat[3,1] = -SIN;    mat[3,3] = COS;\n",
    "\treturn mat\n",
    "end"
   ]
  },
  {
   "cell_type": "code",
   "execution_count": 121,
   "metadata": {},
   "outputs": [
    {
     "data": {
      "text/plain": [
       "rZ (generic function with 1 method)"
      ]
     },
     "execution_count": 121,
     "metadata": {},
     "output_type": "execute_result"
    }
   ],
   "source": [
    "@inline function rZ(mat,COS,SIN)\n",
    "\tmat[1,1] = COS;    mat[1,2] = -SIN;\n",
    "\tmat[2,1] = SIN;    mat[2,2] = COS;\n",
    "\treturn mat\n",
    "end"
   ]
  },
  {
   "cell_type": "code",
   "execution_count": 122,
   "metadata": {},
   "outputs": [
    {
     "data": {
      "text/plain": [
       "rAxis (generic function with 1 method)"
      ]
     },
     "execution_count": 122,
     "metadata": {},
     "output_type": "execute_result"
    }
   ],
   "source": [
    "@inline @fastmath function rAxis(mat,axis,COS,SIN)\n",
    "\tI = Matrix{Float64}(LinearAlgebra.I, 3, 3); u = axis\n",
    "\tUx=[0 -u[3] u[2] ; u[3] 0 -u[1] ;  -u[2] u[1] 1]\n",
    "\tUU =[u[1]*u[1]    u[1]*u[2]   u[1]*u[3];\n",
    "         u[2]*u[1]    u[2]*u[2]   u[2]*u[3];\n",
    "         u[3]*u[1]    u[3]*u[2]   u[3]*u[3]]\n",
    "\tmat[1:3,1:3]=COS*I+SIN*Ux+(1.0-COS)*UU\n",
    "\treturn mat\n",
    "end"
   ]
  },
  {
   "cell_type": "code",
   "execution_count": 127,
   "metadata": {},
   "outputs": [
    {
     "data": {
      "text/plain": [
       "r3D (generic function with 1 method)"
      ]
     },
     "execution_count": 127,
     "metadata": {},
     "output_type": "execute_result"
    }
   ],
   "source": [
    "@inline function r3D(args)\n",
    "\tmat = Matrix{Float64}(LinearAlgebra.I, 4, 4)\n",
    "\tangle = norm(args);\n",
    "\tif angle != 0.0\n",
    "\t\t axis = args #normalize(args)\n",
    "\t\t COS = cos(angle); SIN= sin(angle)\n",
    "\t\t if axis[2]==axis[3]==0.0    # rotation about x\n",
    "\t\t\t mat = rX(mat,COS,SIN)\n",
    "\t\t elseif axis[1]==axis[3]==0.0   # rotation about y\n",
    "\t\t\t mat = rY(mat,COS,SIN)\n",
    "\t\t elseif axis[1]==axis[2]==0.0    # rotation about z\n",
    "\t\t\t mat = rZ(mat,COS,SIN)\n",
    "\t\t else\n",
    "\t\t\t mat = rAxis(mat,axis,COS,SIN)\n",
    "\t\t end\n",
    "\t end\n",
    "\t return mat\n",
    "end"
   ]
  },
  {
   "cell_type": "code",
   "execution_count": 124,
   "metadata": {},
   "outputs": [
    {
     "data": {
      "text/plain": [
       "r (generic function with 1 method)"
      ]
     },
     "execution_count": 124,
     "metadata": {},
     "output_type": "execute_result"
    }
   ],
   "source": [
    "@inline function r(args...)\n",
    "   n = length(args)\n",
    "\n",
    "   if n == 1 # rotation in 2D\n",
    "\t   mat = r2D(args)\n",
    "   end\n",
    "\n",
    "    if n == 3 # rotation in 3D\n",
    "       mat = r3Ds(args)\n",
    "\tend\n",
    "\treturn mat\n",
    "end"
   ]
  },
  {
   "cell_type": "code",
   "execution_count": 74,
   "metadata": {},
   "outputs": [
    {
     "data": {
      "text/plain": [
       "CodeInfo(\n",
       "\u001b[90m1 ──\u001b[39m        goto #3 if not false\n",
       "\u001b[90m2 ──\u001b[39m        nothing\u001b[90m::Nothing\u001b[39m\n",
       "\u001b[90m3 ┄─\u001b[39m        goto #31 if not true\n",
       "\u001b[90m4 ──\u001b[39m %4   = LinearAlgebra.I\u001b[36m::UniformScaling{Bool}\u001b[39m\n",
       "\u001b[90m│   \u001b[39m %5   = invoke Array{Float64,2}(%4::UniformScaling{Bool}, (4, 4)::Tuple{Int64,Int64})\u001b[36m::Array{Float64,2}\u001b[39m\n",
       "\u001b[90m│   \u001b[39m %6   = Main.norm\u001b[36m::typeof(norm)\u001b[39m\n",
       "\u001b[90m│   \u001b[39m %7   = invoke %6(_2::Tuple{Int64,Int64,Int64}, 2::Int64)\u001b[36m::Float64\u001b[39m\n",
       "\u001b[90m│   \u001b[39m %8   = Base.ne_float(%7, 0.0)\u001b[36m::Bool\u001b[39m\n",
       "\u001b[90m└───\u001b[39m        goto #29 if not %8\n",
       "\u001b[90m5 ──\u001b[39m %10  = invoke Main.cos(%7::Float64)\u001b[36m::Float64\u001b[39m\n",
       "\u001b[90m│   \u001b[39m %11  = invoke Main.sin(%7::Float64)\u001b[36m::Float64\u001b[39m\n",
       "\u001b[90m│   \u001b[39m %12  = Base.getfield(args, 3, true)\u001b[36m::Int64\u001b[39m\n",
       "\u001b[90m│   \u001b[39m %13  = Base.getfield(args, 2, true)\u001b[36m::Int64\u001b[39m\n",
       "\u001b[90m│   \u001b[39m %14  = (%13 === %12)\u001b[36m::Bool\u001b[39m\n",
       "\u001b[90m└───\u001b[39m        goto #7 if not %14\n",
       "\u001b[90m6 ──\u001b[39m %16  = Base.sitofp(Float64, %12)\u001b[36m::Float64\u001b[39m\n",
       "\u001b[90m│   \u001b[39m %17  = Base.eq_float(0.0, %16)\u001b[36m::Bool\u001b[39m\n",
       "\u001b[90m│   \u001b[39m %18  = Base.ne_float(%16, 9.223372036854776e18)\u001b[36m::Bool\u001b[39m\n",
       "\u001b[90m│   \u001b[39m %19  = Base.and_int(%17, %18)\u001b[36m::Bool\u001b[39m\n",
       "\u001b[90m│   \u001b[39m %20  = Base.fptosi(Int64, %16)\u001b[36m::Int64\u001b[39m\n",
       "\u001b[90m│   \u001b[39m %21  = (%12 === %20)\u001b[36m::Bool\u001b[39m\n",
       "\u001b[90m│   \u001b[39m %22  = Base.and_int(%19, %21)\u001b[36m::Bool\u001b[39m\n",
       "\u001b[90m└───\u001b[39m        goto #8\n",
       "\u001b[90m7 ──\u001b[39m        nothing\u001b[90m::Nothing\u001b[39m\n",
       "\u001b[90m8 ┄─\u001b[39m %25  = φ (#6 => %22, #7 => false)\u001b[36m::Bool\u001b[39m\n",
       "\u001b[90m└───\u001b[39m        goto #10 if not %25\n",
       "\u001b[90m9 ──\u001b[39m        Base.arrayset(true, %5, %10, 2, 2)\u001b[90m::Array{Float64,2}\u001b[39m\n",
       "\u001b[90m│   \u001b[39m %28  = Base.neg_float(%11)\u001b[36m::Float64\u001b[39m\n",
       "\u001b[90m│   \u001b[39m        Base.arrayset(true, %5, %28, 2, 3)\u001b[90m::Array{Float64,2}\u001b[39m\n",
       "\u001b[90m│   \u001b[39m        Base.arrayset(true, %5, %11, 3, 2)\u001b[90m::Array{Float64,2}\u001b[39m\n",
       "\u001b[90m│   \u001b[39m        Base.arrayset(true, %5, %10, 3, 3)\u001b[90m::Array{Float64,2}\u001b[39m\n",
       "\u001b[90m└───\u001b[39m        goto #29\n",
       "\u001b[90m10 ─\u001b[39m %33  = Base.getfield(args, 3, true)\u001b[36m::Int64\u001b[39m\n",
       "\u001b[90m│   \u001b[39m %34  = Base.getfield(args, 1, true)\u001b[36m::Int64\u001b[39m\n",
       "\u001b[90m│   \u001b[39m %35  = (%34 === %33)\u001b[36m::Bool\u001b[39m\n",
       "\u001b[90m└───\u001b[39m        goto #12 if not %35\n",
       "\u001b[90m11 ─\u001b[39m %37  = Base.sitofp(Float64, %33)\u001b[36m::Float64\u001b[39m\n",
       "\u001b[90m│   \u001b[39m %38  = Base.eq_float(0.0, %37)\u001b[36m::Bool\u001b[39m\n",
       "\u001b[90m│   \u001b[39m %39  = Base.ne_float(%37, 9.223372036854776e18)\u001b[36m::Bool\u001b[39m\n",
       "\u001b[90m│   \u001b[39m %40  = Base.and_int(%38, %39)\u001b[36m::Bool\u001b[39m\n",
       "\u001b[90m│   \u001b[39m %41  = Base.fptosi(Int64, %37)\u001b[36m::Int64\u001b[39m\n",
       "\u001b[90m│   \u001b[39m %42  = (%33 === %41)\u001b[36m::Bool\u001b[39m\n",
       "\u001b[90m│   \u001b[39m %43  = Base.and_int(%40, %42)\u001b[36m::Bool\u001b[39m\n",
       "\u001b[90m└───\u001b[39m        goto #13\n",
       "\u001b[90m12 ─\u001b[39m        nothing\u001b[90m::Nothing\u001b[39m\n",
       "\u001b[90m13 ┄\u001b[39m %46  = φ (#11 => %43, #12 => false)\u001b[36m::Bool\u001b[39m\n",
       "\u001b[90m└───\u001b[39m        goto #15 if not %46\n",
       "\u001b[90m14 ─\u001b[39m        Base.arrayset(true, %5, %10, 1, 1)\u001b[90m::Array{Float64,2}\u001b[39m\n",
       "\u001b[90m│   \u001b[39m        Base.arrayset(true, %5, %11, 1, 3)\u001b[90m::Array{Float64,2}\u001b[39m\n",
       "\u001b[90m│   \u001b[39m %50  = Base.neg_float(%11)\u001b[36m::Float64\u001b[39m\n",
       "\u001b[90m│   \u001b[39m        Base.arrayset(true, %5, %50, 3, 1)\u001b[90m::Array{Float64,2}\u001b[39m\n",
       "\u001b[90m│   \u001b[39m        Base.arrayset(true, %5, %10, 3, 3)\u001b[90m::Array{Float64,2}\u001b[39m\n",
       "\u001b[90m└───\u001b[39m        goto #29\n",
       "\u001b[90m15 ─\u001b[39m %54  = Base.getfield(args, 2, true)\u001b[36m::Int64\u001b[39m\n",
       "\u001b[90m│   \u001b[39m %55  = Base.getfield(args, 1, true)\u001b[36m::Int64\u001b[39m\n",
       "\u001b[90m│   \u001b[39m %56  = (%55 === %54)\u001b[36m::Bool\u001b[39m\n",
       "\u001b[90m└───\u001b[39m        goto #17 if not %56\n",
       "\u001b[90m16 ─\u001b[39m %58  = Base.sitofp(Float64, %54)\u001b[36m::Float64\u001b[39m\n",
       "\u001b[90m│   \u001b[39m %59  = Base.eq_float(0.0, %58)\u001b[36m::Bool\u001b[39m\n",
       "\u001b[90m│   \u001b[39m %60  = Base.ne_float(%58, 9.223372036854776e18)\u001b[36m::Bool\u001b[39m\n",
       "\u001b[90m│   \u001b[39m %61  = Base.and_int(%59, %60)\u001b[36m::Bool\u001b[39m\n",
       "\u001b[90m│   \u001b[39m %62  = Base.fptosi(Int64, %58)\u001b[36m::Int64\u001b[39m\n",
       "\u001b[90m│   \u001b[39m %63  = (%54 === %62)\u001b[36m::Bool\u001b[39m\n",
       "\u001b[90m│   \u001b[39m %64  = Base.and_int(%61, %63)\u001b[36m::Bool\u001b[39m\n",
       "\u001b[90m└───\u001b[39m        goto #18\n",
       "\u001b[90m17 ─\u001b[39m        nothing\u001b[90m::Nothing\u001b[39m\n",
       "\u001b[90m18 ┄\u001b[39m %67  = φ (#16 => %64, #17 => false)\u001b[36m::Bool\u001b[39m\n",
       "\u001b[90m└───\u001b[39m        goto #20 if not %67\n",
       "\u001b[90m19 ─\u001b[39m        Base.arrayset(true, %5, %10, 1, 1)\u001b[90m::Array{Float64,2}\u001b[39m\n",
       "\u001b[90m│   \u001b[39m %70  = Base.neg_float(%11)\u001b[36m::Float64\u001b[39m\n",
       "\u001b[90m│   \u001b[39m        Base.arrayset(true, %5, %70, 1, 2)\u001b[90m::Array{Float64,2}\u001b[39m\n",
       "\u001b[90m│   \u001b[39m        Base.arrayset(true, %5, %11, 2, 1)\u001b[90m::Array{Float64,2}\u001b[39m\n",
       "\u001b[90m│   \u001b[39m        Base.arrayset(true, %5, %10, 2, 2)\u001b[90m::Array{Float64,2}\u001b[39m\n",
       "\u001b[90m└───\u001b[39m        goto #29\n",
       "\u001b[90m20 ─\u001b[39m %75  = LinearAlgebra.I\u001b[36m::UniformScaling{Bool}\u001b[39m\n",
       "\u001b[90m│   \u001b[39m %76  = invoke Array{Float64,2}(%75::UniformScaling{Bool}, (3, 3)::Tuple{Int64,Int64})\u001b[36m::Array{Float64,2}\u001b[39m\n",
       "\u001b[90m│   \u001b[39m %77  = Base.getfield(args, 3, true)\u001b[36m::Int64\u001b[39m\n",
       "\u001b[90m│   \u001b[39m %78  = Base.neg_int(%77)\u001b[36m::Int64\u001b[39m\n",
       "\u001b[90m│   \u001b[39m %79  = Base.getfield(args, 2, true)\u001b[36m::Int64\u001b[39m\n",
       "\u001b[90m│   \u001b[39m %80  = Base.getfield(args, 3, true)\u001b[36m::Int64\u001b[39m\n",
       "\u001b[90m│   \u001b[39m %81  = Base.getfield(args, 1, true)\u001b[36m::Int64\u001b[39m\n",
       "\u001b[90m│   \u001b[39m %82  = Base.neg_int(%81)\u001b[36m::Int64\u001b[39m\n",
       "\u001b[90m│   \u001b[39m %83  = Base.getfield(args, 2, true)\u001b[36m::Int64\u001b[39m\n",
       "\u001b[90m│   \u001b[39m %84  = Base.neg_int(%83)\u001b[36m::Int64\u001b[39m\n",
       "\u001b[90m│   \u001b[39m %85  = Base.getfield(args, 1, true)\u001b[36m::Int64\u001b[39m\n",
       "\u001b[90m│   \u001b[39m %86  = invoke Base.hvcat((3, 3, 3)::Tuple{Int64,Int64,Int64}, 0::Int64, %78::Vararg{Int64,N} where N, %79, %80, 0, %82, %84, %85, 1)\u001b[36m::Array{Int64,2}\u001b[39m\n",
       "\u001b[90m│   \u001b[39m %87  = Base.getfield(args, 1, true)\u001b[36m::Int64\u001b[39m\n",
       "\u001b[90m│   \u001b[39m %88  = Base.getfield(args, 1, true)\u001b[36m::Int64\u001b[39m\n",
       "\u001b[90m│   \u001b[39m %89  = Base.mul_int(%87, %88)\u001b[36m::Int64\u001b[39m\n",
       "\u001b[90m│   \u001b[39m %90  = Base.getfield(args, 1, true)\u001b[36m::Int64\u001b[39m\n",
       "\u001b[90m│   \u001b[39m %91  = Base.getfield(args, 2, true)\u001b[36m::Int64\u001b[39m\n",
       "\u001b[90m│   \u001b[39m %92  = Base.mul_int(%90, %91)\u001b[36m::Int64\u001b[39m\n",
       "\u001b[90m│   \u001b[39m %93  = Base.getfield(args, 1, true)\u001b[36m::Int64\u001b[39m\n",
       "\u001b[90m│   \u001b[39m %94  = Base.getfield(args, 3, true)\u001b[36m::Int64\u001b[39m\n",
       "\u001b[90m│   \u001b[39m %95  = Base.mul_int(%93, %94)\u001b[36m::Int64\u001b[39m\n",
       "\u001b[90m│   \u001b[39m %96  = Base.getfield(args, 2, true)\u001b[36m::Int64\u001b[39m\n",
       "\u001b[90m│   \u001b[39m %97  = Base.getfield(args, 1, true)\u001b[36m::Int64\u001b[39m\n",
       "\u001b[90m│   \u001b[39m %98  = Base.mul_int(%96, %97)\u001b[36m::Int64\u001b[39m\n",
       "\u001b[90m│   \u001b[39m %99  = Base.getfield(args, 2, true)\u001b[36m::Int64\u001b[39m\n",
       "\u001b[90m│   \u001b[39m %100 = Base.getfield(args, 2, true)\u001b[36m::Int64\u001b[39m\n",
       "\u001b[90m│   \u001b[39m %101 = Base.mul_int(%99, %100)\u001b[36m::Int64\u001b[39m\n",
       "\u001b[90m│   \u001b[39m %102 = Base.getfield(args, 2, true)\u001b[36m::Int64\u001b[39m\n",
       "\u001b[90m│   \u001b[39m %103 = Base.getfield(args, 3, true)\u001b[36m::Int64\u001b[39m\n",
       "\u001b[90m│   \u001b[39m %104 = Base.mul_int(%102, %103)\u001b[36m::Int64\u001b[39m\n",
       "\u001b[90m│   \u001b[39m %105 = Base.getfield(args, 3, true)\u001b[36m::Int64\u001b[39m\n",
       "\u001b[90m│   \u001b[39m %106 = Base.getfield(args, 1, true)\u001b[36m::Int64\u001b[39m\n",
       "\u001b[90m│   \u001b[39m %107 = Base.mul_int(%105, %106)\u001b[36m::Int64\u001b[39m\n",
       "\u001b[90m│   \u001b[39m %108 = Base.getfield(args, 3, true)\u001b[36m::Int64\u001b[39m\n",
       "\u001b[90m│   \u001b[39m %109 = Base.getfield(args, 2, true)\u001b[36m::Int64\u001b[39m\n",
       "\u001b[90m│   \u001b[39m %110 = Base.mul_int(%108, %109)\u001b[36m::Int64\u001b[39m\n",
       "\u001b[90m│   \u001b[39m %111 = Base.getfield(args, 3, true)\u001b[36m::Int64\u001b[39m\n",
       "\u001b[90m│   \u001b[39m %112 = Base.getfield(args, 3, true)\u001b[36m::Int64\u001b[39m\n",
       "\u001b[90m│   \u001b[39m %113 = Base.mul_int(%111, %112)\u001b[36m::Int64\u001b[39m\n",
       "\u001b[90m│   \u001b[39m %114 = invoke Base.hvcat((3, 3, 3)::Tuple{Int64,Int64,Int64}, %89::Int64, %92::Vararg{Int64,N} where N, %95, %98, %101, %104, %107, %110, %113)\u001b[36m::Array{Int64,2}\u001b[39m\n",
       "\u001b[90m│   \u001b[39m %115 = invoke Main.:*(%10::Float64, %76::Array{Float64,2})\u001b[36m::Array{Float64,2}\u001b[39m\n",
       "\u001b[90m│   \u001b[39m %116 = invoke Main.:*(%11::Float64, %86::Array{Int64,2})\u001b[36m::Array{Float64,2}\u001b[39m\n",
       "\u001b[90m│   \u001b[39m %117 = Base.sub_float(1.0, %10)\u001b[36m::Float64\u001b[39m\n",
       "\u001b[90m│   \u001b[39m %118 = invoke Main.:*(%117::Float64, %114::Array{Int64,2})\u001b[36m::Array{Float64,2}\u001b[39m\n",
       "\u001b[90m│   \u001b[39m %119 = invoke Main.:+(%115::Array{Float64,2}, %116::Array{Float64,2}, %118::Array{Float64,2})\u001b[36m::Array{Float64,2}\u001b[39m\n",
       "\u001b[90m│   \u001b[39m        Base.arraysize(%5, 1)\u001b[90m::Int64\u001b[39m\n",
       "\u001b[90m│   \u001b[39m        Base.arraysize(%5, 2)\u001b[90m::Int64\u001b[39m\n",
       "\u001b[90m└───\u001b[39m        goto #25 if not true\n",
       "\u001b[90m21 ─\u001b[39m %123 = Core.tuple($(QuoteNode(1:3)), $(QuoteNode(1:3)))\u001b[36m::Tuple{UnitRange{Int64},UnitRange{Int64}}\u001b[39m\n",
       "\u001b[90m│   \u001b[39m %124 = Base.arraysize(%5, 1)\u001b[36m::Int64\u001b[39m\n",
       "\u001b[90m│   \u001b[39m %125 = Base.arraysize(%5, 2)\u001b[36m::Int64\u001b[39m\n",
       "\u001b[90m│   \u001b[39m %126 = Base.slt_int(%124, 0)\u001b[36m::Bool\u001b[39m\n",
       "\u001b[90m│   \u001b[39m %127 = Base.ifelse(%126, 0, %124)\u001b[36m::Int64\u001b[39m\n",
       "\u001b[90m│   \u001b[39m %128 = Base.slt_int(%125, 0)\u001b[36m::Bool\u001b[39m\n",
       "\u001b[90m│   \u001b[39m %129 = Base.ifelse(%128, 0, %125)\u001b[36m::Int64\u001b[39m\n",
       "\u001b[90m│   \u001b[39m %130 = Base.slt_int(3, 1)\u001b[36m::Bool\u001b[39m\n",
       "\u001b[90m│   \u001b[39m %131 = Base.sle_int(1, 1)\u001b[36m::Bool\u001b[39m\n",
       "\u001b[90m│   \u001b[39m %132 = Base.sle_int(1, %127)\u001b[36m::Bool\u001b[39m\n",
       "\u001b[90m│   \u001b[39m %133 = Base.and_int(%131, %132)\u001b[36m::Bool\u001b[39m\n",
       "\u001b[90m│   \u001b[39m %134 = Base.sle_int(1, 3)\u001b[36m::Bool\u001b[39m\n",
       "\u001b[90m│   \u001b[39m %135 = Base.sle_int(3, %127)\u001b[36m::Bool\u001b[39m\n",
       "\u001b[90m│   \u001b[39m %136 = Base.and_int(%134, %135)\u001b[36m::Bool\u001b[39m\n",
       "\u001b[90m│   \u001b[39m %137 = Base.and_int(%133, %136)\u001b[36m::Bool\u001b[39m\n",
       "\u001b[90m│   \u001b[39m %138 = Base.or_int(%130, %137)\u001b[36m::Bool\u001b[39m\n",
       "\u001b[90m│   \u001b[39m %139 = Base.slt_int(3, 1)\u001b[36m::Bool\u001b[39m\n",
       "\u001b[90m│   \u001b[39m %140 = Base.sle_int(1, 1)\u001b[36m::Bool\u001b[39m\n",
       "\u001b[90m│   \u001b[39m %141 = Base.sle_int(1, %129)\u001b[36m::Bool\u001b[39m\n",
       "\u001b[90m│   \u001b[39m %142 = Base.and_int(%140, %141)\u001b[36m::Bool\u001b[39m\n",
       "\u001b[90m│   \u001b[39m %143 = Base.sle_int(1, 3)\u001b[36m::Bool\u001b[39m\n",
       "\u001b[90m│   \u001b[39m %144 = Base.sle_int(3, %129)\u001b[36m::Bool\u001b[39m\n",
       "\u001b[90m│   \u001b[39m %145 = Base.and_int(%143, %144)\u001b[36m::Bool\u001b[39m\n",
       "\u001b[90m│   \u001b[39m %146 = Base.and_int(%142, %145)\u001b[36m::Bool\u001b[39m\n",
       "\u001b[90m│   \u001b[39m %147 = Base.or_int(%139, %146)\u001b[36m::Bool\u001b[39m\n",
       "\u001b[90m│   \u001b[39m %148 = Base.and_int(%147, true)\u001b[36m::Bool\u001b[39m\n",
       "\u001b[90m│   \u001b[39m %149 = Base.and_int(%138, %148)\u001b[36m::Bool\u001b[39m\n",
       "\u001b[90m└───\u001b[39m        goto #23 if not %149\n",
       "\u001b[90m22 ─\u001b[39m        goto #24\n",
       "\u001b[90m23 ─\u001b[39m        invoke Base.throw_boundserror(%5::Array{Float64,2}, %123::Tuple{UnitRange{Int64},UnitRange{Int64}})\u001b[90m::Union{}\u001b[39m\n",
       "\u001b[90m└───\u001b[39m        $(Expr(:unreachable))\u001b[90m::Union{}\u001b[39m\n",
       "\u001b[90m24 ┄\u001b[39m        nothing\u001b[90m::Nothing\u001b[39m\n",
       "\u001b[90m25 ┄\u001b[39m        invoke Base._unsafe_setindex!($(QuoteNode(IndexLinear()))::IndexLinear, %5::Array{Float64,2}, %119::Array{Float64,2}, $(QuoteNode(1:3))::UnitRange{Int64}, $(QuoteNode(1:3))::UnitRange{Int64})\u001b[90m::Any\u001b[39m\n",
       "\u001b[90m└───\u001b[39m        goto #26\n",
       "\u001b[90m26 ─\u001b[39m        goto #27\n",
       "\u001b[90m27 ─\u001b[39m        goto #28\n",
       "\u001b[90m28 ─\u001b[39m        nothing\u001b[90m::Nothing\u001b[39m\n",
       "\u001b[90m29 ┄\u001b[39m %160 = φ (#9 => %5, #14 => %5, #19 => %5, #28 => %5, #4 => %5)\u001b[36m::Array{Float64,2}\u001b[39m\n",
       "\u001b[90m└───\u001b[39m        goto #30\n",
       "\u001b[90m30 ─\u001b[39m        nothing\u001b[90m::Nothing\u001b[39m\n",
       "\u001b[90m31 ┄\u001b[39m %163 = φ (#30 => %160, #3 => #undef)\u001b[36m::Core.Compiler.MaybeUndef(Array{Float64,2})\u001b[39m\n",
       "\u001b[90m└───\u001b[39m        return %163\n",
       ") => Array{Float64,2}"
      ]
     },
     "execution_count": 74,
     "metadata": {},
     "output_type": "execute_result"
    }
   ],
   "source": [
    "@code_typed r(1,1,1)"
   ]
  },
  {
   "cell_type": "code",
   "execution_count": 128,
   "metadata": {},
   "outputs": [
    {
     "name": "stdout",
     "output_type": "stream",
     "text": [
      "  689.467 ns (8 allocations: 1.30 KiB)\n"
     ]
    },
    {
     "data": {
      "text/plain": [
       "4×4 Array{Float64,2}:\n",
       " 1.0      0.17353  2.14758  0.0\n",
       " 2.14758  1.0      0.17353  0.0\n",
       " 0.17353  2.14758  1.98703  0.0\n",
       " 0.0      0.0      0.0      1.0"
      ]
     },
     "execution_count": 128,
     "metadata": {},
     "output_type": "execute_result"
    }
   ],
   "source": [
    "@btime r(1,1,1)"
   ]
  },
  {
   "cell_type": "code",
   "execution_count": 126,
   "metadata": {},
   "outputs": [
    {
     "name": "stdout",
     "output_type": "stream",
     "text": [
      "  76.028 ns (1 allocation: 160 bytes)\n"
     ]
    },
    {
     "data": {
      "text/plain": [
       "3×3 Array{Float64,2}:\n",
       " 1.0  -0.0  0.0\n",
       " 0.0   1.0  0.0\n",
       " 0.0   0.0  1.0"
      ]
     },
     "execution_count": 126,
     "metadata": {},
     "output_type": "execute_result"
    }
   ],
   "source": [
    "@btime r(0)"
   ]
  },
  {
   "cell_type": "code",
   "execution_count": null,
   "metadata": {},
   "outputs": [],
   "source": []
  }
 ],
 "metadata": {
  "kernelspec": {
   "display_name": "Julia 1.5.3",
   "language": "julia",
   "name": "julia-1.5"
  },
  "language_info": {
   "file_extension": ".jl",
   "mimetype": "application/julia",
   "name": "julia",
   "version": "1.5.3"
  }
 },
 "nbformat": 4,
 "nbformat_minor": 4
}
