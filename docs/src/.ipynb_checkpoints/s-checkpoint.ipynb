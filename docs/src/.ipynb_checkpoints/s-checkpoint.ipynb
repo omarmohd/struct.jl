{
 "cells": [
  {
   "cell_type": "code",
   "execution_count": null,
   "metadata": {},
   "outputs": [],
   "source": [
    "function s(args...)\n",
    "\td = length(args)\n",
    "\tmat = Matrix{Float64}(LinearAlgebra.I, d+1, d+1)\n",
    "\tfor k in range(1, length=d)\n",
    "\t\tmat[k,k]=args[k]\n",
    "\tend\n",
    "\treturn mat\n",
    "end"
   ]
  }
 ],
 "metadata": {
  "kernelspec": {
   "display_name": "Julia 1.5.3",
   "language": "julia",
   "name": "julia-1.5"
  },
  "language_info": {
   "file_extension": ".jl",
   "mimetype": "application/julia",
   "name": "julia",
   "version": "1.5.3"
  }
 },
 "nbformat": 4,
 "nbformat_minor": 4
}
