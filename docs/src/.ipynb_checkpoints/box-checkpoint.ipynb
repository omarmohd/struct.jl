{
 "cells": [
  {
   "cell_type": "code",
   "execution_count": null,
   "metadata": {},
   "outputs": [],
   "source": [
    "function box(model)\n",
    "\tif isa(model,Matrix)\n",
    "\t\treturn nothing\n",
    "\telseif isa(model,Struct)\n",
    "\t\tlistOfModels = evalStruct(model)\n",
    "\t\t#dim = checkStruct(listOfModels)\n",
    "\t\tif listOfModels == []\n",
    "\t\t\treturn model.box\n",
    "\t\telse\n",
    "\t\t\ttheMin,theMax = box(listOfModels[1])\n",
    "\t\t\tfor theModel in listOfModels[2:end]\n",
    "\t\t\t\tmodelMin,modelMax= box(theModel)\n",
    "\t\t\t\tfor (k,val) in enumerate(modelMin)\n",
    "\t\t\t\t\tif val < theMin[k]\n",
    "\t\t\t\t\t\ttheMin[k]=val\n",
    "\t\t\t\t\tend\n",
    "\t\t\t\tend\n",
    "\t\t\t\tfor (k,val) in enumerate(modelMax)\n",
    "\t\t\t\t\tif val > theMax[k]\n",
    "\t\t\t\t\t\ttheMax[k]=val\n",
    "\t\t\t\t\tend\n",
    "\t\t\t\tend\n",
    "\t\t\tend\n",
    "\t\tend\n",
    "\t\treturn [theMin,theMax]\n",
    "\n",
    "\telseif (isa(model,Tuple) ||isa(model,Array))&& (length(model)>=2)\n",
    "\t\tV = model[1]\n",
    "\t\ttheMin = minimum(V, dims=2)\n",
    "\t\ttheMax = maximum(V, dims=2)\n",
    "\tend\n",
    "\n",
    "\treturn [theMin,theMax]\n",
    "end"
   ]
  }
 ],
 "metadata": {
  "kernelspec": {
   "display_name": "Julia 1.5.3",
   "language": "julia",
   "name": "julia-1.5"
  }
 },
 "nbformat": 4,
 "nbformat_minor": 4
}
