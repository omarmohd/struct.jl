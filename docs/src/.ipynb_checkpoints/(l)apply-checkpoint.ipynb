{
 "cells": [
  {
   "cell_type": "code",
   "execution_count": null,
   "metadata": {},
   "outputs": [],
   "source": [
    "using BenchmarkTools\n",
    "using LinearAlgebra\n",
    "using LinearAlgebraicRepresentation\n",
    "Lar = LinearAlgebraicRepresentation"
   ]
  },
  {
   "cell_type": "code",
   "execution_count": null,
   "metadata": {},
   "outputs": [],
   "source": [
    "square = Lar.cuboid([1,1])"
   ]
  },
  {
   "cell_type": "code",
   "execution_count": null,
   "metadata": {},
   "outputs": [],
   "source": [
    "cube = Lar.cuboid([1,1,1])"
   ]
  },
  {
   "cell_type": "markdown",
   "metadata": {},
   "source": [
    "## Vecchia funzione"
   ]
  },
  {
   "cell_type": "code",
   "execution_count": null,
   "metadata": {},
   "outputs": [],
   "source": [
    "function apply(affineMatrix, larmodel)\n",
    "\tdata = collect(larmodel)\n",
    "\tV = data[1]\n",
    "\n",
    "\tm,n = size(V)\n",
    "\tW = [V; fill(1.0, (1,n))]\n",
    "\tV = (affineMatrix * W)[1:m,1:n]\n",
    "\n",
    "\tdata[1] = V\n",
    "\tlarmodel = Tuple(data)\n",
    "\treturn larmodel\n",
    "end"
   ]
  },
  {
   "cell_type": "code",
   "execution_count": null,
   "metadata": {},
   "outputs": [],
   "source": [
    "@btime apply(Lar.t(-0.5,-0.5),square)"
   ]
  },
  {
   "cell_type": "code",
   "execution_count": null,
   "metadata": {},
   "outputs": [],
   "source": [
    "@btime apply(Lar.t(-0.5,-0.5,-0.5),cube)"
   ]
  },
  {
   "cell_type": "code",
   "execution_count": null,
   "metadata": {},
   "outputs": [],
   "source": [
    "@benchmark apply(Lar.t(-0.5,-0.5,-0.5),cube)"
   ]
  },
  {
   "cell_type": "code",
   "execution_count": null,
   "metadata": {},
   "outputs": [],
   "source": [
    "@code_warntype apply(Lar.t(-0.5,-0.5,-0.5),cube) "
   ]
  },
  {
   "cell_type": "markdown",
   "metadata": {},
   "source": [
    "## Modifiche"
   ]
  },
  {
   "cell_type": "code",
   "execution_count": null,
   "metadata": {},
   "outputs": [],
   "source": [
    "function apply(affineMatrix::Matrix, larmodel::Array)\n",
    "\tdata = collect(larmodel)\n",
    "\tV = data[1]\n",
    "\n",
    "\tm,n = size(V)\n",
    "\tW = [V; fill(1.0, (1,n))]\n",
    "\tV = (affineMatrix * W)[1:m,1:n]\n",
    "\n",
    "\tdata[1] = V\n",
    "\tlarmodel = Tuple(data)\n",
    "\treturn larmodel\n",
    "end"
   ]
  },
  {
   "cell_type": "code",
   "execution_count": null,
   "metadata": {},
   "outputs": [],
   "source": [
    "@code_warntype apply(Lar.t(-0.5,-0.5,-0.5),cube) "
   ]
  }
 ],
 "metadata": {
  "kernelspec": {
   "display_name": "Julia 1.5.3",
   "language": "julia",
   "name": "julia-1.5"
  },
  "language_info": {
   "file_extension": ".jl",
   "mimetype": "application/julia",
   "name": "julia",
   "version": "1.5.3"
  }
 },
 "nbformat": 4,
 "nbformat_minor": 4
}
