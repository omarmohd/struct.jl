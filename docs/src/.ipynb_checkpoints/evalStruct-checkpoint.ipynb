{
 "cells": [
  {
   "cell_type": "code",
   "execution_count": null,
   "metadata": {},
   "outputs": [],
   "source": [
    "function evalStruct(self::Struct)\n",
    "\tdim = checkStruct(self.body)\n",
    "   \tCTM, stack = Matrix{Float64}(LinearAlgebra.I, dim+1, dim+1), []\n",
    "   \tscene = traversal(CTM, stack, self, [])\n",
    "\treturn scene\n",
    "end"
   ]
  }
 ],
 "metadata": {
  "kernelspec": {
   "display_name": "Julia 1.5.3",
   "language": "julia",
   "name": "julia-1.5"
  }
 },
 "nbformat": 4,
 "nbformat_minor": 4
}
