{
 "cells": [
  {
   "cell_type": "code",
   "execution_count": 2,
   "metadata": {},
   "outputs": [
    {
     "data": {
      "text/plain": [
       "LinearAlgebraicRepresentation"
      ]
     },
     "execution_count": 2,
     "metadata": {},
     "output_type": "execute_result"
    }
   ],
   "source": [
    "using BenchmarkTools\n",
    "using LinearAlgebra\n",
    "using LinearAlgebraicRepresentation\n",
    "Lar = LinearAlgebraicRepresentation"
   ]
  },
  {
   "cell_type": "code",
   "execution_count": 3,
   "metadata": {},
   "outputs": [
    {
     "data": {
      "text/plain": [
       "1-element Array{Tuple{Array{Float64,2},Array{Array{Int64,1},1}},1}:\n",
       " ([0.575 0.575 0.925 0.925; -0.175 0.175 -0.175 0.175], [[0, 1, 2, 3]])"
      ]
     },
     "execution_count": 3,
     "metadata": {},
     "output_type": "execute_result"
    }
   ],
   "source": [
    "square = [([[0.575;-0.175] [0.575;0.175] [0.925;-0.175] [0.925;0.175]], [[0,1,2,3]])]"
   ]
  },
  {
   "cell_type": "markdown",
   "metadata": {},
   "source": [
    "## Vecchia funzione"
   ]
  },
  {
   "cell_type": "code",
   "execution_count": 4,
   "metadata": {},
   "outputs": [
    {
     "data": {
      "text/plain": [
       "checkStruct (generic function with 1 method)"
      ]
     },
     "execution_count": 4,
     "metadata": {},
     "output_type": "execute_result"
    }
   ],
   "source": [
    "function checkStruct(lst)\n",
    "\tobj = lst[1]\n",
    "\tif isa(obj,Matrix)\n",
    "\t\tdim = size(obj,1)-1\n",
    "\telseif (isa(obj,Tuple) || isa(obj,Array))\n",
    "\t\tdim = length(obj[1][:,1])\n",
    "\n",
    "\telseif isa(obj,Lar.Struct)\n",
    "\t\tdim = length(obj.box[1])\n",
    "\tend\n",
    "\treturn dim\n",
    "end"
   ]
  },
  {
   "cell_type": "code",
   "execution_count": 5,
   "metadata": {},
   "outputs": [
    {
     "name": "stdout",
     "output_type": "stream",
     "text": [
      "  132.152 ns (1 allocation: 96 bytes)\n"
     ]
    },
    {
     "data": {
      "text/plain": [
       "2"
      ]
     },
     "execution_count": 5,
     "metadata": {},
     "output_type": "execute_result"
    }
   ],
   "source": [
    "@btime checkStruct(square)"
   ]
  },
  {
   "cell_type": "code",
   "execution_count": 6,
   "metadata": {},
   "outputs": [
    {
     "data": {
      "text/plain": [
       "BenchmarkTools.Trial: \n",
       "  memory estimate:  96 bytes\n",
       "  allocs estimate:  1\n",
       "  --------------\n",
       "  minimum time:     122.361 ns (0.00% GC)\n",
       "  median time:      225.085 ns (0.00% GC)\n",
       "  mean time:        254.384 ns (4.84% GC)\n",
       "  maximum time:     9.111 μs (97.25% GC)\n",
       "  --------------\n",
       "  samples:          10000\n",
       "  evals/sample:     881"
      ]
     },
     "execution_count": 6,
     "metadata": {},
     "output_type": "execute_result"
    }
   ],
   "source": [
    "@benchmark checkStruct(square)"
   ]
  },
  {
   "cell_type": "code",
   "execution_count": null,
   "metadata": {},
   "outputs": [],
   "source": [
    "@code_typed "
   ]
  },
  {
   "cell_type": "code",
   "execution_count": 7,
   "metadata": {},
   "outputs": [
    {
     "name": "stdout",
     "output_type": "stream",
     "text": [
      "Variables\n",
      "  #self#\u001b[36m::Core.Compiler.Const(checkStruct, false)\u001b[39m\n",
      "  lst\u001b[36m::Array{Tuple{Array{Float64,2},Array{Array{Int64,1},1}},1}\u001b[39m\n",
      "  obj\u001b[36m::Tuple{Array{Float64,2},Array{Array{Int64,1},1}}\u001b[39m\n",
      "  dim\u001b[36m::Int64\u001b[39m\n",
      "  @_5\u001b[36m::Bool\u001b[39m\n",
      "\n",
      "Body\u001b[36m::Int64\u001b[39m\n",
      "\u001b[90m1 ─\u001b[39m       Core.NewvarNode(:(dim))\n",
      "\u001b[90m│  \u001b[39m       (obj = Base.getindex(lst, 1))\n",
      "\u001b[90m│  \u001b[39m %3  = (obj isa Main.Matrix)\u001b[36m::Core.Compiler.Const(false, false)\u001b[39m\n",
      "\u001b[90m└──\u001b[39m       goto #3 if not %3\n",
      "\u001b[90m2 ─\u001b[39m       Core.Compiler.Const(:(Main.size(obj, 1)), false)\n",
      "\u001b[90m│  \u001b[39m       Core.Compiler.Const(:(dim = %5 - 1), false)\n",
      "\u001b[90m└──\u001b[39m       Core.Compiler.Const(:(goto %25), false)\n",
      "\u001b[90m3 ┄\u001b[39m %8  = (obj isa Main.Tuple)\u001b[36m::Core.Compiler.Const(true, false)\u001b[39m\n",
      "\u001b[90m│  \u001b[39m       %8\n",
      "\u001b[90m│  \u001b[39m       (@_5 = %8)\n",
      "\u001b[90m└──\u001b[39m       goto #5\n",
      "\u001b[90m4 ─\u001b[39m       Core.Compiler.Const(:(@_5 = obj isa Main.Array), false)\n",
      "\u001b[90m5 ┄\u001b[39m       @_5::Core.Compiler.Const(true, false)\n",
      "\u001b[90m│  \u001b[39m %14 = Base.getindex(obj, 1)\u001b[36m::Array{Float64,2}\u001b[39m\n",
      "\u001b[90m│  \u001b[39m %15 = Base.getindex(%14, Main.:(:), 1)\u001b[36m::Array{Float64,1}\u001b[39m\n",
      "\u001b[90m│  \u001b[39m       (dim = Main.length(%15))\n",
      "\u001b[90m└──\u001b[39m       goto #7\n",
      "\u001b[90m6 ─\u001b[39m       Core.Compiler.Const(:(obj), false)\n",
      "\u001b[90m│  \u001b[39m       Core.Compiler.Const(:(Base.getproperty(Main.Lar, :Struct)), false)\n",
      "\u001b[90m│  \u001b[39m       Core.Compiler.Const(:(%18 isa %19), false)\n",
      "\u001b[90m│  \u001b[39m       Core.Compiler.Const(:(unless %20 goto %25), false)\n",
      "\u001b[90m│  \u001b[39m       Core.Compiler.Const(:(Base.getproperty(obj, :box)), false)\n",
      "\u001b[90m│  \u001b[39m       Core.Compiler.Const(:(Base.getindex(%22, 1)), false)\n",
      "\u001b[90m└──\u001b[39m       Core.Compiler.Const(:(dim = Main.length(%23)), false)\n",
      "\u001b[90m7 ┄\u001b[39m       return dim\n"
     ]
    }
   ],
   "source": [
    "@code_warntype checkStruct(square)"
   ]
  },
  {
   "cell_type": "markdown",
   "metadata": {},
   "source": [
    "## Modifiche"
   ]
  },
  {
   "cell_type": "code",
   "execution_count": null,
   "metadata": {},
   "outputs": [],
   "source": []
  }
 ],
 "metadata": {
  "kernelspec": {
   "display_name": "Julia 1.5.3",
   "language": "julia",
   "name": "julia-1.5"
  },
  "language_info": {
   "file_extension": ".jl",
   "mimetype": "application/julia",
   "name": "julia",
   "version": "1.5.3"
  }
 },
 "nbformat": 4,
 "nbformat_minor": 4
}
