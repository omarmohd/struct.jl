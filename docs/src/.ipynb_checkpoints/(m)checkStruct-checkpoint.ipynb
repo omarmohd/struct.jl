{
 "cells": [
  {
   "cell_type": "code",
   "execution_count": 13,
   "metadata": {},
   "outputs": [
    {
     "data": {
      "text/plain": [
       "LinearAlgebraicRepresentation"
      ]
     },
     "execution_count": 13,
     "metadata": {},
     "output_type": "execute_result"
    }
   ],
   "source": [
    "using BenchmarkTools\n",
    "using StaticArrays\n",
    "using LinearAlgebra\n",
    "using LinearAlgebraicRepresentation\n",
    "Lar = LinearAlgebraicRepresentation"
   ]
  },
  {
   "cell_type": "code",
   "execution_count": 2,
   "metadata": {},
   "outputs": [
    {
     "data": {
      "text/plain": [
       "1-element Array{Tuple{Array{Float64,2},Array{Array{Int64,1},1}},1}:\n",
       " ([0.575 0.575 0.925 0.925; -0.175 0.175 -0.175 0.175], [[0, 1, 2, 3]])"
      ]
     },
     "execution_count": 2,
     "metadata": {},
     "output_type": "execute_result"
    }
   ],
   "source": [
    "square = [([[0.575;-0.175] [0.575;0.175] [0.925;-0.175] [0.925;0.175]], [[0,1,2,3]])]"
   ]
  },
  {
   "cell_type": "markdown",
   "metadata": {},
   "source": [
    "## Vecchia funzione"
   ]
  },
  {
   "cell_type": "code",
   "execution_count": 3,
   "metadata": {},
   "outputs": [
    {
     "data": {
      "text/plain": [
       "checkStruct (generic function with 1 method)"
      ]
     },
     "execution_count": 3,
     "metadata": {},
     "output_type": "execute_result"
    }
   ],
   "source": [
    "function checkStruct(lst)\n",
    "\tobj = lst[1]\n",
    "\tif isa(obj,Matrix)\n",
    "\t\tdim = size(obj,1)-1\n",
    "\telseif (isa(obj,Tuple) || isa(obj,Array))\n",
    "\t\tdim = length(obj[1][:,1])\n",
    "\n",
    "\telseif isa(obj,Lar.Struct)\n",
    "\t\tdim = length(obj.box[1])\n",
    "\tend\n",
    "\treturn dim\n",
    "end"
   ]
  },
  {
   "cell_type": "code",
   "execution_count": 4,
   "metadata": {},
   "outputs": [
    {
     "name": "stdout",
     "output_type": "stream",
     "text": [
      "  130.025 ns (1 allocation: 96 bytes)\n"
     ]
    },
    {
     "data": {
      "text/plain": [
       "2"
      ]
     },
     "execution_count": 4,
     "metadata": {},
     "output_type": "execute_result"
    }
   ],
   "source": [
    "@btime checkStruct(square)"
   ]
  },
  {
   "cell_type": "code",
   "execution_count": 5,
   "metadata": {},
   "outputs": [
    {
     "name": "stdout",
     "output_type": "stream",
     "text": [
      "\n",
      ";  @ In[3]:1 within `checkStruct'\n",
      "; Function Attrs: uwtable\n",
      "define i64 @julia_checkStruct_1503(%jl_value_t* nonnull align 16 dereferenceable(40)) #0 {\n",
      "top:\n",
      "  %gcframe = alloca %jl_value_t*, i32 3, align 16\n",
      "  %1 = bitcast %jl_value_t** %gcframe to i8*\n",
      "  call void @llvm.memset.p0i8.i32(i8* align 16 %1, i8 0, i32 24, i1 false)\n",
      "  %2 = alloca [1 x [1 x i64]], align 8\n",
      "  %3 = alloca { [1 x [1 x i64]], i64 }, align 8\n",
      "  %4 = call %jl_value_t*** inttoptr (i64 1761836128 to %jl_value_t*** ()*)() #7\n",
      ";  @ In[3]:2 within `checkStruct'\n",
      "; ┌ @ array.jl:809 within `getindex'\n",
      "   %5 = getelementptr %jl_value_t*, %jl_value_t** %gcframe, i32 0\n",
      "   %6 = bitcast %jl_value_t** %5 to i64*\n",
      "   store i64 4, i64* %6\n",
      "   %7 = getelementptr %jl_value_t**, %jl_value_t*** %4, i32 0\n",
      "   %8 = getelementptr %jl_value_t*, %jl_value_t** %gcframe, i32 1\n",
      "   %9 = bitcast %jl_value_t** %8 to %jl_value_t***\n",
      "   %10 = load %jl_value_t**, %jl_value_t*** %7\n",
      "   store %jl_value_t** %10, %jl_value_t*** %9\n",
      "   %11 = bitcast %jl_value_t*** %7 to %jl_value_t***\n",
      "   store %jl_value_t** %gcframe, %jl_value_t*** %11\n",
      "   %12 = bitcast %jl_value_t* %0 to %jl_array_t*\n",
      "   %13 = getelementptr inbounds %jl_array_t, %jl_array_t* %12, i64 0, i32 1\n",
      "   %14 = load i64, i64* %13, align 8\n",
      "   %15 = icmp eq i64 %14, 0\n",
      "   br i1 %15, label %oob, label %idxend\n",
      "\n",
      "L23:                                              ; preds = %pass\n",
      "   %16 = getelementptr %jl_value_t*, %jl_value_t** %gcframe, i32 2\n",
      "   store %jl_value_t* %.unpack, %jl_value_t** %16\n",
      "; └\n",
      ";  @ In[3]:6 within `checkStruct'\n",
      "; ┌ @ abstractarray.jl:1060 within `getindex'\n",
      "; │┌ @ multidimensional.jl:742 within `_getindex'\n",
      "; ││┌ @ abstractarray.jl:506 within `checkbounds'\n",
      "     %17 = call nonnull %jl_value_t* @j_throw_boundserror_1505(%jl_value_t* nonnull %.unpack, { [1 x [1 x i64]], i64 }* nocapture readonly %3) #0\n",
      "     call void @llvm.trap()\n",
      "     unreachable\n",
      "\n",
      "L26:                                              ; preds = %pass\n",
      "     %18 = getelementptr %jl_value_t*, %jl_value_t** %gcframe, i32 2\n",
      "     store %jl_value_t* %.unpack, %jl_value_t** %18\n",
      "; ││└\n",
      "; ││ @ multidimensional.jl:743 within `_getindex'\n",
      "    %19 = call nonnull %jl_value_t* @j__unsafe_getindex_1504(%jl_value_t* nonnull %.unpack, [1 x [1 x i64]]* nocapture readonly %2, i64 1) #0\n",
      "; └└\n",
      "; ┌ @ array.jl:219 within `length'\n",
      "   %20 = bitcast %jl_value_t* %19 to %jl_array_t*\n",
      "   %21 = getelementptr inbounds %jl_array_t, %jl_array_t* %20, i64 0, i32 1\n",
      "   %22 = load i64, i64* %21, align 8\n",
      "   %23 = getelementptr %jl_value_t*, %jl_value_t** %gcframe, i32 1\n",
      "   %24 = load %jl_value_t*, %jl_value_t** %23\n",
      "   %25 = getelementptr %jl_value_t**, %jl_value_t*** %4, i32 0\n",
      "   %26 = bitcast %jl_value_t*** %25 to %jl_value_t**\n",
      "   store %jl_value_t* %24, %jl_value_t** %26\n",
      "; └\n",
      ";  @ In[3]:11 within `checkStruct'\n",
      "  ret i64 %22\n",
      "\n",
      "oob:                                              ; preds = %top\n",
      ";  @ In[3]:2 within `checkStruct'\n",
      "; ┌ @ array.jl:809 within `getindex'\n",
      "   %27 = alloca i64, align 8\n",
      "   store i64 1, i64* %27, align 8\n",
      "   call void @jl_bounds_error_ints(%jl_value_t* %0, i64* nonnull %27, i64 1)\n",
      "   unreachable\n",
      "\n",
      "idxend:                                           ; preds = %top\n",
      "   %28 = bitcast %jl_value_t* %0 to [2 x %jl_value_t*]**\n",
      "   %29 = load [2 x %jl_value_t*]*, [2 x %jl_value_t*]** %28, align 8\n",
      "   %.elt = getelementptr inbounds [2 x %jl_value_t*], [2 x %jl_value_t*]* %29, i64 0, i64 0\n",
      "   %.unpack = load %jl_value_t*, %jl_value_t** %.elt, align 8\n",
      "   %30 = icmp eq %jl_value_t* %.unpack, null\n",
      "   br i1 %30, label %fail, label %pass\n",
      "\n",
      "fail:                                             ; preds = %idxend\n",
      "   call void @jl_throw(%jl_value_t* inttoptr (i64 158290560 to %jl_value_t*))\n",
      "   unreachable\n",
      "\n",
      "pass:                                             ; preds = %idxend\n",
      "; └\n",
      ";  @ In[3]:6 within `checkStruct'\n",
      "; ┌ @ abstractarray.jl:1060 within `getindex'\n",
      "; │┌ @ indices.jl:321 within `to_indices'\n",
      "; ││┌ @ abstractarray.jl:75 within `axes'\n",
      "; │││┌ @ array.jl:156 within `size'\n",
      "      %31 = bitcast %jl_value_t* %.unpack to %jl_value_t**\n",
      "      %32 = getelementptr inbounds %jl_value_t*, %jl_value_t** %31, i64 3\n",
      "      %33 = bitcast %jl_value_t** %32 to i64*\n",
      "      %34 = load i64, i64* %33, align 8\n",
      "; │││└\n",
      "; │││┌ @ tuple.jl:158 within `map'\n",
      "; ││││┌ @ range.jl:326 within `OneTo' @ range.jl:317\n",
      "; │││││┌ @ promotion.jl:409 within `max'\n",
      "        %35 = icmp sgt i64 %34, 0\n",
      "        %36 = select i1 %35, i64 %34, i64 0\n",
      "; ││└└└└\n",
      "; ││ @ indices.jl:321 within `to_indices' @ multidimensional.jl:727\n",
      "; ││┌ @ multidimensional.jl:732 within `uncolon'\n",
      "; │││┌ @ indices.jl:343 within `Slice' @ indices.jl:343\n",
      "      %37 = getelementptr inbounds [1 x [1 x i64]], [1 x [1 x i64]]* %2, i64 0, i64 0, i64 0\n",
      "      store i64 %36, i64* %37, align 8\n",
      "; │└└└\n",
      "; │┌ @ multidimensional.jl:742 within `_getindex'\n",
      "    %38 = getelementptr inbounds { [1 x [1 x i64]], i64 }, { [1 x [1 x i64]], i64 }* %3, i64 0, i32 0, i64 0, i64 0\n",
      "    store i64 %36, i64* %38, align 8\n",
      "    %39 = getelementptr inbounds { [1 x [1 x i64]], i64 }, { [1 x [1 x i64]], i64 }* %3, i64 0, i32 1\n",
      "    store i64 1, i64* %39, align 8\n",
      "; ││┌ @ abstractarray.jl:506 within `checkbounds' @ abstractarray.jl:485\n",
      "; │││┌ @ abstractarray.jl:75 within `axes'\n",
      "; ││││┌ @ array.jl:156 within `size'\n",
      "       %40 = getelementptr inbounds %jl_value_t*, %jl_value_t** %31, i64 4\n",
      "       %41 = bitcast %jl_value_t** %40 to i64*\n",
      "       %42 = load i64, i64* %41, align 8\n",
      "; ││││└\n",
      "; ││││┌ @ tuple.jl:158 within `map'\n",
      "; │││││┌ @ range.jl:326 within `OneTo' @ range.jl:317\n",
      "; ││││││┌ @ promotion.jl:409 within `max'\n",
      "         %43 = icmp slt i64 %42, 1\n",
      "; │││└└└└\n",
      "; │││ @ abstractarray.jl:506 within `checkbounds'\n",
      "     br i1 %43, label %L23, label %L26\n",
      "; └└└\n",
      "}\n"
     ]
    }
   ],
   "source": [
    "@code_llvm checkStruct(square)"
   ]
  },
  {
   "cell_type": "code",
   "execution_count": 6,
   "metadata": {},
   "outputs": [
    {
     "data": {
      "text/plain": [
       "BenchmarkTools.Trial: \n",
       "  memory estimate:  96 bytes\n",
       "  allocs estimate:  1\n",
       "  --------------\n",
       "  minimum time:     134.256 ns (0.00% GC)\n",
       "  median time:      250.058 ns (0.00% GC)\n",
       "  mean time:        326.815 ns (4.61% GC)\n",
       "  maximum time:     41.865 μs (0.00% GC)\n",
       "  --------------\n",
       "  samples:          10000\n",
       "  evals/sample:     867"
      ]
     },
     "execution_count": 6,
     "metadata": {},
     "output_type": "execute_result"
    }
   ],
   "source": [
    "@benchmark checkStruct(square)"
   ]
  },
  {
   "cell_type": "code",
   "execution_count": 7,
   "metadata": {},
   "outputs": [
    {
     "data": {
      "text/plain": [
       "CodeInfo(\n",
       "\u001b[90m1 ──\u001b[39m %1  = Base.arrayref(true, lst, 1)\u001b[36m::Tuple{Array{Float64,2},Array{Array{Int64,1},1}}\u001b[39m\n",
       "\u001b[90m└───\u001b[39m       goto #3 if not false\n",
       "\u001b[90m2 ──\u001b[39m       nothing\u001b[90m::Nothing\u001b[39m\n",
       "\u001b[90m3 ┄─\u001b[39m       nothing\u001b[90m::Nothing\u001b[39m\n",
       "\u001b[90m│   \u001b[39m %5  = Base.getfield(%1, 1, true)\u001b[36m::Array{Float64,2}\u001b[39m\n",
       "\u001b[90m│   \u001b[39m %6  = Base.arraysize(%5, 1)\u001b[36m::Int64\u001b[39m\n",
       "\u001b[90m│   \u001b[39m       Base.arraysize(%5, 2)\u001b[90m::Int64\u001b[39m\n",
       "\u001b[90m│   \u001b[39m %8  = Base.slt_int(%6, 0)\u001b[36m::Bool\u001b[39m\n",
       "\u001b[90m│   \u001b[39m %9  = Base.ifelse(%8, 0, %6)\u001b[36m::Int64\u001b[39m\n",
       "\u001b[90m│   \u001b[39m %10 = %new(Base.OneTo{Int64}, %9)\u001b[36m::Base.OneTo{Int64}\u001b[39m\n",
       "\u001b[90m│   \u001b[39m %11 = %new(Base.Slice{Base.OneTo{Int64}}, %10)\u001b[36m::Base.Slice{Base.OneTo{Int64}}\u001b[39m\n",
       "\u001b[90m└───\u001b[39m       goto #8 if not true\n",
       "\u001b[90m4 ──\u001b[39m %13 = Core.tuple(%11, 1)\u001b[36m::Tuple{Base.Slice{Base.OneTo{Int64}},Int64}\u001b[39m\n",
       "\u001b[90m│   \u001b[39m       Base.arraysize(%5, 1)\u001b[90m::Int64\u001b[39m\n",
       "\u001b[90m│   \u001b[39m %15 = Base.arraysize(%5, 2)\u001b[36m::Int64\u001b[39m\n",
       "\u001b[90m│   \u001b[39m %16 = Base.slt_int(%15, 0)\u001b[36m::Bool\u001b[39m\n",
       "\u001b[90m│   \u001b[39m %17 = Base.ifelse(%16, 0, %15)\u001b[36m::Int64\u001b[39m\n",
       "\u001b[90m│   \u001b[39m %18 = Base.sle_int(1, 1)\u001b[36m::Bool\u001b[39m\n",
       "\u001b[90m│   \u001b[39m %19 = Base.sle_int(1, %17)\u001b[36m::Bool\u001b[39m\n",
       "\u001b[90m│   \u001b[39m %20 = Base.and_int(%18, %19)\u001b[36m::Bool\u001b[39m\n",
       "\u001b[90m│   \u001b[39m %21 = Base.and_int(%20, true)\u001b[36m::Bool\u001b[39m\n",
       "\u001b[90m│   \u001b[39m %22 = Base.and_int(true, %21)\u001b[36m::Bool\u001b[39m\n",
       "\u001b[90m└───\u001b[39m       goto #6 if not %22\n",
       "\u001b[90m5 ──\u001b[39m       goto #7\n",
       "\u001b[90m6 ──\u001b[39m       invoke Base.throw_boundserror(%5::Array{Float64,2}, %13::Tuple{Base.Slice{Base.OneTo{Int64}},Int64})\u001b[90m::Union{}\u001b[39m\n",
       "\u001b[90m└───\u001b[39m       $(Expr(:unreachable))\u001b[90m::Union{}\u001b[39m\n",
       "\u001b[90m7 ┄─\u001b[39m       nothing\u001b[90m::Nothing\u001b[39m\n",
       "\u001b[90m8 ┄─\u001b[39m %28 = invoke Base._unsafe_getindex($(QuoteNode(IndexLinear()))::IndexLinear, %5::Array{Float64,2}, %11::Base.Slice{Base.OneTo{Int64}}, 1::Int64)\u001b[36m::Array{Float64,1}\u001b[39m\n",
       "\u001b[90m└───\u001b[39m       goto #9\n",
       "\u001b[90m9 ──\u001b[39m       goto #10\n",
       "\u001b[90m10 ─\u001b[39m %31 = Base.arraylen(%28)\u001b[36m::Int64\u001b[39m\n",
       "\u001b[90m└───\u001b[39m       return %31\n",
       ") => Int64"
      ]
     },
     "execution_count": 7,
     "metadata": {},
     "output_type": "execute_result"
    }
   ],
   "source": [
    "@code_typed checkStruct(square)"
   ]
  },
  {
   "cell_type": "code",
   "execution_count": 8,
   "metadata": {},
   "outputs": [
    {
     "name": "stdout",
     "output_type": "stream",
     "text": [
      "Variables\n",
      "  #self#\u001b[36m::Core.Compiler.Const(checkStruct, false)\u001b[39m\n",
      "  lst\u001b[36m::Array{Tuple{Array{Float64,2},Array{Array{Int64,1},1}},1}\u001b[39m\n",
      "  obj\u001b[36m::Tuple{Array{Float64,2},Array{Array{Int64,1},1}}\u001b[39m\n",
      "  dim\u001b[36m::Int64\u001b[39m\n",
      "  @_5\u001b[36m::Bool\u001b[39m\n",
      "\n",
      "Body\u001b[36m::Int64\u001b[39m\n",
      "\u001b[90m1 ─\u001b[39m       Core.NewvarNode(:(dim))\n",
      "\u001b[90m│  \u001b[39m       (obj = Base.getindex(lst, 1))\n",
      "\u001b[90m│  \u001b[39m %3  = (obj isa Main.Matrix)\u001b[36m::Core.Compiler.Const(false, false)\u001b[39m\n",
      "\u001b[90m└──\u001b[39m       goto #3 if not %3\n",
      "\u001b[90m2 ─\u001b[39m       Core.Compiler.Const(:(Main.size(obj, 1)), false)\n",
      "\u001b[90m│  \u001b[39m       Core.Compiler.Const(:(dim = %5 - 1), false)\n",
      "\u001b[90m└──\u001b[39m       Core.Compiler.Const(:(goto %25), false)\n",
      "\u001b[90m3 ┄\u001b[39m %8  = (obj isa Main.Tuple)\u001b[36m::Core.Compiler.Const(true, false)\u001b[39m\n",
      "\u001b[90m│  \u001b[39m       %8\n",
      "\u001b[90m│  \u001b[39m       (@_5 = %8)\n",
      "\u001b[90m└──\u001b[39m       goto #5\n",
      "\u001b[90m4 ─\u001b[39m       Core.Compiler.Const(:(@_5 = obj isa Main.Array), false)\n",
      "\u001b[90m5 ┄\u001b[39m       @_5::Core.Compiler.Const(true, false)\n",
      "\u001b[90m│  \u001b[39m %14 = Base.getindex(obj, 1)\u001b[36m::Array{Float64,2}\u001b[39m\n",
      "\u001b[90m│  \u001b[39m %15 = Base.getindex(%14, Main.:(:), 1)\u001b[36m::Array{Float64,1}\u001b[39m\n",
      "\u001b[90m│  \u001b[39m       (dim = Main.length(%15))\n",
      "\u001b[90m└──\u001b[39m       goto #7\n",
      "\u001b[90m6 ─\u001b[39m       Core.Compiler.Const(:(obj), false)\n",
      "\u001b[90m│  \u001b[39m       Core.Compiler.Const(:(Base.getproperty(Main.Lar, :Struct)), false)\n",
      "\u001b[90m│  \u001b[39m       Core.Compiler.Const(:(%18 isa %19), false)\n",
      "\u001b[90m│  \u001b[39m       Core.Compiler.Const(:(unless %20 goto %25), false)\n",
      "\u001b[90m│  \u001b[39m       Core.Compiler.Const(:(Base.getproperty(obj, :box)), false)\n",
      "\u001b[90m│  \u001b[39m       Core.Compiler.Const(:(Base.getindex(%22, 1)), false)\n",
      "\u001b[90m└──\u001b[39m       Core.Compiler.Const(:(dim = Main.length(%23)), false)\n",
      "\u001b[90m7 ┄\u001b[39m       return dim\n"
     ]
    }
   ],
   "source": [
    "@code_warntype checkStruct(square)"
   ]
  },
  {
   "cell_type": "markdown",
   "metadata": {},
   "source": [
    "## Modifiche"
   ]
  },
  {
   "cell_type": "markdown",
   "metadata": {},
   "source": [
    "\"\"\"\\\n",
    "\tcheckStruct(lst)::Int\\\n",
    "Calcola e ritorna la dimensione “dim” dell’oggetto “lst”.\\\n",
    "\"\"\""
   ]
  },
  {
   "cell_type": "code",
   "execution_count": 14,
   "metadata": {},
   "outputs": [
    {
     "data": {
      "text/plain": [
       "checkStruct (generic function with 1 method)"
      ]
     },
     "execution_count": 14,
     "metadata": {},
     "output_type": "execute_result"
    }
   ],
   "source": [
    "function checkStruct(lst)\n",
    "\tobj = lst[1]\n",
    "\tif (isa(obj,MMatrix) || isa(obj,Matrix))\n",
    "\t\tdim = size(obj,1)-1\n",
    "\telseif (isa(obj,Tuple) || isa(obj,Array))\n",
    "\t\tdim = length(@view (obj[1][:,1]))\n",
    "\n",
    "\telseif isa(obj,Lar.Struct)\n",
    "\t\tdim = length(obj.box[1])\n",
    "\tend\n",
    "\treturn dim\n",
    "end"
   ]
  },
  {
   "cell_type": "code",
   "execution_count": 15,
   "metadata": {},
   "outputs": [
    {
     "name": "stdout",
     "output_type": "stream",
     "text": [
      "  37.159 ns (0 allocations: 0 bytes)\n"
     ]
    },
    {
     "data": {
      "text/plain": [
       "2"
      ]
     },
     "execution_count": 15,
     "metadata": {},
     "output_type": "execute_result"
    }
   ],
   "source": [
    "@btime checkStruct(square)"
   ]
  },
  {
   "cell_type": "code",
   "execution_count": 16,
   "metadata": {},
   "outputs": [
    {
     "name": "stdout",
     "output_type": "stream",
     "text": [
      "\n",
      ";  @ In[14]:1 within `checkStruct'\n",
      "; Function Attrs: uwtable\n",
      "define i64 @julia_checkStruct_2196(%jl_value_t* nonnull align 16 dereferenceable(40)) #0 {\n",
      "top:\n",
      "  %gcframe = alloca %jl_value_t*, i32 3, align 16\n",
      "  %1 = bitcast %jl_value_t** %gcframe to i8*\n",
      "  call void @llvm.memset.p0i8.i32(i8* align 16 %1, i8 0, i32 24, i1 false)\n",
      "  %2 = alloca { [1 x [1 x i64]], i64 }, align 8\n",
      "  %3 = call %jl_value_t*** inttoptr (i64 1761836128 to %jl_value_t*** ()*)() #7\n",
      ";  @ In[14]:2 within `checkStruct'\n",
      "; ┌ @ array.jl:809 within `getindex'\n",
      "   %4 = getelementptr %jl_value_t*, %jl_value_t** %gcframe, i32 0\n",
      "   %5 = bitcast %jl_value_t** %4 to i64*\n",
      "   store i64 4, i64* %5\n",
      "   %6 = getelementptr %jl_value_t**, %jl_value_t*** %3, i32 0\n",
      "   %7 = getelementptr %jl_value_t*, %jl_value_t** %gcframe, i32 1\n",
      "   %8 = bitcast %jl_value_t** %7 to %jl_value_t***\n",
      "   %9 = load %jl_value_t**, %jl_value_t*** %6\n",
      "   store %jl_value_t** %9, %jl_value_t*** %8\n",
      "   %10 = bitcast %jl_value_t*** %6 to %jl_value_t***\n",
      "   store %jl_value_t** %gcframe, %jl_value_t*** %10\n",
      "   %11 = bitcast %jl_value_t* %0 to %jl_array_t*\n",
      "   %12 = getelementptr inbounds %jl_array_t, %jl_array_t* %11, i64 0, i32 1\n",
      "   %13 = load i64, i64* %12, align 8\n",
      "   %14 = icmp eq i64 %13, 0\n",
      "   br i1 %14, label %oob, label %idxend\n",
      "\n",
      "L24:                                              ; preds = %pass\n",
      "   %15 = getelementptr %jl_value_t*, %jl_value_t** %gcframe, i32 2\n",
      "   store %jl_value_t* %.unpack, %jl_value_t** %15\n",
      "; └\n",
      ";  @ In[14]:6 within `checkStruct'\n",
      "; ┌ @ subarray.jl:158 within `view'\n",
      "; │┌ @ abstractarray.jl:506 within `checkbounds'\n",
      "    %16 = call nonnull %jl_value_t* @j_throw_boundserror_2197(%jl_value_t* nonnull %.unpack, { [1 x [1 x i64]], i64 }* nocapture readonly %2) #0\n",
      "    call void @llvm.trap()\n",
      "    unreachable\n",
      "\n",
      "L27:                                              ; preds = %pass\n",
      "    %17 = getelementptr %jl_value_t*, %jl_value_t** %gcframe, i32 1\n",
      "    %18 = load %jl_value_t*, %jl_value_t** %17\n",
      "    %19 = getelementptr %jl_value_t**, %jl_value_t*** %3, i32 0\n",
      "    %20 = bitcast %jl_value_t*** %19 to %jl_value_t**\n",
      "    store %jl_value_t* %18, %jl_value_t** %20\n",
      "; └└\n",
      ";  @ In[14]:11 within `checkStruct'\n",
      "  ret i64 %30\n",
      "\n",
      "oob:                                              ; preds = %top\n",
      ";  @ In[14]:2 within `checkStruct'\n",
      "; ┌ @ array.jl:809 within `getindex'\n",
      "   %21 = alloca i64, align 8\n",
      "   store i64 1, i64* %21, align 8\n",
      "   call void @jl_bounds_error_ints(%jl_value_t* %0, i64* nonnull %21, i64 1)\n",
      "   unreachable\n",
      "\n",
      "idxend:                                           ; preds = %top\n",
      "   %22 = bitcast %jl_value_t* %0 to [2 x %jl_value_t*]**\n",
      "   %23 = load [2 x %jl_value_t*]*, [2 x %jl_value_t*]** %22, align 8\n",
      "   %.elt = getelementptr inbounds [2 x %jl_value_t*], [2 x %jl_value_t*]* %23, i64 0, i64 0\n",
      "   %.unpack = load %jl_value_t*, %jl_value_t** %.elt, align 8\n",
      "   %24 = icmp eq %jl_value_t* %.unpack, null\n",
      "   br i1 %24, label %fail, label %pass\n",
      "\n",
      "fail:                                             ; preds = %idxend\n",
      "   call void @jl_throw(%jl_value_t* inttoptr (i64 158290560 to %jl_value_t*))\n",
      "   unreachable\n",
      "\n",
      "pass:                                             ; preds = %idxend\n",
      "; └\n",
      ";  @ In[14]:6 within `checkStruct'\n",
      "; ┌ @ subarray.jl:157 within `view'\n",
      "; │┌ @ indices.jl:321 within `to_indices'\n",
      "; ││┌ @ abstractarray.jl:75 within `axes'\n",
      "; │││┌ @ array.jl:156 within `size'\n",
      "      %25 = bitcast %jl_value_t* %.unpack to %jl_value_t**\n",
      "      %26 = getelementptr inbounds %jl_value_t*, %jl_value_t** %25, i64 3\n",
      "      %27 = bitcast %jl_value_t** %26 to i64*\n",
      "      %28 = load i64, i64* %27, align 8\n",
      "; │││└\n",
      "; │││┌ @ tuple.jl:158 within `map'\n",
      "; ││││┌ @ range.jl:326 within `OneTo' @ range.jl:317\n",
      "; │││││┌ @ promotion.jl:409 within `max'\n",
      "        %29 = icmp sgt i64 %28, 0\n",
      "        %30 = select i1 %29, i64 %28, i64 0\n",
      "; │└└└└└\n",
      "; │ @ subarray.jl:158 within `view'\n",
      "   %.sroa.0.0..sroa_idx = getelementptr inbounds { [1 x [1 x i64]], i64 }, { [1 x [1 x i64]], i64 }* %2, i64 0, i32 0, i64 0, i64 0\n",
      "   store i64 %30, i64* %.sroa.0.0..sroa_idx, align 8\n",
      "   %31 = getelementptr inbounds { [1 x [1 x i64]], i64 }, { [1 x [1 x i64]], i64 }* %2, i64 0, i32 1\n",
      "   store i64 1, i64* %31, align 8\n",
      "; │┌ @ abstractarray.jl:506 within `checkbounds' @ abstractarray.jl:485\n",
      "; ││┌ @ abstractarray.jl:75 within `axes'\n",
      "; │││┌ @ array.jl:156 within `size'\n",
      "      %32 = getelementptr inbounds %jl_value_t*, %jl_value_t** %25, i64 4\n",
      "      %33 = bitcast %jl_value_t** %32 to i64*\n",
      "      %34 = load i64, i64* %33, align 8\n",
      "; │││└\n",
      "; │││┌ @ tuple.jl:158 within `map'\n",
      "; ││││┌ @ range.jl:326 within `OneTo' @ range.jl:317\n",
      "; │││││┌ @ promotion.jl:409 within `max'\n",
      "        %35 = icmp slt i64 %34, 1\n",
      "; ││└└└└\n",
      "; ││ @ abstractarray.jl:506 within `checkbounds'\n",
      "    br i1 %35, label %L24, label %L27\n",
      "; └└\n",
      "}\n"
     ]
    }
   ],
   "source": [
    "@code_llvm checkStruct(square)"
   ]
  },
  {
   "cell_type": "code",
   "execution_count": 17,
   "metadata": {},
   "outputs": [
    {
     "data": {
      "text/plain": [
       "BenchmarkTools.Trial: \n",
       "  memory estimate:  0 bytes\n",
       "  allocs estimate:  0\n",
       "  --------------\n",
       "  minimum time:     35.483 ns (0.00% GC)\n",
       "  median time:      36.593 ns (0.00% GC)\n",
       "  mean time:        50.375 ns (0.00% GC)\n",
       "  maximum time:     893.851 ns (0.00% GC)\n",
       "  --------------\n",
       "  samples:          10000\n",
       "  evals/sample:     992"
      ]
     },
     "execution_count": 17,
     "metadata": {},
     "output_type": "execute_result"
    }
   ],
   "source": [
    "@benchmark checkStruct(square)"
   ]
  }
 ],
 "metadata": {
  "kernelspec": {
   "display_name": "Julia 1.5.3",
   "language": "julia",
   "name": "julia-1.5"
  },
  "language_info": {
   "file_extension": ".jl",
   "mimetype": "application/julia",
   "name": "julia",
   "version": "1.5.3"
  }
 },
 "nbformat": 4,
 "nbformat_minor": 4
}
