{
 "cells": [
  {
   "cell_type": "code",
   "execution_count": 2,
   "metadata": {},
   "outputs": [
    {
     "data": {
      "text/plain": [
       "LinearAlgebraicRepresentation"
      ]
     },
     "execution_count": 2,
     "metadata": {},
     "output_type": "execute_result"
    }
   ],
   "source": [
    "using BenchmarkTools\n",
    "using LinearAlgebra\n",
    "using LinearAlgebraicRepresentation\n",
    "Lar = LinearAlgebraicRepresentation"
   ]
  },
  {
   "cell_type": "code",
   "execution_count": 2,
   "metadata": {},
   "outputs": [
    {
     "data": {
      "text/plain": [
       "([0.0 0.0 1.0 1.0; 0.0 1.0 0.0 1.0], [[1, 2, 3, 4]])"
      ]
     },
     "execution_count": 2,
     "metadata": {},
     "output_type": "execute_result"
    }
   ],
   "source": [
    "square = Lar.cuboid([1,1])"
   ]
  },
  {
   "cell_type": "code",
   "execution_count": 3,
   "metadata": {},
   "outputs": [
    {
     "data": {
      "text/plain": [
       "LinearAlgebraicRepresentation.Struct([([0.0 0.0 1.0 1.0; 0.0 1.0 0.0 1.0], [[1, 2, 3, 4]])], [[0.0; 0.0], [1.0; 1.0]], \"1677436144475019467\", 2, \"feature\")"
      ]
     },
     "execution_count": 3,
     "metadata": {},
     "output_type": "execute_result"
    }
   ],
   "source": [
    "x = Lar.Struct([square])"
   ]
  },
  {
   "cell_type": "markdown",
   "metadata": {},
   "source": [
    "## Vecchia funzione"
   ]
  },
  {
   "cell_type": "code",
   "execution_count": 3,
   "metadata": {},
   "outputs": [
    {
     "data": {
      "text/plain": [
       "embedStruct (generic function with 1 method)"
      ]
     },
     "execution_count": 3,
     "metadata": {},
     "output_type": "execute_result"
    }
   ],
   "source": [
    "function embedStruct(n::Int)\n",
    "\tfunction embedStruct0(self::Lar.Struct,suffix::String=\"New\")\n",
    "\t\tif n==0\n",
    "\t\t\treturn self, length(self.box[1])\n",
    "\t\tend\n",
    "\t\tcloned = Lar.Struct()\n",
    "\t\tcloned.box = [ [self.body[i].box[1];zeros(dimadd)],\n",
    "\t\t\t\t\t\t[self.body[i].box[2];zeros(dimadd)] ]\n",
    "\t\tcloned.name = self.name*suffix\n",
    "\t\tcloned.category = self.category\n",
    "\t\tcloned.dim = self.dim+n\n",
    "\t\tcloned = Lar.embedTraversal(cloned,self,n,suffix)\n",
    "\t\treturn cloned\n",
    "\tend\n",
    "\treturn embedStruct0\n",
    "end"
   ]
  },
  {
   "cell_type": "markdown",
   "metadata": {},
   "source": [
    "## Nuove funzioni"
   ]
  },
  {
   "cell_type": "code",
   "execution_count": 20,
   "metadata": {},
   "outputs": [
    {
     "data": {
      "text/plain": [
       "embedStruc (generic function with 1 method)"
      ]
     },
     "execution_count": 20,
     "metadata": {},
     "output_type": "execute_result"
    }
   ],
   "source": [
    "function embedStruc(n)\n",
    "\tfunction embedStruct0(self)\n",
    "        suffix = \"-New\"\n",
    "\t\tif n==0\n",
    "\t\t\treturn self, length(self.box[1])\n",
    "\t\tend\n",
    "\t\tcloned = Lar.Struct()\n",
    "\t\tcloned.box = hcat((self.box,[fill([0],n),fill([0],n)]))\n",
    "\t\tcloned.name = self.name*suffix\n",
    "\t\tcloned.category = self.category\n",
    "\t\tcloned.dim = self.dim+n\n",
    "\t\tcloned = Lar.embedTraversal(cloned,self,n,suffix)\n",
    "\t\treturn cloned\n",
    "\tend\n",
    "\treturn embedStruct0\n",
    "end"
   ]
  },
  {
   "cell_type": "code",
   "execution_count": 21,
   "metadata": {},
   "outputs": [
    {
     "name": "stdout",
     "output_type": "stream",
     "text": [
      "  11.399 μs (33 allocations: 2.45 KiB)\n"
     ]
    },
    {
     "data": {
      "text/plain": [
       "LinearAlgebraicRepresentation.Struct(Any[[([0.0 0.0 1.0 1.0; 0.0 1.0 0.0 1.0; 0.0 0.0 0.0 0.0], [[1, 2, 3, 4]])]], [([[0.0; 0.0], [1.0; 1.0]], [[[0]], [[0]]])], \"1677436144475019467-New\", 3, \"feature\")"
      ]
     },
     "execution_count": 21,
     "metadata": {},
     "output_type": "execute_result"
    }
   ],
   "source": [
    "@btime embedStruc(1)(x)"
   ]
  },
  {
   "cell_type": "code",
   "execution_count": 23,
   "metadata": {},
   "outputs": [
    {
     "data": {
      "text/plain": [
       "BenchmarkTools.Trial: \n",
       "  memory estimate:  2.44 KiB\n",
       "  allocs estimate:  33\n",
       "  --------------\n",
       "  minimum time:     11.499 μs (0.00% GC)\n",
       "  median time:      19.701 μs (0.00% GC)\n",
       "  mean time:        33.794 μs (0.00% GC)\n",
       "  maximum time:     4.485 ms (0.00% GC)\n",
       "  --------------\n",
       "  samples:          10000\n",
       "  evals/sample:     1"
      ]
     },
     "execution_count": 23,
     "metadata": {},
     "output_type": "execute_result"
    }
   ],
   "source": [
    "@benchmark embedStruc(1)(x)"
   ]
  },
  {
   "cell_type": "code",
   "execution_count": 24,
   "metadata": {},
   "outputs": [
    {
     "name": "stdout",
     "output_type": "stream",
     "text": [
      "Variables\n",
      "  #self#\u001b[36m::var\"#embedStruct0#16\"{Int64}\u001b[39m\n",
      "  self\u001b[36m::LinearAlgebraicRepresentation.Struct\u001b[39m\n",
      "  suffix\u001b[36m::String\u001b[39m\n",
      "  cloned\u001b[91m\u001b[1m::Any\u001b[22m\u001b[39m\n",
      "\n",
      "Body\u001b[91m\u001b[1m::Any\u001b[22m\u001b[39m\n",
      "\u001b[90m1 ─\u001b[39m       Core.NewvarNode(:(cloned))\n",
      "\u001b[90m│  \u001b[39m       (suffix = \"-New\")\n",
      "\u001b[90m│  \u001b[39m %3  = Core.getfield(#self#, :n)\u001b[36m::Int64\u001b[39m\n",
      "\u001b[90m│  \u001b[39m %4  = (%3 == 0)\u001b[36m::Bool\u001b[39m\n",
      "\u001b[90m└──\u001b[39m       goto #3 if not %4\n",
      "\u001b[90m2 ─\u001b[39m %6  = Base.getproperty(self, :box)\u001b[91m\u001b[1m::Any\u001b[22m\u001b[39m\n",
      "\u001b[90m│  \u001b[39m %7  = Base.getindex(%6, 1)\u001b[91m\u001b[1m::Any\u001b[22m\u001b[39m\n",
      "\u001b[90m│  \u001b[39m %8  = Main.length(%7)\u001b[91m\u001b[1m::Any\u001b[22m\u001b[39m\n",
      "\u001b[90m│  \u001b[39m %9  = Core.tuple(self, %8)\u001b[91m\u001b[1m::Tuple{LinearAlgebraicRepresentation.Struct,Any}\u001b[22m\u001b[39m\n",
      "\u001b[90m└──\u001b[39m       return %9\n",
      "\u001b[90m3 ─\u001b[39m %11 = Base.getproperty(Main.Lar, :Struct)\u001b[91m\u001b[1m::Any\u001b[22m\u001b[39m\n",
      "\u001b[90m│  \u001b[39m       (cloned = (%11)())\n",
      "\u001b[90m│  \u001b[39m %13 = Base.getproperty(self, :box)\u001b[91m\u001b[1m::Any\u001b[22m\u001b[39m\n",
      "\u001b[90m│  \u001b[39m %14 = Base.vect(0)\u001b[36m::Array{Int64,1}\u001b[39m\n",
      "\u001b[90m│  \u001b[39m %15 = Core.getfield(#self#, :n)\u001b[36m::Int64\u001b[39m\n",
      "\u001b[90m│  \u001b[39m %16 = Main.fill(%14, %15)\u001b[36m::Array{Array{Int64,1},1}\u001b[39m\n",
      "\u001b[90m│  \u001b[39m %17 = Base.vect(0)\u001b[36m::Array{Int64,1}\u001b[39m\n",
      "\u001b[90m│  \u001b[39m %18 = Core.getfield(#self#, :n)\u001b[36m::Int64\u001b[39m\n",
      "\u001b[90m│  \u001b[39m %19 = Main.fill(%17, %18)\u001b[36m::Array{Array{Int64,1},1}\u001b[39m\n",
      "\u001b[90m│  \u001b[39m %20 = Base.vect(%16, %19)\u001b[36m::Array{Array{Array{Int64,1},1},1}\u001b[39m\n",
      "\u001b[90m│  \u001b[39m %21 = Core.tuple(%13, %20)\u001b[91m\u001b[1m::Tuple{Any,Array{Array{Array{Int64,1},1},1}}\u001b[22m\u001b[39m\n",
      "\u001b[90m│  \u001b[39m %22 = Main.hcat(%21)\u001b[91m\u001b[1m::Array{_A,2} where _A\u001b[22m\u001b[39m\n",
      "\u001b[90m│  \u001b[39m       Base.setproperty!(cloned, :box, %22)\n",
      "\u001b[90m│  \u001b[39m %24 = Base.getproperty(self, :name)\u001b[91m\u001b[1m::AbstractString\u001b[22m\u001b[39m\n",
      "\u001b[90m│  \u001b[39m %25 = (%24 * suffix::Core.Compiler.Const(\"-New\", false))\u001b[36m::String\u001b[39m\n",
      "\u001b[90m│  \u001b[39m       Base.setproperty!(cloned, :name, %25)\n",
      "\u001b[90m│  \u001b[39m %27 = Base.getproperty(self, :category)\u001b[91m\u001b[1m::AbstractString\u001b[22m\u001b[39m\n",
      "\u001b[90m│  \u001b[39m       Base.setproperty!(cloned, :category, %27)\n",
      "\u001b[90m│  \u001b[39m %29 = Base.getproperty(self, :dim)\u001b[91m\u001b[1m::Any\u001b[22m\u001b[39m\n",
      "\u001b[90m│  \u001b[39m %30 = Core.getfield(#self#, :n)\u001b[36m::Int64\u001b[39m\n",
      "\u001b[90m│  \u001b[39m %31 = (%29 + %30)\u001b[91m\u001b[1m::Any\u001b[22m\u001b[39m\n",
      "\u001b[90m│  \u001b[39m       Base.setproperty!(cloned, :dim, %31)\n",
      "\u001b[90m│  \u001b[39m %33 = Base.getproperty(Main.Lar, :embedTraversal)\u001b[91m\u001b[1m::Any\u001b[22m\u001b[39m\n",
      "\u001b[90m│  \u001b[39m %34 = cloned\u001b[91m\u001b[1m::Any\u001b[22m\u001b[39m\n",
      "\u001b[90m│  \u001b[39m %35 = Core.getfield(#self#, :n)\u001b[36m::Int64\u001b[39m\n",
      "\u001b[90m│  \u001b[39m       (cloned = (%33)(%34, self, %35, suffix::Core.Compiler.Const(\"-New\", false)))\n",
      "\u001b[90m└──\u001b[39m       return cloned\n"
     ]
    }
   ],
   "source": [
    "@code_warntype embedStruc(1)(x)"
   ]
  },
  {
   "cell_type": "markdown",
   "metadata": {},
   "source": [
    "## Modifiche"
   ]
  },
  {
   "cell_type": "code",
   "execution_count": null,
   "metadata": {},
   "outputs": [],
   "source": []
  }
 ],
 "metadata": {
  "kernelspec": {
   "display_name": "Julia 1.5.3",
   "language": "julia",
   "name": "julia-1.5"
  },
  "language_info": {
   "file_extension": ".jl",
   "mimetype": "application/julia",
   "name": "julia",
   "version": "1.5.3"
  }
 },
 "nbformat": 4,
 "nbformat_minor": 4
}
