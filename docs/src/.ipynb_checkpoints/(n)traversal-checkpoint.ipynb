{
 "cells": [
  {
   "cell_type": "code",
   "execution_count": 2,
   "metadata": {},
   "outputs": [
    {
     "data": {
      "text/plain": [
       "LinearAlgebraicRepresentation"
      ]
     },
     "execution_count": 2,
     "metadata": {},
     "output_type": "execute_result"
    }
   ],
   "source": [
    "using BenchmarkTools\n",
    "using LinearAlgebra\n",
    "using LinearAlgebraicRepresentation\n",
    "Lar = LinearAlgebraicRepresentation"
   ]
  },
  {
   "cell_type": "code",
   "execution_count": 3,
   "metadata": {},
   "outputs": [
    {
     "data": {
      "text/plain": [
       "([0.0 0.0 1.0 1.0; 0.0 1.0 0.0 1.0], [[1, 2, 3, 4]])"
      ]
     },
     "execution_count": 3,
     "metadata": {},
     "output_type": "execute_result"
    }
   ],
   "source": [
    "square = Lar.cuboid([1,1])"
   ]
  },
  {
   "cell_type": "code",
   "execution_count": 4,
   "metadata": {},
   "outputs": [
    {
     "data": {
      "text/plain": [
       "LinearAlgebraicRepresentation.Struct([([0.0 0.0 1.0 1.0; 0.0 1.0 0.0 1.0], [[1, 2, 3, 4]])], [[0.0; 0.0], [1.0; 1.0]], \"13519172455676919467\", 2, \"feature\")"
      ]
     },
     "execution_count": 4,
     "metadata": {},
     "output_type": "execute_result"
    }
   ],
   "source": [
    "structure = Lar.Struct([square])"
   ]
  },
  {
   "cell_type": "code",
   "execution_count": 5,
   "metadata": {},
   "outputs": [
    {
     "data": {
      "text/plain": [
       "3×3 Array{Float64,2}:\n",
       " 1.0  0.0  0.0\n",
       " 0.0  1.0  0.0\n",
       " 0.0  0.0  1.0"
      ]
     },
     "execution_count": 5,
     "metadata": {},
     "output_type": "execute_result"
    }
   ],
   "source": [
    "mat = Matrix{Float64}(LinearAlgebra.I, 3, 3)"
   ]
  },
  {
   "cell_type": "markdown",
   "metadata": {},
   "source": [
    "## Vecchia funzione"
   ]
  },
  {
   "cell_type": "code",
   "execution_count": 6,
   "metadata": {},
   "outputs": [
    {
     "data": {
      "text/plain": [
       "traversal (generic function with 2 methods)"
      ]
     },
     "execution_count": 6,
     "metadata": {},
     "output_type": "execute_result"
    }
   ],
   "source": [
    "function traversal(CTM::Matrix, stack, obj, scene=[])\n",
    "\tfor i = 1:length(obj.body)\n",
    "\t\tif isa(obj.body[i],Matrix)\n",
    "\t\t\tCTM = CTM*obj.body[i]\n",
    "\t\telseif (isa(obj.body[i],Tuple) || isa(obj.body[i],Array)) && (length(obj.body[i])>=2)\n",
    "\t\t\tl = Lar.apply(CTM, obj.body[i])\n",
    "\t\t\tpush!(scene,l)\n",
    "\t\telseif isa(obj.body[i],Lar.Struct)\n",
    "\t\t\tpush!(stack,CTM)\n",
    "\t\t\tLar.traversal(CTM,stack,obj.body[i],scene)\n",
    "\t\t\tCTM = pop!(stack)\n",
    "\t\tend\n",
    "\tend\n",
    "\treturn scene\n",
    "end"
   ]
  },
  {
   "cell_type": "code",
   "execution_count": 7,
   "metadata": {},
   "outputs": [
    {
     "name": "stdout",
     "output_type": "stream",
     "text": [
      "  2.255 μs (20 allocations: 1.33 KiB)\n"
     ]
    },
    {
     "data": {
      "text/plain": [
       "1-element Array{Any,1}:\n",
       " ([0.0 0.0 1.0 1.0; 0.0 1.0 0.0 1.0], [[1, 2, 3, 4]])"
      ]
     },
     "execution_count": 7,
     "metadata": {},
     "output_type": "execute_result"
    }
   ],
   "source": [
    "@btime traversal(mat,[],structure,[])"
   ]
  },
  {
   "cell_type": "code",
   "execution_count": 8,
   "metadata": {},
   "outputs": [
    {
     "data": {
      "text/plain": [
       "BenchmarkTools.Trial: \n",
       "  memory estimate:  1.33 KiB\n",
       "  allocs estimate:  20\n",
       "  --------------\n",
       "  minimum time:     2.267 μs (0.00% GC)\n",
       "  median time:      2.411 μs (0.00% GC)\n",
       "  mean time:        3.097 μs (4.16% GC)\n",
       "  maximum time:     689.022 μs (98.33% GC)\n",
       "  --------------\n",
       "  samples:          10000\n",
       "  evals/sample:     9"
      ]
     },
     "execution_count": 8,
     "metadata": {},
     "output_type": "execute_result"
    }
   ],
   "source": [
    "@benchmark traversal(mat,[],structure,[])"
   ]
  },
  {
   "cell_type": "code",
   "execution_count": 9,
   "metadata": {},
   "outputs": [
    {
     "data": {
      "text/plain": [
       "CodeInfo(\n",
       "\u001b[90m1 ──\u001b[39m %1   = Base.getfield(obj, :body)\u001b[36m::Array\u001b[39m\n",
       "\u001b[90m│   \u001b[39m %2   = Base.arraylen(%1)\u001b[36m::Int64\u001b[39m\n",
       "\u001b[90m│   \u001b[39m %3   = Base.sle_int(1, %2)\u001b[36m::Bool\u001b[39m\n",
       "\u001b[90m│   \u001b[39m %4   = Base.ifelse(%3, %2, 0)\u001b[36m::Int64\u001b[39m\n",
       "\u001b[90m│   \u001b[39m %5   = Base.slt_int(%4, 1)\u001b[36m::Bool\u001b[39m\n",
       "\u001b[90m└───\u001b[39m        goto #3 if not %5\n",
       "\u001b[90m2 ──\u001b[39m        goto #4\n",
       "\u001b[90m3 ──\u001b[39m        goto #4\n",
       "\u001b[90m4 ┄─\u001b[39m %9   = φ (#2 => true, #3 => false)\u001b[36m::Bool\u001b[39m\n",
       "\u001b[90m│   \u001b[39m %10  = φ (#3 => 1)\u001b[36m::Int64\u001b[39m\n",
       "\u001b[90m│   \u001b[39m %11  = φ (#3 => 1)\u001b[36m::Int64\u001b[39m\n",
       "\u001b[90m│   \u001b[39m %12  = Base.not_int(%9)\u001b[36m::Bool\u001b[39m\n",
       "\u001b[90m└───\u001b[39m        goto #51 if not %12\n",
       "\u001b[90m5 ┄─\u001b[39m %14  = φ (#4 => %10, #50 => %123)\u001b[36m::Int64\u001b[39m\n",
       "\u001b[90m│   \u001b[39m %15  = φ (#4 => %11, #50 => %124)\u001b[36m::Int64\u001b[39m\n",
       "\u001b[90m│   \u001b[39m %16  = φ (#4 => _2, #50 => %117)\u001b[36m::Any\u001b[39m\n",
       "\u001b[90m│   \u001b[39m %17  = Base.getfield(obj, :body)\u001b[36m::Array\u001b[39m\n",
       "\u001b[90m│   \u001b[39m %18  = Base.getindex(%17, %14)\u001b[36m::Any\u001b[39m\n",
       "\u001b[90m│   \u001b[39m %19  = (%18 isa Main.Matrix)\u001b[36m::Bool\u001b[39m\n",
       "\u001b[90m└───\u001b[39m        goto #7 if not %19\n",
       "\u001b[90m6 ──\u001b[39m %21  = Base.getfield(obj, :body)\u001b[36m::Array\u001b[39m\n",
       "\u001b[90m│   \u001b[39m %22  = Base.getindex(%21, %14)\u001b[36m::Any\u001b[39m\n",
       "\u001b[90m│   \u001b[39m %23  = (%16 * %22)\u001b[36m::Any\u001b[39m\n",
       "\u001b[90m└───\u001b[39m        goto #46\n",
       "\u001b[90m7 ──\u001b[39m %25  = Base.getfield(obj, :body)\u001b[36m::Array\u001b[39m\n",
       "\u001b[90m│   \u001b[39m %26  = Base.getindex(%25, %14)\u001b[36m::Any\u001b[39m\n",
       "\u001b[90m│   \u001b[39m %27  = (%26 isa Main.Tuple)\u001b[36m::Bool\u001b[39m\n",
       "\u001b[90m└───\u001b[39m        goto #9 if not %27\n",
       "\u001b[90m8 ──\u001b[39m        goto #10\n",
       "\u001b[90m9 ──\u001b[39m %30  = Base.getfield(obj, :body)\u001b[36m::Array\u001b[39m\n",
       "\u001b[90m│   \u001b[39m %31  = Base.getindex(%30, %14)\u001b[36m::Any\u001b[39m\n",
       "\u001b[90m└───\u001b[39m %32  = (%31 isa Main.Array)\u001b[36m::Bool\u001b[39m\n",
       "\u001b[90m10 ┄\u001b[39m %33  = φ (#8 => %27, #9 => %32)\u001b[36m::Bool\u001b[39m\n",
       "\u001b[90m└───\u001b[39m        goto #12 if not %33\n",
       "\u001b[90m11 ─\u001b[39m %35  = Base.getfield(obj, :body)\u001b[36m::Array\u001b[39m\n",
       "\u001b[90m│   \u001b[39m %36  = Base.getindex(%35, %14)\u001b[36m::Any\u001b[39m\n",
       "\u001b[90m│   \u001b[39m %37  = Main.length(%36)\u001b[36m::Any\u001b[39m\n",
       "\u001b[90m│   \u001b[39m %38  = (%37 >= 2)\u001b[36m::Any\u001b[39m\n",
       "\u001b[90m└───\u001b[39m        goto #13\n",
       "\u001b[90m12 ─\u001b[39m        nothing\u001b[90m::Nothing\u001b[39m\n",
       "\u001b[90m13 ┄\u001b[39m %41  = φ (#11 => %38, #12 => false)\u001b[36m::Any\u001b[39m\n",
       "\u001b[90m└───\u001b[39m        goto #24 if not %41\n",
       "\u001b[90m14 ─\u001b[39m %43  = Base.getproperty(Main.Lar, :apply)\u001b[36m::Any\u001b[39m\n",
       "\u001b[90m│   \u001b[39m %44  = Base.getfield(obj, :body)\u001b[36m::Array\u001b[39m\n",
       "\u001b[90m│   \u001b[39m %45  = Base.getindex(%44, %14)\u001b[36m::Any\u001b[39m\n",
       "\u001b[90m│   \u001b[39m %46  = (%43)(%16, %45)\u001b[36m::Any\u001b[39m\n",
       "\u001b[90m│   \u001b[39m %47  = Core.lshr_int(1, 63)\u001b[36m::Int64\u001b[39m\n",
       "\u001b[90m│   \u001b[39m %48  = Core.trunc_int(Core.UInt8, %47)\u001b[36m::UInt8\u001b[39m\n",
       "\u001b[90m│   \u001b[39m %49  = Core.eq_int(%48, 0x01)\u001b[36m::Bool\u001b[39m\n",
       "\u001b[90m└───\u001b[39m        goto #16 if not %49\n",
       "\u001b[90m15 ─\u001b[39m        invoke Core.throw_inexacterror(:check_top_bit::Symbol, UInt64::Type{UInt64}, 1::Int64)\u001b[90m::Union{}\u001b[39m\n",
       "\u001b[90m└───\u001b[39m        $(Expr(:unreachable))\u001b[90m::Union{}\u001b[39m\n",
       "\u001b[90m16 ┄\u001b[39m        goto #17\n",
       "\u001b[90m17 ─\u001b[39m %54  = Core.bitcast(Core.UInt64, 1)\u001b[36m::UInt64\u001b[39m\n",
       "\u001b[90m└───\u001b[39m        goto #18\n",
       "\u001b[90m18 ─\u001b[39m        goto #19\n",
       "\u001b[90m19 ─\u001b[39m        goto #20\n",
       "\u001b[90m20 ─\u001b[39m        goto #21\n",
       "\u001b[90m21 ─\u001b[39m        $(Expr(:foreigncall, :(:jl_array_grow_end), Nothing, svec(Any, UInt64), 0, :(:ccall), :(scene), :(%54), :(%54)))\u001b[90m::Nothing\u001b[39m\n",
       "\u001b[90m└───\u001b[39m        goto #22\n",
       "\u001b[90m22 ─\u001b[39m %61  = Base.arraylen(scene)\u001b[36m::Int64\u001b[39m\n",
       "\u001b[90m│   \u001b[39m        Base.arrayset(true, scene, %46, %61)\u001b[90m::Array{Any,1}\u001b[39m\n",
       "\u001b[90m└───\u001b[39m        goto #23\n",
       "\u001b[90m23 ─\u001b[39m        goto #46\n",
       "\u001b[90m24 ─\u001b[39m %65  = Base.getfield(obj, :body)\u001b[36m::Array\u001b[39m\n",
       "\u001b[90m│   \u001b[39m %66  = Base.getindex(%65, %14)\u001b[36m::Any\u001b[39m\n",
       "\u001b[90m│   \u001b[39m %67  = Base.getproperty(Main.Lar, :Struct)\u001b[36m::Any\u001b[39m\n",
       "\u001b[90m│   \u001b[39m %68  = (%66 isa %67)\u001b[36m::Bool\u001b[39m\n",
       "\u001b[90m└───\u001b[39m        goto #46 if not %68\n",
       "\u001b[90m25 ─\u001b[39m %70  = Core.lshr_int(1, 63)\u001b[36m::Int64\u001b[39m\n",
       "\u001b[90m│   \u001b[39m %71  = Core.trunc_int(Core.UInt8, %70)\u001b[36m::UInt8\u001b[39m\n",
       "\u001b[90m│   \u001b[39m %72  = Core.eq_int(%71, 0x01)\u001b[36m::Bool\u001b[39m\n",
       "\u001b[90m└───\u001b[39m        goto #27 if not %72\n",
       "\u001b[90m26 ─\u001b[39m        invoke Core.throw_inexacterror(:check_top_bit::Symbol, UInt64::Type{UInt64}, 1::Int64)\u001b[90m::Union{}\u001b[39m\n",
       "\u001b[90m└───\u001b[39m        $(Expr(:unreachable))\u001b[90m::Union{}\u001b[39m\n",
       "\u001b[90m27 ┄\u001b[39m        goto #28\n",
       "\u001b[90m28 ─\u001b[39m %77  = Core.bitcast(Core.UInt64, 1)\u001b[36m::UInt64\u001b[39m\n",
       "\u001b[90m└───\u001b[39m        goto #29\n",
       "\u001b[90m29 ─\u001b[39m        goto #30\n",
       "\u001b[90m30 ─\u001b[39m        goto #31\n",
       "\u001b[90m31 ─\u001b[39m        goto #32\n",
       "\u001b[90m32 ─\u001b[39m        $(Expr(:foreigncall, :(:jl_array_grow_end), Nothing, svec(Any, UInt64), 0, :(:ccall), :(stack), :(%77), :(%77)))\u001b[90m::Nothing\u001b[39m\n",
       "\u001b[90m└───\u001b[39m        goto #33\n",
       "\u001b[90m33 ─\u001b[39m %84  = Base.arraylen(stack)\u001b[36m::Int64\u001b[39m\n",
       "\u001b[90m│   \u001b[39m        Base.arrayset(true, stack, %16, %84)\u001b[90m::Array{Any,1}\u001b[39m\n",
       "\u001b[90m└───\u001b[39m        goto #34\n",
       "\u001b[90m34 ─\u001b[39m %87  = Base.getproperty(Main.Lar, :traversal)\u001b[36m::Any\u001b[39m\n",
       "\u001b[90m│   \u001b[39m %88  = Base.getfield(obj, :body)\u001b[36m::Array\u001b[39m\n",
       "\u001b[90m│   \u001b[39m %89  = Base.getindex(%88, %14)\u001b[36m::Any\u001b[39m\n",
       "\u001b[90m│   \u001b[39m        (%87)(%16, stack, %89, scene)\u001b[90m::Any\u001b[39m\n",
       "\u001b[90m│   \u001b[39m %91  = Base.arraylen(stack)\u001b[36m::Int64\u001b[39m\n",
       "\u001b[90m│   \u001b[39m %92  = (%91 === 0)\u001b[36m::Bool\u001b[39m\n",
       "\u001b[90m└───\u001b[39m        goto #36 if not %92\n",
       "\u001b[90m35 ─\u001b[39m %94  = %new(Core.ArgumentError, \"array must be non-empty\")\u001b[36m::ArgumentError\u001b[39m\n",
       "\u001b[90m│   \u001b[39m        Base.throw(%94)\u001b[90m::Union{}\u001b[39m\n",
       "\u001b[90m└───\u001b[39m        $(Expr(:unreachable))\u001b[90m::Union{}\u001b[39m\n",
       "\u001b[90m36 ┄\u001b[39m %97  = Base.arraysize(stack, 1)\u001b[36m::Int64\u001b[39m\n",
       "\u001b[90m│   \u001b[39m %98  = Base.slt_int(%97, 0)\u001b[36m::Bool\u001b[39m\n",
       "\u001b[90m│   \u001b[39m %99  = Base.ifelse(%98, 0, %97)\u001b[36m::Int64\u001b[39m\n",
       "\u001b[90m│   \u001b[39m %100 = Base.arrayref(true, stack, %99)\u001b[36m::Any\u001b[39m\n",
       "\u001b[90m│   \u001b[39m %101 = Core.lshr_int(1, 63)\u001b[36m::Int64\u001b[39m\n",
       "\u001b[90m│   \u001b[39m %102 = Core.trunc_int(Core.UInt8, %101)\u001b[36m::UInt8\u001b[39m\n",
       "\u001b[90m│   \u001b[39m %103 = Core.eq_int(%102, 0x01)\u001b[36m::Bool\u001b[39m\n",
       "\u001b[90m└───\u001b[39m        goto #38 if not %103\n",
       "\u001b[90m37 ─\u001b[39m        invoke Core.throw_inexacterror(:check_top_bit::Symbol, UInt64::Type{UInt64}, 1::Int64)\u001b[90m::Union{}\u001b[39m\n",
       "\u001b[90m└───\u001b[39m        $(Expr(:unreachable))\u001b[90m::Union{}\u001b[39m\n",
       "\u001b[90m38 ┄\u001b[39m        goto #39\n",
       "\u001b[90m39 ─\u001b[39m %108 = Core.bitcast(Core.UInt64, 1)\u001b[36m::UInt64\u001b[39m\n",
       "\u001b[90m└───\u001b[39m        goto #40\n",
       "\u001b[90m40 ─\u001b[39m        goto #41\n",
       "\u001b[90m41 ─\u001b[39m        goto #42\n",
       "\u001b[90m42 ─\u001b[39m        goto #43\n",
       "\u001b[90m43 ─\u001b[39m        $(Expr(:foreigncall, :(:jl_array_del_end), Nothing, svec(Any, UInt64), 0, :(:ccall), :(stack), :(%108), :(%108)))\u001b[90m::Nothing\u001b[39m\n",
       "\u001b[90m└───\u001b[39m        goto #44\n",
       "\u001b[90m44 ─\u001b[39m        goto #45\n",
       "\u001b[90m45 ─\u001b[39m        nothing\u001b[90m::Nothing\u001b[39m\n",
       "\u001b[90m46 ┄\u001b[39m %117 = φ (#6 => %23, #23 => %16, #45 => %100, #24 => %16)\u001b[36m::Any\u001b[39m\n",
       "\u001b[90m│   \u001b[39m %118 = (%15 === %4)\u001b[36m::Bool\u001b[39m\n",
       "\u001b[90m└───\u001b[39m        goto #48 if not %118\n",
       "\u001b[90m47 ─\u001b[39m        goto #49\n",
       "\u001b[90m48 ─\u001b[39m %121 = Base.add_int(%15, 1)\u001b[36m::Int64\u001b[39m\n",
       "\u001b[90m└───\u001b[39m        goto #49\n",
       "\u001b[90m49 ┄\u001b[39m %123 = φ (#48 => %121)\u001b[36m::Int64\u001b[39m\n",
       "\u001b[90m│   \u001b[39m %124 = φ (#48 => %121)\u001b[36m::Int64\u001b[39m\n",
       "\u001b[90m│   \u001b[39m %125 = φ (#47 => true, #48 => false)\u001b[36m::Bool\u001b[39m\n",
       "\u001b[90m│   \u001b[39m %126 = Base.not_int(%125)\u001b[36m::Bool\u001b[39m\n",
       "\u001b[90m└───\u001b[39m        goto #51 if not %126\n",
       "\u001b[90m50 ─\u001b[39m        goto #5\n",
       "\u001b[90m51 ┄\u001b[39m        return scene\n",
       ") => Array{Any,1}"
      ]
     },
     "execution_count": 9,
     "metadata": {},
     "output_type": "execute_result"
    }
   ],
   "source": [
    "@code_typed traversal(mat,[],structure,[])"
   ]
  },
  {
   "cell_type": "code",
   "execution_count": 10,
   "metadata": {},
   "outputs": [
    {
     "name": "stdout",
     "output_type": "stream",
     "text": [
      "Variables\n",
      "  #self#\u001b[36m::Core.Compiler.Const(traversal, false)\u001b[39m\n",
      "  CTM@_2\u001b[36m::Array{Float64,2}\u001b[39m\n",
      "  stack\u001b[36m::Array{Any,1}\u001b[39m\n",
      "  obj\u001b[36m::LinearAlgebraicRepresentation.Struct\u001b[39m\n",
      "  scene\u001b[36m::Array{Any,1}\u001b[39m\n",
      "  @_6\u001b[33m\u001b[1m::Union{Nothing, Tuple{Int64,Int64}}\u001b[22m\u001b[39m\n",
      "  i\u001b[36m::Int64\u001b[39m\n",
      "  l\u001b[91m\u001b[1m::Any\u001b[22m\u001b[39m\n",
      "  CTM@_9\u001b[91m\u001b[1m::Any\u001b[22m\u001b[39m\n",
      "  @_10\u001b[36m::Bool\u001b[39m\n",
      "  @_11\u001b[91m\u001b[1m::Any\u001b[22m\u001b[39m\n",
      "\n",
      "Body\u001b[36m::Array{Any,1}\u001b[39m\n",
      "\u001b[90m1 ──\u001b[39m       (CTM@_9 = CTM@_2)\n",
      "\u001b[90m│   \u001b[39m %2  = Base.getproperty(obj, :body)\u001b[91m\u001b[1m::Array\u001b[22m\u001b[39m\n",
      "\u001b[90m│   \u001b[39m %3  = Main.length(%2)\u001b[36m::Int64\u001b[39m\n",
      "\u001b[90m│   \u001b[39m %4  = (1:%3)\u001b[36m::Core.Compiler.PartialStruct(UnitRange{Int64}, Any[Core.Compiler.Const(1, false), Int64])\u001b[39m\n",
      "\u001b[90m│   \u001b[39m       (@_6 = Base.iterate(%4))\n",
      "\u001b[90m│   \u001b[39m %6  = (@_6 === nothing)\u001b[36m::Bool\u001b[39m\n",
      "\u001b[90m│   \u001b[39m %7  = Base.not_int(%6)\u001b[36m::Bool\u001b[39m\n",
      "\u001b[90m└───\u001b[39m       goto #16 if not %7\n",
      "\u001b[90m2 ┄─\u001b[39m       Core.NewvarNode(:(l))\n",
      "\u001b[90m│   \u001b[39m %10 = @_6::Tuple{Int64,Int64}\u001b[36m::Tuple{Int64,Int64}\u001b[39m\n",
      "\u001b[90m│   \u001b[39m       (i = Core.getfield(%10, 1))\n",
      "\u001b[90m│   \u001b[39m %12 = Core.getfield(%10, 2)\u001b[36m::Int64\u001b[39m\n",
      "\u001b[90m│   \u001b[39m %13 = Base.getproperty(obj, :body)\u001b[91m\u001b[1m::Array\u001b[22m\u001b[39m\n",
      "\u001b[90m│   \u001b[39m %14 = Base.getindex(%13, i)\u001b[91m\u001b[1m::Any\u001b[22m\u001b[39m\n",
      "\u001b[90m│   \u001b[39m %15 = (%14 isa Main.Matrix)\u001b[36m::Bool\u001b[39m\n",
      "\u001b[90m└───\u001b[39m       goto #4 if not %15\n",
      "\u001b[90m3 ──\u001b[39m %17 = CTM@_9\u001b[91m\u001b[1m::Any\u001b[22m\u001b[39m\n",
      "\u001b[90m│   \u001b[39m %18 = Base.getproperty(obj, :body)\u001b[91m\u001b[1m::Array\u001b[22m\u001b[39m\n",
      "\u001b[90m│   \u001b[39m %19 = Base.getindex(%18, i)\u001b[91m\u001b[1m::Any\u001b[22m\u001b[39m\n",
      "\u001b[90m│   \u001b[39m       (CTM@_9 = %17 * %19)\n",
      "\u001b[90m└───\u001b[39m       goto #14\n",
      "\u001b[90m4 ──\u001b[39m %22 = Base.getproperty(obj, :body)\u001b[91m\u001b[1m::Array\u001b[22m\u001b[39m\n",
      "\u001b[90m│   \u001b[39m %23 = Base.getindex(%22, i)\u001b[91m\u001b[1m::Any\u001b[22m\u001b[39m\n",
      "\u001b[90m│   \u001b[39m %24 = (%23 isa Main.Tuple)\u001b[36m::Bool\u001b[39m\n",
      "\u001b[90m└───\u001b[39m       goto #6 if not %24\n",
      "\u001b[90m5 ──\u001b[39m       (@_10 = %24)\n",
      "\u001b[90m└───\u001b[39m       goto #7\n",
      "\u001b[90m6 ──\u001b[39m %28 = Base.getproperty(obj, :body)\u001b[91m\u001b[1m::Array\u001b[22m\u001b[39m\n",
      "\u001b[90m│   \u001b[39m %29 = Base.getindex(%28, i)\u001b[91m\u001b[1m::Any\u001b[22m\u001b[39m\n",
      "\u001b[90m└───\u001b[39m       (@_10 = %29 isa Main.Array)\n",
      "\u001b[90m7 ┄─\u001b[39m       goto #9 if not @_10\n",
      "\u001b[90m8 ──\u001b[39m %32 = Base.getproperty(obj, :body)\u001b[91m\u001b[1m::Array\u001b[22m\u001b[39m\n",
      "\u001b[90m│   \u001b[39m %33 = Base.getindex(%32, i)\u001b[91m\u001b[1m::Any\u001b[22m\u001b[39m\n",
      "\u001b[90m│   \u001b[39m %34 = Main.length(%33)\u001b[91m\u001b[1m::Any\u001b[22m\u001b[39m\n",
      "\u001b[90m│   \u001b[39m       (@_11 = %34 >= 2)\n",
      "\u001b[90m└───\u001b[39m       goto #10\n",
      "\u001b[90m9 ──\u001b[39m       (@_11 = false)\n",
      "\u001b[90m10 ┄\u001b[39m       goto #12 if not @_11\n",
      "\u001b[90m11 ─\u001b[39m %39 = Base.getproperty(Main.Lar, :apply)\u001b[91m\u001b[1m::Any\u001b[22m\u001b[39m\n",
      "\u001b[90m│   \u001b[39m %40 = CTM@_9\u001b[91m\u001b[1m::Any\u001b[22m\u001b[39m\n",
      "\u001b[90m│   \u001b[39m %41 = Base.getproperty(obj, :body)\u001b[91m\u001b[1m::Array\u001b[22m\u001b[39m\n",
      "\u001b[90m│   \u001b[39m %42 = Base.getindex(%41, i)\u001b[91m\u001b[1m::Any\u001b[22m\u001b[39m\n",
      "\u001b[90m│   \u001b[39m       (l = (%39)(%40, %42))\n",
      "\u001b[90m│   \u001b[39m       Main.push!(scene, l)\n",
      "\u001b[90m└───\u001b[39m       goto #14\n",
      "\u001b[90m12 ─\u001b[39m %46 = Base.getproperty(obj, :body)\u001b[91m\u001b[1m::Array\u001b[22m\u001b[39m\n",
      "\u001b[90m│   \u001b[39m %47 = Base.getindex(%46, i)\u001b[91m\u001b[1m::Any\u001b[22m\u001b[39m\n",
      "\u001b[90m│   \u001b[39m %48 = Base.getproperty(Main.Lar, :Struct)\u001b[91m\u001b[1m::Any\u001b[22m\u001b[39m\n",
      "\u001b[90m│   \u001b[39m %49 = (%47 isa %48)\u001b[36m::Bool\u001b[39m\n",
      "\u001b[90m└───\u001b[39m       goto #14 if not %49\n",
      "\u001b[90m13 ─\u001b[39m       Main.push!(stack, CTM@_9)\n",
      "\u001b[90m│   \u001b[39m %52 = Base.getproperty(Main.Lar, :traversal)\u001b[91m\u001b[1m::Any\u001b[22m\u001b[39m\n",
      "\u001b[90m│   \u001b[39m %53 = CTM@_9\u001b[91m\u001b[1m::Any\u001b[22m\u001b[39m\n",
      "\u001b[90m│   \u001b[39m %54 = Base.getproperty(obj, :body)\u001b[91m\u001b[1m::Array\u001b[22m\u001b[39m\n",
      "\u001b[90m│   \u001b[39m %55 = Base.getindex(%54, i)\u001b[91m\u001b[1m::Any\u001b[22m\u001b[39m\n",
      "\u001b[90m│   \u001b[39m       (%52)(%53, stack, %55, scene)\n",
      "\u001b[90m└───\u001b[39m       (CTM@_9 = Main.pop!(stack))\n",
      "\u001b[90m14 ┄\u001b[39m       (@_6 = Base.iterate(%4, %12))\n",
      "\u001b[90m│   \u001b[39m %59 = (@_6 === nothing)\u001b[36m::Bool\u001b[39m\n",
      "\u001b[90m│   \u001b[39m %60 = Base.not_int(%59)\u001b[36m::Bool\u001b[39m\n",
      "\u001b[90m└───\u001b[39m       goto #16 if not %60\n",
      "\u001b[90m15 ─\u001b[39m       goto #2\n",
      "\u001b[90m16 ┄\u001b[39m       return scene\n"
     ]
    }
   ],
   "source": [
    "@code_warntype traversal(mat,[],structure,[])"
   ]
  },
  {
   "cell_type": "markdown",
   "metadata": {},
   "source": [
    "## Modifiche"
   ]
  },
  {
   "cell_type": "code",
   "execution_count": null,
   "metadata": {},
   "outputs": [],
   "source": []
  }
 ],
 "metadata": {
  "kernelspec": {
   "display_name": "Julia 1.5.3",
   "language": "julia",
   "name": "julia-1.5"
  },
  "language_info": {
   "file_extension": ".jl",
   "mimetype": "application/julia",
   "name": "julia",
   "version": "1.5.3"
  }
 },
 "nbformat": 4,
 "nbformat_minor": 4
}
