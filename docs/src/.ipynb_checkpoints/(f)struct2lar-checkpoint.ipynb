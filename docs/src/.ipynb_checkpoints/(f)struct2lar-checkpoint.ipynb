{
 "cells": [
  {
   "cell_type": "code",
   "execution_count": 3,
   "metadata": {},
   "outputs": [
    {
     "data": {
      "text/plain": [
       "LinearAlgebraicRepresentation"
      ]
     },
     "execution_count": 3,
     "metadata": {},
     "output_type": "execute_result"
    }
   ],
   "source": [
    "using BenchmarkTools\n",
    "using LinearAlgebra\n",
    "using LinearAlgebraicRepresentation\n",
    "Lar = LinearAlgebraicRepresentation"
   ]
  },
  {
   "cell_type": "code",
   "execution_count": 4,
   "metadata": {},
   "outputs": [
    {
     "data": {
      "text/plain": [
       "([0.0 0.0 1.0 1.0; 0.0 1.0 0.0 1.0], [[1, 2, 3, 4]])"
      ]
     },
     "execution_count": 4,
     "metadata": {},
     "output_type": "execute_result"
    }
   ],
   "source": [
    "square = Lar.cuboid([1,1])"
   ]
  },
  {
   "cell_type": "code",
   "execution_count": 5,
   "metadata": {},
   "outputs": [
    {
     "data": {
      "text/plain": [
       "([-0.5 -0.5 0.5 0.5; -0.5 0.5 -0.5 0.5], [[1, 2, 3, 4]])"
      ]
     },
     "execution_count": 5,
     "metadata": {},
     "output_type": "execute_result"
    }
   ],
   "source": [
    "table = Lar.apply(Lar.t(-0.5,-0.5),square)"
   ]
  },
  {
   "cell_type": "code",
   "execution_count": 6,
   "metadata": {},
   "outputs": [
    {
     "data": {
      "text/plain": [
       "LinearAlgebraicRepresentation.Struct(Any[([-0.5 -0.5 0.5 0.5; -0.5 0.5 -0.5 0.5], [[1, 2, 3, 4]]), [6.123233995736766e-17 -1.0 0.0; 1.0 6.123233995736766e-17 0.0; 0.0 0.0 1.0], ([-0.5 -0.5 0.5 0.5; -0.5 0.5 -0.5 0.5], [[1, 2, 3, 4]]), [6.123233995736766e-17 -1.0 0.0; 1.0 6.123233995736766e-17 0.0; 0.0 0.0 1.0]], [[-0.5; -0.5], [0.5; 0.5]], \"7191043393582045575\", 2, \"feature\")"
      ]
     },
     "execution_count": 6,
     "metadata": {},
     "output_type": "execute_result"
    }
   ],
   "source": [
    "structure = Lar.Struct([repeat([table,Lar.r(pi/2)],outer=2)...])"
   ]
  },
  {
   "cell_type": "markdown",
   "metadata": {},
   "source": [
    "## Vecchia funzione"
   ]
  },
  {
   "cell_type": "code",
   "execution_count": 7,
   "metadata": {},
   "outputs": [
    {
     "data": {
      "text/plain": [
       "struct2lar (generic function with 1 method)"
      ]
     },
     "execution_count": 7,
     "metadata": {},
     "output_type": "execute_result"
    }
   ],
   "source": [
    "function struct2lar(structure)\n",
    "\tlistOfModels = Lar.evalStruct(structure)\n",
    "\tvertDict = Dict()\n",
    "\tindex,defaultValue = 0,0\n",
    "\tW = Array{Float64,1}[]\n",
    "\tm = length(listOfModels[1])\n",
    "\tlarmodel = [Array{Number,1}[] for k=1:m]\n",
    "\n",
    "\tfor model in listOfModels\n",
    "\t\tV = model[1]\n",
    "\t\tfor k=2:m\n",
    "\t\t\tfor incell in model[k]\n",
    "\t\t\t\toutcell=[]\n",
    "\t\t\t\tfor v in incell\n",
    "\t\t\t\t\tkey = map(Lar.approxVal(7), V[:,v])\n",
    "\t\t\t\t\tif get(vertDict,key,defaultValue)==defaultValue\n",
    "\t\t\t\t\t\tindex += 1\n",
    "\t\t\t\t\t\tvertDict[key]=index\n",
    "\t\t\t\t\t\tpush!(outcell,index)\n",
    "\t\t\t\t\t\tpush!(W,key)\n",
    "\t\t\t\t\telse\n",
    "\t\t\t\t\t\tpush!(outcell,vertDict[key])\n",
    "\t\t\t\t\tend\n",
    "\t\t\t\tend\n",
    "\t\t\t\tappend!(larmodel[k],[outcell])\n",
    "\t\t\tend\n",
    "\t\tend\n",
    "\tend\n",
    "\n",
    "\tappend!(larmodel[1], W)\n",
    "\tV = hcat(larmodel[1]...)\n",
    "\tchains = [convert(Lar.Cells, chain) for chain in larmodel[2:end]]\n",
    "\treturn (V, chains...)\n",
    "end"
   ]
  },
  {
   "cell_type": "code",
   "execution_count": 8,
   "metadata": {},
   "outputs": [
    {
     "name": "stdout",
     "output_type": "stream",
     "text": [
      "  56.800 μs (145 allocations: 8.86 KiB)\n"
     ]
    },
    {
     "data": {
      "text/plain": [
       "([-0.5 -0.5 0.5 0.5; -0.5 0.5 -0.5 0.5], [[1, 2, 3, 4], [3, 1, 4, 2]])"
      ]
     },
     "execution_count": 8,
     "metadata": {},
     "output_type": "execute_result"
    }
   ],
   "source": [
    "@btime struct2lar(structure)"
   ]
  },
  {
   "cell_type": "markdown",
   "metadata": {},
   "source": [
    "## Nuove funzioni"
   ]
  },
  {
   "cell_type": "code",
   "execution_count": 9,
   "metadata": {},
   "outputs": [
    {
     "data": {
      "text/plain": [
       "flatten (generic function with 1 method)"
      ]
     },
     "execution_count": 9,
     "metadata": {},
     "output_type": "execute_result"
    }
   ],
   "source": [
    "function flatten(listOfModels)\n",
    "\tW = Array{Float64,1}[]\n",
    "\tm = length(listOfModels[1])\n",
    "\tlarmodel = [Array{Number,1}[] for k=1:m]\n",
    "\tvertDict = Dict()\n",
    "\tindex,defaultValue = 0,0\n",
    "\tfor model in listOfModels\n",
    "\t\tV = model[1]\n",
    "\t\tfor k=2:m\n",
    "\t\t\tfor incell in model[k]\n",
    "\t\t\t\toutcell=[]\n",
    "\t\t\t\tfor v in incell\n",
    "\t\t\t\t\tkey = map(Lar.approxVal(7), V[:,v])\n",
    "\t\t\t\t\tif get(vertDict,key,defaultValue)==defaultValue\n",
    "\t\t\t\t\t\tindex += 1\n",
    "\t\t\t\t\t\tvertDict[key]=index\n",
    "\t\t\t\t\t\tpush!(outcell,index)\n",
    "\t\t\t\t\t\tpush!(W,key)\n",
    "\t\t\t\t\telse\n",
    "\t\t\t\t\t\tpush!(outcell,vertDict[key])\n",
    "\t\t\t\t\tend\n",
    "\t\t\t\tend\n",
    "\t\t\t\tappend!(larmodel[k],[outcell])\n",
    "\t\t\tend\n",
    "\t\tend\n",
    "\tend\n",
    "\treturn larmodel,W\n",
    "end"
   ]
  },
  {
   "cell_type": "code",
   "execution_count": 10,
   "metadata": {},
   "outputs": [
    {
     "data": {
      "text/plain": [
       "struct2lar (generic function with 1 method)"
      ]
     },
     "execution_count": 10,
     "metadata": {},
     "output_type": "execute_result"
    }
   ],
   "source": [
    "function struct2lar(structure) \n",
    "\n",
    "\tlarmodel,W = flatten(Lar.evalStruct(structure))\n",
    "\n",
    "\tappend!(larmodel[1], W)\n",
    "\tV = hcat(larmodel[1]...)\n",
    "\tchains = [convert(Lar.Cells, chain) for chain in larmodel[2:end]]\n",
    "\treturn (V, chains...)\n",
    "end"
   ]
  },
  {
   "cell_type": "code",
   "execution_count": 11,
   "metadata": {},
   "outputs": [
    {
     "name": "stdout",
     "output_type": "stream",
     "text": [
      "  57.899 μs (142 allocations: 8.77 KiB)\n"
     ]
    },
    {
     "data": {
      "text/plain": [
       "([-0.5 -0.5 0.5 0.5; -0.5 0.5 -0.5 0.5], [[1, 2, 3, 4], [3, 1, 4, 2]])"
      ]
     },
     "execution_count": 11,
     "metadata": {},
     "output_type": "execute_result"
    }
   ],
   "source": [
    "@btime struct2lar(structure)"
   ]
  },
  {
   "cell_type": "code",
   "execution_count": 12,
   "metadata": {},
   "outputs": [
    {
     "data": {
      "text/plain": [
       "BenchmarkTools.Trial: \n",
       "  memory estimate:  8.77 KiB\n",
       "  allocs estimate:  142\n",
       "  --------------\n",
       "  minimum time:     57.401 μs (0.00% GC)\n",
       "  median time:      107.100 μs (0.00% GC)\n",
       "  mean time:        126.767 μs (1.95% GC)\n",
       "  maximum time:     20.499 ms (0.00% GC)\n",
       "  --------------\n",
       "  samples:          10000\n",
       "  evals/sample:     1"
      ]
     },
     "execution_count": 12,
     "metadata": {},
     "output_type": "execute_result"
    }
   ],
   "source": [
    "@benchmark struct2lar(structure)"
   ]
  },
  {
   "cell_type": "code",
   "execution_count": 13,
   "metadata": {},
   "outputs": [
    {
     "name": "stdout",
     "output_type": "stream",
     "text": [
      "Variables\n",
      "  #self#\u001b[36m::Core.Compiler.Const(struct2lar, false)\u001b[39m\n",
      "  structure\u001b[36m::LinearAlgebraicRepresentation.Struct\u001b[39m\n",
      "  @_3\u001b[36m::Int64\u001b[39m\n",
      "  #10\u001b[36m::var\"#10#11\"\u001b[39m\n",
      "  larmodel\u001b[91m\u001b[1m::Any\u001b[22m\u001b[39m\n",
      "  W\u001b[36m::Array{Array{Float64,1},1}\u001b[39m\n",
      "  V\u001b[91m\u001b[1m::Any\u001b[22m\u001b[39m\n",
      "  chains\u001b[91m\u001b[1m::Any\u001b[22m\u001b[39m\n",
      "\n",
      "Body\u001b[91m\u001b[1m::Tuple{Any,Vararg{Any,N} where N}\u001b[22m\u001b[39m\n",
      "\u001b[90m1 ─\u001b[39m %1  = Base.getproperty(Main.Lar, :evalStruct)\u001b[91m\u001b[1m::Any\u001b[22m\u001b[39m\n",
      "\u001b[90m│  \u001b[39m %2  = (%1)(structure)\u001b[91m\u001b[1m::Any\u001b[22m\u001b[39m\n",
      "\u001b[90m│  \u001b[39m %3  = Main.flatten(%2)\u001b[91m\u001b[1m::Tuple{Any,Array{Array{Float64,1},1}}\u001b[22m\u001b[39m\n",
      "\u001b[90m│  \u001b[39m %4  = Base.indexed_iterate(%3, 1)\u001b[36m::Core.Compiler.PartialStruct(Tuple{Any,Int64}, Any[Any, Core.Compiler.Const(2, false)])\u001b[39m\n",
      "\u001b[90m│  \u001b[39m       (larmodel = Core.getfield(%4, 1))\n",
      "\u001b[90m│  \u001b[39m       (@_3 = Core.getfield(%4, 2))\n",
      "\u001b[90m│  \u001b[39m %7  = Base.indexed_iterate(%3, 2, @_3::Core.Compiler.Const(2, false))\u001b[36m::Core.Compiler.PartialStruct(Tuple{Array{Array{Float64,1},1},Int64}, Any[Array{Array{Float64,1},1}, Core.Compiler.Const(3, false)])\u001b[39m\n",
      "\u001b[90m│  \u001b[39m       (W = Core.getfield(%7, 1))\n",
      "\u001b[90m│  \u001b[39m %9  = Base.getindex(larmodel, 1)\u001b[91m\u001b[1m::Any\u001b[22m\u001b[39m\n",
      "\u001b[90m│  \u001b[39m       Main.append!(%9, W)\n",
      "\u001b[90m│  \u001b[39m %11 = Base.getindex(larmodel, 1)\u001b[91m\u001b[1m::Any\u001b[22m\u001b[39m\n",
      "\u001b[90m│  \u001b[39m       (V = Core._apply_iterate(Base.iterate, Main.hcat, %11))\n",
      "\u001b[90m│  \u001b[39m       (#10 = %new(Main.:(var\"#10#11\")))\n",
      "\u001b[90m│  \u001b[39m %14 = #10\u001b[36m::Core.Compiler.Const(var\"#10#11\"(), false)\u001b[39m\n",
      "\u001b[90m│  \u001b[39m %15 = larmodel\u001b[91m\u001b[1m::Any\u001b[22m\u001b[39m\n",
      "\u001b[90m│  \u001b[39m %16 = Base.lastindex(larmodel)\u001b[91m\u001b[1m::Any\u001b[22m\u001b[39m\n",
      "\u001b[90m│  \u001b[39m %17 = (2:%16)\u001b[91m\u001b[1m::Any\u001b[22m\u001b[39m\n",
      "\u001b[90m│  \u001b[39m %18 = Base.getindex(%15, %17)\u001b[91m\u001b[1m::Any\u001b[22m\u001b[39m\n",
      "\u001b[90m│  \u001b[39m %19 = Base.Generator(%14, %18)\u001b[91m\u001b[1m::Base.Generator{_A,var\"#10#11\"} where _A\u001b[22m\u001b[39m\n",
      "\u001b[90m│  \u001b[39m       (chains = Base.collect(%19))\n",
      "\u001b[90m│  \u001b[39m %21 = Core.tuple(V)\u001b[91m\u001b[1m::Tuple{Any}\u001b[22m\u001b[39m\n",
      "\u001b[90m│  \u001b[39m %22 = Core._apply_iterate(Base.iterate, Core.tuple, %21, chains)\u001b[91m\u001b[1m::Tuple{Any,Vararg{Any,N} where N}\u001b[22m\u001b[39m\n",
      "\u001b[90m└──\u001b[39m       return %22\n"
     ]
    }
   ],
   "source": [
    "@code_warntype struct2lar(structure)"
   ]
  },
  {
   "cell_type": "markdown",
   "metadata": {},
   "source": [
    "## Modifiche"
   ]
  },
  {
   "cell_type": "code",
   "execution_count": 17,
   "metadata": {},
   "outputs": [
    {
     "ename": "LoadError",
     "evalue": "syntax: invalid comprehension syntax",
     "output_type": "error",
     "traceback": [
      "syntax: invalid comprehension syntax",
      "",
      "Stacktrace:",
      " [1] top-level scope at In[17]:4",
      " [2] include_string(::Function, ::Module, ::String, ::String) at .\\loading.jl:1091"
     ]
    }
   ],
   "source": [
    "function flatten(listOfModels)\n",
    "\tW = Array{Float64,1}[]\n",
    "\tm = length(listOfModels[1])\n",
    "\tlarmodel = [Array{Number,1}[] @simd for k=1:m]\n",
    "\tvertDict = Dict()\n",
    "\tindex,defaultValue = 0,0\n",
    "\tfor model in listOfModels\n",
    "\t\tV = model[1]\n",
    "\t\tfor k=2:m\n",
    "\t\t\tfor incell in model[k]\n",
    "\t\t\t\toutcell=[]\n",
    "\t\t\t\tfor v in incell\n",
    "\t\t\t\t\tkey = map(Lar.approxVal(7), V[:,v])\n",
    "\t\t\t\t\tif get(vertDict,key,defaultValue)==defaultValue\n",
    "\t\t\t\t\t\tindex += 1\n",
    "\t\t\t\t\t\tvertDict[key]=index\n",
    "\t\t\t\t\t\tpush!(outcell,index)\n",
    "\t\t\t\t\t\tpush!(W,key)\n",
    "\t\t\t\t\telse\n",
    "\t\t\t\t\t\tpush!(outcell,vertDict[key])\n",
    "\t\t\t\t\tend\n",
    "\t\t\t\tend\n",
    "\t\t\t\tappend!(larmodel[k],[outcell])\n",
    "\t\t\tend\n",
    "\t\tend\n",
    "\tend\n",
    "\treturn larmodel,W\n",
    "end"
   ]
  },
  {
   "cell_type": "code",
   "execution_count": 18,
   "metadata": {},
   "outputs": [
    {
     "data": {
      "text/plain": [
       "struct2lar (generic function with 1 method)"
      ]
     },
     "execution_count": 18,
     "metadata": {},
     "output_type": "execute_result"
    }
   ],
   "source": [
    "function struct2lar(structure) \n",
    "\n",
    "\tlarmodel,W = flatten(Lar.evalStruct(structure))\n",
    "\n",
    "\tappend!(larmodel[1], W)\n",
    "\tV = hcat(larmodel[1]...)\n",
    "\tchains = [convert(Lar.Cells, chain) for chain in larmodel[2:end]]\n",
    "\treturn (V, chains...)\n",
    "end"
   ]
  },
  {
   "cell_type": "code",
   "execution_count": 19,
   "metadata": {},
   "outputs": [
    {
     "name": "stdout",
     "output_type": "stream",
     "text": [
      "Variables\n",
      "  #self#\u001b[36m::Core.Compiler.Const(struct2lar, false)\u001b[39m\n",
      "  structure\u001b[36m::LinearAlgebraicRepresentation.Struct\u001b[39m\n",
      "  @_3\u001b[36m::Int64\u001b[39m\n",
      "  #18\u001b[36m::var\"#18#19\"\u001b[39m\n",
      "  larmodel\u001b[91m\u001b[1m::Any\u001b[22m\u001b[39m\n",
      "  W\u001b[36m::Array{Array{Float64,1},1}\u001b[39m\n",
      "  V\u001b[91m\u001b[1m::Any\u001b[22m\u001b[39m\n",
      "  chains\u001b[91m\u001b[1m::Any\u001b[22m\u001b[39m\n",
      "\n",
      "Body\u001b[91m\u001b[1m::Tuple{Any,Vararg{Any,N} where N}\u001b[22m\u001b[39m\n",
      "\u001b[90m1 ─\u001b[39m %1  = Base.getproperty(Main.Lar, :evalStruct)\u001b[91m\u001b[1m::Any\u001b[22m\u001b[39m\n",
      "\u001b[90m│  \u001b[39m %2  = (%1)(structure)\u001b[91m\u001b[1m::Any\u001b[22m\u001b[39m\n",
      "\u001b[90m│  \u001b[39m %3  = Main.flatten(%2)\u001b[91m\u001b[1m::Tuple{Any,Array{Array{Float64,1},1}}\u001b[22m\u001b[39m\n",
      "\u001b[90m│  \u001b[39m %4  = Base.indexed_iterate(%3, 1)\u001b[36m::Core.Compiler.PartialStruct(Tuple{Any,Int64}, Any[Any, Core.Compiler.Const(2, false)])\u001b[39m\n",
      "\u001b[90m│  \u001b[39m       (larmodel = Core.getfield(%4, 1))\n",
      "\u001b[90m│  \u001b[39m       (@_3 = Core.getfield(%4, 2))\n",
      "\u001b[90m│  \u001b[39m %7  = Base.indexed_iterate(%3, 2, @_3::Core.Compiler.Const(2, false))\u001b[36m::Core.Compiler.PartialStruct(Tuple{Array{Array{Float64,1},1},Int64}, Any[Array{Array{Float64,1},1}, Core.Compiler.Const(3, false)])\u001b[39m\n",
      "\u001b[90m│  \u001b[39m       (W = Core.getfield(%7, 1))\n",
      "\u001b[90m│  \u001b[39m %9  = Base.getindex(larmodel, 1)\u001b[91m\u001b[1m::Any\u001b[22m\u001b[39m\n",
      "\u001b[90m│  \u001b[39m       Main.append!(%9, W)\n",
      "\u001b[90m│  \u001b[39m %11 = Base.getindex(larmodel, 1)\u001b[91m\u001b[1m::Any\u001b[22m\u001b[39m\n",
      "\u001b[90m│  \u001b[39m       (V = Core._apply_iterate(Base.iterate, Main.hcat, %11))\n",
      "\u001b[90m│  \u001b[39m       (#18 = %new(Main.:(var\"#18#19\")))\n",
      "\u001b[90m│  \u001b[39m %14 = #18\u001b[36m::Core.Compiler.Const(var\"#18#19\"(), false)\u001b[39m\n",
      "\u001b[90m│  \u001b[39m %15 = larmodel\u001b[91m\u001b[1m::Any\u001b[22m\u001b[39m\n",
      "\u001b[90m│  \u001b[39m %16 = Base.lastindex(larmodel)\u001b[91m\u001b[1m::Any\u001b[22m\u001b[39m\n",
      "\u001b[90m│  \u001b[39m %17 = (2:%16)\u001b[91m\u001b[1m::Any\u001b[22m\u001b[39m\n",
      "\u001b[90m│  \u001b[39m %18 = Base.getindex(%15, %17)\u001b[91m\u001b[1m::Any\u001b[22m\u001b[39m\n",
      "\u001b[90m│  \u001b[39m %19 = Base.Generator(%14, %18)\u001b[91m\u001b[1m::Base.Generator{_A,var\"#18#19\"} where _A\u001b[22m\u001b[39m\n",
      "\u001b[90m│  \u001b[39m       (chains = Base.collect(%19))\n",
      "\u001b[90m│  \u001b[39m %21 = Core.tuple(V)\u001b[91m\u001b[1m::Tuple{Any}\u001b[22m\u001b[39m\n",
      "\u001b[90m│  \u001b[39m %22 = Core._apply_iterate(Base.iterate, Core.tuple, %21, chains)\u001b[91m\u001b[1m::Tuple{Any,Vararg{Any,N} where N}\u001b[22m\u001b[39m\n",
      "\u001b[90m└──\u001b[39m       return %22\n"
     ]
    }
   ],
   "source": [
    "@code_warntype struct2lar(structure)"
   ]
  },
  {
   "cell_type": "code",
   "execution_count": null,
   "metadata": {},
   "outputs": [],
   "source": []
  }
 ],
 "metadata": {
  "kernelspec": {
   "display_name": "Julia 1.5.3",
   "language": "julia",
   "name": "julia-1.5"
  },
  "language_info": {
   "file_extension": ".jl",
   "mimetype": "application/julia",
   "name": "julia",
   "version": "1.5.3"
  }
 },
 "nbformat": 4,
 "nbformat_minor": 4
}
